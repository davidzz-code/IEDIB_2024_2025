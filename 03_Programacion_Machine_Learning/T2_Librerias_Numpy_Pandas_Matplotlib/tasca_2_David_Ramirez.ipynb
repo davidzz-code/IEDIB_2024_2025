{
  "nbformat": 4,
  "nbformat_minor": 0,
  "metadata": {
    "colab": {
      "provenance": []
    },
    "kernelspec": {
      "name": "python3",
      "display_name": "Python 3"
    },
    "language_info": {
      "name": "python"
    }
  },
  "cells": [
    {
      "cell_type": "markdown",
      "source": [
        "# Programació d'intel·ligència artificial. Tasca del Lliurament 2\n",
        "\n",
        "Aquest és l'enunciat de la tasca del segon lliurament de Programació d'Intel·ligència Artificial. Es refereix a les tres llibreries que hi hem tractat: **NumPy**, **pandas**, i **matplotlib**. Consta de tres blocs corresponents a cada una de les llibreries. Cada bloc val un terç de la nota de la tasca.\n",
        "\n",
        "Quan hàgiu acabat de realitzar la tasca, davallau el document .ipynb (menú File, opció Download) i lliurau-lo dins el Moodle de l'aula virtual.\n",
        "\n",
        "Ànims i endavant!"
      ],
      "metadata": {
        "id": "DvSS_CFFacl2"
      }
    },
    {
      "cell_type": "markdown",
      "source": [
        "##Bloc 1: NumPy\n",
        "\n",
        "Emplena el codi corresponent a cada subapartat, tenint en compte que, quan sigui possible, és millor emprar la programació vectoritzada i les funcions universals de NumPy."
      ],
      "metadata": {
        "id": "gpStVTPja5NB"
      }
    },
    {
      "cell_type": "markdown",
      "source": [
        "### 1.1. *`ndarrays`* unidimensionals (vectors)\n"
      ],
      "metadata": {
        "id": "Z07rUFLwD8W8"
      }
    },
    {
      "cell_type": "markdown",
      "source": [
        "**1.1.1.** Per començar, importa la llibreria numpy amb el seu nom habitual.\n",
        "\n",
        "Crea un ndarray unidimensional (vector), anomentat a1, de 10 posicions i omple'l amb els 10 primers nombres naturals (de l'1 al 10), però en ordre invers (del 10 a l'1)"
      ],
      "metadata": {
        "id": "nncrh1jXJZJp"
      }
    },
    {
      "cell_type": "code",
      "execution_count": 2,
      "metadata": {
        "id": "CqAhn9yyaaVF",
        "colab": {
          "base_uri": "https://localhost:8080/"
        },
        "outputId": "ccfe165f-2ca7-4b11-a99c-4fac71b84c82"
      },
      "outputs": [
        {
          "output_type": "execute_result",
          "data": {
            "text/plain": [
              "array([10,  9,  8,  7,  6,  5,  4,  3,  2,  1])"
            ]
          },
          "metadata": {},
          "execution_count": 2
        }
      ],
      "source": [
        "import numpy as np\n",
        "\n",
        "a1 = np.arange(1, 11)\n",
        "a1 = a1[::-1]\n",
        "a1"
      ]
    },
    {
      "cell_type": "markdown",
      "source": [
        "**1.1.2.** Crea un altre vector de 10 posicions, a2, i omple'l amb els 10 primers nombres parells."
      ],
      "metadata": {
        "id": "OraK-zNNJiAi"
      }
    },
    {
      "cell_type": "code",
      "source": [
        "a2 = np.arange(0, 20, 2)\n",
        "a2"
      ],
      "metadata": {
        "id": "Q-7eb8ybKNRS",
        "colab": {
          "base_uri": "https://localhost:8080/"
        },
        "outputId": "5efd48b9-eef9-4732-c0b7-69900e4b257e"
      },
      "execution_count": null,
      "outputs": [
        {
          "output_type": "execute_result",
          "data": {
            "text/plain": [
              "array([ 0,  2,  4,  6,  8, 10, 12, 14, 16, 18])"
            ]
          },
          "metadata": {},
          "execution_count": 32
        }
      ]
    },
    {
      "cell_type": "markdown",
      "source": [
        "**1.1.3.** Multiplica per 5 tots els valors del vector a1."
      ],
      "metadata": {
        "id": "rbASvDeGJiKZ"
      }
    },
    {
      "cell_type": "code",
      "source": [
        "a1 = a1 * 5\n",
        "a1"
      ],
      "metadata": {
        "id": "H66mfIoyKOUa",
        "colab": {
          "base_uri": "https://localhost:8080/"
        },
        "outputId": "a7222345-01ee-455c-fb0f-4dbc1bc27bb9"
      },
      "execution_count": null,
      "outputs": [
        {
          "output_type": "execute_result",
          "data": {
            "text/plain": [
              "array([50, 45, 40, 35, 30, 25, 20, 15, 10,  5])"
            ]
          },
          "metadata": {},
          "execution_count": 57
        }
      ]
    },
    {
      "cell_type": "markdown",
      "source": [
        "**1.1.4.** Obté un nou vector, a3, que sigui la suma d'a1 i a2."
      ],
      "metadata": {
        "id": "EEYYz5DRJibQ"
      }
    },
    {
      "cell_type": "code",
      "source": [
        "a3 = a1 + a2\n",
        "a3"
      ],
      "metadata": {
        "id": "CWdTypsWKO7S",
        "colab": {
          "base_uri": "https://localhost:8080/"
        },
        "outputId": "b2a50d9b-8e96-4317-8591-848c382ecb47"
      },
      "execution_count": null,
      "outputs": [
        {
          "output_type": "execute_result",
          "data": {
            "text/plain": [
              "array([50, 47, 44, 41, 38, 35, 32, 29, 26, 23])"
            ]
          },
          "metadata": {},
          "execution_count": 58
        }
      ]
    },
    {
      "cell_type": "markdown",
      "source": [
        "**1.1.5.** Obté un nou vector, a4, que sigui la resta d'a1 i a2."
      ],
      "metadata": {
        "id": "rareGAWfJioJ"
      }
    },
    {
      "cell_type": "code",
      "source": [
        "a4 = a1 - a2\n",
        "a4"
      ],
      "metadata": {
        "id": "7tMQQe39KPjy",
        "colab": {
          "base_uri": "https://localhost:8080/"
        },
        "outputId": "b67fb67c-6762-4a02-cda6-8287b7ce2c1e"
      },
      "execution_count": null,
      "outputs": [
        {
          "output_type": "execute_result",
          "data": {
            "text/plain": [
              "array([ 50,  43,  36,  29,  22,  15,   8,   1,  -6, -13])"
            ]
          },
          "metadata": {},
          "execution_count": 59
        }
      ]
    },
    {
      "cell_type": "markdown",
      "source": [
        "**1.1.6.** Canvia de signe tots els valors imparells d'a3 i a4."
      ],
      "metadata": {
        "id": "OzJnluijJiyR"
      }
    },
    {
      "cell_type": "code",
      "source": [
        "a3[a3 % 2 != 0] *= -1\n",
        "print(a3)\n",
        "\n",
        "a4[a4 % 2 != 0] *= -1\n",
        "print(a4)"
      ],
      "metadata": {
        "id": "DGddKysFKQai",
        "colab": {
          "base_uri": "https://localhost:8080/"
        },
        "outputId": "53913d59-4537-4b7c-9b39-6059ccbffc96"
      },
      "execution_count": null,
      "outputs": [
        {
          "output_type": "stream",
          "name": "stdout",
          "text": [
            "[ 50 -47  44 -41  38 -35  32 -29  26 -23]\n",
            "[ 50 -43  36 -29  22 -15   8  -1  -6  13]\n"
          ]
        }
      ]
    },
    {
      "cell_type": "markdown",
      "source": [
        "**1.1.7.** Obté un nou vector, a5, que contengui el mínim de cada posició entre els vectors a3 i a4."
      ],
      "metadata": {
        "id": "7YUeTAHDJ6GK"
      }
    },
    {
      "cell_type": "code",
      "source": [
        "a5 = np.minimum(a3, a4)\n",
        "a5"
      ],
      "metadata": {
        "id": "vmXL9lzsKRHy",
        "colab": {
          "base_uri": "https://localhost:8080/"
        },
        "outputId": "167c2c37-d83d-4aa2-b184-9f55a6e9df2f"
      },
      "execution_count": null,
      "outputs": [
        {
          "output_type": "execute_result",
          "data": {
            "text/plain": [
              "array([ 50, -47,  36, -41,  22, -35,   8, -29,  -6, -23])"
            ]
          },
          "metadata": {},
          "execution_count": 61
        }
      ]
    },
    {
      "cell_type": "markdown",
      "source": [
        "**1.1.8.** Fes que tots els valors d'a5 siguin positius."
      ],
      "metadata": {
        "id": "yhLeCsMjJ6RJ"
      }
    },
    {
      "cell_type": "code",
      "source": [
        "a5 = np.absolute(a5)\n",
        "a5"
      ],
      "metadata": {
        "id": "p4jHZUkjKRti",
        "colab": {
          "base_uri": "https://localhost:8080/"
        },
        "outputId": "e1ecba57-2fe6-4622-c995-9218a4f37a0f"
      },
      "execution_count": null,
      "outputs": [
        {
          "output_type": "execute_result",
          "data": {
            "text/plain": [
              "array([50, 47, 36, 41, 22, 35,  8, 29,  6, 23])"
            ]
          },
          "metadata": {},
          "execution_count": 62
        }
      ]
    },
    {
      "cell_type": "markdown",
      "source": [
        "###1.2. *`ndarrays`* multidimensionals (matrius)\n"
      ],
      "metadata": {
        "id": "chq_IGmmL6Hb"
      }
    },
    {
      "cell_type": "markdown",
      "source": [
        "**1.2.1.** Crea un ndarray de 2 dimensions (matriu) de 10 files i 4 columnes, anomenada m1 i omple-a amb nombres aleatoris, seguint una distribució normal estàndard."
      ],
      "metadata": {
        "id": "As79s4QoKuOz"
      }
    },
    {
      "cell_type": "code",
      "source": [
        "m1 = np.random.randn(10, 4)\n",
        "m1"
      ],
      "metadata": {
        "id": "5E5KUDTdLU9a",
        "colab": {
          "base_uri": "https://localhost:8080/"
        },
        "outputId": "0bb125f8-2c94-40bf-e860-b2ac27d773e0"
      },
      "execution_count": null,
      "outputs": [
        {
          "output_type": "execute_result",
          "data": {
            "text/plain": [
              "array([[ 0.76943906,  2.27475456,  2.8124453 ,  0.43302645],\n",
              "       [ 0.38566066, -0.09481211,  0.93661927, -1.88399919],\n",
              "       [-1.29175738, -0.73658217, -0.54825106,  0.36137015],\n",
              "       [-1.85414409, -0.03924825, -0.89768443, -0.02080494],\n",
              "       [-2.10475184,  0.73455437,  0.65686133,  0.74811133],\n",
              "       [ 0.8606889 , -0.38415937, -0.43159781, -0.07573397],\n",
              "       [-0.1839808 ,  0.01376354, -0.0892878 ,  1.09203887],\n",
              "       [ 0.50824403,  0.57059669,  0.76221491,  0.24045474],\n",
              "       [-2.87232513, -0.4483869 , -1.59101066, -0.23774848],\n",
              "       [-1.09655464,  0.52257465,  0.51516589,  1.91791779]])"
            ]
          },
          "metadata": {},
          "execution_count": 78
        }
      ]
    },
    {
      "cell_type": "markdown",
      "source": [
        "**1.2.2.** Obté una nova matriu, m2. Els valors de les 5 primers files seran el doble dels de les 5 primeres files de m1. Els de les 5 darreres files, el triple."
      ],
      "metadata": {
        "id": "6hRqmDoTKuYB"
      }
    },
    {
      "cell_type": "code",
      "source": [
        "m2 = m1.copy()\n",
        "m2[:5] = m1[:5] * 2\n",
        "m2[5:] = m1[5:] * 3\n",
        "\n",
        "print(\"Matriz m1:\")\n",
        "print(m1)\n",
        "print(f\"\\nMatriz m2:\")\n",
        "print(m2)"
      ],
      "metadata": {
        "id": "nZfgKO21LWB5",
        "colab": {
          "base_uri": "https://localhost:8080/"
        },
        "outputId": "8f23fe4b-16b4-4279-d18f-bd4598fa659a"
      },
      "execution_count": null,
      "outputs": [
        {
          "output_type": "stream",
          "name": "stdout",
          "text": [
            "Matriz m1:\n",
            "[[ 1.53887811  4.54950913  5.62489061  0.8660529 ]\n",
            " [ 0.77132132 -0.18962422  1.87323853 -3.76799838]\n",
            " [-2.58351477 -1.47316435 -1.09650212  0.72274031]\n",
            " [-3.70828818 -0.0784965  -1.79536886 -0.04160988]\n",
            " [-4.20950367  1.46910874  1.31372267  1.49622266]\n",
            " [ 2.5820667  -1.15247812 -1.29479344 -0.2272019 ]\n",
            " [-0.55194239  0.04129062 -0.26786341  3.27611661]\n",
            " [ 1.52473208  1.71179007  2.28664473  0.72136422]\n",
            " [-8.61697538 -1.3451607  -4.77303197 -0.71324544]\n",
            " [-3.28966392  1.56772396  1.54549766  5.75375336]]\n",
            "\n",
            "Matriz m2:\n",
            "[[  3.07775623   9.09901826  11.24978122   1.7321058 ]\n",
            " [  1.54264265  -0.37924845   3.74647706  -7.53599676]\n",
            " [ -5.16702953  -2.94632869  -2.19300425   1.44548061]\n",
            " [ -7.41657635  -0.156993    -3.59073771  -0.08321976]\n",
            " [ -8.41900735   2.93821748   2.62744533   2.99244532]\n",
            " [  7.74620009  -3.45743437  -3.88438031  -0.68160569]\n",
            " [ -1.65582718   0.12387187  -0.80359024   9.82834982]\n",
            " [  4.57419625   5.1353702    6.8599342    2.16409266]\n",
            " [-25.85092613  -4.03548211 -14.31909592  -2.13973631]\n",
            " [ -9.86899175   4.70317189   4.63649298  17.26126007]]\n"
          ]
        }
      ]
    },
    {
      "cell_type": "markdown",
      "source": [
        "**1.2.3.** Obté una nova matriu de booleans, mb, que contingui True si a la posició corresponent de m2 hi ha un valor major que 1 o menor que -1, i False en cas contrari."
      ],
      "metadata": {
        "id": "l2_3ocDqKuhJ"
      }
    },
    {
      "cell_type": "code",
      "source": [
        "mb = (m2 > 1) | (m2 < -1)\n",
        "mb"
      ],
      "metadata": {
        "id": "jP_yQNiGLWsZ",
        "colab": {
          "base_uri": "https://localhost:8080/"
        },
        "outputId": "0c1d8569-bd14-49ab-c3cc-f5b504d8f01a"
      },
      "execution_count": null,
      "outputs": [
        {
          "output_type": "execute_result",
          "data": {
            "text/plain": [
              "array([[ True,  True,  True,  True],\n",
              "       [ True, False,  True,  True],\n",
              "       [ True,  True,  True,  True],\n",
              "       [ True, False,  True, False],\n",
              "       [ True,  True,  True,  True],\n",
              "       [ True,  True,  True, False],\n",
              "       [ True, False, False,  True],\n",
              "       [ True,  True,  True,  True],\n",
              "       [ True,  True,  True,  True],\n",
              "       [ True,  True,  True,  True]])"
            ]
          },
          "metadata": {},
          "execution_count": 81
        }
      ]
    },
    {
      "cell_type": "markdown",
      "source": [
        "**1.2.4.** Multiplica per 100 tots els valors de m2 i arrodoneix a l'enter més proper. Fes també que tots els valors siguin positius."
      ],
      "metadata": {
        "id": "fwg-RcC1KuqR"
      }
    },
    {
      "cell_type": "code",
      "source": [
        "m2 = np.absolute(np.rint(m2 * 100))\n",
        "m2"
      ],
      "metadata": {
        "id": "-vw__RzWLXcC",
        "colab": {
          "base_uri": "https://localhost:8080/"
        },
        "outputId": "5dd3805c-05ce-4e4a-80fd-95b6cd26dee7"
      },
      "execution_count": null,
      "outputs": [
        {
          "output_type": "execute_result",
          "data": {
            "text/plain": [
              "array([[ 308.,  910., 1125.,  173.],\n",
              "       [ 154.,   38.,  375.,  754.],\n",
              "       [ 517.,  295.,  219.,  145.],\n",
              "       [ 742.,   16.,  359.,    8.],\n",
              "       [ 842.,  294.,  263.,  299.],\n",
              "       [ 775.,  346.,  388.,   68.],\n",
              "       [ 166.,   12.,   80.,  983.],\n",
              "       [ 457.,  514.,  686.,  216.],\n",
              "       [2585.,  404., 1432.,  214.],\n",
              "       [ 987.,  470.,  464., 1726.]])"
            ]
          },
          "metadata": {},
          "execution_count": 82
        }
      ]
    },
    {
      "cell_type": "markdown",
      "source": [
        "**1.2.5.** A m2 posa el valor 100 en les posicions tals que tinguem True en mb."
      ],
      "metadata": {
        "id": "LfSm6rotKuzq"
      }
    },
    {
      "cell_type": "code",
      "source": [
        "m2[mb == False] = 100\n",
        "m2"
      ],
      "metadata": {
        "id": "tShJ3MUGLYN5",
        "colab": {
          "base_uri": "https://localhost:8080/"
        },
        "outputId": "fb6e08e0-108a-4a4d-e084-96bae0fac508"
      },
      "execution_count": null,
      "outputs": [
        {
          "output_type": "execute_result",
          "data": {
            "text/plain": [
              "array([[ 308.,  910., 1125.,  173.],\n",
              "       [ 154.,  100.,  375.,  754.],\n",
              "       [ 517.,  295.,  219.,  145.],\n",
              "       [ 742.,  100.,  359.,  100.],\n",
              "       [ 842.,  294.,  263.,  299.],\n",
              "       [ 775.,  346.,  388.,  100.],\n",
              "       [ 166.,  100.,  100.,  983.],\n",
              "       [ 457.,  514.,  686.,  216.],\n",
              "       [2585.,  404., 1432.,  214.],\n",
              "       [ 987.,  470.,  464., 1726.]])"
            ]
          },
          "metadata": {},
          "execution_count": 85
        }
      ]
    },
    {
      "cell_type": "markdown",
      "source": [
        "**1.2.6.** Obté dues noves matrius de 5 files i 2 columnes, m3 i m4. La matriu m3 ha de tenir els valors de les 5 primers files i les 2 primeres columnes de m2. La matriu m4 ha de tenir els valors de les 5 darreres files i les 2 darreres columnes de m2."
      ],
      "metadata": {
        "id": "2UuleGQ1Ku8r"
      }
    },
    {
      "cell_type": "code",
      "source": [
        "m3 = m2[:5, :2]\n",
        "m4 = m2[5:, 2:]\n",
        "\n",
        "print(\"Matriz m3:\")\n",
        "print(m3)\n",
        "print(\"\\nMatriz m4:\")\n",
        "print(m4)"
      ],
      "metadata": {
        "id": "yFaxmFoJLZAq",
        "colab": {
          "base_uri": "https://localhost:8080/"
        },
        "outputId": "106c0c23-3821-48a9-e1e5-8129447568ef"
      },
      "execution_count": null,
      "outputs": [
        {
          "output_type": "stream",
          "name": "stdout",
          "text": [
            "Matriz m3:\n",
            "[[308. 910.]\n",
            " [154. 100.]\n",
            " [517. 295.]\n",
            " [742. 100.]\n",
            " [842. 294.]]\n",
            "\n",
            "Matriz m4:\n",
            "[[ 388.  100.]\n",
            " [ 100.  983.]\n",
            " [ 686.  216.]\n",
            " [1432.  214.]\n",
            " [ 464. 1726.]]\n"
          ]
        }
      ]
    },
    {
      "cell_type": "markdown",
      "source": [
        "**1.2.7.** Obté una nova matriu, m5, amb el màxim dels valors de m3 i m4."
      ],
      "metadata": {
        "id": "4XtV9-avKvHR"
      }
    },
    {
      "cell_type": "code",
      "source": [
        "m5 = np.maximum(m3, m4)\n",
        "m5"
      ],
      "metadata": {
        "id": "I6ZjgU2KLZiS",
        "colab": {
          "base_uri": "https://localhost:8080/"
        },
        "outputId": "cba4c495-3ef1-49cf-d7db-766c18be1182"
      },
      "execution_count": null,
      "outputs": [
        {
          "output_type": "execute_result",
          "data": {
            "text/plain": [
              "array([[ 388.,  910.],\n",
              "       [ 154.,  983.],\n",
              "       [ 686.,  295.],\n",
              "       [1432.,  214.],\n",
              "       [ 842., 1726.]])"
            ]
          },
          "metadata": {},
          "execution_count": 92
        }
      ]
    },
    {
      "cell_type": "markdown",
      "source": [
        "**1.2.8.** Obté els valors màxims i mínims de la matriu m5."
      ],
      "metadata": {
        "id": "4-vStu0dKvQy"
      }
    },
    {
      "cell_type": "code",
      "source": [
        "m5_max = np.max(m5)\n",
        "m5_min = np.min(m5)\n",
        "\n",
        "print(\"Valor máximo de m5:\")\n",
        "print(m5_max)\n",
        "print(\"\\nValor mínimo de m5:\")\n",
        "print(m5_min)"
      ],
      "metadata": {
        "id": "f2qVgQng1JwX",
        "colab": {
          "base_uri": "https://localhost:8080/"
        },
        "outputId": "656d9cda-9325-4c70-8d93-3fcbdd0d4cd0"
      },
      "execution_count": null,
      "outputs": [
        {
          "output_type": "stream",
          "name": "stdout",
          "text": [
            "Valor máximo de m5:\n",
            "1726.0\n",
            "\n",
            "Valor mínimo de m5:\n",
            "154.0\n"
          ]
        }
      ]
    },
    {
      "cell_type": "markdown",
      "source": [
        "##Bloc 2: pandas\n",
        "\n",
        "Emplena el codi corresponent a cada subapartat, treballant amb la llibreria pandas."
      ],
      "metadata": {
        "id": "0_8SODmf0jyL"
      }
    },
    {
      "cell_type": "markdown",
      "source": [
        "**2.1.** Per començar, importa la llibreria pandas amb el seu nom habitual.\n",
        "\n",
        "A continuació, carrega en un dataframe el dataset de les pel·lícules i sèries de la plataforma Amazon Prime, publicat a Kaggle per OctopusTeam.  Pots obtenir una còpia en format CSV amb les dades actualitzades fins el 22/10/2024 a https://raw.githubusercontent.com/tnavarrete-iedib/bigdata-24-25/refs/heads/main/prime.csv\n",
        "\n",
        "Mostra el nombre de sèries i de pel·lícules del dataframe."
      ],
      "metadata": {
        "id": "9KwfAEo4pKHo"
      }
    },
    {
      "cell_type": "code",
      "source": [
        "import pandas as pd\n",
        "\n",
        "url = \"https://raw.githubusercontent.com/tnavarrete-iedib/bigdata-24-25/refs/heads/main/prime.csv\"\n",
        "df = pd.read_csv(url)\n",
        "\n",
        "df['type'].value_counts()"
      ],
      "metadata": {
        "id": "FMuZMFFTuUxL",
        "colab": {
          "base_uri": "https://localhost:8080/",
          "height": 178
        },
        "outputId": "46966602-26ff-435d-a5cd-06297942ac3a"
      },
      "execution_count": 28,
      "outputs": [
        {
          "output_type": "execute_result",
          "data": {
            "text/plain": [
              "type\n",
              "Movie        38835\n",
              "TV Series     8332\n",
              "Name: count, dtype: int64"
            ],
            "text/html": [
              "<div>\n",
              "<style scoped>\n",
              "    .dataframe tbody tr th:only-of-type {\n",
              "        vertical-align: middle;\n",
              "    }\n",
              "\n",
              "    .dataframe tbody tr th {\n",
              "        vertical-align: top;\n",
              "    }\n",
              "\n",
              "    .dataframe thead th {\n",
              "        text-align: right;\n",
              "    }\n",
              "</style>\n",
              "<table border=\"1\" class=\"dataframe\">\n",
              "  <thead>\n",
              "    <tr style=\"text-align: right;\">\n",
              "      <th></th>\n",
              "      <th>count</th>\n",
              "    </tr>\n",
              "    <tr>\n",
              "      <th>type</th>\n",
              "      <th></th>\n",
              "    </tr>\n",
              "  </thead>\n",
              "  <tbody>\n",
              "    <tr>\n",
              "      <th>Movie</th>\n",
              "      <td>38835</td>\n",
              "    </tr>\n",
              "    <tr>\n",
              "      <th>TV Series</th>\n",
              "      <td>8332</td>\n",
              "    </tr>\n",
              "  </tbody>\n",
              "</table>\n",
              "</div><br><label><b>dtype:</b> int64</label>"
            ]
          },
          "metadata": {},
          "execution_count": 28
        }
      ]
    },
    {
      "cell_type": "markdown",
      "source": [
        "**2.2.** Obté la mitjana i la desviació estàndard per a les columnes amb la valoració mitjana en IMDB i el nombre de vots en IMDB."
      ],
      "metadata": {
        "id": "ZHqo1-HcNjnA"
      }
    },
    {
      "cell_type": "code",
      "source": [
        "average_imdb_rating = df['imdbAverageRating'].mean()\n",
        "deviation_imdb_rating = df['imdbAverageRating'].std()\n",
        "average_imdb_votes = df['imdbNumVotes'].mean()\n",
        "deviation_imdb_votes = df['imdbNumVotes'].std()\n",
        "\n",
        "print('IMDB valoración media:')\n",
        "print(f'Media: {average_imdb_rating}')\n",
        "print(f'Desviación estándar: {deviation_imdb_rating}')\n",
        "print()\n",
        "print('\\nIMDB número de votos:')\n",
        "print(f'Media: {average_imdb_votes}')\n",
        "print(f'Desviación estándar: {deviation_imdb_votes}')\n"
      ],
      "metadata": {
        "id": "uJ3K-hBHNyLF",
        "colab": {
          "base_uri": "https://localhost:8080/"
        },
        "outputId": "a07edd1e-165d-48f3-ff61-e037d82dff77"
      },
      "execution_count": 29,
      "outputs": [
        {
          "output_type": "stream",
          "name": "stdout",
          "text": [
            "IMDB valoración media:\n",
            "Media: 6.022308909995477\n",
            "Desviación estándar: 1.3282821546819426\n",
            "\n",
            "\n",
            "IMDB número de votos:\n",
            "Media: 17435.074423337857\n",
            "Desviación estándar: 86702.11678260994\n"
          ]
        }
      ]
    },
    {
      "cell_type": "markdown",
      "source": [],
      "metadata": {
        "id": "dET7LyoO4khF"
      }
    },
    {
      "cell_type": "markdown",
      "source": [
        "**2.3.** Recupera les 10 sèries llençades el 2024 amb més vots en IMDB, ordenades de més a menys vots."
      ],
      "metadata": {
        "id": "LP0lc1Cd9U6E"
      }
    },
    {
      "cell_type": "code",
      "source": [
        "df[(df['releaseYear'] == 2024) & (df['type'] == 'TV Series')].nlargest(10, 'imdbNumVotes')"
      ],
      "metadata": {
        "id": "WxxqUIQZK_Pm",
        "colab": {
          "base_uri": "https://localhost:8080/",
          "height": 693
        },
        "outputId": "e8347a76-974e-4d20-a5de-219bd77b7aa4"
      },
      "execution_count": 30,
      "outputs": [
        {
          "output_type": "execute_result",
          "data": {
            "text/plain": [
              "                                                     url  \\\n",
              "44152  https://www.amazon.com/gp/video/detail/B0CN4HV16N   \n",
              "45619                                                NaN   \n",
              "44569  https://www.amazon.com/gp/video/detail/B0CLRQGR5G   \n",
              "45819                                                NaN   \n",
              "44880                                                NaN   \n",
              "46194                                                NaN   \n",
              "45692                                                NaN   \n",
              "46977                                                NaN   \n",
              "44808                                                NaN   \n",
              "45849                                                NaN   \n",
              "\n",
              "                                     title       type  \\\n",
              "44152                              Fallout  TV Series   \n",
              "45619                  Indian Police Force  TV Series   \n",
              "44569                     Mr. & Mrs. Smith  TV Series   \n",
              "45819  The Walking Dead: The Ones Who Live  TV Series   \n",
              "44880                        Solo Leveling  TV Series   \n",
              "46194                   Those About to Die  TV Series   \n",
              "45692                         My Lady Jane  TV Series   \n",
              "46977    Maxton Hall: The World Between Us  TV Series   \n",
              "44808               Batman: Caped Crusader  TV Series   \n",
              "45849                          Kaiju No. 8  TV Series   \n",
              "\n",
              "                             genres  releaseYear      imdbId  \\\n",
              "44152      Action, Adventure, Drama       2024.0  tt12637874   \n",
              "45619          Action, Crime, Drama       2024.0  tt19768024   \n",
              "44569         Action, Comedy, Crime       2024.0  tt14044212   \n",
              "45819       Drama, Horror, Thriller       2024.0   tt9859436   \n",
              "44880  Action, Adventure, Animation       2024.0  tt21209876   \n",
              "46194                 Action, Drama       2024.0  tt10569934   \n",
              "45692        Comedy, Drama, Fantasy       2024.0  tt11379456   \n",
              "46977                Drama, Romance       2024.0  tt27792190   \n",
              "44808  Action, Adventure, Animation       2024.0  tt14681596   \n",
              "45849  Action, Adventure, Animation       2024.0  tt21975436   \n",
              "\n",
              "       imdbAverageRating  imdbNumVotes  \\\n",
              "44152                8.4      264143.0   \n",
              "45619                5.1       58325.0   \n",
              "44569                7.0       45824.0   \n",
              "45819                7.9       34709.0   \n",
              "44880                8.3       30870.0   \n",
              "46194                6.6       17482.0   \n",
              "45692                7.4       16954.0   \n",
              "46977                7.5       14199.0   \n",
              "44808                7.3       12819.0   \n",
              "45849                8.3       11964.0   \n",
              "\n",
              "                                      availableCountries  \n",
              "44152  AD, AE, AG, AL, AR, AT, AU, BA, BB, BE, BG, BH...  \n",
              "45619  AD, AE, AG, AL, AR, AT, AU, BA, BB, BE, BG, BH...  \n",
              "44569  AD, AE, AG, AL, AR, AT, AU, BA, BB, BE, BG, BH...  \n",
              "45819  AG, AR, BB, BM, BO, BR, BS, CL, CO, CR, DO, EC...  \n",
              "44880                                                 JP  \n",
              "46194  AD, AT, AU, BE, CA, CH, CI, DE, ES, FR, GB, GF...  \n",
              "45692  AD, AE, AG, AL, AR, AT, AU, BA, BB, BE, BG, BH...  \n",
              "46977  AD, AE, AG, AL, AR, AT, AU, BA, BB, BE, BG, BH...  \n",
              "44808  AD, AE, AG, AL, AR, AT, AU, BA, BB, BE, BG, BH...  \n",
              "45849                                                 JP  "
            ],
            "text/html": [
              "\n",
              "  <div id=\"df-ddf35b1f-0098-4f3c-8a0e-175a3a8616f6\" class=\"colab-df-container\">\n",
              "    <div>\n",
              "<style scoped>\n",
              "    .dataframe tbody tr th:only-of-type {\n",
              "        vertical-align: middle;\n",
              "    }\n",
              "\n",
              "    .dataframe tbody tr th {\n",
              "        vertical-align: top;\n",
              "    }\n",
              "\n",
              "    .dataframe thead th {\n",
              "        text-align: right;\n",
              "    }\n",
              "</style>\n",
              "<table border=\"1\" class=\"dataframe\">\n",
              "  <thead>\n",
              "    <tr style=\"text-align: right;\">\n",
              "      <th></th>\n",
              "      <th>url</th>\n",
              "      <th>title</th>\n",
              "      <th>type</th>\n",
              "      <th>genres</th>\n",
              "      <th>releaseYear</th>\n",
              "      <th>imdbId</th>\n",
              "      <th>imdbAverageRating</th>\n",
              "      <th>imdbNumVotes</th>\n",
              "      <th>availableCountries</th>\n",
              "    </tr>\n",
              "  </thead>\n",
              "  <tbody>\n",
              "    <tr>\n",
              "      <th>44152</th>\n",
              "      <td>https://www.amazon.com/gp/video/detail/B0CN4HV16N</td>\n",
              "      <td>Fallout</td>\n",
              "      <td>TV Series</td>\n",
              "      <td>Action, Adventure, Drama</td>\n",
              "      <td>2024.0</td>\n",
              "      <td>tt12637874</td>\n",
              "      <td>8.4</td>\n",
              "      <td>264143.0</td>\n",
              "      <td>AD, AE, AG, AL, AR, AT, AU, BA, BB, BE, BG, BH...</td>\n",
              "    </tr>\n",
              "    <tr>\n",
              "      <th>45619</th>\n",
              "      <td>NaN</td>\n",
              "      <td>Indian Police Force</td>\n",
              "      <td>TV Series</td>\n",
              "      <td>Action, Crime, Drama</td>\n",
              "      <td>2024.0</td>\n",
              "      <td>tt19768024</td>\n",
              "      <td>5.1</td>\n",
              "      <td>58325.0</td>\n",
              "      <td>AD, AE, AG, AL, AR, AT, AU, BA, BB, BE, BG, BH...</td>\n",
              "    </tr>\n",
              "    <tr>\n",
              "      <th>44569</th>\n",
              "      <td>https://www.amazon.com/gp/video/detail/B0CLRQGR5G</td>\n",
              "      <td>Mr. &amp; Mrs. Smith</td>\n",
              "      <td>TV Series</td>\n",
              "      <td>Action, Comedy, Crime</td>\n",
              "      <td>2024.0</td>\n",
              "      <td>tt14044212</td>\n",
              "      <td>7.0</td>\n",
              "      <td>45824.0</td>\n",
              "      <td>AD, AE, AG, AL, AR, AT, AU, BA, BB, BE, BG, BH...</td>\n",
              "    </tr>\n",
              "    <tr>\n",
              "      <th>45819</th>\n",
              "      <td>NaN</td>\n",
              "      <td>The Walking Dead: The Ones Who Live</td>\n",
              "      <td>TV Series</td>\n",
              "      <td>Drama, Horror, Thriller</td>\n",
              "      <td>2024.0</td>\n",
              "      <td>tt9859436</td>\n",
              "      <td>7.9</td>\n",
              "      <td>34709.0</td>\n",
              "      <td>AG, AR, BB, BM, BO, BR, BS, CL, CO, CR, DO, EC...</td>\n",
              "    </tr>\n",
              "    <tr>\n",
              "      <th>44880</th>\n",
              "      <td>NaN</td>\n",
              "      <td>Solo Leveling</td>\n",
              "      <td>TV Series</td>\n",
              "      <td>Action, Adventure, Animation</td>\n",
              "      <td>2024.0</td>\n",
              "      <td>tt21209876</td>\n",
              "      <td>8.3</td>\n",
              "      <td>30870.0</td>\n",
              "      <td>JP</td>\n",
              "    </tr>\n",
              "    <tr>\n",
              "      <th>46194</th>\n",
              "      <td>NaN</td>\n",
              "      <td>Those About to Die</td>\n",
              "      <td>TV Series</td>\n",
              "      <td>Action, Drama</td>\n",
              "      <td>2024.0</td>\n",
              "      <td>tt10569934</td>\n",
              "      <td>6.6</td>\n",
              "      <td>17482.0</td>\n",
              "      <td>AD, AT, AU, BE, CA, CH, CI, DE, ES, FR, GB, GF...</td>\n",
              "    </tr>\n",
              "    <tr>\n",
              "      <th>45692</th>\n",
              "      <td>NaN</td>\n",
              "      <td>My Lady Jane</td>\n",
              "      <td>TV Series</td>\n",
              "      <td>Comedy, Drama, Fantasy</td>\n",
              "      <td>2024.0</td>\n",
              "      <td>tt11379456</td>\n",
              "      <td>7.4</td>\n",
              "      <td>16954.0</td>\n",
              "      <td>AD, AE, AG, AL, AR, AT, AU, BA, BB, BE, BG, BH...</td>\n",
              "    </tr>\n",
              "    <tr>\n",
              "      <th>46977</th>\n",
              "      <td>NaN</td>\n",
              "      <td>Maxton Hall: The World Between Us</td>\n",
              "      <td>TV Series</td>\n",
              "      <td>Drama, Romance</td>\n",
              "      <td>2024.0</td>\n",
              "      <td>tt27792190</td>\n",
              "      <td>7.5</td>\n",
              "      <td>14199.0</td>\n",
              "      <td>AD, AE, AG, AL, AR, AT, AU, BA, BB, BE, BG, BH...</td>\n",
              "    </tr>\n",
              "    <tr>\n",
              "      <th>44808</th>\n",
              "      <td>NaN</td>\n",
              "      <td>Batman: Caped Crusader</td>\n",
              "      <td>TV Series</td>\n",
              "      <td>Action, Adventure, Animation</td>\n",
              "      <td>2024.0</td>\n",
              "      <td>tt14681596</td>\n",
              "      <td>7.3</td>\n",
              "      <td>12819.0</td>\n",
              "      <td>AD, AE, AG, AL, AR, AT, AU, BA, BB, BE, BG, BH...</td>\n",
              "    </tr>\n",
              "    <tr>\n",
              "      <th>45849</th>\n",
              "      <td>NaN</td>\n",
              "      <td>Kaiju No. 8</td>\n",
              "      <td>TV Series</td>\n",
              "      <td>Action, Adventure, Animation</td>\n",
              "      <td>2024.0</td>\n",
              "      <td>tt21975436</td>\n",
              "      <td>8.3</td>\n",
              "      <td>11964.0</td>\n",
              "      <td>JP</td>\n",
              "    </tr>\n",
              "  </tbody>\n",
              "</table>\n",
              "</div>\n",
              "    <div class=\"colab-df-buttons\">\n",
              "\n",
              "  <div class=\"colab-df-container\">\n",
              "    <button class=\"colab-df-convert\" onclick=\"convertToInteractive('df-ddf35b1f-0098-4f3c-8a0e-175a3a8616f6')\"\n",
              "            title=\"Convert this dataframe to an interactive table.\"\n",
              "            style=\"display:none;\">\n",
              "\n",
              "  <svg xmlns=\"http://www.w3.org/2000/svg\" height=\"24px\" viewBox=\"0 -960 960 960\">\n",
              "    <path d=\"M120-120v-720h720v720H120Zm60-500h600v-160H180v160Zm220 220h160v-160H400v160Zm0 220h160v-160H400v160ZM180-400h160v-160H180v160Zm440 0h160v-160H620v160ZM180-180h160v-160H180v160Zm440 0h160v-160H620v160Z\"/>\n",
              "  </svg>\n",
              "    </button>\n",
              "\n",
              "  <style>\n",
              "    .colab-df-container {\n",
              "      display:flex;\n",
              "      gap: 12px;\n",
              "    }\n",
              "\n",
              "    .colab-df-convert {\n",
              "      background-color: #E8F0FE;\n",
              "      border: none;\n",
              "      border-radius: 50%;\n",
              "      cursor: pointer;\n",
              "      display: none;\n",
              "      fill: #1967D2;\n",
              "      height: 32px;\n",
              "      padding: 0 0 0 0;\n",
              "      width: 32px;\n",
              "    }\n",
              "\n",
              "    .colab-df-convert:hover {\n",
              "      background-color: #E2EBFA;\n",
              "      box-shadow: 0px 1px 2px rgba(60, 64, 67, 0.3), 0px 1px 3px 1px rgba(60, 64, 67, 0.15);\n",
              "      fill: #174EA6;\n",
              "    }\n",
              "\n",
              "    .colab-df-buttons div {\n",
              "      margin-bottom: 4px;\n",
              "    }\n",
              "\n",
              "    [theme=dark] .colab-df-convert {\n",
              "      background-color: #3B4455;\n",
              "      fill: #D2E3FC;\n",
              "    }\n",
              "\n",
              "    [theme=dark] .colab-df-convert:hover {\n",
              "      background-color: #434B5C;\n",
              "      box-shadow: 0px 1px 3px 1px rgba(0, 0, 0, 0.15);\n",
              "      filter: drop-shadow(0px 1px 2px rgba(0, 0, 0, 0.3));\n",
              "      fill: #FFFFFF;\n",
              "    }\n",
              "  </style>\n",
              "\n",
              "    <script>\n",
              "      const buttonEl =\n",
              "        document.querySelector('#df-ddf35b1f-0098-4f3c-8a0e-175a3a8616f6 button.colab-df-convert');\n",
              "      buttonEl.style.display =\n",
              "        google.colab.kernel.accessAllowed ? 'block' : 'none';\n",
              "\n",
              "      async function convertToInteractive(key) {\n",
              "        const element = document.querySelector('#df-ddf35b1f-0098-4f3c-8a0e-175a3a8616f6');\n",
              "        const dataTable =\n",
              "          await google.colab.kernel.invokeFunction('convertToInteractive',\n",
              "                                                    [key], {});\n",
              "        if (!dataTable) return;\n",
              "\n",
              "        const docLinkHtml = 'Like what you see? Visit the ' +\n",
              "          '<a target=\"_blank\" href=https://colab.research.google.com/notebooks/data_table.ipynb>data table notebook</a>'\n",
              "          + ' to learn more about interactive tables.';\n",
              "        element.innerHTML = '';\n",
              "        dataTable['output_type'] = 'display_data';\n",
              "        await google.colab.output.renderOutput(dataTable, element);\n",
              "        const docLink = document.createElement('div');\n",
              "        docLink.innerHTML = docLinkHtml;\n",
              "        element.appendChild(docLink);\n",
              "      }\n",
              "    </script>\n",
              "  </div>\n",
              "\n",
              "\n",
              "<div id=\"df-961279be-87bc-45f2-9f81-65c10b5474f4\">\n",
              "  <button class=\"colab-df-quickchart\" onclick=\"quickchart('df-961279be-87bc-45f2-9f81-65c10b5474f4')\"\n",
              "            title=\"Suggest charts\"\n",
              "            style=\"display:none;\">\n",
              "\n",
              "<svg xmlns=\"http://www.w3.org/2000/svg\" height=\"24px\"viewBox=\"0 0 24 24\"\n",
              "     width=\"24px\">\n",
              "    <g>\n",
              "        <path d=\"M19 3H5c-1.1 0-2 .9-2 2v14c0 1.1.9 2 2 2h14c1.1 0 2-.9 2-2V5c0-1.1-.9-2-2-2zM9 17H7v-7h2v7zm4 0h-2V7h2v10zm4 0h-2v-4h2v4z\"/>\n",
              "    </g>\n",
              "</svg>\n",
              "  </button>\n",
              "\n",
              "<style>\n",
              "  .colab-df-quickchart {\n",
              "      --bg-color: #E8F0FE;\n",
              "      --fill-color: #1967D2;\n",
              "      --hover-bg-color: #E2EBFA;\n",
              "      --hover-fill-color: #174EA6;\n",
              "      --disabled-fill-color: #AAA;\n",
              "      --disabled-bg-color: #DDD;\n",
              "  }\n",
              "\n",
              "  [theme=dark] .colab-df-quickchart {\n",
              "      --bg-color: #3B4455;\n",
              "      --fill-color: #D2E3FC;\n",
              "      --hover-bg-color: #434B5C;\n",
              "      --hover-fill-color: #FFFFFF;\n",
              "      --disabled-bg-color: #3B4455;\n",
              "      --disabled-fill-color: #666;\n",
              "  }\n",
              "\n",
              "  .colab-df-quickchart {\n",
              "    background-color: var(--bg-color);\n",
              "    border: none;\n",
              "    border-radius: 50%;\n",
              "    cursor: pointer;\n",
              "    display: none;\n",
              "    fill: var(--fill-color);\n",
              "    height: 32px;\n",
              "    padding: 0;\n",
              "    width: 32px;\n",
              "  }\n",
              "\n",
              "  .colab-df-quickchart:hover {\n",
              "    background-color: var(--hover-bg-color);\n",
              "    box-shadow: 0 1px 2px rgba(60, 64, 67, 0.3), 0 1px 3px 1px rgba(60, 64, 67, 0.15);\n",
              "    fill: var(--button-hover-fill-color);\n",
              "  }\n",
              "\n",
              "  .colab-df-quickchart-complete:disabled,\n",
              "  .colab-df-quickchart-complete:disabled:hover {\n",
              "    background-color: var(--disabled-bg-color);\n",
              "    fill: var(--disabled-fill-color);\n",
              "    box-shadow: none;\n",
              "  }\n",
              "\n",
              "  .colab-df-spinner {\n",
              "    border: 2px solid var(--fill-color);\n",
              "    border-color: transparent;\n",
              "    border-bottom-color: var(--fill-color);\n",
              "    animation:\n",
              "      spin 1s steps(1) infinite;\n",
              "  }\n",
              "\n",
              "  @keyframes spin {\n",
              "    0% {\n",
              "      border-color: transparent;\n",
              "      border-bottom-color: var(--fill-color);\n",
              "      border-left-color: var(--fill-color);\n",
              "    }\n",
              "    20% {\n",
              "      border-color: transparent;\n",
              "      border-left-color: var(--fill-color);\n",
              "      border-top-color: var(--fill-color);\n",
              "    }\n",
              "    30% {\n",
              "      border-color: transparent;\n",
              "      border-left-color: var(--fill-color);\n",
              "      border-top-color: var(--fill-color);\n",
              "      border-right-color: var(--fill-color);\n",
              "    }\n",
              "    40% {\n",
              "      border-color: transparent;\n",
              "      border-right-color: var(--fill-color);\n",
              "      border-top-color: var(--fill-color);\n",
              "    }\n",
              "    60% {\n",
              "      border-color: transparent;\n",
              "      border-right-color: var(--fill-color);\n",
              "    }\n",
              "    80% {\n",
              "      border-color: transparent;\n",
              "      border-right-color: var(--fill-color);\n",
              "      border-bottom-color: var(--fill-color);\n",
              "    }\n",
              "    90% {\n",
              "      border-color: transparent;\n",
              "      border-bottom-color: var(--fill-color);\n",
              "    }\n",
              "  }\n",
              "</style>\n",
              "\n",
              "  <script>\n",
              "    async function quickchart(key) {\n",
              "      const quickchartButtonEl =\n",
              "        document.querySelector('#' + key + ' button');\n",
              "      quickchartButtonEl.disabled = true;  // To prevent multiple clicks.\n",
              "      quickchartButtonEl.classList.add('colab-df-spinner');\n",
              "      try {\n",
              "        const charts = await google.colab.kernel.invokeFunction(\n",
              "            'suggestCharts', [key], {});\n",
              "      } catch (error) {\n",
              "        console.error('Error during call to suggestCharts:', error);\n",
              "      }\n",
              "      quickchartButtonEl.classList.remove('colab-df-spinner');\n",
              "      quickchartButtonEl.classList.add('colab-df-quickchart-complete');\n",
              "    }\n",
              "    (() => {\n",
              "      let quickchartButtonEl =\n",
              "        document.querySelector('#df-961279be-87bc-45f2-9f81-65c10b5474f4 button');\n",
              "      quickchartButtonEl.style.display =\n",
              "        google.colab.kernel.accessAllowed ? 'block' : 'none';\n",
              "    })();\n",
              "  </script>\n",
              "</div>\n",
              "\n",
              "    </div>\n",
              "  </div>\n"
            ],
            "application/vnd.google.colaboratory.intrinsic+json": {
              "type": "dataframe",
              "summary": "{\n  \"name\": \"df[(df['releaseYear'] == 2024) & (df['type'] == 'TV Series')]\",\n  \"rows\": 10,\n  \"fields\": [\n    {\n      \"column\": \"url\",\n      \"properties\": {\n        \"dtype\": \"category\",\n        \"num_unique_values\": 2,\n        \"samples\": [\n          \"https://www.amazon.com/gp/video/detail/B0CLRQGR5G\",\n          \"https://www.amazon.com/gp/video/detail/B0CN4HV16N\"\n        ],\n        \"semantic_type\": \"\",\n        \"description\": \"\"\n      }\n    },\n    {\n      \"column\": \"title\",\n      \"properties\": {\n        \"dtype\": \"string\",\n        \"num_unique_values\": 10,\n        \"samples\": [\n          \"Batman: Caped Crusader\",\n          \"Indian Police Force\"\n        ],\n        \"semantic_type\": \"\",\n        \"description\": \"\"\n      }\n    },\n    {\n      \"column\": \"type\",\n      \"properties\": {\n        \"dtype\": \"category\",\n        \"num_unique_values\": 1,\n        \"samples\": [\n          \"TV Series\"\n        ],\n        \"semantic_type\": \"\",\n        \"description\": \"\"\n      }\n    },\n    {\n      \"column\": \"genres\",\n      \"properties\": {\n        \"dtype\": \"string\",\n        \"num_unique_values\": 8,\n        \"samples\": [\n          \"Action, Crime, Drama\"\n        ],\n        \"semantic_type\": \"\",\n        \"description\": \"\"\n      }\n    },\n    {\n      \"column\": \"releaseYear\",\n      \"properties\": {\n        \"dtype\": \"number\",\n        \"std\": 0.0,\n        \"min\": 2024.0,\n        \"max\": 2024.0,\n        \"num_unique_values\": 1,\n        \"samples\": [\n          2024.0\n        ],\n        \"semantic_type\": \"\",\n        \"description\": \"\"\n      }\n    },\n    {\n      \"column\": \"imdbId\",\n      \"properties\": {\n        \"dtype\": \"string\",\n        \"num_unique_values\": 10,\n        \"samples\": [\n          \"tt14681596\"\n        ],\n        \"semantic_type\": \"\",\n        \"description\": \"\"\n      }\n    },\n    {\n      \"column\": \"imdbAverageRating\",\n      \"properties\": {\n        \"dtype\": \"number\",\n        \"std\": 0.998665776590614,\n        \"min\": 5.1,\n        \"max\": 8.4,\n        \"num_unique_values\": 9,\n        \"samples\": [\n          7.5\n        ],\n        \"semantic_type\": \"\",\n        \"description\": \"\"\n      }\n    },\n    {\n      \"column\": \"imdbNumVotes\",\n      \"properties\": {\n        \"dtype\": \"number\",\n        \"std\": 76593.27050284656,\n        \"min\": 11964.0,\n        \"max\": 264143.0,\n        \"num_unique_values\": 10,\n        \"samples\": [\n          12819.0\n        ],\n        \"semantic_type\": \"\",\n        \"description\": \"\"\n      }\n    },\n    {\n      \"column\": \"availableCountries\",\n      \"properties\": {\n        \"dtype\": \"category\",\n        \"num_unique_values\": 4,\n        \"samples\": [\n          \"AG, AR, BB, BM, BO, BR, BS, CL, CO, CR, DO, EC, GT, HN, IN, JM, LC, MX, PA, PE, PY, SV, TC, TT, UY, VE\"\n        ],\n        \"semantic_type\": \"\",\n        \"description\": \"\"\n      }\n    }\n  ]\n}"
            }
          },
          "metadata": {},
          "execution_count": 30
        }
      ]
    },
    {
      "cell_type": "markdown",
      "source": [
        "**2.4.** Recupera les 10 pel·lícules llençades des de l'any 2000 del gènere ciència ficció (poden haver-hi d'altres gèneres també) amb millor valoració, ordenades de més a menys valoració en IMDB."
      ],
      "metadata": {
        "id": "XyGhRHyJ8Q2G"
      }
    },
    {
      "cell_type": "code",
      "source": [
        "df_filtered = df[(df['type'] == 'Movie') & (df['releaseYear'] >= 2000) & (df['genres'].str.contains(\"Science Fiction\", case=False, na=False))]\n",
        "top_10_movies = df_filtered.nlargest(10, 'imdbAverageRating')\n",
        "\n",
        "top_10_movies\n"
      ],
      "metadata": {
        "id": "GBKFcWQa8uzX",
        "colab": {
          "base_uri": "https://localhost:8080/",
          "height": 241
        },
        "outputId": "fbbcea4e-768c-4902-87e6-fa71c7e5ccb1"
      },
      "execution_count": 31,
      "outputs": [
        {
          "output_type": "execute_result",
          "data": {
            "text/plain": [
              "       url                                              title   type  \\\n",
              "20347  NaN                                            Persona  Movie   \n",
              "12261  NaN           Close Encounters: Proof of Alien Contact  Movie   \n",
              "31821  NaN                                      Electric City  Movie   \n",
              "32276  NaN  Kamen Rider × Super Sentai: Ultra Super Hero Wars  Movie   \n",
              "35720  NaN                                          Intransit  Movie   \n",
              "\n",
              "                                         genres  releaseYear     imdbId  \\\n",
              "20347  Action, Thriller, Drama, Science Fiction       2008.0  tt1164629   \n",
              "12261              Documentary, Science Fiction       2000.0        NaN   \n",
              "31821         Animation, Drama, Science Fiction       2016.0        NaN   \n",
              "32276        Action, Adventure, Science Fiction       2017.0        NaN   \n",
              "35720                  Science Fiction, Romance       2017.0        NaN   \n",
              "\n",
              "       imdbAverageRating  imdbNumVotes availableCountries  \n",
              "20347                5.5          46.0                 JP  \n",
              "12261                NaN           NaN     AU, IS, NZ, US  \n",
              "31821                NaN           NaN                 ES  \n",
              "32276                NaN           NaN                 JP  \n",
              "35720                NaN           NaN         GB, GG, US  "
            ],
            "text/html": [
              "\n",
              "  <div id=\"df-a5d10d1b-9bb8-47e3-aa05-ead5a2e1f5b0\" class=\"colab-df-container\">\n",
              "    <div>\n",
              "<style scoped>\n",
              "    .dataframe tbody tr th:only-of-type {\n",
              "        vertical-align: middle;\n",
              "    }\n",
              "\n",
              "    .dataframe tbody tr th {\n",
              "        vertical-align: top;\n",
              "    }\n",
              "\n",
              "    .dataframe thead th {\n",
              "        text-align: right;\n",
              "    }\n",
              "</style>\n",
              "<table border=\"1\" class=\"dataframe\">\n",
              "  <thead>\n",
              "    <tr style=\"text-align: right;\">\n",
              "      <th></th>\n",
              "      <th>url</th>\n",
              "      <th>title</th>\n",
              "      <th>type</th>\n",
              "      <th>genres</th>\n",
              "      <th>releaseYear</th>\n",
              "      <th>imdbId</th>\n",
              "      <th>imdbAverageRating</th>\n",
              "      <th>imdbNumVotes</th>\n",
              "      <th>availableCountries</th>\n",
              "    </tr>\n",
              "  </thead>\n",
              "  <tbody>\n",
              "    <tr>\n",
              "      <th>20347</th>\n",
              "      <td>NaN</td>\n",
              "      <td>Persona</td>\n",
              "      <td>Movie</td>\n",
              "      <td>Action, Thriller, Drama, Science Fiction</td>\n",
              "      <td>2008.0</td>\n",
              "      <td>tt1164629</td>\n",
              "      <td>5.5</td>\n",
              "      <td>46.0</td>\n",
              "      <td>JP</td>\n",
              "    </tr>\n",
              "    <tr>\n",
              "      <th>12261</th>\n",
              "      <td>NaN</td>\n",
              "      <td>Close Encounters: Proof of Alien Contact</td>\n",
              "      <td>Movie</td>\n",
              "      <td>Documentary, Science Fiction</td>\n",
              "      <td>2000.0</td>\n",
              "      <td>NaN</td>\n",
              "      <td>NaN</td>\n",
              "      <td>NaN</td>\n",
              "      <td>AU, IS, NZ, US</td>\n",
              "    </tr>\n",
              "    <tr>\n",
              "      <th>31821</th>\n",
              "      <td>NaN</td>\n",
              "      <td>Electric City</td>\n",
              "      <td>Movie</td>\n",
              "      <td>Animation, Drama, Science Fiction</td>\n",
              "      <td>2016.0</td>\n",
              "      <td>NaN</td>\n",
              "      <td>NaN</td>\n",
              "      <td>NaN</td>\n",
              "      <td>ES</td>\n",
              "    </tr>\n",
              "    <tr>\n",
              "      <th>32276</th>\n",
              "      <td>NaN</td>\n",
              "      <td>Kamen Rider × Super Sentai: Ultra Super Hero Wars</td>\n",
              "      <td>Movie</td>\n",
              "      <td>Action, Adventure, Science Fiction</td>\n",
              "      <td>2017.0</td>\n",
              "      <td>NaN</td>\n",
              "      <td>NaN</td>\n",
              "      <td>NaN</td>\n",
              "      <td>JP</td>\n",
              "    </tr>\n",
              "    <tr>\n",
              "      <th>35720</th>\n",
              "      <td>NaN</td>\n",
              "      <td>Intransit</td>\n",
              "      <td>Movie</td>\n",
              "      <td>Science Fiction, Romance</td>\n",
              "      <td>2017.0</td>\n",
              "      <td>NaN</td>\n",
              "      <td>NaN</td>\n",
              "      <td>NaN</td>\n",
              "      <td>GB, GG, US</td>\n",
              "    </tr>\n",
              "  </tbody>\n",
              "</table>\n",
              "</div>\n",
              "    <div class=\"colab-df-buttons\">\n",
              "\n",
              "  <div class=\"colab-df-container\">\n",
              "    <button class=\"colab-df-convert\" onclick=\"convertToInteractive('df-a5d10d1b-9bb8-47e3-aa05-ead5a2e1f5b0')\"\n",
              "            title=\"Convert this dataframe to an interactive table.\"\n",
              "            style=\"display:none;\">\n",
              "\n",
              "  <svg xmlns=\"http://www.w3.org/2000/svg\" height=\"24px\" viewBox=\"0 -960 960 960\">\n",
              "    <path d=\"M120-120v-720h720v720H120Zm60-500h600v-160H180v160Zm220 220h160v-160H400v160Zm0 220h160v-160H400v160ZM180-400h160v-160H180v160Zm440 0h160v-160H620v160ZM180-180h160v-160H180v160Zm440 0h160v-160H620v160Z\"/>\n",
              "  </svg>\n",
              "    </button>\n",
              "\n",
              "  <style>\n",
              "    .colab-df-container {\n",
              "      display:flex;\n",
              "      gap: 12px;\n",
              "    }\n",
              "\n",
              "    .colab-df-convert {\n",
              "      background-color: #E8F0FE;\n",
              "      border: none;\n",
              "      border-radius: 50%;\n",
              "      cursor: pointer;\n",
              "      display: none;\n",
              "      fill: #1967D2;\n",
              "      height: 32px;\n",
              "      padding: 0 0 0 0;\n",
              "      width: 32px;\n",
              "    }\n",
              "\n",
              "    .colab-df-convert:hover {\n",
              "      background-color: #E2EBFA;\n",
              "      box-shadow: 0px 1px 2px rgba(60, 64, 67, 0.3), 0px 1px 3px 1px rgba(60, 64, 67, 0.15);\n",
              "      fill: #174EA6;\n",
              "    }\n",
              "\n",
              "    .colab-df-buttons div {\n",
              "      margin-bottom: 4px;\n",
              "    }\n",
              "\n",
              "    [theme=dark] .colab-df-convert {\n",
              "      background-color: #3B4455;\n",
              "      fill: #D2E3FC;\n",
              "    }\n",
              "\n",
              "    [theme=dark] .colab-df-convert:hover {\n",
              "      background-color: #434B5C;\n",
              "      box-shadow: 0px 1px 3px 1px rgba(0, 0, 0, 0.15);\n",
              "      filter: drop-shadow(0px 1px 2px rgba(0, 0, 0, 0.3));\n",
              "      fill: #FFFFFF;\n",
              "    }\n",
              "  </style>\n",
              "\n",
              "    <script>\n",
              "      const buttonEl =\n",
              "        document.querySelector('#df-a5d10d1b-9bb8-47e3-aa05-ead5a2e1f5b0 button.colab-df-convert');\n",
              "      buttonEl.style.display =\n",
              "        google.colab.kernel.accessAllowed ? 'block' : 'none';\n",
              "\n",
              "      async function convertToInteractive(key) {\n",
              "        const element = document.querySelector('#df-a5d10d1b-9bb8-47e3-aa05-ead5a2e1f5b0');\n",
              "        const dataTable =\n",
              "          await google.colab.kernel.invokeFunction('convertToInteractive',\n",
              "                                                    [key], {});\n",
              "        if (!dataTable) return;\n",
              "\n",
              "        const docLinkHtml = 'Like what you see? Visit the ' +\n",
              "          '<a target=\"_blank\" href=https://colab.research.google.com/notebooks/data_table.ipynb>data table notebook</a>'\n",
              "          + ' to learn more about interactive tables.';\n",
              "        element.innerHTML = '';\n",
              "        dataTable['output_type'] = 'display_data';\n",
              "        await google.colab.output.renderOutput(dataTable, element);\n",
              "        const docLink = document.createElement('div');\n",
              "        docLink.innerHTML = docLinkHtml;\n",
              "        element.appendChild(docLink);\n",
              "      }\n",
              "    </script>\n",
              "  </div>\n",
              "\n",
              "\n",
              "<div id=\"df-ce6afa5e-f948-4101-8960-bffdb818ef0b\">\n",
              "  <button class=\"colab-df-quickchart\" onclick=\"quickchart('df-ce6afa5e-f948-4101-8960-bffdb818ef0b')\"\n",
              "            title=\"Suggest charts\"\n",
              "            style=\"display:none;\">\n",
              "\n",
              "<svg xmlns=\"http://www.w3.org/2000/svg\" height=\"24px\"viewBox=\"0 0 24 24\"\n",
              "     width=\"24px\">\n",
              "    <g>\n",
              "        <path d=\"M19 3H5c-1.1 0-2 .9-2 2v14c0 1.1.9 2 2 2h14c1.1 0 2-.9 2-2V5c0-1.1-.9-2-2-2zM9 17H7v-7h2v7zm4 0h-2V7h2v10zm4 0h-2v-4h2v4z\"/>\n",
              "    </g>\n",
              "</svg>\n",
              "  </button>\n",
              "\n",
              "<style>\n",
              "  .colab-df-quickchart {\n",
              "      --bg-color: #E8F0FE;\n",
              "      --fill-color: #1967D2;\n",
              "      --hover-bg-color: #E2EBFA;\n",
              "      --hover-fill-color: #174EA6;\n",
              "      --disabled-fill-color: #AAA;\n",
              "      --disabled-bg-color: #DDD;\n",
              "  }\n",
              "\n",
              "  [theme=dark] .colab-df-quickchart {\n",
              "      --bg-color: #3B4455;\n",
              "      --fill-color: #D2E3FC;\n",
              "      --hover-bg-color: #434B5C;\n",
              "      --hover-fill-color: #FFFFFF;\n",
              "      --disabled-bg-color: #3B4455;\n",
              "      --disabled-fill-color: #666;\n",
              "  }\n",
              "\n",
              "  .colab-df-quickchart {\n",
              "    background-color: var(--bg-color);\n",
              "    border: none;\n",
              "    border-radius: 50%;\n",
              "    cursor: pointer;\n",
              "    display: none;\n",
              "    fill: var(--fill-color);\n",
              "    height: 32px;\n",
              "    padding: 0;\n",
              "    width: 32px;\n",
              "  }\n",
              "\n",
              "  .colab-df-quickchart:hover {\n",
              "    background-color: var(--hover-bg-color);\n",
              "    box-shadow: 0 1px 2px rgba(60, 64, 67, 0.3), 0 1px 3px 1px rgba(60, 64, 67, 0.15);\n",
              "    fill: var(--button-hover-fill-color);\n",
              "  }\n",
              "\n",
              "  .colab-df-quickchart-complete:disabled,\n",
              "  .colab-df-quickchart-complete:disabled:hover {\n",
              "    background-color: var(--disabled-bg-color);\n",
              "    fill: var(--disabled-fill-color);\n",
              "    box-shadow: none;\n",
              "  }\n",
              "\n",
              "  .colab-df-spinner {\n",
              "    border: 2px solid var(--fill-color);\n",
              "    border-color: transparent;\n",
              "    border-bottom-color: var(--fill-color);\n",
              "    animation:\n",
              "      spin 1s steps(1) infinite;\n",
              "  }\n",
              "\n",
              "  @keyframes spin {\n",
              "    0% {\n",
              "      border-color: transparent;\n",
              "      border-bottom-color: var(--fill-color);\n",
              "      border-left-color: var(--fill-color);\n",
              "    }\n",
              "    20% {\n",
              "      border-color: transparent;\n",
              "      border-left-color: var(--fill-color);\n",
              "      border-top-color: var(--fill-color);\n",
              "    }\n",
              "    30% {\n",
              "      border-color: transparent;\n",
              "      border-left-color: var(--fill-color);\n",
              "      border-top-color: var(--fill-color);\n",
              "      border-right-color: var(--fill-color);\n",
              "    }\n",
              "    40% {\n",
              "      border-color: transparent;\n",
              "      border-right-color: var(--fill-color);\n",
              "      border-top-color: var(--fill-color);\n",
              "    }\n",
              "    60% {\n",
              "      border-color: transparent;\n",
              "      border-right-color: var(--fill-color);\n",
              "    }\n",
              "    80% {\n",
              "      border-color: transparent;\n",
              "      border-right-color: var(--fill-color);\n",
              "      border-bottom-color: var(--fill-color);\n",
              "    }\n",
              "    90% {\n",
              "      border-color: transparent;\n",
              "      border-bottom-color: var(--fill-color);\n",
              "    }\n",
              "  }\n",
              "</style>\n",
              "\n",
              "  <script>\n",
              "    async function quickchart(key) {\n",
              "      const quickchartButtonEl =\n",
              "        document.querySelector('#' + key + ' button');\n",
              "      quickchartButtonEl.disabled = true;  // To prevent multiple clicks.\n",
              "      quickchartButtonEl.classList.add('colab-df-spinner');\n",
              "      try {\n",
              "        const charts = await google.colab.kernel.invokeFunction(\n",
              "            'suggestCharts', [key], {});\n",
              "      } catch (error) {\n",
              "        console.error('Error during call to suggestCharts:', error);\n",
              "      }\n",
              "      quickchartButtonEl.classList.remove('colab-df-spinner');\n",
              "      quickchartButtonEl.classList.add('colab-df-quickchart-complete');\n",
              "    }\n",
              "    (() => {\n",
              "      let quickchartButtonEl =\n",
              "        document.querySelector('#df-ce6afa5e-f948-4101-8960-bffdb818ef0b button');\n",
              "      quickchartButtonEl.style.display =\n",
              "        google.colab.kernel.accessAllowed ? 'block' : 'none';\n",
              "    })();\n",
              "  </script>\n",
              "</div>\n",
              "\n",
              "  <div id=\"id_4f2c871a-74ac-49c2-9b1a-8834c667a6a6\">\n",
              "    <style>\n",
              "      .colab-df-generate {\n",
              "        background-color: #E8F0FE;\n",
              "        border: none;\n",
              "        border-radius: 50%;\n",
              "        cursor: pointer;\n",
              "        display: none;\n",
              "        fill: #1967D2;\n",
              "        height: 32px;\n",
              "        padding: 0 0 0 0;\n",
              "        width: 32px;\n",
              "      }\n",
              "\n",
              "      .colab-df-generate:hover {\n",
              "        background-color: #E2EBFA;\n",
              "        box-shadow: 0px 1px 2px rgba(60, 64, 67, 0.3), 0px 1px 3px 1px rgba(60, 64, 67, 0.15);\n",
              "        fill: #174EA6;\n",
              "      }\n",
              "\n",
              "      [theme=dark] .colab-df-generate {\n",
              "        background-color: #3B4455;\n",
              "        fill: #D2E3FC;\n",
              "      }\n",
              "\n",
              "      [theme=dark] .colab-df-generate:hover {\n",
              "        background-color: #434B5C;\n",
              "        box-shadow: 0px 1px 3px 1px rgba(0, 0, 0, 0.15);\n",
              "        filter: drop-shadow(0px 1px 2px rgba(0, 0, 0, 0.3));\n",
              "        fill: #FFFFFF;\n",
              "      }\n",
              "    </style>\n",
              "    <button class=\"colab-df-generate\" onclick=\"generateWithVariable('top_10_movies')\"\n",
              "            title=\"Generate code using this dataframe.\"\n",
              "            style=\"display:none;\">\n",
              "\n",
              "  <svg xmlns=\"http://www.w3.org/2000/svg\" height=\"24px\"viewBox=\"0 0 24 24\"\n",
              "       width=\"24px\">\n",
              "    <path d=\"M7,19H8.4L18.45,9,17,7.55,7,17.6ZM5,21V16.75L18.45,3.32a2,2,0,0,1,2.83,0l1.4,1.43a1.91,1.91,0,0,1,.58,1.4,1.91,1.91,0,0,1-.58,1.4L9.25,21ZM18.45,9,17,7.55Zm-12,3A5.31,5.31,0,0,0,4.9,8.1,5.31,5.31,0,0,0,1,6.5,5.31,5.31,0,0,0,4.9,4.9,5.31,5.31,0,0,0,6.5,1,5.31,5.31,0,0,0,8.1,4.9,5.31,5.31,0,0,0,12,6.5,5.46,5.46,0,0,0,6.5,12Z\"/>\n",
              "  </svg>\n",
              "    </button>\n",
              "    <script>\n",
              "      (() => {\n",
              "      const buttonEl =\n",
              "        document.querySelector('#id_4f2c871a-74ac-49c2-9b1a-8834c667a6a6 button.colab-df-generate');\n",
              "      buttonEl.style.display =\n",
              "        google.colab.kernel.accessAllowed ? 'block' : 'none';\n",
              "\n",
              "      buttonEl.onclick = () => {\n",
              "        google.colab.notebook.generateWithVariable('top_10_movies');\n",
              "      }\n",
              "      })();\n",
              "    </script>\n",
              "  </div>\n",
              "\n",
              "    </div>\n",
              "  </div>\n"
            ],
            "application/vnd.google.colaboratory.intrinsic+json": {
              "type": "dataframe",
              "variable_name": "top_10_movies",
              "repr_error": "0"
            }
          },
          "metadata": {},
          "execution_count": 31
        }
      ]
    },
    {
      "cell_type": "markdown",
      "source": [
        "**2.5.** Calcula el nombre de pel·lícules que s'han llançat cada any des del 2000."
      ],
      "metadata": {
        "id": "3xtyorwrpG3R"
      }
    },
    {
      "cell_type": "code",
      "source": [
        "df_movies_every_year = df[(df['type'] == 'Movie') & (df['releaseYear'] >= 2000)].groupby('releaseYear').size()\n",
        "df_movies_every_year\n"
      ],
      "metadata": {
        "id": "6ULPeJ2_uVyZ",
        "colab": {
          "base_uri": "https://localhost:8080/",
          "height": 899
        },
        "outputId": "70665424-2eb1-4188-f71f-d1b1943e6c4f"
      },
      "execution_count": 32,
      "outputs": [
        {
          "output_type": "execute_result",
          "data": {
            "text/plain": [
              "releaseYear\n",
              "2000.0     524\n",
              "2001.0     516\n",
              "2002.0     582\n",
              "2003.0     558\n",
              "2004.0     637\n",
              "2005.0     759\n",
              "2006.0     808\n",
              "2007.0     922\n",
              "2008.0     955\n",
              "2009.0    1082\n",
              "2010.0    1146\n",
              "2011.0    1313\n",
              "2012.0    1544\n",
              "2013.0    1931\n",
              "2014.0    2073\n",
              "2015.0    2252\n",
              "2016.0    2425\n",
              "2017.0    2643\n",
              "2018.0    2358\n",
              "2019.0     655\n",
              "2020.0     229\n",
              "2021.0     119\n",
              "2022.0     124\n",
              "2023.0     141\n",
              "2024.0     105\n",
              "dtype: int64"
            ],
            "text/html": [
              "<div>\n",
              "<style scoped>\n",
              "    .dataframe tbody tr th:only-of-type {\n",
              "        vertical-align: middle;\n",
              "    }\n",
              "\n",
              "    .dataframe tbody tr th {\n",
              "        vertical-align: top;\n",
              "    }\n",
              "\n",
              "    .dataframe thead th {\n",
              "        text-align: right;\n",
              "    }\n",
              "</style>\n",
              "<table border=\"1\" class=\"dataframe\">\n",
              "  <thead>\n",
              "    <tr style=\"text-align: right;\">\n",
              "      <th></th>\n",
              "      <th>0</th>\n",
              "    </tr>\n",
              "    <tr>\n",
              "      <th>releaseYear</th>\n",
              "      <th></th>\n",
              "    </tr>\n",
              "  </thead>\n",
              "  <tbody>\n",
              "    <tr>\n",
              "      <th>2000.0</th>\n",
              "      <td>524</td>\n",
              "    </tr>\n",
              "    <tr>\n",
              "      <th>2001.0</th>\n",
              "      <td>516</td>\n",
              "    </tr>\n",
              "    <tr>\n",
              "      <th>2002.0</th>\n",
              "      <td>582</td>\n",
              "    </tr>\n",
              "    <tr>\n",
              "      <th>2003.0</th>\n",
              "      <td>558</td>\n",
              "    </tr>\n",
              "    <tr>\n",
              "      <th>2004.0</th>\n",
              "      <td>637</td>\n",
              "    </tr>\n",
              "    <tr>\n",
              "      <th>2005.0</th>\n",
              "      <td>759</td>\n",
              "    </tr>\n",
              "    <tr>\n",
              "      <th>2006.0</th>\n",
              "      <td>808</td>\n",
              "    </tr>\n",
              "    <tr>\n",
              "      <th>2007.0</th>\n",
              "      <td>922</td>\n",
              "    </tr>\n",
              "    <tr>\n",
              "      <th>2008.0</th>\n",
              "      <td>955</td>\n",
              "    </tr>\n",
              "    <tr>\n",
              "      <th>2009.0</th>\n",
              "      <td>1082</td>\n",
              "    </tr>\n",
              "    <tr>\n",
              "      <th>2010.0</th>\n",
              "      <td>1146</td>\n",
              "    </tr>\n",
              "    <tr>\n",
              "      <th>2011.0</th>\n",
              "      <td>1313</td>\n",
              "    </tr>\n",
              "    <tr>\n",
              "      <th>2012.0</th>\n",
              "      <td>1544</td>\n",
              "    </tr>\n",
              "    <tr>\n",
              "      <th>2013.0</th>\n",
              "      <td>1931</td>\n",
              "    </tr>\n",
              "    <tr>\n",
              "      <th>2014.0</th>\n",
              "      <td>2073</td>\n",
              "    </tr>\n",
              "    <tr>\n",
              "      <th>2015.0</th>\n",
              "      <td>2252</td>\n",
              "    </tr>\n",
              "    <tr>\n",
              "      <th>2016.0</th>\n",
              "      <td>2425</td>\n",
              "    </tr>\n",
              "    <tr>\n",
              "      <th>2017.0</th>\n",
              "      <td>2643</td>\n",
              "    </tr>\n",
              "    <tr>\n",
              "      <th>2018.0</th>\n",
              "      <td>2358</td>\n",
              "    </tr>\n",
              "    <tr>\n",
              "      <th>2019.0</th>\n",
              "      <td>655</td>\n",
              "    </tr>\n",
              "    <tr>\n",
              "      <th>2020.0</th>\n",
              "      <td>229</td>\n",
              "    </tr>\n",
              "    <tr>\n",
              "      <th>2021.0</th>\n",
              "      <td>119</td>\n",
              "    </tr>\n",
              "    <tr>\n",
              "      <th>2022.0</th>\n",
              "      <td>124</td>\n",
              "    </tr>\n",
              "    <tr>\n",
              "      <th>2023.0</th>\n",
              "      <td>141</td>\n",
              "    </tr>\n",
              "    <tr>\n",
              "      <th>2024.0</th>\n",
              "      <td>105</td>\n",
              "    </tr>\n",
              "  </tbody>\n",
              "</table>\n",
              "</div><br><label><b>dtype:</b> int64</label>"
            ]
          },
          "metadata": {},
          "execution_count": 32
        }
      ]
    },
    {
      "cell_type": "markdown",
      "source": [
        "**2.6.** Volem agrupar les pel·lícules per any de llançament, des de l'any 2000. Has d'obtenir dos objectse Series, on en els índexs tendrem l'any i en els valors:\n",
        "* en un objecte Series, el nombre total de vots en IMDB\n",
        "* en l'altre objecte Series, la valoració mitjana en IMDB"
      ],
      "metadata": {
        "id": "OtGiG6dK44K4"
      }
    },
    {
      "cell_type": "code",
      "source": [
        "obj_votes = df[(df['releaseYear'] >= 2000)].groupby('releaseYear')['imdbNumVotes'].sum()\n",
        "obj_average = df[(df['releaseYear'] >= 2000)].groupby('releaseYear')['imdbAverageRating'].mean()\n",
        "\n",
        "print('Número total de votos por año desde el 2000:')\n",
        "print(obj_votes)\n",
        "print('\\nValoración media por año desde el 2000:')\n",
        "print(obj_average)"
      ],
      "metadata": {
        "id": "C4pXowb8uWvR",
        "colab": {
          "base_uri": "https://localhost:8080/"
        },
        "outputId": "a77949a1-c4e4-4257-a41a-d37016c659d8"
      },
      "execution_count": 8,
      "outputs": [
        {
          "output_type": "stream",
          "name": "stdout",
          "text": [
            "Número total de votos por año desde el 2000:\n",
            "releaseYear\n",
            "2000.0    16840313.0\n",
            "2001.0    18290366.0\n",
            "2002.0    19591223.0\n",
            "2003.0    19792821.0\n",
            "2004.0    24426449.0\n",
            "2005.0    25308840.0\n",
            "2006.0    23657107.0\n",
            "2007.0    26858350.0\n",
            "2008.0    30575078.0\n",
            "2009.0    28464716.0\n",
            "2010.0    30715178.0\n",
            "2011.0    34827368.0\n",
            "2012.0    33659207.0\n",
            "2013.0    39225898.0\n",
            "2014.0    38279903.0\n",
            "2015.0    29147778.0\n",
            "2016.0    31761066.0\n",
            "2017.0    26897271.0\n",
            "2018.0    23286036.0\n",
            "2019.0    23295668.0\n",
            "2020.0     6124384.0\n",
            "2021.0     8164951.0\n",
            "2022.0     9367427.0\n",
            "2023.0     5668376.0\n",
            "2024.0     2133553.0\n",
            "2025.0           0.0\n",
            "Name: imdbNumVotes, dtype: float64\n",
            "\n",
            "Valoración media por año desde el 2000:\n",
            "releaseYear\n",
            "2000.0    5.785689\n",
            "2001.0    5.928471\n",
            "2002.0    5.955016\n",
            "2003.0    6.014710\n",
            "2004.0    6.050481\n",
            "2005.0    5.924794\n",
            "2006.0    5.917314\n",
            "2007.0    5.920960\n",
            "2008.0    5.899627\n",
            "2009.0    5.957023\n",
            "2010.0    5.994272\n",
            "2011.0    5.930301\n",
            "2012.0    5.991109\n",
            "2013.0    5.940227\n",
            "2014.0    5.979218\n",
            "2015.0    5.961359\n",
            "2016.0    5.930053\n",
            "2017.0    5.922658\n",
            "2018.0    5.933587\n",
            "2019.0    6.175540\n",
            "2020.0    6.375719\n",
            "2021.0    6.726761\n",
            "2022.0    6.643852\n",
            "2023.0    6.667557\n",
            "2024.0    6.497033\n",
            "2025.0         NaN\n",
            "Name: imdbAverageRating, dtype: float64\n"
          ]
        }
      ]
    },
    {
      "cell_type": "markdown",
      "source": [
        "**2.7.** A partir d'aquests dos objectes Series de l'apartat anterior, crea un nou objecte DataFrame amb 3 columnes:\n",
        "* Any\n",
        "* Vots en IMDB\n",
        "* Valoració mitjana en IMDB"
      ],
      "metadata": {
        "id": "R9EXmG5FOLNe"
      }
    },
    {
      "cell_type": "code",
      "source": [
        "data = {\n",
        "    'year': obj_votes.index,\n",
        "    'imdb_votes': obj_votes.values,\n",
        "    'imdb_average': obj_average.values,\n",
        "}\n",
        "\n",
        "df2 = pd.DataFrame(data)\n",
        "df2"
      ],
      "metadata": {
        "id": "8uDFFE45OuBd",
        "colab": {
          "base_uri": "https://localhost:8080/",
          "height": 865
        },
        "outputId": "ca4d0b57-6ce4-4b34-fac6-e23735c94da7"
      },
      "execution_count": 33,
      "outputs": [
        {
          "output_type": "execute_result",
          "data": {
            "text/plain": [
              "      year  imdb_votes  imdb_average\n",
              "0   2000.0  16840313.0      5.785689\n",
              "1   2001.0  18290366.0      5.928471\n",
              "2   2002.0  19591223.0      5.955016\n",
              "3   2003.0  19792821.0      6.014710\n",
              "4   2004.0  24426449.0      6.050481\n",
              "5   2005.0  25308840.0      5.924794\n",
              "6   2006.0  23657107.0      5.917314\n",
              "7   2007.0  26858350.0      5.920960\n",
              "8   2008.0  30575078.0      5.899627\n",
              "9   2009.0  28464716.0      5.957023\n",
              "10  2010.0  30715178.0      5.994272\n",
              "11  2011.0  34827368.0      5.930301\n",
              "12  2012.0  33659207.0      5.991109\n",
              "13  2013.0  39225898.0      5.940227\n",
              "14  2014.0  38279903.0      5.979218\n",
              "15  2015.0  29147778.0      5.961359\n",
              "16  2016.0  31761066.0      5.930053\n",
              "17  2017.0  26897271.0      5.922658\n",
              "18  2018.0  23286036.0      5.933587\n",
              "19  2019.0  23295668.0      6.175540\n",
              "20  2020.0   6124384.0      6.375719\n",
              "21  2021.0   8164951.0      6.726761\n",
              "22  2022.0   9367427.0      6.643852\n",
              "23  2023.0   5668376.0      6.667557\n",
              "24  2024.0   2133553.0      6.497033\n",
              "25  2025.0         0.0           NaN"
            ],
            "text/html": [
              "\n",
              "  <div id=\"df-3f7f02ad-fdf1-4300-bd39-02e9e9f85fa9\" class=\"colab-df-container\">\n",
              "    <div>\n",
              "<style scoped>\n",
              "    .dataframe tbody tr th:only-of-type {\n",
              "        vertical-align: middle;\n",
              "    }\n",
              "\n",
              "    .dataframe tbody tr th {\n",
              "        vertical-align: top;\n",
              "    }\n",
              "\n",
              "    .dataframe thead th {\n",
              "        text-align: right;\n",
              "    }\n",
              "</style>\n",
              "<table border=\"1\" class=\"dataframe\">\n",
              "  <thead>\n",
              "    <tr style=\"text-align: right;\">\n",
              "      <th></th>\n",
              "      <th>year</th>\n",
              "      <th>imdb_votes</th>\n",
              "      <th>imdb_average</th>\n",
              "    </tr>\n",
              "  </thead>\n",
              "  <tbody>\n",
              "    <tr>\n",
              "      <th>0</th>\n",
              "      <td>2000.0</td>\n",
              "      <td>16840313.0</td>\n",
              "      <td>5.785689</td>\n",
              "    </tr>\n",
              "    <tr>\n",
              "      <th>1</th>\n",
              "      <td>2001.0</td>\n",
              "      <td>18290366.0</td>\n",
              "      <td>5.928471</td>\n",
              "    </tr>\n",
              "    <tr>\n",
              "      <th>2</th>\n",
              "      <td>2002.0</td>\n",
              "      <td>19591223.0</td>\n",
              "      <td>5.955016</td>\n",
              "    </tr>\n",
              "    <tr>\n",
              "      <th>3</th>\n",
              "      <td>2003.0</td>\n",
              "      <td>19792821.0</td>\n",
              "      <td>6.014710</td>\n",
              "    </tr>\n",
              "    <tr>\n",
              "      <th>4</th>\n",
              "      <td>2004.0</td>\n",
              "      <td>24426449.0</td>\n",
              "      <td>6.050481</td>\n",
              "    </tr>\n",
              "    <tr>\n",
              "      <th>5</th>\n",
              "      <td>2005.0</td>\n",
              "      <td>25308840.0</td>\n",
              "      <td>5.924794</td>\n",
              "    </tr>\n",
              "    <tr>\n",
              "      <th>6</th>\n",
              "      <td>2006.0</td>\n",
              "      <td>23657107.0</td>\n",
              "      <td>5.917314</td>\n",
              "    </tr>\n",
              "    <tr>\n",
              "      <th>7</th>\n",
              "      <td>2007.0</td>\n",
              "      <td>26858350.0</td>\n",
              "      <td>5.920960</td>\n",
              "    </tr>\n",
              "    <tr>\n",
              "      <th>8</th>\n",
              "      <td>2008.0</td>\n",
              "      <td>30575078.0</td>\n",
              "      <td>5.899627</td>\n",
              "    </tr>\n",
              "    <tr>\n",
              "      <th>9</th>\n",
              "      <td>2009.0</td>\n",
              "      <td>28464716.0</td>\n",
              "      <td>5.957023</td>\n",
              "    </tr>\n",
              "    <tr>\n",
              "      <th>10</th>\n",
              "      <td>2010.0</td>\n",
              "      <td>30715178.0</td>\n",
              "      <td>5.994272</td>\n",
              "    </tr>\n",
              "    <tr>\n",
              "      <th>11</th>\n",
              "      <td>2011.0</td>\n",
              "      <td>34827368.0</td>\n",
              "      <td>5.930301</td>\n",
              "    </tr>\n",
              "    <tr>\n",
              "      <th>12</th>\n",
              "      <td>2012.0</td>\n",
              "      <td>33659207.0</td>\n",
              "      <td>5.991109</td>\n",
              "    </tr>\n",
              "    <tr>\n",
              "      <th>13</th>\n",
              "      <td>2013.0</td>\n",
              "      <td>39225898.0</td>\n",
              "      <td>5.940227</td>\n",
              "    </tr>\n",
              "    <tr>\n",
              "      <th>14</th>\n",
              "      <td>2014.0</td>\n",
              "      <td>38279903.0</td>\n",
              "      <td>5.979218</td>\n",
              "    </tr>\n",
              "    <tr>\n",
              "      <th>15</th>\n",
              "      <td>2015.0</td>\n",
              "      <td>29147778.0</td>\n",
              "      <td>5.961359</td>\n",
              "    </tr>\n",
              "    <tr>\n",
              "      <th>16</th>\n",
              "      <td>2016.0</td>\n",
              "      <td>31761066.0</td>\n",
              "      <td>5.930053</td>\n",
              "    </tr>\n",
              "    <tr>\n",
              "      <th>17</th>\n",
              "      <td>2017.0</td>\n",
              "      <td>26897271.0</td>\n",
              "      <td>5.922658</td>\n",
              "    </tr>\n",
              "    <tr>\n",
              "      <th>18</th>\n",
              "      <td>2018.0</td>\n",
              "      <td>23286036.0</td>\n",
              "      <td>5.933587</td>\n",
              "    </tr>\n",
              "    <tr>\n",
              "      <th>19</th>\n",
              "      <td>2019.0</td>\n",
              "      <td>23295668.0</td>\n",
              "      <td>6.175540</td>\n",
              "    </tr>\n",
              "    <tr>\n",
              "      <th>20</th>\n",
              "      <td>2020.0</td>\n",
              "      <td>6124384.0</td>\n",
              "      <td>6.375719</td>\n",
              "    </tr>\n",
              "    <tr>\n",
              "      <th>21</th>\n",
              "      <td>2021.0</td>\n",
              "      <td>8164951.0</td>\n",
              "      <td>6.726761</td>\n",
              "    </tr>\n",
              "    <tr>\n",
              "      <th>22</th>\n",
              "      <td>2022.0</td>\n",
              "      <td>9367427.0</td>\n",
              "      <td>6.643852</td>\n",
              "    </tr>\n",
              "    <tr>\n",
              "      <th>23</th>\n",
              "      <td>2023.0</td>\n",
              "      <td>5668376.0</td>\n",
              "      <td>6.667557</td>\n",
              "    </tr>\n",
              "    <tr>\n",
              "      <th>24</th>\n",
              "      <td>2024.0</td>\n",
              "      <td>2133553.0</td>\n",
              "      <td>6.497033</td>\n",
              "    </tr>\n",
              "    <tr>\n",
              "      <th>25</th>\n",
              "      <td>2025.0</td>\n",
              "      <td>0.0</td>\n",
              "      <td>NaN</td>\n",
              "    </tr>\n",
              "  </tbody>\n",
              "</table>\n",
              "</div>\n",
              "    <div class=\"colab-df-buttons\">\n",
              "\n",
              "  <div class=\"colab-df-container\">\n",
              "    <button class=\"colab-df-convert\" onclick=\"convertToInteractive('df-3f7f02ad-fdf1-4300-bd39-02e9e9f85fa9')\"\n",
              "            title=\"Convert this dataframe to an interactive table.\"\n",
              "            style=\"display:none;\">\n",
              "\n",
              "  <svg xmlns=\"http://www.w3.org/2000/svg\" height=\"24px\" viewBox=\"0 -960 960 960\">\n",
              "    <path d=\"M120-120v-720h720v720H120Zm60-500h600v-160H180v160Zm220 220h160v-160H400v160Zm0 220h160v-160H400v160ZM180-400h160v-160H180v160Zm440 0h160v-160H620v160ZM180-180h160v-160H180v160Zm440 0h160v-160H620v160Z\"/>\n",
              "  </svg>\n",
              "    </button>\n",
              "\n",
              "  <style>\n",
              "    .colab-df-container {\n",
              "      display:flex;\n",
              "      gap: 12px;\n",
              "    }\n",
              "\n",
              "    .colab-df-convert {\n",
              "      background-color: #E8F0FE;\n",
              "      border: none;\n",
              "      border-radius: 50%;\n",
              "      cursor: pointer;\n",
              "      display: none;\n",
              "      fill: #1967D2;\n",
              "      height: 32px;\n",
              "      padding: 0 0 0 0;\n",
              "      width: 32px;\n",
              "    }\n",
              "\n",
              "    .colab-df-convert:hover {\n",
              "      background-color: #E2EBFA;\n",
              "      box-shadow: 0px 1px 2px rgba(60, 64, 67, 0.3), 0px 1px 3px 1px rgba(60, 64, 67, 0.15);\n",
              "      fill: #174EA6;\n",
              "    }\n",
              "\n",
              "    .colab-df-buttons div {\n",
              "      margin-bottom: 4px;\n",
              "    }\n",
              "\n",
              "    [theme=dark] .colab-df-convert {\n",
              "      background-color: #3B4455;\n",
              "      fill: #D2E3FC;\n",
              "    }\n",
              "\n",
              "    [theme=dark] .colab-df-convert:hover {\n",
              "      background-color: #434B5C;\n",
              "      box-shadow: 0px 1px 3px 1px rgba(0, 0, 0, 0.15);\n",
              "      filter: drop-shadow(0px 1px 2px rgba(0, 0, 0, 0.3));\n",
              "      fill: #FFFFFF;\n",
              "    }\n",
              "  </style>\n",
              "\n",
              "    <script>\n",
              "      const buttonEl =\n",
              "        document.querySelector('#df-3f7f02ad-fdf1-4300-bd39-02e9e9f85fa9 button.colab-df-convert');\n",
              "      buttonEl.style.display =\n",
              "        google.colab.kernel.accessAllowed ? 'block' : 'none';\n",
              "\n",
              "      async function convertToInteractive(key) {\n",
              "        const element = document.querySelector('#df-3f7f02ad-fdf1-4300-bd39-02e9e9f85fa9');\n",
              "        const dataTable =\n",
              "          await google.colab.kernel.invokeFunction('convertToInteractive',\n",
              "                                                    [key], {});\n",
              "        if (!dataTable) return;\n",
              "\n",
              "        const docLinkHtml = 'Like what you see? Visit the ' +\n",
              "          '<a target=\"_blank\" href=https://colab.research.google.com/notebooks/data_table.ipynb>data table notebook</a>'\n",
              "          + ' to learn more about interactive tables.';\n",
              "        element.innerHTML = '';\n",
              "        dataTable['output_type'] = 'display_data';\n",
              "        await google.colab.output.renderOutput(dataTable, element);\n",
              "        const docLink = document.createElement('div');\n",
              "        docLink.innerHTML = docLinkHtml;\n",
              "        element.appendChild(docLink);\n",
              "      }\n",
              "    </script>\n",
              "  </div>\n",
              "\n",
              "\n",
              "<div id=\"df-a8dc149a-668b-41eb-8a79-defd0f77e5d0\">\n",
              "  <button class=\"colab-df-quickchart\" onclick=\"quickchart('df-a8dc149a-668b-41eb-8a79-defd0f77e5d0')\"\n",
              "            title=\"Suggest charts\"\n",
              "            style=\"display:none;\">\n",
              "\n",
              "<svg xmlns=\"http://www.w3.org/2000/svg\" height=\"24px\"viewBox=\"0 0 24 24\"\n",
              "     width=\"24px\">\n",
              "    <g>\n",
              "        <path d=\"M19 3H5c-1.1 0-2 .9-2 2v14c0 1.1.9 2 2 2h14c1.1 0 2-.9 2-2V5c0-1.1-.9-2-2-2zM9 17H7v-7h2v7zm4 0h-2V7h2v10zm4 0h-2v-4h2v4z\"/>\n",
              "    </g>\n",
              "</svg>\n",
              "  </button>\n",
              "\n",
              "<style>\n",
              "  .colab-df-quickchart {\n",
              "      --bg-color: #E8F0FE;\n",
              "      --fill-color: #1967D2;\n",
              "      --hover-bg-color: #E2EBFA;\n",
              "      --hover-fill-color: #174EA6;\n",
              "      --disabled-fill-color: #AAA;\n",
              "      --disabled-bg-color: #DDD;\n",
              "  }\n",
              "\n",
              "  [theme=dark] .colab-df-quickchart {\n",
              "      --bg-color: #3B4455;\n",
              "      --fill-color: #D2E3FC;\n",
              "      --hover-bg-color: #434B5C;\n",
              "      --hover-fill-color: #FFFFFF;\n",
              "      --disabled-bg-color: #3B4455;\n",
              "      --disabled-fill-color: #666;\n",
              "  }\n",
              "\n",
              "  .colab-df-quickchart {\n",
              "    background-color: var(--bg-color);\n",
              "    border: none;\n",
              "    border-radius: 50%;\n",
              "    cursor: pointer;\n",
              "    display: none;\n",
              "    fill: var(--fill-color);\n",
              "    height: 32px;\n",
              "    padding: 0;\n",
              "    width: 32px;\n",
              "  }\n",
              "\n",
              "  .colab-df-quickchart:hover {\n",
              "    background-color: var(--hover-bg-color);\n",
              "    box-shadow: 0 1px 2px rgba(60, 64, 67, 0.3), 0 1px 3px 1px rgba(60, 64, 67, 0.15);\n",
              "    fill: var(--button-hover-fill-color);\n",
              "  }\n",
              "\n",
              "  .colab-df-quickchart-complete:disabled,\n",
              "  .colab-df-quickchart-complete:disabled:hover {\n",
              "    background-color: var(--disabled-bg-color);\n",
              "    fill: var(--disabled-fill-color);\n",
              "    box-shadow: none;\n",
              "  }\n",
              "\n",
              "  .colab-df-spinner {\n",
              "    border: 2px solid var(--fill-color);\n",
              "    border-color: transparent;\n",
              "    border-bottom-color: var(--fill-color);\n",
              "    animation:\n",
              "      spin 1s steps(1) infinite;\n",
              "  }\n",
              "\n",
              "  @keyframes spin {\n",
              "    0% {\n",
              "      border-color: transparent;\n",
              "      border-bottom-color: var(--fill-color);\n",
              "      border-left-color: var(--fill-color);\n",
              "    }\n",
              "    20% {\n",
              "      border-color: transparent;\n",
              "      border-left-color: var(--fill-color);\n",
              "      border-top-color: var(--fill-color);\n",
              "    }\n",
              "    30% {\n",
              "      border-color: transparent;\n",
              "      border-left-color: var(--fill-color);\n",
              "      border-top-color: var(--fill-color);\n",
              "      border-right-color: var(--fill-color);\n",
              "    }\n",
              "    40% {\n",
              "      border-color: transparent;\n",
              "      border-right-color: var(--fill-color);\n",
              "      border-top-color: var(--fill-color);\n",
              "    }\n",
              "    60% {\n",
              "      border-color: transparent;\n",
              "      border-right-color: var(--fill-color);\n",
              "    }\n",
              "    80% {\n",
              "      border-color: transparent;\n",
              "      border-right-color: var(--fill-color);\n",
              "      border-bottom-color: var(--fill-color);\n",
              "    }\n",
              "    90% {\n",
              "      border-color: transparent;\n",
              "      border-bottom-color: var(--fill-color);\n",
              "    }\n",
              "  }\n",
              "</style>\n",
              "\n",
              "  <script>\n",
              "    async function quickchart(key) {\n",
              "      const quickchartButtonEl =\n",
              "        document.querySelector('#' + key + ' button');\n",
              "      quickchartButtonEl.disabled = true;  // To prevent multiple clicks.\n",
              "      quickchartButtonEl.classList.add('colab-df-spinner');\n",
              "      try {\n",
              "        const charts = await google.colab.kernel.invokeFunction(\n",
              "            'suggestCharts', [key], {});\n",
              "      } catch (error) {\n",
              "        console.error('Error during call to suggestCharts:', error);\n",
              "      }\n",
              "      quickchartButtonEl.classList.remove('colab-df-spinner');\n",
              "      quickchartButtonEl.classList.add('colab-df-quickchart-complete');\n",
              "    }\n",
              "    (() => {\n",
              "      let quickchartButtonEl =\n",
              "        document.querySelector('#df-a8dc149a-668b-41eb-8a79-defd0f77e5d0 button');\n",
              "      quickchartButtonEl.style.display =\n",
              "        google.colab.kernel.accessAllowed ? 'block' : 'none';\n",
              "    })();\n",
              "  </script>\n",
              "</div>\n",
              "\n",
              "  <div id=\"id_16d4367c-2275-4644-9896-8965a2c4a05e\">\n",
              "    <style>\n",
              "      .colab-df-generate {\n",
              "        background-color: #E8F0FE;\n",
              "        border: none;\n",
              "        border-radius: 50%;\n",
              "        cursor: pointer;\n",
              "        display: none;\n",
              "        fill: #1967D2;\n",
              "        height: 32px;\n",
              "        padding: 0 0 0 0;\n",
              "        width: 32px;\n",
              "      }\n",
              "\n",
              "      .colab-df-generate:hover {\n",
              "        background-color: #E2EBFA;\n",
              "        box-shadow: 0px 1px 2px rgba(60, 64, 67, 0.3), 0px 1px 3px 1px rgba(60, 64, 67, 0.15);\n",
              "        fill: #174EA6;\n",
              "      }\n",
              "\n",
              "      [theme=dark] .colab-df-generate {\n",
              "        background-color: #3B4455;\n",
              "        fill: #D2E3FC;\n",
              "      }\n",
              "\n",
              "      [theme=dark] .colab-df-generate:hover {\n",
              "        background-color: #434B5C;\n",
              "        box-shadow: 0px 1px 3px 1px rgba(0, 0, 0, 0.15);\n",
              "        filter: drop-shadow(0px 1px 2px rgba(0, 0, 0, 0.3));\n",
              "        fill: #FFFFFF;\n",
              "      }\n",
              "    </style>\n",
              "    <button class=\"colab-df-generate\" onclick=\"generateWithVariable('df2')\"\n",
              "            title=\"Generate code using this dataframe.\"\n",
              "            style=\"display:none;\">\n",
              "\n",
              "  <svg xmlns=\"http://www.w3.org/2000/svg\" height=\"24px\"viewBox=\"0 0 24 24\"\n",
              "       width=\"24px\">\n",
              "    <path d=\"M7,19H8.4L18.45,9,17,7.55,7,17.6ZM5,21V16.75L18.45,3.32a2,2,0,0,1,2.83,0l1.4,1.43a1.91,1.91,0,0,1,.58,1.4,1.91,1.91,0,0,1-.58,1.4L9.25,21ZM18.45,9,17,7.55Zm-12,3A5.31,5.31,0,0,0,4.9,8.1,5.31,5.31,0,0,0,1,6.5,5.31,5.31,0,0,0,4.9,4.9,5.31,5.31,0,0,0,6.5,1,5.31,5.31,0,0,0,8.1,4.9,5.31,5.31,0,0,0,12,6.5,5.46,5.46,0,0,0,6.5,12Z\"/>\n",
              "  </svg>\n",
              "    </button>\n",
              "    <script>\n",
              "      (() => {\n",
              "      const buttonEl =\n",
              "        document.querySelector('#id_16d4367c-2275-4644-9896-8965a2c4a05e button.colab-df-generate');\n",
              "      buttonEl.style.display =\n",
              "        google.colab.kernel.accessAllowed ? 'block' : 'none';\n",
              "\n",
              "      buttonEl.onclick = () => {\n",
              "        google.colab.notebook.generateWithVariable('df2');\n",
              "      }\n",
              "      })();\n",
              "    </script>\n",
              "  </div>\n",
              "\n",
              "    </div>\n",
              "  </div>\n"
            ],
            "application/vnd.google.colaboratory.intrinsic+json": {
              "type": "dataframe",
              "variable_name": "df2",
              "summary": "{\n  \"name\": \"df2\",\n  \"rows\": 26,\n  \"fields\": [\n    {\n      \"column\": \"year\",\n      \"properties\": {\n        \"dtype\": \"number\",\n        \"std\": 7.648529270389178,\n        \"min\": 2000.0,\n        \"max\": 2025.0,\n        \"num_unique_values\": 26,\n        \"samples\": [\n          2008.0,\n          2016.0,\n          2000.0\n        ],\n        \"semantic_type\": \"\",\n        \"description\": \"\"\n      }\n    },\n    {\n      \"column\": \"imdb_votes\",\n      \"properties\": {\n        \"dtype\": \"number\",\n        \"std\": 11079972.613670513,\n        \"min\": 0.0,\n        \"max\": 39225898.0,\n        \"num_unique_values\": 26,\n        \"samples\": [\n          30575078.0,\n          31761066.0,\n          16840313.0\n        ],\n        \"semantic_type\": \"\",\n        \"description\": \"\"\n      }\n    },\n    {\n      \"column\": \"imdb_average\",\n      \"properties\": {\n        \"dtype\": \"number\",\n        \"std\": 0.27048368243634385,\n        \"min\": 5.785689045936396,\n        \"max\": 6.726760563380282,\n        \"num_unique_values\": 25,\n        \"samples\": [\n          5.8996268656716415,\n          5.930052790346908,\n          5.785689045936396\n        ],\n        \"semantic_type\": \"\",\n        \"description\": \"\"\n      }\n    }\n  ]\n}"
            }
          },
          "metadata": {},
          "execution_count": 33
        }
      ]
    },
    {
      "cell_type": "markdown",
      "source": [
        "**2.8.** Guarda el nou objecte DataFrame en un fitxer CSV al directori 'prime' de la teva unitat de Google Drive.\n",
        "\n",
        "---\n",
        "\n"
      ],
      "metadata": {
        "id": "flCXcjVnOh6n"
      }
    },
    {
      "cell_type": "code",
      "source": [
        "from google.colab import drive\n",
        "drive.mount('/drive', force_remount=True)\n",
        "\n",
        "df2.to_csv(\"/drive/My Drive/prime/tasca_2.csv\")\n"
      ],
      "metadata": {
        "id": "mQio9WLiOg49",
        "colab": {
          "base_uri": "https://localhost:8080/"
        },
        "outputId": "a8b3b882-bc11-4129-e018-1340e4afb433"
      },
      "execution_count": 102,
      "outputs": [
        {
          "output_type": "stream",
          "name": "stdout",
          "text": [
            "Mounted at /drive\n"
          ]
        }
      ]
    },
    {
      "cell_type": "markdown",
      "source": [
        "##Bloc 3: Matplotlib\n",
        "\n",
        "A partir del DataFrame de les sèries i pel·lícules d'Amazon Prime del bloc anterior, representa amb Matplotlib una figura amb quatre subplots, organitzats en dues files i dues columnes, d'aquesta manera:\n",
        "* Superior esquerra: histograma per al nombre de vots en IMDB\n",
        "* Superior dreta: histograma per a la valoració mitjana en IMDB\n",
        "* Inferior esquerra: nigul de punts on es relacionen el nombre de vots en IMDB amb la valoració mitjana en IMDB.\n",
        "* Inferior dreta: diagrama de punts i línies que mostri la variació per anys de la valoració mitjana en IMDB de les pel·lícules llançades des del 2000 (dataframe de l'apartat 2.7).\n",
        "\n",
        "Cada subplot ha de mostrar el títol corresponent i els eixos han d'incloure marques i una etiqueta descriptiva. A més, el gràfic de cada subplot ha d'utilitzar un color diferent.\n",
        "\n",
        "Tots els elements han de quedar disposats de manera que es pugui veure tot de manera correcta.\n",
        "\n",
        "Finalment, fes que es descarregui una imatge de la teva figura."
      ],
      "metadata": {
        "id": "W1RrLTsx8RPZ"
      }
    },
    {
      "cell_type": "code",
      "source": [
        "import matplotlib.pyplot as plt\n",
        "from google.colab import files\n",
        "\n",
        "fig, axes = plt.subplots(2,2, figsize=(12, 10))\n",
        "\n",
        "\n",
        "# Histograma para el número de votos en IMDB\n",
        "_ = axes[0,0].hist(df['imdbNumVotes'], bins=40, alpha=0.5, color='m', edgecolor='black')\n",
        "axes[0,0].set_title('Histograma: Votos en IMDB')\n",
        "axes[0,0].set_xlabel('Votos')\n",
        "axes[0,0].set_ylabel('Frecuencia')\n",
        "max_votes = df['imdbNumVotes'].max()\n",
        "ticks = axes[0, 0].set_xticks([0, max_votes * 0.25, max_votes * 0.5, max_votes * 0.75, max_votes])\n",
        "labels = axes[0, 0].set_xticklabels(['Cero', 'Un cuarto', 'Mitad', 'Tres cuartos', 'Máximo'], rotation=45, fontsize='small')\n",
        "\n",
        "# Histograma para la valoración media en IMDB\n",
        "_ = axes[0,1].hist(df['imdbAverageRating'], bins=40, alpha=0.5, color='g', edgecolor='black')\n",
        "axes[0,1].set_title('Histograma: Valoración media en IMDB')\n",
        "axes[0,1].set_xlabel('Valoración media')\n",
        "axes[0,1].set_ylabel('Frecuencia')\n",
        "max_average = df['imdbAverageRating'].max()\n",
        "ticks = axes[0, 1].set_xticks([max_average * 0.2, max_average * 0.4, max_average * 0.6, max_average * 0.8, max_average])\n",
        "labels = axes[0, 1].set_xticklabels(['Dos', 'Cuatro', 'Seis', 'Ocho', 'Máximo'], rotation=45, fontsize='small')\n",
        "\n",
        "\n",
        "# Nube de puntos para los votos y la valoración media en IMDB\n",
        "axes[1,0].scatter(df['imdbNumVotes'], df['imdbAverageRating'], color='b', alpha=0.5)\n",
        "axes[1,0].set_title('Nube de puntos: Votos y valoración media de IMDB')\n",
        "axes[1,0].set_xlabel('Número de votos')\n",
        "axes[1,0].set_ylabel('Valoración media')\n",
        "max_votes = df['imdbNumVotes'].max()\n",
        "ticks = axes[1, 0].set_xticks([0, max_votes * 0.1, max_votes * 0.2, max_votes * 0.3, max_votes * 0.4, max_votes * 0.5, max_votes * 0.6, max_votes * 0.7, max_votes * 0.8, max_votes * 0.9, max_votes])\n",
        "labels = axes[1, 0].set_xticklabels(['0%', '10%', '20%', '30%', '40%', '50%', '60%', '70%', '80%', '90%', '100%'], rotation=45, fontsize='small')\n",
        "\n",
        "# Diagrama de puntos para la valoración media en IMDB a partir del año 2000\n",
        "axes[1,1].plot(df2['year'], df2['imdb_average'], color='r', marker='D', markeredgecolor='black', alpha=0.7)\n",
        "axes[1,1].set_title('Diagrama de puntos: Valoración media de IMDB desde el 2000')\n",
        "axes[1,1].set_xlabel('Años')\n",
        "axes[1,1].set_ylabel('Valoración media')\n",
        "\n",
        "plt.tight_layout()\n",
        "fig.savefig(\"image_tasca_2.png\")\n",
        "files.download(\"image_tasca_2.png\")\n",
        "\n"
      ],
      "metadata": {
        "id": "n4pk5262QCD3",
        "colab": {
          "base_uri": "https://localhost:8080/",
          "height": 1000
        },
        "outputId": "ad2ae38c-055c-4862-aeab-611ff337c95a"
      },
      "execution_count": 24,
      "outputs": [
        {
          "output_type": "display_data",
          "data": {
            "text/plain": [
              "<IPython.core.display.Javascript object>"
            ],
            "application/javascript": [
              "\n",
              "    async function download(id, filename, size) {\n",
              "      if (!google.colab.kernel.accessAllowed) {\n",
              "        return;\n",
              "      }\n",
              "      const div = document.createElement('div');\n",
              "      const label = document.createElement('label');\n",
              "      label.textContent = `Downloading \"${filename}\": `;\n",
              "      div.appendChild(label);\n",
              "      const progress = document.createElement('progress');\n",
              "      progress.max = size;\n",
              "      div.appendChild(progress);\n",
              "      document.body.appendChild(div);\n",
              "\n",
              "      const buffers = [];\n",
              "      let downloaded = 0;\n",
              "\n",
              "      const channel = await google.colab.kernel.comms.open(id);\n",
              "      // Send a message to notify the kernel that we're ready.\n",
              "      channel.send({})\n",
              "\n",
              "      for await (const message of channel.messages) {\n",
              "        // Send a message to notify the kernel that we're ready.\n",
              "        channel.send({})\n",
              "        if (message.buffers) {\n",
              "          for (const buffer of message.buffers) {\n",
              "            buffers.push(buffer);\n",
              "            downloaded += buffer.byteLength;\n",
              "            progress.value = downloaded;\n",
              "          }\n",
              "        }\n",
              "      }\n",
              "      const blob = new Blob(buffers, {type: 'application/binary'});\n",
              "      const a = document.createElement('a');\n",
              "      a.href = window.URL.createObjectURL(blob);\n",
              "      a.download = filename;\n",
              "      div.appendChild(a);\n",
              "      a.click();\n",
              "      div.remove();\n",
              "    }\n",
              "  "
            ]
          },
          "metadata": {}
        },
        {
          "output_type": "display_data",
          "data": {
            "text/plain": [
              "<IPython.core.display.Javascript object>"
            ],
            "application/javascript": [
              "download(\"download_6fe823f1-9a45-41f1-9fbd-4dd2550c3389\", \"image_tasca_2.png\", 120441)"
            ]
          },
          "metadata": {}
        },
        {
          "output_type": "display_data",
          "data": {
            "text/plain": [
              "<Figure size 1200x1000 with 4 Axes>"
            ],
            "image/png": "[encoded data removed]"
          },
          "metadata": {}
        }
      ]
    }
  ]
}