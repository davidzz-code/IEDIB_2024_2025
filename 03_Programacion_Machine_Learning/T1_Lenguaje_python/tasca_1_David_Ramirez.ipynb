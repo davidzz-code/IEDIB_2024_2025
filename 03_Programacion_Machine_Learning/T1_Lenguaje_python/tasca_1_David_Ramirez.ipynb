{
  "nbformat": 4,
  "nbformat_minor": 0,
  "metadata": {
    "colab": {
      "provenance": []
    },
    "kernelspec": {
      "name": "python3",
      "display_name": "Python 3"
    },
    "language_info": {
      "name": "python"
    }
  },
  "cells": [
    {
      "cell_type": "markdown",
      "source": [
        "Aquest és l'enunciat de la primera tasca de **Programació d'Intel·ligència Artificial**.\n",
        "\n",
        "Hi ha 12 exercicis que has de respondre en la cel·la de codi que hi ha sota cada enunciat (si ho necessites, pots emprar-ne més d'una).\n",
        "\n",
        "Tots els exercicis valen el mateix: sobre un total de 12 punts, cada exercici val 1 punt."
      ],
      "metadata": {
        "id": "Wx1nesh8tcOc"
      }
    },
    {
      "cell_type": "markdown",
      "source": [
        "# Exercici 1\n",
        "\n",
        "Pregunta a l’usuari en quina posició ha acabat un atleta la prova de marató dels Jocs Olímpics. Has de dir quin premi li correspon:\n",
        "* Medalla d’or per al primer\n",
        "* Medalla de plata per al segon\n",
        "* Medalla de bronze per al tercer\n",
        "* Diploma olímpic entre el quart i vuitè\n",
        "* Cap premi a partir del novè"
      ],
      "metadata": {
        "id": "kLaYJXVKgtyj"
      }
    },
    {
      "cell_type": "code",
      "execution_count": 19,
      "metadata": {
        "id": "cSrNAzE2gsjV",
        "colab": {
          "base_uri": "https://localhost:8080/"
        },
        "outputId": "1e321bb3-7d56-4c83-aade-857c8bfa63dc"
      },
      "outputs": [
        {
          "output_type": "stream",
          "name": "stdout",
          "text": [
            "¿En qué posición de la carrera has quedado?: 8\n",
            "Enhorabuena! Has conseguido el DIPLOMA OLÍMPICO\n"
          ]
        }
      ],
      "source": [
        "race_position = int(input('¿En qué posición de la carrera has quedado?: '))\n",
        "\n",
        "if race_position == 1:\n",
        "    print('Enhorabuena! Has conseguido la medalla de ORO')\n",
        "elif race_position == 2:\n",
        "    print('Enhorabuena! Has conseguido la medalla de PLATA')\n",
        "elif race_position == 3:\n",
        "    print('Enhorabuena! Has conseguido la medalla de BRONCE')\n",
        "elif 4 <= race_position <= 8:\n",
        "    print('Enhorabuena! Has conseguido el DIPLOMA OLÍMPICO')\n",
        "else:\n",
        "    print('Lo siento, no has conseguido premio')\n"
      ]
    },
    {
      "cell_type": "markdown",
      "source": [
        "# Exercici 2\n",
        "\n",
        "A un sorteig de loteria, el premi gros ha estat el 12345. Demana a l’usuari quin és el seu número i quants euros ha jugat. Determina quina quantitat li correspon de premi:\n",
        "* Premi gros: ha encertat els 5 números. 10.000 euros per euro jugat\n",
        "* Reintegrament: ha encertat el darrer número, 1 euro per euro jugat\n",
        "* Terminació de 2 xifres: ha encertat les 2 darreres xifres, 10 euros per euro jugat\n",
        "* Terminació de 3 xifres: ha encertat les 3 darreres xifres, 100 euros per euro jugat\n",
        "* Terminació de 4 xifres: ha encertat les 4 darreres xifres, 1.000 euros per euro jugat\n",
        "* Desena de milers: ha encertat la primera xifra, 1 euro per euro jugat\n",
        "* Unitat de milers: ha encertat les 2 primeres xifres, 10 euros per euro jugat\n",
        "* Centena: ha encertat les 3 primeres xifres, 100 euros per euro jugat\n",
        "* Desena: ha encertat les 4 primeres xifres, 1.000 euros per euro jugat\n",
        "\n",
        "Els premis són acumulables.\n"
      ],
      "metadata": {
        "id": "xE45erbugvXQ"
      }
    },
    {
      "cell_type": "code",
      "source": [
        "big_prize = '12345'\n",
        "total_prize = 0\n",
        "prize_check = []\n",
        "\n",
        "user_number = input('¿Qué número has jugado?')\n",
        "paid_money = int(input('¿Cuánto dinero has gastado?'))\n",
        "\n",
        "for prize_num, user_num in zip(big_prize, user_number):\n",
        "  prize_check.append(True if prize_num == user_num else False)\n",
        "\n",
        "if all(prize_check):\n",
        "  total_prize += paid_money * 10000\n",
        "\n",
        "if all(prize_check[-1:]):\n",
        "  total_prize += paid_money * 1\n",
        "\n",
        "if all(prize_check[-2:]):\n",
        "  total_prize += paid_money * 10\n",
        "\n",
        "if all(prize_check[-3:]):\n",
        "  total_prize += paid_money * 100\n",
        "\n",
        "if all(prize_check[-4:]):\n",
        "  total_prize += paid_money * 1000\n",
        "\n",
        "if all(prize_check[:1]):\n",
        "  total_prize += paid_money * 1\n",
        "\n",
        "if all(prize_check[:2]):\n",
        "  total_prize += paid_money * 10\n",
        "\n",
        "if all(prize_check[:3]):\n",
        "  total_prize += paid_money * 100\n",
        "\n",
        "if all(prize_check[:4]):\n",
        "  total_prize += paid_money * 1000\n",
        "\n",
        "\n",
        "if total_prize != 0:\n",
        "  print(f\"Enhorabuena! Has ganado un total de {total_prize} €!\")\n",
        "else:\n",
        "  print(f'Lo siento pero tu premio total es {0} €')\n",
        "\n"
      ],
      "metadata": {
        "id": "pDEUdK4vkCc4",
        "colab": {
          "base_uri": "https://localhost:8080/"
        },
        "outputId": "32159ad9-d2e8-414f-f30d-24d253484086"
      },
      "execution_count": null,
      "outputs": [
        {
          "output_type": "stream",
          "name": "stdout",
          "text": [
            "¿Qué número has jugado?12345\n",
            "¿Cuánto dinero has gastado?20\n",
            "Enhorabuena! Has ganado un total de 244440 €!\n"
          ]
        }
      ]
    },
    {
      "cell_type": "markdown",
      "source": [
        "# Exercici 3\n",
        "\n",
        "Demana a l’usuari un nombre enter i determina si és un nombre primer (un nombre que només és divisible per 1 i per ell mateix)\n"
      ],
      "metadata": {
        "id": "Ym6GBAp_g5rP"
      }
    },
    {
      "cell_type": "code",
      "source": [
        "number = int(input('Escribe un número y te diré si es un número primo: '))\n",
        "is_prime = True\n",
        "\n",
        "if number <= 1:\n",
        "  is_prime = False\n",
        "\n",
        "for i in range(2, number):\n",
        "  if number % i == 0:\n",
        "    is_prime = False\n",
        "    break\n",
        "\n",
        "\n",
        "if is_prime:\n",
        "    print(f'Sí! El número {number} sí es primo')\n",
        "else:\n",
        "    print(f'No, el número {number} no es primo')"
      ],
      "metadata": {
        "id": "vNCi0-qzhVGw",
        "colab": {
          "base_uri": "https://localhost:8080/"
        },
        "outputId": "35ac69c7-49aa-450d-eb42-70427e39a738"
      },
      "execution_count": null,
      "outputs": [
        {
          "output_type": "stream",
          "name": "stdout",
          "text": [
            "Escribe un número y te diré si es un número primo: 7\n",
            "Sí! El número 7 sí es primo\n"
          ]
        }
      ]
    },
    {
      "cell_type": "markdown",
      "source": [
        "# Exercici 4\n",
        "\n",
        "Demana a l’usuari un nombre enter entre 1 i 10 i imprimeix un triangle com aquest (per al 5):\n",
        "\n",
        "1 \\\n",
        "2 1 \\\n",
        "3 2 1 \\\n",
        "4 3 2 1 \\\n",
        "5 4 3 2 1 \\\n"
      ],
      "metadata": {
        "id": "t6kdimEyhBxH"
      }
    },
    {
      "cell_type": "code",
      "source": [
        "number = int(input('Dime un número del 1 al 10: '))\n",
        "result = ''\n",
        "\n",
        "if number < 1 or number > 10:\n",
        "  number = int(input('Ese número está fuera de rango. Introduce un número entre 1 y 10'))\n",
        "\n",
        "for i in range(1, number + 1):\n",
        "  for j in range(i, 0, -1):\n",
        "    print(j, end=\" \")\n",
        "  print()"
      ],
      "metadata": {
        "id": "RKDs-PAQjkj5",
        "colab": {
          "base_uri": "https://localhost:8080/"
        },
        "outputId": "77b34549-4f2b-4b7b-9676-9f6d09620cb9"
      },
      "execution_count": null,
      "outputs": [
        {
          "output_type": "stream",
          "name": "stdout",
          "text": [
            "Dime un número del 1 al 10: 7\n",
            "1 \n",
            "2 1 \n",
            "3 2 1 \n",
            "4 3 2 1 \n",
            "5 4 3 2 1 \n",
            "6 5 4 3 2 1 \n",
            "7 6 5 4 3 2 1 \n"
          ]
        }
      ]
    },
    {
      "cell_type": "markdown",
      "source": [
        "# Exercici 5\n",
        "\n",
        "Demana a l’usuari que escrigui una frase i guarda-la en una llista de caràcters. Elimina de la llista els caràcters que ocupin posicions senars. Mostra la llista resultant emprant un iterador.\n"
      ],
      "metadata": {
        "id": "KGWe7Ls_hEFf"
      }
    },
    {
      "cell_type": "code",
      "source": [
        "sentence = input('Escribe una frase y eliminaré las posiciones impares: ')\n",
        "splitted_sentence = list(sentence)\n",
        "result = ''\n",
        "\n",
        "for char in range(len(splitted_sentence)):\n",
        "  # char_index = splitted_sentence.index(char)\n",
        "\n",
        "  if char % 2 == 0:\n",
        "    result += splitted_sentence[char]\n",
        "\n",
        "for char in result:\n",
        "  print(char, end=\"\")\n",
        "\n"
      ],
      "metadata": {
        "id": "q63IzNGaigv8",
        "colab": {
          "base_uri": "https://localhost:8080/"
        },
        "outputId": "4cb4e182-225e-4b62-fcfb-26fe07492f51"
      },
      "execution_count": null,
      "outputs": [
        {
          "output_type": "stream",
          "name": "stdout",
          "text": [
            "Escribe una frase y eliminaré las posiciones impares: Hola amigo como estás\n",
            "Hl mg ooets"
          ]
        }
      ]
    },
    {
      "cell_type": "markdown",
      "source": [
        "# Exercici 6\n",
        "\n",
        "Demana a l’usuari que escrigui una frase i guarda-la en una llista de caràcters. Compta quantes vegades hi apareix cada vocal."
      ],
      "metadata": {
        "id": "K8JZEID-hGxo"
      }
    },
    {
      "cell_type": "code",
      "source": [
        "sentence = input('Escibe una frase y contaré las vocales: ')\n",
        "\n",
        "splitted_sentence = list(sentence.lower())\n",
        "vowels = 'aeiou'\n",
        "\n",
        "char_array = []\n",
        "\n",
        "for char in splitted_sentence:\n",
        "  if char in vowels:\n",
        "    char_array.append(char)\n",
        "\n",
        "\n",
        "print('Este es el número de vocales de la frase:')\n",
        "print(f\"A: {char_array.count('a')}\")\n",
        "print(f\"E: {char_array.count('e')}\")\n",
        "print(f\"I: {char_array.count('i')}\")\n",
        "print(f\"O: {char_array.count('o')}\")\n",
        "print(f\"U: {char_array.count('u')}\")\n",
        "\n",
        "\n",
        "\n"
      ],
      "metadata": {
        "id": "jIsepohitUP0",
        "colab": {
          "base_uri": "https://localhost:8080/"
        },
        "outputId": "31d24721-c3a8-4ff7-e945-066c467c7770"
      },
      "execution_count": null,
      "outputs": [
        {
          "output_type": "stream",
          "name": "stdout",
          "text": [
            "Escibe una frase y contaré las vocales: Hola amigo mio\n",
            "Este es el número de vocales de la frase:\n",
            "A: 2\n",
            "E: 0\n",
            "I: 2\n",
            "O: 3\n",
            "U: 0\n"
          ]
        }
      ]
    },
    {
      "cell_type": "markdown",
      "source": [
        "# Exercici 7\n",
        "\n",
        "Anem a fer feina amb una matriu de dues dimensions. Demana a l’usuari el nombre de files i de columnes que tindrà la matriu. A la primera posició de la matriu hi posarem el valor 2. A partir d’aquí, avançant primer per columnes i després per files, a cada cel·la hi posarem el doble de la cel·la anterior. Acaba imprimint el contingut final de la matriu. Vegem un exemple, per a una matriu de 4 files i 3 columnes:\n",
        "\n",
        "| | | |\n",
        "| --- | --- | --- |\n",
        "| 2 | 32  | 512 |\n",
        "| 4 | 64 | 1024 |\n",
        "| 8 | 128 | 2048 |\n",
        "| 16 | 256 | 4096 |"
      ],
      "metadata": {
        "id": "ANp2RkK_kspq"
      }
    },
    {
      "cell_type": "code",
      "source": [
        "rows = int(input('Filas: '))\n",
        "columns = int(input('Columnas: '))\n",
        "\n",
        "final_list = [[0 for _ in range(columns)] for _ in range(rows)]\n",
        "\n",
        "value = 2\n",
        "\n",
        "\n",
        "for column in range(columns):\n",
        "    for row in range(rows):\n",
        "      final_list[row][column] = value\n",
        "      value *= 2\n",
        "\n",
        "for row in final_list:\n",
        "  for number in row:\n",
        "    print(number, end=\"   \")\n",
        "  print()\n",
        "\n",
        "\n"
      ],
      "metadata": {
        "id": "73z9Dmq99TK6",
        "colab": {
          "base_uri": "https://localhost:8080/"
        },
        "outputId": "d2dd555e-9a35-47e5-95e3-c8c5fae7db5d"
      },
      "execution_count": null,
      "outputs": [
        {
          "output_type": "stream",
          "name": "stdout",
          "text": [
            "Filas: 4\n",
            "Columnas: 3\n",
            "2   32   512   \n",
            "4   64   1024   \n",
            "8   128   2048   \n",
            "16   256   4096   \n"
          ]
        }
      ]
    },
    {
      "cell_type": "markdown",
      "source": [
        "# Exercici 8\n",
        "\n",
        "Ara ens mourem primer per files i després per columnes. Dins una fila, cada cel·la valdrà 10 + la cel·la anterior. Quan canviam de fila, a la primera posició multiplicam per 2 el valor de la cel·la superior (una fila menys dins la mateixa columna). I continuam omplint la fila igual que abans, sumant 10 a la cel·la anterior. Vegem un exemple, per a una matriu de 4 files i 3 columnes:\n",
        "\n",
        "| | | |\n",
        "| --- | --- | --- |\n",
        "| 2 | 12  | 22 |\n",
        "| 4 | 14 | 24 |\n",
        "| 8 | 18 | 28 |\n",
        "| 16 | 26 | 36 |"
      ],
      "metadata": {
        "id": "PSqvYxs0hLuC"
      }
    },
    {
      "cell_type": "code",
      "source": [
        "rows = int(input('Filas: '))\n",
        "columns = int(input('Columnas: '))\n",
        "\n",
        "final_list = [[0 for _ in range(columns)] for _ in range(rows)]\n",
        "\n",
        "value = 2\n",
        "\n",
        "for row in range(rows):\n",
        "    for column in range(columns):\n",
        "      if column == 0:\n",
        "        final_list[row][column] = value\n",
        "        value *= 2\n",
        "\n",
        "      else:\n",
        "        final_list[row][column] = final_list[row][column - 1] + 10\n",
        "\n",
        "for row in final_list:\n",
        "  for number in row:\n",
        "    print(number, end=\"    \")\n",
        "  print()\n"
      ],
      "metadata": {
        "id": "38tOi9UIYsnQ",
        "colab": {
          "base_uri": "https://localhost:8080/"
        },
        "outputId": "3374e505-4184-4122-a999-9a1c88fb33af"
      },
      "execution_count": null,
      "outputs": [
        {
          "output_type": "stream",
          "name": "stdout",
          "text": [
            "Filas: 4\n",
            "Columnas: 3\n",
            "2    12    22    \n",
            "4    14    24    \n",
            "8    18    28    \n",
            "16    26    36    \n"
          ]
        }
      ]
    },
    {
      "cell_type": "markdown",
      "source": [
        "# Exercici 9\n",
        "\n",
        "Tenim una llista amb cadenes de caràcters. Algunes d’aquestes cadenes contenen nombres enters. Per exemple:\n",
        "['abc', '12', 'x', '3', '36', 'mn', '48', 'aeiou, '95', '4']\n",
        "\n",
        "Emprant una comprensió, genera una llista que contengui els nombres enters de la llista anterior. En el nostre exemple seria:\n",
        "[12, 3, 36, 48, 95, 4]\n",
        "\n",
        "A continuació, emprant també una comprensió, genera una nova llista que contengui només els nombres parells de l’anterior. En el nostre exemple seria:\n",
        "[12, 36, 48, 4]\n",
        "\n",
        "**Nota: **el mètode *isdigit* de la classe str retorna True si la cadena conté un nombre enter\n",
        "\n",
        "\n"
      ],
      "metadata": {
        "id": "JdrxBfZ3TRha"
      }
    },
    {
      "cell_type": "code",
      "source": [
        "strings_list = ['abc', '12', 'x', '3', '36', 'mn', '48', 'aeiou', '95', '4']\n",
        "\n",
        "numbers_list = [int(value) for value in strings_list if value.isdigit()]\n",
        "\n",
        "result_list = [num for num in numbers_list if num % 2 == 0]\n",
        "\n",
        "\n",
        "print(f'Los números extraídos de la lista: {numbers_list}')\n",
        "print(f'Los números pares filtrados: {result_list}')\n",
        "\n"
      ],
      "metadata": {
        "id": "gA0IlUHbTR2x",
        "colab": {
          "base_uri": "https://localhost:8080/"
        },
        "outputId": "b326dcfb-91a0-40d9-9320-46527b17809a"
      },
      "execution_count": null,
      "outputs": [
        {
          "output_type": "stream",
          "name": "stdout",
          "text": [
            "Los números extraídos de la lista: [12, 3, 36, 48, 95, 4]\n",
            "Los números pares filtrados: [12, 36, 48, 4]\n"
          ]
        }
      ]
    },
    {
      "cell_type": "markdown",
      "source": [
        "# Exercici 10\n",
        "\n",
        "Escriu una funció que rebi un diccionari amb el codi dels 5 mòduls del curs d’especialització (5071 a 5075) i les notes d’un alumne (amb decimals). La funció ha de retornar un diccionari amb el nom de cada mòdul i la qualificació corresponent: suspès (menys de 5), aprovat (entre 5 i 7, sense arribar a 7), notable (entre 7 i 9, sense arribar a 9) o excel·lent (entre 9 i 10). Fes una crida a la funció amb un exemple de diccionari i mostra el diccionari resultat.\n"
      ],
      "metadata": {
        "id": "g1rlY4TrhKMo"
      }
    },
    {
      "cell_type": "code",
      "source": [
        "subject_codes = {\n",
        "    5071: \"Asignatura 1\",\n",
        "    5072: \"Asignatura 2\",\n",
        "    5073: \"Asignatura 3\",\n",
        "    5074: \"Asignatura 4\",\n",
        "    5075: \"Asignatura 5\",\n",
        "}\n",
        "\n",
        "def calculate_grades(marks):\n",
        "  grade_results = {}\n",
        "\n",
        "  for code, mark in marks.items():\n",
        "    if mark < 5:\n",
        "      grade_status = 'Suspendido'\n",
        "    elif 5 <= mark < 7:\n",
        "      grade_status = 'Aprobado'\n",
        "    elif 7 <= mark < 9:\n",
        "      grade_status = 'Notable'\n",
        "    elif 9 <= mark <= 10:\n",
        "      grade_status = 'Excelente'\n",
        "    else:\n",
        "      grade_status = 'Nota no válida'\n",
        "\n",
        "    grade_results[subject_codes[code]] = grade_status\n",
        "\n",
        "  return grade_results\n",
        "\n",
        "student_marks = {\n",
        "    5075: 7.8,\n",
        "    5074: 2,\n",
        "    5073: 10,\n",
        "    5072: 5,\n",
        "    5071: 4.9\n",
        "}\n",
        "\n",
        "final_grades = calculate_grades(student_marks)\n",
        "for code, value in final_grades.items():\n",
        "  print(f\"{code}: {value}\")\n"
      ],
      "metadata": {
        "id": "KqDGmXyKvKf3",
        "colab": {
          "base_uri": "https://localhost:8080/"
        },
        "outputId": "fc21ac89-656e-49b7-85d8-31bd05675f4e"
      },
      "execution_count": null,
      "outputs": [
        {
          "output_type": "stream",
          "name": "stdout",
          "text": [
            "Asignatura 5: Notable\n",
            "Asignatura 4: Suspendido\n",
            "Asignatura 3: Excelente\n",
            "Asignatura 2: Aprobado\n",
            "Asignatura 1: Suspendido\n"
          ]
        }
      ]
    },
    {
      "cell_type": "markdown",
      "source": [
        "# Exercici 11\n",
        "\n",
        "Escriu una funció que es digui *mitjana*, que rebi un diccionari com l’anterior (amb els codis dels mòduls i les notes d’un alumne) i que ens retorni la nota mitjana de tots els mòduls.\n",
        "\n",
        "A continuació, escriu una altra funció que es digui *minmax*, que rebi una llista de diccionaris com l’anterior i que ens retorni la nota mitjana màxima i la nota mijana mínima de la llista. Aquesta funció ha de cridar la funció *mitjana* per fer els càlculs.\n",
        "\n",
        "Finalment, crea una llista de diccionaris i mostra el resultat de cridar a la funció *minmax*.\n"
      ],
      "metadata": {
        "id": "K1MkUYDXuFIY"
      }
    },
    {
      "cell_type": "code",
      "source": [
        "subject_codes = {\n",
        "    5071: \"Asignatura 1\",\n",
        "    5072: \"Asignatura 2\",\n",
        "    5073: \"Asignatura 3\",\n",
        "    5074: \"Asignatura 4\",\n",
        "    5075: \"Asignatura 5\",\n",
        "}\n",
        "\n",
        "def average(marks):\n",
        "  average = 0\n",
        "  for value in marks.values():\n",
        "    average += value\n",
        "\n",
        "  average /= len(marks)\n",
        "\n",
        "  return average\n",
        "\n",
        "\n",
        "def minmax(marks_list):\n",
        "  average_list = []\n",
        "\n",
        "  for student_marks in marks_list:\n",
        "    rounded_average = round(average(student_marks), 2)\n",
        "    average_list.append(rounded_average)\n",
        "\n",
        "  minmax_averages = {\n",
        "      'min': min(average_list),\n",
        "      'max': max(average_list)\n",
        "  }\n",
        "\n",
        "  return minmax_averages\n",
        "\n",
        "\n",
        "students_mark_list = [\n",
        "    { 5071: 2.3, 5072: 3.1, 5073: 9.5, 5074: 8.9, 5075: 4.2},\n",
        "    { 5071: 8.7, 5072: 7.3, 5073: 6.9, 5074: 9.8, 5075: 8.5},\n",
        "    { 5071: 4.0, 5072: 6.2, 5073: 5.9, 5074: 7.1, 5075: 3.8},\n",
        "    { 5071: 9.9, 5072: 9.5, 5073: 8.2, 5074: 9.0, 5075: 9.3},\n",
        "    { 5071: 3.8, 5072: 2.5, 5073: 5.3, 5074: 4.1, 5075: 5.0},\n",
        "]\n",
        "\n",
        "minmax_averages = minmax(students_mark_list)\n",
        "\n",
        "print('Medias finales:')\n",
        "for code, value in minmax_averages.items():\n",
        "  print(f\"{code}: {value}\")"
      ],
      "metadata": {
        "id": "jBZY1qQ4YtvB",
        "colab": {
          "base_uri": "https://localhost:8080/"
        },
        "outputId": "6ba1bc16-e466-4a6c-d06e-3e8adb7ef4b4"
      },
      "execution_count": null,
      "outputs": [
        {
          "output_type": "stream",
          "name": "stdout",
          "text": [
            "Medias finales:\n",
            "min: 4.14\n",
            "max: 9.18\n"
          ]
        }
      ]
    },
    {
      "cell_type": "markdown",
      "source": [
        "# Exercici 12\n",
        "\n",
        "Crea una classe *Rectangle* amb dos atributs, un amb la longitud del costat llarg i un altre amb la longitud del costat curt. Afegeix-li els mètodes següents:\n",
        "* mètodes getter i setter per als dos atributs\n",
        "* un mètode que retorni l’àrea del rectangle\n",
        "* un mètode que retorni el perímetre del rectangle\n",
        "* un mètode que retorni True si és un quadrat i False en cas contrari\n",
        "\n",
        "A continuació, fes una altra classe *Comparador*, que tengui un mètode que, passant-li per paràmetre dos rectangles, retorni True si el primer és més gran que el segon o False en cas contrari\n",
        "\n",
        "Finalment, crea dos objectes de la classe *Rectangle* i, emprant el mètode de la classe *Comparador*, digues quin dels dos és més gran."
      ],
      "metadata": {
        "id": "MnU4O00gJ5l2"
      }
    },
    {
      "cell_type": "code",
      "source": [
        "class Rectangle:\n",
        "  def __init__(self, height, width):\n",
        "    self._height = height\n",
        "    self._width = width\n",
        "\n",
        "  @property\n",
        "  def height(self):\n",
        "    return self._height\n",
        "\n",
        "  @height.setter\n",
        "  def height(self, height):\n",
        "    self._height = height\n",
        "\n",
        "  @property\n",
        "  def width(self):\n",
        "    return self._width\n",
        "\n",
        "  @width.setter\n",
        "  def width(self, width):\n",
        "    self._width = width\n",
        "\n",
        "  def area(self):\n",
        "    return self._height * self._width\n",
        "\n",
        "  def perimeter(self):\n",
        "    return (self._height * 2) + (self._width * 2)\n",
        "\n",
        "  def is_square(self):\n",
        "    return self._height == self._width\n",
        "\n",
        "class Comparator:\n",
        "  def compare(self, rect1, rect2):\n",
        "    if rect1.area() == rect2.area():\n",
        "      return None\n",
        "    elif rect1.area() > rect2.area():\n",
        "      return True\n",
        "    else:\n",
        "      return False\n",
        "\n",
        "\n",
        "rect1 = Rectangle(5, 5)\n",
        "rect2 = Rectangle(2, 5)\n",
        "\n",
        "comparison = Comparator()\n",
        "\n",
        "result = comparison.compare(rect1, rect2)\n",
        "\n",
        "if result is None:\n",
        "  print(f\"Ambos rectangulos tienen el mismo área\")\n",
        "elif result:\n",
        "  print(f\"El rectangulo 1 es más grande\")\n",
        "else:\n",
        "  print(f\"El rectangulo 2 es más grande\")\n",
        "\n",
        "\n",
        "print(f\"Rectangulo 1: Alto= {rect1.height}, Ancho= {rect1.width}, Área= {rect1.area()}, Perímetro= {rect1.perimeter()}, ¿Es un cuadrado?= {'Sí' if rect1.is_square() else 'No'}\")\n",
        "print(f\"Rectangulo 2: Alto= {rect2.height}, Ancho= {rect2.width}, Área= {rect2.area()}, Perímetro= {rect2.perimeter()}, ¿Es un cuadrado?= {'Sí' if rect2.is_square() else 'No'}\")"
      ],
      "metadata": {
        "id": "v0qdVOXPQlGP",
        "colab": {
          "base_uri": "https://localhost:8080/"
        },
        "outputId": "b0785395-3083-4371-d9d5-ba35784b1474"
      },
      "execution_count": 23,
      "outputs": [
        {
          "output_type": "stream",
          "name": "stdout",
          "text": [
            "El rectangulo 1 es más grande\n",
            "Rectangulo 1: Alto= 5, Ancho= 5, Área= 25, Perímetro= 20, ¿Es un cuadrado?= Sí\n",
            "Rectangulo 2: Alto= 2, Ancho= 5, Área= 10, Perímetro= 14, ¿Es un cuadrado?= No\n"
          ]
        }
      ]
    }
  ]
}