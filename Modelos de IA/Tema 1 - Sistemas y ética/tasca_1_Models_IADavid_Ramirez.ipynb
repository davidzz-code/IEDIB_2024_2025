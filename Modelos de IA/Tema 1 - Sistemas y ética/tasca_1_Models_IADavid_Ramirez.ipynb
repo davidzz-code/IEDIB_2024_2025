{
  "nbformat": 4,
  "nbformat_minor": 0,
  "metadata": {
    "colab": {
      "provenance": []
    },
    "kernelspec": {
      "name": "python3",
      "display_name": "Python 3"
    },
    "language_info": {
      "name": "python"
    }
  },
  "cells": [
    {
      "cell_type": "markdown",
      "source": [
        "# Tasca 1\n",
        "\n",
        "Aquest quadern és la Tasca 1 de Models d'intel·ligència artificial.\n",
        "\n",
        "Quan l'hàgiu acabada, davallau-la com a .ipynb i lliurau-la al Moodle del mòdul.\n",
        "\n",
        "Recordau que teniu el fòrum de dubtes per resoldre les dificultats que pugueu trobar.\n",
        "\n",
        "Ànim i endavant!"
      ],
      "metadata": {
        "id": "SLuA3Igh0_y-"
      }
    },
    {
      "cell_type": "markdown",
      "source": [
        "##Pregunta 1\n",
        "\n",
        "   Llegiu l'article Cap a la intel·ligència artificial de Ramon López de Mántaras\n",
        "https://metode.cat/revistes-metode/monografics/cap-a-la-intelligencia-artificial.html\n",
        "   \n",
        "\n",
        "  **a) Quin és l'objectiu de la intel·ligència artificial, segons López de Mántaras en aquest article?**\n",
        "\n",
        "  El objetivo de la inteligencia artificial, según López de Mántaras, es desarrollar una IA general capaz de abarcar conocimientos en diversas áreas, emulando las capacidades humanas. Sin embargo, considera que este reto es comparable a otros grandes misterios científicos, como descubrir el origen del universo o comprender la estructura de la materia.\n",
        "   \n",
        "  **b) En quin o quins dels quatre quadrants proposats per Russell i Norvig la situau? (pensar humanament, actuar humanament, pensar racionalment, actuar racionalment) Argumentau-ho.**\n",
        "\n",
        "  Opino que una inteligencia general debería ubicarse tanto en \"actuar humanamente\" como en \"pensar racionalmente\". Esto es porque, para interactuar con en el mundo que nos rodea, la IA debe tomar decisiones como lo haría un humano, adaptándose a las circunstancias y teniendo en cuenta contextos y experiencias. A la vez, es esencial que piense de forma racional como lo haría una máquina con datos para asegurar que las decisiones sean óptimas y lógicas, incluso en situaciones complejas.\n",
        "   \n",
        "  **c) Discutiu l'argument de Weizenbaum amb què López de Mántaras expressa el seu acord: \"cap màquina hauria de prendre decisions de manera completament autònoma o donar consells que requereixin, entre altres coses, saviesa, producte d’experiències humanes, així com tenir en compte valors humans.\" Trobau-hi arguments a favor i en contra.**\n",
        "\n",
        "  Como argumento a favor destacaría las consecuencias éticas que se pueden producir por las decisiones de una máquina. Las decisiones autónomas pueden tener repercusiones que la máquina no evalúe ya que carece de moral o conciencia.\n",
        "\n",
        "  En la otra cara de la moneda están los argumentos en contra de Weizenbaum como la asistencia en la toma de decisiones. A pesar de las repercusiones que pueden traer los consejos provenientes de una máquina, una IA puede proporcinar datos y análisis detallados para complementar nuestras decisiones. De esta manera es posible tomar mejores decisiones con el apoyo de una herramienta que imita la comprensión de las situaciones y experiencias humanas.\n",
        "\n",
        "  **d) Ponderau els vostres arguments a favor i en contra i preneu una decisió final sobre el vostre acord o desacord amb Weizenbaum i López de Mántaras.**\n",
        "  \n",
        "  Para desarrollar una conclusión acerca de lo que afirma Weizenbaum, es importante considerar los argumentos a favor y en contra. Por un lado entiendo en que el sesgo de datos y un entrenamiento manipulado puede ser algo posible de ocurrir y difícil de detectar. Por lo tanto una máquina manipulada dando consejos de manera autónoma puede ocasionar muchos problemas afectando a vidas humanas. En estos casos claramente es necesario una persona al frente que con sus experiencias y sentiminetos pueda tomar decisiones correctas.\n",
        "\n",
        "  Por otro lado, como bien sabemos, una IA se compone de grandes cantidades de datos. Una vez más es una herramienta que puede ser usada para el bien y el desarrollo o para el mal y la catástrofe. Me gusta pensar de manera positiva en que un balance correcto de esos datos y un entrenamiento objetivo sin manipulación, dedicado a mejorar las vidas humanas es posible. Por esta razón no estoy del todo de acuerdo con el argumento de Weizenbaum. Sin ir más lejos, ChatGPT puede ofrecer consejos de manera muy humana cuando se le plantea un problema. Utilizando el pensamiento racional, puede desglosar los aspectos clave, así como los pros y los contras de la situación. Y a través de la actuación humana lo transmite como si de un compañero se tratase. Personalmente, me ha sorprendido que una IA, como ChatGPT, pueda recordarte tu humanidad y que todos cometemos errores, demostrando así su capacidad de actuar humanamente sin perder el pensamiento racional.\n",
        "\n",
        "  En conclusión, tanto Ramón López de Mántaras como Weizenbaum destacan la importancia de conseguir el desarrollo de una inteligencia artificial general, pero también es crucial reconocer los avances logrados en este campo. Aunque la mayoría de inteligencias artificales son específicas, se han convertido en poco tiempo en unas herramientas valiosas que no solo ayudan a la gente en su vida diaria sino también impulsan a la ciencia y la tecnología como nunca antes se ha visto. Ejemplos como el Premio Nobel de Física en aprendizaje automático demuestran el impacto positivo de la IA. El futuro de la inteligencia artificial promete ser emocionante, siempre que se desarrolle con responsabilidad y en beneficio de la humanidad.\n",
        "   "
      ],
      "metadata": {
        "id": "-7bdM3861z2X"
      }
    },
    {
      "cell_type": "markdown",
      "source": [
        "## Pregunta 2\n",
        "\n",
        "Comentau una aplicació de la IA del vostre interès. Podeu cercar-la a partir dels temes mencionats als apunts.\n",
        "\n",
        "**a) Donau un enllaç a una explicació d'aquesta aplicació (pot ser un article, una entrada d'un blog, una notícia...)**\n",
        "\n",
        "La aplicación que he elegido es Suno AI, una inteligencia artifical musical. Aquí dejo un enlace con la explicación más detallada: https://www.xataka.com/basics/suno-ai-que-como-usarlo-para-crear-cancion-musica-letra-voz-usando-inteligencia-artificial\n",
        "\n",
        "**b) Descriviu-la breument.**\n",
        "\n",
        "Suno AI es una inteligencia artificial generativa que permite crear canciones a partir de texto de manera sorprendentemente eficaz. Lo más destacado es la calidad de la música que produce, así como su capacidad para ajustarse a los parámetros especificados por el usuario. Puedes escribir la letra, elegir el estilo musical y Suno generará la canción, incluyendo voces y coros que interpretan la letra que has escrito, creando una experiencia musical completa y personalizada.\n",
        "\n",
        "**c) Justificau per què pensau que és una aplicació rellevant.**\n",
        "\n",
        "Suno AI se ha convertido en una aplicación relevante debido a la gran cantidad de innovación que está generando en la industria musical. Recientemente, el reconocido productor musical Timbaland, conocido por haber trabajado con artistas como Madonna, Rihanna y Michael Jackson, se ha unido a Suno como colaborador. Timbaland destaca que esta herramienta es extremadamente potente para el sector, lo que ha llevado a la creación de un concurso que explora una nueva tecnología: la capacidad de generar versiones a partir de canciones originales.\n",
        "\n",
        "El productor ha lanzado un nuevo single y el concurso invita a los participantes a crear remixes de la canción, con premios de hasta 100.000 dólares para las mejores versiones. Esta colaboración no es trivial; es significativa para la startup de inteligencia artificial, ya que Timbaland se encargará de la estrategia de dirección creativa y el desarrollo de nuevas herramientas de IA generativa.\n",
        "\n",
        "Suno está impulsando una serie de innovaciones fascinantes. Desde la capacidad de hacer remixes o versiones a partir de canciones, hasta la última funcionalidad que permite crear canciones a partir de vídeos, extrayendo la letra basada en lo que ocurre en el clip. Es realmente impresionante.\n",
        "\n",
        "La asociación de Timbaland con Suno también surge en un contexto de desafíos legales, ya que la empresa enfrentó demandas de la industria musical que alegaban el uso indebido de material con derechos de autor para entrenar su IA. Sin embargo, Suno respondió rápidamente, contratando a un abogado experto y logrando refutar la demanda al argumentar que han utilizado material accesible en internet de la mejor calidad posible para su entrenamiento.\n",
        "\n",
        "En conclusión, la colaboración de Timbaland con Suno AI no solo fortalece la posición de la startup en el mercado, sino que también destaca el potencial transformador de la inteligencia artificial en la creación musical. Esto marca un paso importante hacia la integración de la IA en la producción musical, prometiendo un futuro lleno de posibilidades creativas. Como dice el slogan de Suno: “Create at the speed of your ideas”.\n",
        "\n",
        "**d) Quins problemes ètics planteja?**\n",
        "\n",
        "Por otro lado, esta revolución tecnológica también plantea importantes dilemas éticos, especialmente en torno a la originalidad. ¿Se puede considerar músico o productor a alguien que simplemente crea un prompt para generar música? Este tipo de preguntas son comunes en el debate sobre la inteligencia artificial generativa, tanto en el ámbito musical como en el gráfico.\n",
        "\n",
        "En mi opinión, la respuesta a estas cuestiones depende del enfoque que se adopte. En el caso de la colaboración de Timbaland con Suno AI, creo que es un acierto que los artistas se acerquen a esta tecnología. Rechazarla no hará que desaparezca; en cambio, unirse a este movimiento y encontrar maneras de utilizarla como una herramienta para beneficiar a la comunidad artística me parece una opción correcta.\n",
        "\n",
        "No obstante, siempre existirá una línea muy fina que separa el arte de la inteligencia artificial. Esto lo vemos en aspectos como los datos utilizados para entrenar los modelos y cómo se emplean los resultados obtenidos. Es esencial que estemos abiertos a un diálogo sobre estos temas para garantizar que la evolución de la tecnología se produzca de manera ética y respetuosa con la creatividad humana.\n"
      ],
      "metadata": {
        "id": "ex_Ulo6m2I2t"
      }
    },
    {
      "cell_type": "markdown",
      "source": [
        "\n",
        "## Pregunta 3\n",
        "\n",
        "**a) Justificau la vostra opinió sobre la proposta per una pausa en la investigació d'IA avançada.**\n",
        "https://futureoflife.org/open-letter/pause-giant-ai-experiments/\n",
        "\n",
        "Una pausa en la investigación de IA avanzada es razonable incluso necesaria. Por un lado no puedo negar que siento una gran curiosidad por descubrir los avances de la IA en las distintas áreas, eso me hace sentir ansioso por ver las novedades que pueden ofrecer las inteligencias artificiales avanzadas.\n",
        "\n",
        "Sin embargo eso es solo un impulso y después de razonar me parece completamente lógico dar tiempo a los gobiernos y distintas entidades a ajustarse al ritmo de la tecnología. No es una novedad que la tecnología avanza más rápido que las leyes, y siendo un tema que está generando tantos cambios y controversias en un mundo completamente digitalizado, veo esencial un tiempo de cortesía para poder regular y asegurar la seguridad de la humanidad.\n",
        "\n",
        "**b) Un temps després de la publicació de la carta, el CAIS fa publicar un manifest molt breu de 22 paraules, molt relacionat amb la carta anterior. Amb quines tecnologies compara aquest manifest la IA? En la vostra opinió, la comparació és adequada?**\n",
        "https://www.safe.ai/statement-on-ai-risk\n",
        "\n",
        "El manifiesto compara los riesgos de la IA con una pandemia o una guerra nuclear. Es difícil opinar si una comparación tan fuerte es adecuada o no. A día de hoy veo exagerada la comparación entre los riesgos de la IA y una guerra nuclear, pero también es probable que lo vea de esta manera por mi contexto como estudiante de IA. Por otro lado puedo ver algo más de similitud comparandolo con una pandemia mundial, ya que ambos conceptos engloban la propagación de estar en todas partes. En el caso de la pandemia, de manera biológica y en el caso de la IA de manera digital. Los dispositivos tecnológicos han abordado nuestra sociedad de manera absoluta, esto facilita un colapso a causa de la IA en caso de que la situación se escape de nuestro control. Por estas razones veo por una parte exageración y por otra parte similitud en la comparación que se propone en el manifiesto.\n",
        "\n",
        "**b) Quins són els tres investigadors en IA que varen rebre el premi Turing el ~~2018~~ **2019**?**\n",
        "\n",
        "El Premio Turing 2019 fue otorgado a Geoffrey Hinton, Yann LeCun y Yoshua Bengio, tres pioneros de la inteligencia artificial. Crearon las bases de la IA moderna a través de sus contribuciones en el desarrollo de redes neuronales.\n",
        "\n",
        "\n",
        "**c) D'aquests tres pioners, quins varen signar el manifest breu?**\n",
        "\n",
        "De los tres investigadores hay dos que firmaron el manifiesto; Geoffrey Hinton y Yoshua Bengio\n",
        "\n",
        "**d) Pensau que això és una mostra de la unanimitat o de la divisió d'opinions dins la comunitat d'IA sobre els riscos de la tecnologia?**\n",
        "\n",
        "Pienso que es una muestra de la división de opiniones que genera este campo tan innovador. Sin embargo me ha sorprendido ver la firma de Sam Altman y otros muchos trabajadores de OpenAI entre distintas empresas dedicadas a desarrollar IA. A pesar de basar su negocio y futuro en esta tecnología están dispuestos a participar en la voz de alarma y así poder tomar un respiro y regular las leyes. Al fin y al cabo ver que tantos expertos de la tecnología se unen a un manifiesto que propone una imponente comparación da que pensar, esto puede ayudar a abrir los ojos para dedicar el tiempo que se merece al futuro de la inteligencia artificial."
      ],
      "metadata": {
        "id": "DOM5kTT_1Z8O"
      }
    },
    {
      "cell_type": "markdown",
      "source": [
        "## Pregunta 4\n",
        "\n",
        "Triau un dels textos del número especial sobre intel·ligència artificial https://revistaidees.cat/monografics/intelligencia-artificial/ i comentau-lo responent aquestes qüestions.\n",
        "\n",
        "**a) Per què heu triat aquest article?**\n",
        "\n",
        "Me he decantado por el artículo \"La inteligencia artificial en las ciudades\". Escrito por Joan Batlle-Montserrat, Martine Delannoy, Sally Kerr, Els Van Cleemput.\n",
        "\n",
        "**b) Realitzau un perfil de l'autor o autors.**\n",
        "\n",
        "**Joan Batlle-Montserrat:** Doctor en Ciencias de la Información y especialista en tecnología urbana. Es experto en autenticación digital y e-Democracia. Desde el Ayuntamiento de Barcelona, ha liderado proyectos de innovación digital, como el sitio bcn.cat. Su trabajo actual se centra en el IoT y ciudades inteligentes en la UE.\n",
        "\n",
        "**Martine Delannoy:** Economista y especialista en e-Inclusión, Delannoy lidera iniciativas de ciudades inteligentes en Gante y desarrolla estrategias para una gobernanza digital inclusiva. Ha sido clave en foros europeos sobre la sociedad del conocimiento.\n",
        "\n",
        "**Sally Kerr:** Reconocida en GovTech entre las 30 líderes femeninas más influyenters, Kerr ha creado proyectos de datos abiertos en Edimburgo y trabaja como consultora de innovación digital, centrada en el sector público y comunidades cívicas.\n",
        "\n",
        "**Els Van Cleemput:** Gestora en Bélgica, y experta en IA aplicada a la administración local. Investiga el éxito de IA en servicios ciudadanos y es colaboradora en publicaciones de tecnología.\n",
        "\n",
        "**c) Resumiu les idees principals que s'hi exposen.**\n",
        "\n",
        "El artículo expone de manera muy completa muchas de las áreas de las ciudades en las que se podría implementar la IA, comentando sus pros y sus contras. Trata de proponer las posibles soluciones que la IA traería a los ciudadanos pero también los dilemas éticos, relacionados con la seguridad o privacidad. La idea principal del artículo es transmitir positividad y ayudar a abrir la mente en cuanto a la opción de que la inteligencia artificial se integre entre los ciudadanos, eso sí, sin perder de vista lo complicado que esto puede llegar a ser y los problemas que puede llegar a ocasionar.\n",
        "\n",
        "**d) Justificau el vostre acord o desacord amb el contingut.**\n",
        "\n",
        "Me ha parecido un artículo muy interesante que expone de manera clara los argumentos positivos y negativos sobre la integración de la IA en las ciudades. No tengo una opinión definitiva, ya que la diversidad de casos genera diferentes opiniones. Sin embargo, en muchos aspectos, coincido con los puntos presentados. La integración de IA en la administración pública es necesaria, pero no tiene por qué implicar pérdida de empleo, más bien, puede mejorar la eficiencia de los servicios. Además, la IA debería ser una herramienta complementaria y no el último recurso. Así como se comenta en el artículo, es vital que los ciudadanos sepan cuándo interactúan con una IA y cuándo con un humano, ya que forma parte de la transparencia y el desarrollo de la ciudad.\n",
        "\n",
        "Creo que aplicar la IA en las ciudades es arriesgado y complicado, pero todo comienza dando el primer paso. No es necesario implementarla en todas las áreas mencionadas en el artículo de inmediato. Un enfoque útil sería analizar dónde puede aportar una mejora real y en qué casos puede integrarse de forma natural, sin que sea algo forzado para los ciudadanos.\n",
        "\n",
        "Un buen ejemplo son los coches autónomos. Aunque su uso puede generar preocupación, ya hay ciudades como San Francisco que han confiado en la empresa Waymo para integrarlos completamente. A pesar de los riesgos, estos vehículos podrían ser una gran solución para mejorar el tráfico y reducir la contaminación.\n",
        "\n",
        "Como conclusión, me parece que la inteligencia artificial podría traer buenos avances en la administración y eficiencia de los servicios de la ciudad, pero debe implementarse con cuidado, manteniendo a los ciudadanos en mente. Como cualquier cambio grande, es importante ir poco a poco, viendo cómo afecta en el día a día y garantizando siempre la transparencia y el contacto humano. En resumen, la IA puede ser útil, pero solo si se aplica de forma equilibrada y responsable."
      ],
      "metadata": {
        "id": "EAFM46545d0X"
      }
    },
    {
      "cell_type": "markdown",
      "source": [
        "## Pregunta 5\n",
        "\n",
        "Cercau una notícia relacionada amb un impacte social de la IA. Com a exemple, un parell de temes que podem trobar fàcilment a la premsa són: vaga d'actors i guionistes per l'ús d'IA, la generació d'imatges personals falses o l'ús de la veu d'actors coneguts en sistemes automàtics de parla.\n",
        "\n",
        "Comentau-la responent a les qüestions següents.\n",
        "\n",
        "**a) Donau l'enllaç a la notícia.**\n",
        "\n",
        "La noticia que comparto es acerda de la inteligencia artificial en el doblaje: https://www.elconfidencial.com/television/series-tv/2024-07-20/inteligencia-artificial-actores-doblaje-sueldos-precarios_3907095/\n",
        "\n",
        "**b) Amb quins principis de la IA responsable està relacionada?**\n",
        "\n",
        "**Consentimiento:** Es muy importante que los actores den su consentimiento para que sus voces se usen en modelos de IA. Los actores de doblaje deben tener control sobre el uso de sus voces.\n",
        "\n",
        "**Equidad:** Es necesario que la IA no afecte de forma injusta el empleo de los profesionales del doblaje. La introducción de IA debería enfocarse en mejorar el trabajo y proporcionar opciones, sin reemplazar roles de manera que perjudique a los que trabajan en esta industria.\n",
        "\n",
        "**Responsabilidad:** Las empresas que desarrollan y usan IA en doblaje tienen la responsabilidad de su impacto en los actores y actrices. Como dicen en el artículo, la plataforma PASAVE, creada por los profesionales y sindicatos, intneta presionar a las empresas para que se ajusten a unos estándares éticos.\n",
        "\n",
        "**c) Quin conflicte planteja la notícia?**\n",
        "\n",
        "La noticia plantea el conflicto de usar inteligencia artifical para grabar el doblaje de películas a otros idiomas. Concretamente en España el doblaje es una parte muy representativa del cine, eso implica que hay muchas profesionales que se dedican a ello. El artículo que he compartido habla de dos temas. Por una parte sobre cómo la IA ha ido ganando terreno en el sector, y a raíz de esto los actores y actrices se unieron con todos los sindicatos de doblaje en españa para formar la Plataforma de Asociaciones y Sindicatos de Actores de Voz de España (PASAVE). Por otro lado habla sobre la voz de Juan Antonio Bernal, conocido por ser la voz de Iron Man, y de cómo una empresa vendía su voz generada con IA a un euro, lo que causó muchos vídeos virales de su voz diciendo barbaridades. Un gran problema de suplantación de identidad.\n",
        "\n",
        "**d) Quines vies de solució pensau que hi pot haver?**\n",
        "\n",
        "No es fácil encontrar una solución clara, pero creo que el balance es clave. Recordando conceptos del artículo en el ejercicio 4, la IA puede ser una gran herramienta intermedia, aunque es esencial preservar el toque humano, especialmente en áreas como el arte y la interpretación. Janis Dzenis, de Rask AI, presenta un ejemplo interesante: su IA mantiene la voz y el timbre de una persona mientras traduce y sincroniza los labios. Según Dzenis, “la IA está para ayudar en tareas cotidianas, no en crear obras”, lo cual tranquiliza a los profesionales, ya que la IA se presenta como un apoyo, no un reemplazo. Sin embargo, noticias como la que he compartido también muestran que, en la práctica, no siempre se cumple esta intención de la que habla Dzenis, lo cual deja mucha incertidumbre.\n",
        "\n",
        "Por otro lado, esta tecnología podría aportar una ventaja para pequeños productores que no tienen presupuesto para grandes producciones. Sin embargo, entiendo que, para muchos en la industria del doblaje, la llegada de la IA es preocupante, sobre todo en España, donde hay voces icónicas y una gran tradición. Aunque la IA también me parece fascinante, lamento que el esfuerzo de tantos actores pueda sentirse apartado. En definitiva, no todo es blanco o negro; y encontrar el equilibrio en este contexto no es nada fácil.\n",
        "\n",
        "**e) S'han produït situacions semblants amb tecnologies anteriors a la IA?**\n",
        "\n",
        "En el doblaje no ha habido una situación igual a la de la IA, pero sí ha habido cambios significativos. Por ejemplo, la llegada de la grabación digital y el uso de programas de edición han hecho que el proceso sea más rápido. Aunque esto facilitó el trabajo, también ha generado preocupación sobre la calidad y la veracidad de las voces. La IA, al poder crear voces artificiales, podría complicar aún más la situación, haciendo que muchos actores sientan que su trabajo está en peligro."
      ],
      "metadata": {
        "id": "gb6xs3_B3MdN"
      }
    }
  ]
}