{
  "nbformat": 4,
  "nbformat_minor": 0,
  "metadata": {
    "colab": {
      "provenance": []
    },
    "kernelspec": {
      "name": "python3",
      "display_name": "Python 3"
    },
    "language_info": {
      "name": "python"
    }
  },
  "cells": [
    {
      "cell_type": "markdown",
      "source": [
        "# Sistemas de Big Data - Apartado 2"
      ],
      "metadata": {
        "id": "JJTShhzHuZX3"
      }
    },
    {
      "cell_type": "markdown",
      "source": [
        "Vamos a trabajar con el dataset de los resultados de todos los partidos de fútbol disputados entre selecciones nacionales desde 1872 hasta la actualidad, que ya utilizamos en la tarea de la entrega 3 de Big Data Aplicado (Hive). Puedes encontrar los datos en Kaggle, donde también podrás ver todos los detalles.\n",
        "\n",
        "De los cuatro archivos que contiene el dataset, solo nos interesan dos:\n",
        "    \n",
        "  •\t**results.csv:** que contiene la información de todos los partidos disputados, incluyendo los equipos, el marcador, el campeonato y la sede.\n",
        "\n",
        "  •\t**goalscorers.csv:** que contiene la información de todos los goles marcados en esos partidos. Para cada gol se indica el partido (fecha y equipos), el equipo y jugador que marca el gol, el minuto y dos indicadores que muestran si fue en propia puerta o de penalti."
      ],
      "metadata": {
        "id": "TomqabyJuePL"
      }
    },
    {
      "cell_type": "code",
      "source": [
        "import pandas as pd\n",
        "from pyspark.sql import SparkSession\n",
        "from pyspark.sql.functions import count, col, desc, sum, when, row_number, lit\n",
        "from pyspark.sql.window import Window\n",
        "\n",
        "spark = SparkSession.builder.appName(\"Football Analysis\").getOrCreate()\n",
        "\n",
        "results_url = \"https://raw.githubusercontent.com/tnavarrete-iedib/bigdata-24-25/refs/heads/main/results.csv\"\n",
        "goalscorers_url = \"https://raw.githubusercontent.com/tnavarrete-iedib/bigdata-24-25/refs/heads/main/goalscorers.csv\"\n",
        "\n",
        "!wget -O results.csv {results_url}\n",
        "!wget -O goalscorers.csv {goalscorers_url}\n",
        "\n",
        "results_df = spark.read.csv(\"results.csv\", header=True, inferSchema=True)\n",
        "goalscorers_df = spark.read.csv(\"goalscorers.csv\", header=True, inferSchema=True)"
      ],
      "metadata": {
        "colab": {
          "base_uri": "https://localhost:8080/"
        },
        "id": "KHYjvL1gvSDQ",
        "outputId": "1e044631-1fee-4597-b230-8b29057f2547"
      },
      "execution_count": 1,
      "outputs": [
        {
          "output_type": "stream",
          "name": "stdout",
          "text": [
            "--2025-04-26 10:57:02--  https://raw.githubusercontent.com/tnavarrete-iedib/bigdata-24-25/refs/heads/main/results.csv\n",
            "Resolving raw.githubusercontent.com (raw.githubusercontent.com)... 185.199.110.133, 185.199.109.133, 185.199.111.133, ...\n",
            "Connecting to raw.githubusercontent.com (raw.githubusercontent.com)|185.199.110.133|:443... connected.\n",
            "HTTP request sent, awaiting response... 200 OK\n",
            "Length: 3628614 (3.5M) [text/plain]\n",
            "Saving to: ‘results.csv’\n",
            "\n",
            "results.csv         100%[===================>]   3.46M  10.6MB/s    in 0.3s    \n",
            "\n",
            "2025-04-26 10:57:04 (10.6 MB/s) - ‘results.csv’ saved [3628614/3628614]\n",
            "\n",
            "--2025-04-26 10:57:04--  https://raw.githubusercontent.com/tnavarrete-iedib/bigdata-24-25/refs/heads/main/goalscorers.csv\n",
            "Resolving raw.githubusercontent.com (raw.githubusercontent.com)... 185.199.110.133, 185.199.109.133, 185.199.111.133, ...\n",
            "Connecting to raw.githubusercontent.com (raw.githubusercontent.com)|185.199.110.133|:443... connected.\n",
            "HTTP request sent, awaiting response... 200 OK\n",
            "Length: 3033078 (2.9M) [text/plain]\n",
            "Saving to: ‘goalscorers.csv’\n",
            "\n",
            "goalscorers.csv     100%[===================>]   2.89M  9.93MB/s    in 0.3s    \n",
            "\n",
            "2025-04-26 10:57:05 (9.93 MB/s) - ‘goalscorers.csv’ saved [3033078/3033078]\n",
            "\n"
          ]
        }
      ]
    },
    {
      "cell_type": "markdown",
      "source": [
        "Como analistas de datos, ahora nos piden nuevamente las mismas preguntas que en la tarea de Hive. Debes escribir un cuaderno de Google Colab que, utilizando PySpark y la librería Spark SQL, responda a cada una de las preguntas. Y debes responder a cada pregunta de dos maneras diferentes: utilizando métodos de DataFrame y ejecutando una sentencia SQL.\n",
        "\n",
        "## 1 - Número de goles que ha marcado Lionel Messi (sin contar autogoles)."
      ],
      "metadata": {
        "id": "2IKwS0Rhu-AU"
      }
    },
    {
      "cell_type": "code",
      "execution_count": 3,
      "metadata": {
        "colab": {
          "base_uri": "https://localhost:8080/"
        },
        "id": "1syh4gemuSu2",
        "outputId": "1949949b-bfb0-42cb-d757-73b981bb2863"
      },
      "outputs": [
        {
          "output_type": "stream",
          "name": "stdout",
          "text": [
            "Vistazo rápido de los datos 'results_df'':\n",
            "+----------+---------+---------+----------+----------+----------+-------+--------+-------+\n",
            "|      date|home_team|away_team|home_score|away_score|tournament|   city| country|neutral|\n",
            "+----------+---------+---------+----------+----------+----------+-------+--------+-------+\n",
            "|1872-11-30| Scotland|  England|         0|         0|  Friendly|Glasgow|Scotland|  false|\n",
            "|1873-03-08|  England| Scotland|         4|         2|  Friendly| London| England|  false|\n",
            "|1874-03-07| Scotland|  England|         2|         1|  Friendly|Glasgow|Scotland|  false|\n",
            "|1875-03-06|  England| Scotland|         2|         2|  Friendly| London| England|  false|\n",
            "|1876-03-04| Scotland|  England|         3|         0|  Friendly|Glasgow|Scotland|  false|\n",
            "+----------+---------+---------+----------+----------+----------+-------+--------+-------+\n",
            "only showing top 5 rows\n",
            "\n",
            "\n",
            "Vistazo rápido de los datos 'goalscorers_df':\n",
            "+----------+---------+---------+---------+----------------+------+--------+-------+\n",
            "|      date|home_team|away_team|     team|          scorer|minute|own_goal|penalty|\n",
            "+----------+---------+---------+---------+----------------+------+--------+-------+\n",
            "|1916-07-02|    Chile|  Uruguay|  Uruguay| José Piendibene|    44|   false|  false|\n",
            "|1916-07-02|    Chile|  Uruguay|  Uruguay|Isabelino Gradín|    55|   false|  false|\n",
            "|1916-07-02|    Chile|  Uruguay|  Uruguay|Isabelino Gradín|    70|   false|  false|\n",
            "|1916-07-02|    Chile|  Uruguay|  Uruguay| José Piendibene|    75|   false|  false|\n",
            "|1916-07-06|Argentina|    Chile|Argentina|   Alberto Ohaco|     2|   false|  false|\n",
            "+----------+---------+---------+---------+----------------+------+--------+-------+\n",
            "only showing top 5 rows\n",
            "\n",
            "\n",
            "1. Número de goles que ha marcado Messi (sin contar autogoles):\n",
            "DataFrame: 55\n",
            "SQL: \n",
            "+--------------+\n",
            "|goles_marcados|\n",
            "+--------------+\n",
            "|            55|\n",
            "+--------------+\n",
            "\n"
          ]
        }
      ],
      "source": [
        "from pyspark.sql.functions import lower, when, col\n",
        "\n",
        "goalscorers_df = goalscorers_df.withColumn(\"own_goal\",\n",
        "                                        when(lower(col(\"own_goal\")) == \"true\", True)\n",
        "                                        .otherwise(False))\n",
        "\n",
        "goalscorers_df = goalscorers_df.withColumn(\"penalty\",\n",
        "                                        when(lower(col(\"penalty\")) == \"true\", True)\n",
        "                                        .otherwise(False))\n",
        "\n",
        "results_df.createOrReplaceTempView(\"results\")\n",
        "goalscorers_df.createOrReplaceTempView(\"goalscorers\")\n",
        "\n",
        "print(\"Vistazo rápido de los datos 'results_df'':\")\n",
        "results_df.show(5)\n",
        "\n",
        "print(\"\\nVistazo rápido de los datos 'goalscorers_df':\")\n",
        "goalscorers_df.show(5)\n",
        "\n",
        "# Usando DataFrame\n",
        "messi_goals_df = goalscorers_df.filter((col(\"scorer\") == \"Lionel Messi\") & (col(\"own_goal\") == False)).count()\n",
        "\n",
        "print(\"\\n1. Número de goles que ha marcado Messi (sin contar autogoles):\")\n",
        "print(f\"DataFrame: {messi_goals_df}\")\n",
        "\n",
        "# Sentencia SQL\n",
        "messi_goals_sql = spark.sql(\"\"\"\n",
        "    SELECT COUNT(*) as goles_marcados\n",
        "    FROM goalscorers\n",
        "    WHERE scorer = 'Lionel Messi' AND own_goal = false\n",
        "\"\"\")\n",
        "\n",
        "print(\"SQL: \")\n",
        "messi_goals_sql.show()\n"
      ]
    },
    {
      "cell_type": "markdown",
      "source": [
        "## 2 - Listado de los 5 partidos más recientes que ha jugado la selección española"
      ],
      "metadata": {
        "id": "1XypHYQq1GqD"
      }
    },
    {
      "cell_type": "code",
      "source": [
        "# Usando DataFrame\n",
        "spain_matches_df = results_df.filter((col(\"home_team\") == \"Spain\") | (col(\"away_team\") == \"Spain\")) \\\n",
        "                           .orderBy(col(\"date\").desc()) \\\n",
        "                           .limit(5)\n",
        "\n",
        "print(\"DataFrame:\")\n",
        "spain_matches_df.show(5)\n",
        "\n",
        "# Sentencia SQL\n",
        "spain_matches_sql = spark.sql(\"\"\"\n",
        "    SELECT *\n",
        "    FROM results\n",
        "    WHERE home_team = 'Spain' OR away_team = 'Spain'\n",
        "    ORDER BY date DESC\n",
        "    LIMIT 5\n",
        "\"\"\")\n",
        "\n",
        "print(\"SQL:\")\n",
        "spain_matches_sql.show(5)"
      ],
      "metadata": {
        "colab": {
          "base_uri": "https://localhost:8080/"
        },
        "id": "20wi_dmOwZgi",
        "outputId": "13496eb8-5ed6-48b2-d493-14b3fdcfae20"
      },
      "execution_count": 4,
      "outputs": [
        {
          "output_type": "stream",
          "name": "stdout",
          "text": [
            "DataFrame:\n",
            "+----------+-----------+-----------+----------+----------+-------------------+--------------------+-----------+-------+\n",
            "|      date|  home_team|  away_team|home_score|away_score|         tournament|                city|    country|neutral|\n",
            "+----------+-----------+-----------+----------+----------+-------------------+--------------------+-----------+-------+\n",
            "|2025-03-23|      Spain|Netherlands|         3|         3|UEFA Nations League|            Valencia|      Spain|  false|\n",
            "|2025-03-20|Netherlands|      Spain|         2|         2|UEFA Nations League|           Rotterdam|Netherlands|  false|\n",
            "|2024-11-18|      Spain|Switzerland|         3|         2|UEFA Nations League|Santa Cruz de Ten...|      Spain|  false|\n",
            "|2024-11-15|    Denmark|      Spain|         1|         2|UEFA Nations League|          Copenhagen|    Denmark|  false|\n",
            "|2024-10-15|      Spain|     Serbia|         3|         0|UEFA Nations League|             Cordoba|      Spain|  false|\n",
            "+----------+-----------+-----------+----------+----------+-------------------+--------------------+-----------+-------+\n",
            "\n",
            "SQL:\n",
            "+----------+-----------+-----------+----------+----------+-------------------+--------------------+-----------+-------+\n",
            "|      date|  home_team|  away_team|home_score|away_score|         tournament|                city|    country|neutral|\n",
            "+----------+-----------+-----------+----------+----------+-------------------+--------------------+-----------+-------+\n",
            "|2025-03-23|      Spain|Netherlands|         3|         3|UEFA Nations League|            Valencia|      Spain|  false|\n",
            "|2025-03-20|Netherlands|      Spain|         2|         2|UEFA Nations League|           Rotterdam|Netherlands|  false|\n",
            "|2024-11-18|      Spain|Switzerland|         3|         2|UEFA Nations League|Santa Cruz de Ten...|      Spain|  false|\n",
            "|2024-11-15|    Denmark|      Spain|         1|         2|UEFA Nations League|          Copenhagen|    Denmark|  false|\n",
            "|2024-10-15|      Spain|     Serbia|         3|         0|UEFA Nations League|             Cordoba|      Spain|  false|\n",
            "+----------+-----------+-----------+----------+----------+-------------------+--------------------+-----------+-------+\n",
            "\n"
          ]
        }
      ]
    },
    {
      "cell_type": "markdown",
      "source": [
        "## 3 - Número de goles que ha marcado España en toda su historia (desde results)"
      ],
      "metadata": {
        "id": "rByz7LDG1gOH"
      }
    },
    {
      "cell_type": "code",
      "source": [
        "# Usando DataFrame\n",
        "spain_total_goals_df = results_df.filter((col(\"home_team\") == \"Spain\") | (col(\"away_team\") == \"Spain\")) \\\n",
        "                               .withColumn(\"spain_goals\",\n",
        "                                          when(col(\"home_team\") == \"Spain\", col(\"home_score\"))\n",
        "                                          .otherwise(col(\"away_score\"))) \\\n",
        "                               .agg(sum(\"spain_goals\").alias(\"goles_totales\"))\n",
        "\n",
        "print(\"DataFrame:\")\n",
        "spain_total_goals_df.show()\n",
        "\n",
        "# Sentencia SQL\n",
        "spain_total_goals_sql = spark.sql(\"\"\"\n",
        "    SELECT SUM(\n",
        "        CASE\n",
        "            WHEN home_team = 'Spain' THEN home_score\n",
        "            ELSE away_score\n",
        "        END\n",
        "    ) as goles_totales\n",
        "    FROM results\n",
        "    WHERE home_team = 'Spain' OR away_team = 'Spain'\n",
        "\"\"\")\n",
        "\n",
        "print(\"SQL:\")\n",
        "spain_total_goals_sql.show()"
      ],
      "metadata": {
        "colab": {
          "base_uri": "https://localhost:8080/"
        },
        "id": "-Kkzzql81S-w",
        "outputId": "32dfbf60-1dab-4bc4-938c-c9b26b04b0b5"
      },
      "execution_count": 6,
      "outputs": [
        {
          "output_type": "stream",
          "name": "stdout",
          "text": [
            "DataFrame:\n",
            "+-------------+\n",
            "|goles_totales|\n",
            "+-------------+\n",
            "|         1567|\n",
            "+-------------+\n",
            "\n",
            "SQL:\n",
            "+-------------+\n",
            "|goles_totales|\n",
            "+-------------+\n",
            "|         1567|\n",
            "+-------------+\n",
            "\n"
          ]
        }
      ]
    },
    {
      "cell_type": "markdown",
      "source": [
        "## 4 - Listado de los 5 máximos goleadores con la selección española (sin contar autogoles)"
      ],
      "metadata": {
        "id": "BX5TqOjw18L6"
      }
    },
    {
      "cell_type": "code",
      "source": [
        "# Usando DataFrame\n",
        "top_spanish_scorers_df = goalscorers_df.filter((col(\"team\") == \"Spain\") & (col(\"own_goal\") == False)) \\\n",
        "                                     .groupBy(\"scorer\") \\\n",
        "                                     .count() \\\n",
        "                                     .orderBy(col(\"count\").desc()) \\\n",
        "                                     .limit(5)\n",
        "\n",
        "print(\"DataFrame:\")\n",
        "top_spanish_scorers_df.show(5)\n",
        "\n",
        "# Sentencia SQL\n",
        "top_spanish_scorers_sql = spark.sql(\"\"\"\n",
        "    SELECT scorer, COUNT(*) as goles\n",
        "    FROM goalscorers\n",
        "    WHERE team = 'Spain' AND own_goal = false\n",
        "    GROUP BY scorer\n",
        "    ORDER BY goles DESC\n",
        "    LIMIT 5\n",
        "\"\"\")\n",
        "\n",
        "print(\"SQL:\")\n",
        "top_spanish_scorers_sql.show(5)"
      ],
      "metadata": {
        "colab": {
          "base_uri": "https://localhost:8080/"
        },
        "id": "A4IIRvR_1xP5",
        "outputId": "3e8170ba-7de0-4886-dacb-09a99de47863"
      },
      "execution_count": 8,
      "outputs": [
        {
          "output_type": "stream",
          "name": "stdout",
          "text": [
            "DataFrame:\n",
            "+---------------+-----+\n",
            "|         scorer|count|\n",
            "+---------------+-----+\n",
            "|    David Villa|   41|\n",
            "|           Raúl|   32|\n",
            "|  Álvaro Morata|   29|\n",
            "|Fernando Torres|   28|\n",
            "|Fernando Hierro|   25|\n",
            "+---------------+-----+\n",
            "\n",
            "SQL:\n",
            "+---------------+-----+\n",
            "|         scorer|goles|\n",
            "+---------------+-----+\n",
            "|    David Villa|   41|\n",
            "|           Raúl|   32|\n",
            "|  Álvaro Morata|   29|\n",
            "|Fernando Torres|   28|\n",
            "|Fernando Hierro|   25|\n",
            "+---------------+-----+\n",
            "\n"
          ]
        }
      ]
    },
    {
      "cell_type": "markdown",
      "source": [
        "## 5 - Listado de los jugadores españoles que han marcado algún gol de penalti en alguna Eurocopa (UEFA Euro), ordenados alfabéticamente"
      ],
      "metadata": {
        "id": "_jsEO-cu2Tqk"
      }
    },
    {
      "cell_type": "code",
      "source": [
        "# Usando DataFrame\n",
        "spanish_euro_penalty_scorers_df = goalscorers_df.join(\n",
        "    results_df,\n",
        "    (goalscorers_df[\"date\"] == results_df[\"date\"]) &\n",
        "    (((goalscorers_df[\"home_team\"] == results_df[\"home_team\"]) & (goalscorers_df[\"away_team\"] == results_df[\"away_team\"])) |\n",
        "     ((goalscorers_df[\"home_team\"] == results_df[\"away_team\"]) & (goalscorers_df[\"away_team\"] == results_df[\"home_team\"]))),\n",
        "    \"inner\"\n",
        ") \\\n",
        ".filter((col(\"team\") == \"Spain\") &\n",
        "        (col(\"tournament\").like(\"%UEFA Euro%\")) &\n",
        "        (col(\"penalty\") == True)) \\\n",
        ".select(\"scorer\") \\\n",
        ".distinct() \\\n",
        ".orderBy(\"scorer\")\n",
        "\n",
        "print(\"DataFrame:\")\n",
        "spanish_euro_penalty_scorers_df.show(100)\n",
        "\n",
        "# Sentencia SQL\n",
        "spanish_euro_penalty_scorers_sql = spark.sql(\"\"\"\n",
        "    SELECT DISTINCT g.scorer\n",
        "    FROM goalscorers g\n",
        "    JOIN results r\n",
        "    ON g.date = r.date\n",
        "    AND ((g.home_team = r.home_team AND g.away_team = r.away_team)\n",
        "         OR (g.home_team = r.away_team AND g.away_team = r.home_team))\n",
        "    WHERE g.team = 'Spain'\n",
        "    AND r.tournament LIKE '%UEFA Euro%'\n",
        "    AND g.penalty = true\n",
        "    ORDER BY g.scorer\n",
        "\"\"\")\n",
        "\n",
        "print(\"SQL:\")\n",
        "spanish_euro_penalty_scorers_sql.show(100)"
      ],
      "metadata": {
        "colab": {
          "base_uri": "https://localhost:8080/"
        },
        "id": "rJghGpSW2UwQ",
        "outputId": "845d1a3b-ed86-491a-fd66-dc215791d49f"
      },
      "execution_count": 9,
      "outputs": [
        {
          "output_type": "stream",
          "name": "stdout",
          "text": [
            "DataFrame:\n",
            "+--------------------+\n",
            "|              scorer|\n",
            "+--------------------+\n",
            "|      Andrés Iniesta|\n",
            "|         Daniel Ruiz|\n",
            "|         David Villa|\n",
            "|     Fernando Hierro|\n",
            "|Francisco José Ca...|\n",
            "|     Gaizka Mendieta|\n",
            "|      José Claramunt|\n",
            "|  Juan Antonio Señor|\n",
            "|              Míchel|\n",
            "|               Pirri|\n",
            "|        Sergio Ramos|\n",
            "|         Xabi Alonso|\n",
            "|       Álvaro Morata|\n",
            "+--------------------+\n",
            "\n",
            "SQL:\n",
            "+--------------------+\n",
            "|              scorer|\n",
            "+--------------------+\n",
            "|      Andrés Iniesta|\n",
            "|         Daniel Ruiz|\n",
            "|         David Villa|\n",
            "|     Fernando Hierro|\n",
            "|Francisco José Ca...|\n",
            "|     Gaizka Mendieta|\n",
            "|      José Claramunt|\n",
            "|  Juan Antonio Señor|\n",
            "|              Míchel|\n",
            "|               Pirri|\n",
            "|        Sergio Ramos|\n",
            "|         Xabi Alonso|\n",
            "|       Álvaro Morata|\n",
            "+--------------------+\n",
            "\n"
          ]
        }
      ]
    },
    {
      "cell_type": "markdown",
      "source": [
        "## 6 - Listado de los 5 máximos goleadores de las fases finales de los mundiales (FIFA World Cup) sin contar autogoles."
      ],
      "metadata": {
        "id": "flYk3WBJG91p"
      }
    },
    {
      "cell_type": "code",
      "source": [
        "# Usando DataFrame\n",
        "top_world_cup_scorers_df = goalscorers_df.join(\n",
        "    results_df,\n",
        "    (goalscorers_df[\"date\"] == results_df[\"date\"]) &\n",
        "    (((goalscorers_df[\"home_team\"] == results_df[\"home_team\"]) & (goalscorers_df[\"away_team\"] == results_df[\"away_team\"])) |\n",
        "     ((goalscorers_df[\"home_team\"] == results_df[\"away_team\"]) & (goalscorers_df[\"away_team\"] == results_df[\"home_team\"]))),\n",
        "    \"inner\"\n",
        ") \\\n",
        ".filter((col(\"tournament\").like(\"%FIFA World Cup%\")) &\n",
        "        (col(\"own_goal\") == False)) \\\n",
        ".groupBy(\"scorer\") \\\n",
        ".count() \\\n",
        ".orderBy(col(\"count\").desc()) \\\n",
        ".limit(5)\n",
        "\n",
        "print(\"DataFrame:\")\n",
        "top_world_cup_scorers_df.show(5)\n",
        "\n",
        "# Sentencia SQL\n",
        "top_world_cup_scorers_sql = spark.sql(\"\"\"\n",
        "    SELECT g.scorer, COUNT(*) as goles\n",
        "    FROM goalscorers g\n",
        "    JOIN results r\n",
        "    ON g.date = r.date\n",
        "    AND ((g.home_team = r.home_team AND g.away_team = r.away_team)\n",
        "         OR (g.home_team = r.away_team AND g.away_team = r.home_team))\n",
        "    WHERE r.tournament LIKE '%FIFA World Cup%'\n",
        "    AND g.own_goal = false\n",
        "    GROUP BY g.scorer\n",
        "    ORDER BY goles DESC\n",
        "    LIMIT 5\n",
        "\"\"\")\n",
        "\n",
        "print(\"SQL:\")\n",
        "top_world_cup_scorers_sql.show(5)"
      ],
      "metadata": {
        "colab": {
          "base_uri": "https://localhost:8080/"
        },
        "id": "zPnrr04RG_7F",
        "outputId": "a7cd12c6-b8f4-48a4-d86d-5a8ca74c11eb"
      },
      "execution_count": 11,
      "outputs": [
        {
          "output_type": "stream",
          "name": "stdout",
          "text": [
            "DataFrame:\n",
            "+-----------------+-----+\n",
            "|           scorer|count|\n",
            "+-----------------+-----+\n",
            "|Cristiano Ronaldo|   44|\n",
            "|     Lionel Messi|   41|\n",
            "|      Carlos Ruiz|   39|\n",
            "|      Luis Suárez|   36|\n",
            "|         Ali Daei|   35|\n",
            "+-----------------+-----+\n",
            "\n",
            "SQL:\n",
            "+-----------------+-----+\n",
            "|           scorer|goles|\n",
            "+-----------------+-----+\n",
            "|Cristiano Ronaldo|   44|\n",
            "|     Lionel Messi|   41|\n",
            "|      Carlos Ruiz|   39|\n",
            "|      Luis Suárez|   36|\n",
            "|         Ali Daei|   35|\n",
            "+-----------------+-----+\n",
            "\n"
          ]
        }
      ]
    }
  ]
}