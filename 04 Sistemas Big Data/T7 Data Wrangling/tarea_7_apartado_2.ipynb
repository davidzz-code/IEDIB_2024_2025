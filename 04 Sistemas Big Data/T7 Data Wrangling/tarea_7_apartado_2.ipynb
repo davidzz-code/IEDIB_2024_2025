{
  "nbformat": 4,
  "nbformat_minor": 0,
  "metadata": {
    "colab": {
      "provenance": []
    },
    "kernelspec": {
      "name": "python3",
      "display_name": "Python 3"
    },
    "language_info": {
      "name": "python"
    }
  },
  "cells": [
    {
      "cell_type": "markdown",
      "source": [
        "# Sistemas de Big Data - Tarea 7"
      ],
      "metadata": {
        "id": "8AA4A6bC7j5e"
      }
    },
    {
      "cell_type": "markdown",
      "source": [
        "## Apartado 2: Reescalado de datos\n",
        "\n",
        "Según un estudio, las jóvenes de 18 años de la Comunidad de Madrid tienen una altura media de 164,2 cm y una desviación estándar de 6,1 cm. En cuanto a su peso, la media es de 56,6 kg y la desviación estándar de 10,3 kg. Ambas variables se pueden representar mediante una distribución normal."
      ],
      "metadata": {
        "id": "zthTvKMF7iMf"
      }
    },
    {
      "cell_type": "markdown",
      "source": [
        "### Genera una muestra aleatoria de 100 valores para cada una de las dos variables, usando un decimal de precisión. Nota: fíjate en que hiciste un ejercicio similar en la tarea del entregable 2, puedes usar tu código o el de la solución propuesta.\n",
        "\n",
        "### Tal y como hemos visto en el apartado de Reescalado de datos de los apuntes, antes de aplicar un algoritmo de machine learning, es conveniente normalizar estos datos, de forma que ambas muestras tengan media 0 y desviación estándar 1."
      ],
      "metadata": {
        "id": "6mMvaYTWJ6_E"
      }
    },
    {
      "cell_type": "markdown",
      "source": [
        "### 2.1. Obtén un dataframe que tenga dos columnas, con las alturas y pesos normalizados a partir de las dos muestras."
      ],
      "metadata": {
        "id": "UbT1p2K0J2-5"
      }
    },
    {
      "cell_type": "code",
      "execution_count": 5,
      "metadata": {
        "colab": {
          "base_uri": "https://localhost:8080/"
        },
        "id": "pyOuNseD7Dci",
        "outputId": "c2963ef3-9b5f-41c4-cf32-2745a8c279a9"
      },
      "outputs": [
        {
          "output_type": "stream",
          "name": "stdout",
          "text": [
            "DataFrame original:\n",
            "   Altura  Peso\n",
            "0   167.2  42.0\n",
            "1   163.4  52.3\n",
            "2   168.2  53.1\n",
            "3   173.5  48.3\n",
            "4   162.8  54.9\n",
            "\n",
            "DataFrame estandarizado:\n",
            "     Altura      Peso\n",
            "0  0.658783 -1.516850\n",
            "1 -0.030852 -0.463269\n",
            "2  0.840265 -0.381437\n",
            "3  1.802124 -0.872427\n",
            "4 -0.139742 -0.197316\n"
          ]
        }
      ],
      "source": [
        "import numpy as np\n",
        "import pandas as pd\n",
        "from sklearn.preprocessing import StandardScaler\n",
        "\n",
        "# Creamos una semilla para poder reproducir datos\n",
        "np.random.seed(42)\n",
        "\n",
        "# Parámetros de las distribuciones normales\n",
        "height_average = 164.2\n",
        "height_std = 6.1\n",
        "weight_average = 56.6\n",
        "weight_std = 10.3\n",
        "\n",
        "# Generamos las muestras aleatorias\n",
        "sample_height = np.round(np.random.normal(height_average, height_std, 100), 1)\n",
        "sample_weight = np.round(np.random.normal(weight_average, weight_std, 100), 1)\n",
        "df = pd.DataFrame({'Altura': sample_height, 'Peso': sample_weight})\n",
        "\n",
        "# Normalización de los datos (media 0, desviación estándar 1)\n",
        "scaler = StandardScaler()\n",
        "df_standardized = pd.DataFrame(scaler.fit_transform(df), columns=df.columns)\n",
        "\n",
        "# Mostramos los datos\n",
        "print(\"DataFrame original:\")\n",
        "print(df.head())\n",
        "print(\"\")\n",
        "print(\"DataFrame estandarizado:\")\n",
        "print(df_standardized.head())"
      ]
    }
  ]
}