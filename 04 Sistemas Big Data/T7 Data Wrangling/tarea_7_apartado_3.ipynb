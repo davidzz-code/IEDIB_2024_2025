{
  "nbformat": 4,
  "nbformat_minor": 0,
  "metadata": {
    "colab": {
      "provenance": []
    },
    "kernelspec": {
      "name": "python3",
      "display_name": "Python 3"
    },
    "language_info": {
      "name": "python"
    }
  },
  "cells": [
    {
      "cell_type": "markdown",
      "source": [
        "# Sistemas de Big Data - Tarea 7\n"
      ],
      "metadata": {
        "id": "8AA4A6bC7j5e"
      }
    },
    {
      "cell_type": "markdown",
      "source": [
        "## Apartado 3: detección de outliers, combinaciones y consultas de dataframes\n",
        "\n",
        "Descarga el archivo con el resumen de los alojamientos: listings.csv (o una copia en el repositorio del curso).\n",
        "Nos vamos a centrar en el precio por noche (columna price). Ya vimos que esta columna presenta una serie de outliers que distorsionan todas las estadísticas."
      ],
      "metadata": {
        "id": "zthTvKMF7iMf"
      }
    },
    {
      "cell_type": "markdown",
      "source": [
        "### 3.1. Muestra el diagrama de caja (boxplot) del precio por noche."
      ],
      "metadata": {
        "id": "pT6M58pH8U7V"
      }
    },
    {
      "cell_type": "code",
      "source": [
        "import seaborn as sns\n",
        "import numpy as np\n",
        "import pandas as pd\n",
        "import matplotlib.pyplot as plt\n",
        "\n",
        "df = pd.read_csv('https://raw.githubusercontent.com/tnavarrete-iedib/bigdata-24-25/refs/heads/main/listings.csv')\n",
        "df.head()"
      ],
      "metadata": {
        "id": "yvagkqjEK4wU",
        "colab": {
          "base_uri": "https://localhost:8080/",
          "height": 504
        },
        "outputId": "778dace6-efa2-4654-e365-34abba9e7e15"
      },
      "execution_count": 26,
      "outputs": [
        {
          "output_type": "execute_result",
          "data": {
            "text/plain": [
              "       id                                               name  host_id  \\\n",
              "0   44085        Villa in Addaia great sea view and fun pool   193043   \n",
              "1  102558                appartment in Menorca -Cala Galdana   536023   \n",
              "2  294398                    Son Esquella - Charming Menorca   312145   \n",
              "3  295705                 The Most Perfect Villa in Menorca!   312145   \n",
              "4  357026  Coqueto apartamento Son Bou Menorca + Rent our...  1740878   \n",
              "\n",
              "  host_name  neighbourhood_group          neighbourhood  latitude  longitude  \\\n",
              "0   Manuela                  NaN            Es Mercadal  40.00974    4.19958   \n",
              "1   Yolanda                  NaN  Ciutadella de Menorca  39.94340    3.96130   \n",
              "2       Sol                  NaN                 Alaior  39.89082    4.11595   \n",
              "3       Sol                  NaN                 Alaior  39.89028    4.11476   \n",
              "4    Emilio                  NaN                 Alaior  39.90520    4.07072   \n",
              "\n",
              "         room_type  price  minimum_nights  number_of_reviews last_review  \\\n",
              "0  Entire home/apt  460.0               5                 21  2024-08-25   \n",
              "1  Entire home/apt  121.0               3                 67  2024-10-29   \n",
              "2  Entire home/apt    NaN              32                 11  2019-09-08   \n",
              "3  Entire home/apt    NaN              32                 24  2022-05-30   \n",
              "4  Entire home/apt   75.0               5                 83  2024-11-03   \n",
              "\n",
              "   reviews_per_month  calculated_host_listings_count  availability_365  \\\n",
              "0               0.14                               3                 0   \n",
              "1               0.41                               1               343   \n",
              "2               0.10                               3                 0   \n",
              "3               0.16                               3                 0   \n",
              "4               0.55                               1               288   \n",
              "\n",
              "   number_of_reviews_ltm                             license  \n",
              "0                      1                            ET3036ME  \n",
              "1                      9                            ET2253ME  \n",
              "2                      0                                 NaN  \n",
              "3                      0                                 NaN  \n",
              "4                     16  Licencia San Jaume Zona 5 APM-1880  "
            ],
            "text/html": [
              "\n",
              "  <div id=\"df-2392ef2a-7a41-4efd-b832-502a58f8f55b\" class=\"colab-df-container\">\n",
              "    <div>\n",
              "<style scoped>\n",
              "    .dataframe tbody tr th:only-of-type {\n",
              "        vertical-align: middle;\n",
              "    }\n",
              "\n",
              "    .dataframe tbody tr th {\n",
              "        vertical-align: top;\n",
              "    }\n",
              "\n",
              "    .dataframe thead th {\n",
              "        text-align: right;\n",
              "    }\n",
              "</style>\n",
              "<table border=\"1\" class=\"dataframe\">\n",
              "  <thead>\n",
              "    <tr style=\"text-align: right;\">\n",
              "      <th></th>\n",
              "      <th>id</th>\n",
              "      <th>name</th>\n",
              "      <th>host_id</th>\n",
              "      <th>host_name</th>\n",
              "      <th>neighbourhood_group</th>\n",
              "      <th>neighbourhood</th>\n",
              "      <th>latitude</th>\n",
              "      <th>longitude</th>\n",
              "      <th>room_type</th>\n",
              "      <th>price</th>\n",
              "      <th>minimum_nights</th>\n",
              "      <th>number_of_reviews</th>\n",
              "      <th>last_review</th>\n",
              "      <th>reviews_per_month</th>\n",
              "      <th>calculated_host_listings_count</th>\n",
              "      <th>availability_365</th>\n",
              "      <th>number_of_reviews_ltm</th>\n",
              "      <th>license</th>\n",
              "    </tr>\n",
              "  </thead>\n",
              "  <tbody>\n",
              "    <tr>\n",
              "      <th>0</th>\n",
              "      <td>44085</td>\n",
              "      <td>Villa in Addaia great sea view and fun pool</td>\n",
              "      <td>193043</td>\n",
              "      <td>Manuela</td>\n",
              "      <td>NaN</td>\n",
              "      <td>Es Mercadal</td>\n",
              "      <td>40.00974</td>\n",
              "      <td>4.19958</td>\n",
              "      <td>Entire home/apt</td>\n",
              "      <td>460.0</td>\n",
              "      <td>5</td>\n",
              "      <td>21</td>\n",
              "      <td>2024-08-25</td>\n",
              "      <td>0.14</td>\n",
              "      <td>3</td>\n",
              "      <td>0</td>\n",
              "      <td>1</td>\n",
              "      <td>ET3036ME</td>\n",
              "    </tr>\n",
              "    <tr>\n",
              "      <th>1</th>\n",
              "      <td>102558</td>\n",
              "      <td>appartment in Menorca -Cala Galdana</td>\n",
              "      <td>536023</td>\n",
              "      <td>Yolanda</td>\n",
              "      <td>NaN</td>\n",
              "      <td>Ciutadella de Menorca</td>\n",
              "      <td>39.94340</td>\n",
              "      <td>3.96130</td>\n",
              "      <td>Entire home/apt</td>\n",
              "      <td>121.0</td>\n",
              "      <td>3</td>\n",
              "      <td>67</td>\n",
              "      <td>2024-10-29</td>\n",
              "      <td>0.41</td>\n",
              "      <td>1</td>\n",
              "      <td>343</td>\n",
              "      <td>9</td>\n",
              "      <td>ET2253ME</td>\n",
              "    </tr>\n",
              "    <tr>\n",
              "      <th>2</th>\n",
              "      <td>294398</td>\n",
              "      <td>Son Esquella - Charming Menorca</td>\n",
              "      <td>312145</td>\n",
              "      <td>Sol</td>\n",
              "      <td>NaN</td>\n",
              "      <td>Alaior</td>\n",
              "      <td>39.89082</td>\n",
              "      <td>4.11595</td>\n",
              "      <td>Entire home/apt</td>\n",
              "      <td>NaN</td>\n",
              "      <td>32</td>\n",
              "      <td>11</td>\n",
              "      <td>2019-09-08</td>\n",
              "      <td>0.10</td>\n",
              "      <td>3</td>\n",
              "      <td>0</td>\n",
              "      <td>0</td>\n",
              "      <td>NaN</td>\n",
              "    </tr>\n",
              "    <tr>\n",
              "      <th>3</th>\n",
              "      <td>295705</td>\n",
              "      <td>The Most Perfect Villa in Menorca!</td>\n",
              "      <td>312145</td>\n",
              "      <td>Sol</td>\n",
              "      <td>NaN</td>\n",
              "      <td>Alaior</td>\n",
              "      <td>39.89028</td>\n",
              "      <td>4.11476</td>\n",
              "      <td>Entire home/apt</td>\n",
              "      <td>NaN</td>\n",
              "      <td>32</td>\n",
              "      <td>24</td>\n",
              "      <td>2022-05-30</td>\n",
              "      <td>0.16</td>\n",
              "      <td>3</td>\n",
              "      <td>0</td>\n",
              "      <td>0</td>\n",
              "      <td>NaN</td>\n",
              "    </tr>\n",
              "    <tr>\n",
              "      <th>4</th>\n",
              "      <td>357026</td>\n",
              "      <td>Coqueto apartamento Son Bou Menorca + Rent our...</td>\n",
              "      <td>1740878</td>\n",
              "      <td>Emilio</td>\n",
              "      <td>NaN</td>\n",
              "      <td>Alaior</td>\n",
              "      <td>39.90520</td>\n",
              "      <td>4.07072</td>\n",
              "      <td>Entire home/apt</td>\n",
              "      <td>75.0</td>\n",
              "      <td>5</td>\n",
              "      <td>83</td>\n",
              "      <td>2024-11-03</td>\n",
              "      <td>0.55</td>\n",
              "      <td>1</td>\n",
              "      <td>288</td>\n",
              "      <td>16</td>\n",
              "      <td>Licencia San Jaume Zona 5 APM-1880</td>\n",
              "    </tr>\n",
              "  </tbody>\n",
              "</table>\n",
              "</div>\n",
              "    <div class=\"colab-df-buttons\">\n",
              "\n",
              "  <div class=\"colab-df-container\">\n",
              "    <button class=\"colab-df-convert\" onclick=\"convertToInteractive('df-2392ef2a-7a41-4efd-b832-502a58f8f55b')\"\n",
              "            title=\"Convert this dataframe to an interactive table.\"\n",
              "            style=\"display:none;\">\n",
              "\n",
              "  <svg xmlns=\"http://www.w3.org/2000/svg\" height=\"24px\" viewBox=\"0 -960 960 960\">\n",
              "    <path d=\"M120-120v-720h720v720H120Zm60-500h600v-160H180v160Zm220 220h160v-160H400v160Zm0 220h160v-160H400v160ZM180-400h160v-160H180v160Zm440 0h160v-160H620v160ZM180-180h160v-160H180v160Zm440 0h160v-160H620v160Z\"/>\n",
              "  </svg>\n",
              "    </button>\n",
              "\n",
              "  <style>\n",
              "    .colab-df-container {\n",
              "      display:flex;\n",
              "      gap: 12px;\n",
              "    }\n",
              "\n",
              "    .colab-df-convert {\n",
              "      background-color: #E8F0FE;\n",
              "      border: none;\n",
              "      border-radius: 50%;\n",
              "      cursor: pointer;\n",
              "      display: none;\n",
              "      fill: #1967D2;\n",
              "      height: 32px;\n",
              "      padding: 0 0 0 0;\n",
              "      width: 32px;\n",
              "    }\n",
              "\n",
              "    .colab-df-convert:hover {\n",
              "      background-color: #E2EBFA;\n",
              "      box-shadow: 0px 1px 2px rgba(60, 64, 67, 0.3), 0px 1px 3px 1px rgba(60, 64, 67, 0.15);\n",
              "      fill: #174EA6;\n",
              "    }\n",
              "\n",
              "    .colab-df-buttons div {\n",
              "      margin-bottom: 4px;\n",
              "    }\n",
              "\n",
              "    [theme=dark] .colab-df-convert {\n",
              "      background-color: #3B4455;\n",
              "      fill: #D2E3FC;\n",
              "    }\n",
              "\n",
              "    [theme=dark] .colab-df-convert:hover {\n",
              "      background-color: #434B5C;\n",
              "      box-shadow: 0px 1px 3px 1px rgba(0, 0, 0, 0.15);\n",
              "      filter: drop-shadow(0px 1px 2px rgba(0, 0, 0, 0.3));\n",
              "      fill: #FFFFFF;\n",
              "    }\n",
              "  </style>\n",
              "\n",
              "    <script>\n",
              "      const buttonEl =\n",
              "        document.querySelector('#df-2392ef2a-7a41-4efd-b832-502a58f8f55b button.colab-df-convert');\n",
              "      buttonEl.style.display =\n",
              "        google.colab.kernel.accessAllowed ? 'block' : 'none';\n",
              "\n",
              "      async function convertToInteractive(key) {\n",
              "        const element = document.querySelector('#df-2392ef2a-7a41-4efd-b832-502a58f8f55b');\n",
              "        const dataTable =\n",
              "          await google.colab.kernel.invokeFunction('convertToInteractive',\n",
              "                                                    [key], {});\n",
              "        if (!dataTable) return;\n",
              "\n",
              "        const docLinkHtml = 'Like what you see? Visit the ' +\n",
              "          '<a target=\"_blank\" href=https://colab.research.google.com/notebooks/data_table.ipynb>data table notebook</a>'\n",
              "          + ' to learn more about interactive tables.';\n",
              "        element.innerHTML = '';\n",
              "        dataTable['output_type'] = 'display_data';\n",
              "        await google.colab.output.renderOutput(dataTable, element);\n",
              "        const docLink = document.createElement('div');\n",
              "        docLink.innerHTML = docLinkHtml;\n",
              "        element.appendChild(docLink);\n",
              "      }\n",
              "    </script>\n",
              "  </div>\n",
              "\n",
              "\n",
              "<div id=\"df-82522f49-8821-4a08-b123-fbde4c12ba81\">\n",
              "  <button class=\"colab-df-quickchart\" onclick=\"quickchart('df-82522f49-8821-4a08-b123-fbde4c12ba81')\"\n",
              "            title=\"Suggest charts\"\n",
              "            style=\"display:none;\">\n",
              "\n",
              "<svg xmlns=\"http://www.w3.org/2000/svg\" height=\"24px\"viewBox=\"0 0 24 24\"\n",
              "     width=\"24px\">\n",
              "    <g>\n",
              "        <path d=\"M19 3H5c-1.1 0-2 .9-2 2v14c0 1.1.9 2 2 2h14c1.1 0 2-.9 2-2V5c0-1.1-.9-2-2-2zM9 17H7v-7h2v7zm4 0h-2V7h2v10zm4 0h-2v-4h2v4z\"/>\n",
              "    </g>\n",
              "</svg>\n",
              "  </button>\n",
              "\n",
              "<style>\n",
              "  .colab-df-quickchart {\n",
              "      --bg-color: #E8F0FE;\n",
              "      --fill-color: #1967D2;\n",
              "      --hover-bg-color: #E2EBFA;\n",
              "      --hover-fill-color: #174EA6;\n",
              "      --disabled-fill-color: #AAA;\n",
              "      --disabled-bg-color: #DDD;\n",
              "  }\n",
              "\n",
              "  [theme=dark] .colab-df-quickchart {\n",
              "      --bg-color: #3B4455;\n",
              "      --fill-color: #D2E3FC;\n",
              "      --hover-bg-color: #434B5C;\n",
              "      --hover-fill-color: #FFFFFF;\n",
              "      --disabled-bg-color: #3B4455;\n",
              "      --disabled-fill-color: #666;\n",
              "  }\n",
              "\n",
              "  .colab-df-quickchart {\n",
              "    background-color: var(--bg-color);\n",
              "    border: none;\n",
              "    border-radius: 50%;\n",
              "    cursor: pointer;\n",
              "    display: none;\n",
              "    fill: var(--fill-color);\n",
              "    height: 32px;\n",
              "    padding: 0;\n",
              "    width: 32px;\n",
              "  }\n",
              "\n",
              "  .colab-df-quickchart:hover {\n",
              "    background-color: var(--hover-bg-color);\n",
              "    box-shadow: 0 1px 2px rgba(60, 64, 67, 0.3), 0 1px 3px 1px rgba(60, 64, 67, 0.15);\n",
              "    fill: var(--button-hover-fill-color);\n",
              "  }\n",
              "\n",
              "  .colab-df-quickchart-complete:disabled,\n",
              "  .colab-df-quickchart-complete:disabled:hover {\n",
              "    background-color: var(--disabled-bg-color);\n",
              "    fill: var(--disabled-fill-color);\n",
              "    box-shadow: none;\n",
              "  }\n",
              "\n",
              "  .colab-df-spinner {\n",
              "    border: 2px solid var(--fill-color);\n",
              "    border-color: transparent;\n",
              "    border-bottom-color: var(--fill-color);\n",
              "    animation:\n",
              "      spin 1s steps(1) infinite;\n",
              "  }\n",
              "\n",
              "  @keyframes spin {\n",
              "    0% {\n",
              "      border-color: transparent;\n",
              "      border-bottom-color: var(--fill-color);\n",
              "      border-left-color: var(--fill-color);\n",
              "    }\n",
              "    20% {\n",
              "      border-color: transparent;\n",
              "      border-left-color: var(--fill-color);\n",
              "      border-top-color: var(--fill-color);\n",
              "    }\n",
              "    30% {\n",
              "      border-color: transparent;\n",
              "      border-left-color: var(--fill-color);\n",
              "      border-top-color: var(--fill-color);\n",
              "      border-right-color: var(--fill-color);\n",
              "    }\n",
              "    40% {\n",
              "      border-color: transparent;\n",
              "      border-right-color: var(--fill-color);\n",
              "      border-top-color: var(--fill-color);\n",
              "    }\n",
              "    60% {\n",
              "      border-color: transparent;\n",
              "      border-right-color: var(--fill-color);\n",
              "    }\n",
              "    80% {\n",
              "      border-color: transparent;\n",
              "      border-right-color: var(--fill-color);\n",
              "      border-bottom-color: var(--fill-color);\n",
              "    }\n",
              "    90% {\n",
              "      border-color: transparent;\n",
              "      border-bottom-color: var(--fill-color);\n",
              "    }\n",
              "  }\n",
              "</style>\n",
              "\n",
              "  <script>\n",
              "    async function quickchart(key) {\n",
              "      const quickchartButtonEl =\n",
              "        document.querySelector('#' + key + ' button');\n",
              "      quickchartButtonEl.disabled = true;  // To prevent multiple clicks.\n",
              "      quickchartButtonEl.classList.add('colab-df-spinner');\n",
              "      try {\n",
              "        const charts = await google.colab.kernel.invokeFunction(\n",
              "            'suggestCharts', [key], {});\n",
              "      } catch (error) {\n",
              "        console.error('Error during call to suggestCharts:', error);\n",
              "      }\n",
              "      quickchartButtonEl.classList.remove('colab-df-spinner');\n",
              "      quickchartButtonEl.classList.add('colab-df-quickchart-complete');\n",
              "    }\n",
              "    (() => {\n",
              "      let quickchartButtonEl =\n",
              "        document.querySelector('#df-82522f49-8821-4a08-b123-fbde4c12ba81 button');\n",
              "      quickchartButtonEl.style.display =\n",
              "        google.colab.kernel.accessAllowed ? 'block' : 'none';\n",
              "    })();\n",
              "  </script>\n",
              "</div>\n",
              "\n",
              "    </div>\n",
              "  </div>\n"
            ],
            "application/vnd.google.colaboratory.intrinsic+json": {
              "type": "dataframe",
              "variable_name": "df",
              "summary": "{\n  \"name\": \"df\",\n  \"rows\": 3772,\n  \"fields\": [\n    {\n      \"column\": \"id\",\n      \"properties\": {\n        \"dtype\": \"number\",\n        \"std\": 501179160202421632,\n        \"min\": 44085,\n        \"max\": 1321825518630301872,\n        \"num_unique_values\": 3772,\n        \"samples\": [\n          10504789,\n          637275012413450455,\n          1284848247023606385\n        ],\n        \"semantic_type\": \"\",\n        \"description\": \"\"\n      }\n    },\n    {\n      \"column\": \"name\",\n      \"properties\": {\n        \"dtype\": \"string\",\n        \"num_unique_values\": 3634,\n        \"samples\": [\n          \"Can Matthis apartamento con Piscina y Terraza\",\n          \"Villa Blanca  primera l\\u00ednea de mar\",\n          \"Apartamentos Cala Blanca 3\"\n        ],\n        \"semantic_type\": \"\",\n        \"description\": \"\"\n      }\n    },\n    {\n      \"column\": \"host_id\",\n      \"properties\": {\n        \"dtype\": \"number\",\n        \"std\": 191918197,\n        \"min\": 193043,\n        \"max\": 668209292,\n        \"num_unique_values\": 1569,\n        \"samples\": [\n          559574969,\n          431977102,\n          180116556\n        ],\n        \"semantic_type\": \"\",\n        \"description\": \"\"\n      }\n    },\n    {\n      \"column\": \"host_name\",\n      \"properties\": {\n        \"dtype\": \"category\",\n        \"num_unique_values\": 886,\n        \"samples\": [\n          \"Jos\\u00e9 Luis\",\n          \"Adelaida\",\n          \"Menorca Gold\"\n        ],\n        \"semantic_type\": \"\",\n        \"description\": \"\"\n      }\n    },\n    {\n      \"column\": \"neighbourhood_group\",\n      \"properties\": {\n        \"dtype\": \"number\",\n        \"std\": null,\n        \"min\": null,\n        \"max\": null,\n        \"num_unique_values\": 0,\n        \"samples\": [],\n        \"semantic_type\": \"\",\n        \"description\": \"\"\n      }\n    },\n    {\n      \"column\": \"neighbourhood\",\n      \"properties\": {\n        \"dtype\": \"category\",\n        \"num_unique_values\": 8,\n        \"samples\": [],\n        \"semantic_type\": \"\",\n        \"description\": \"\"\n      }\n    },\n    {\n      \"column\": \"latitude\",\n      \"properties\": {\n        \"dtype\": \"number\",\n        \"std\": 0.07191336082138028,\n        \"min\": 39.8091502395924,\n        \"max\": 40.06206,\n        \"num_unique_values\": 3338,\n        \"samples\": [],\n        \"semantic_type\": \"\",\n        \"description\": \"\"\n      }\n    },\n    {\n      \"column\": \"longitude\",\n      \"properties\": {\n        \"dtype\": \"number\",\n        \"std\": 0.17367507998219675,\n        \"min\": 3.79341,\n        \"max\": 4.3102348,\n        \"num_unique_values\": 3360,\n        \"samples\": [],\n        \"semantic_type\": \"\",\n        \"description\": \"\"\n      }\n    },\n    {\n      \"column\": \"room_type\",\n      \"properties\": {\n        \"dtype\": \"category\",\n        \"num_unique_values\": 3,\n        \"samples\": [],\n        \"semantic_type\": \"\",\n        \"description\": \"\"\n      }\n    },\n    {\n      \"column\": \"price\",\n      \"properties\": {\n        \"dtype\": \"number\",\n        \"std\": 1188.8051477663787,\n        \"min\": 10.0,\n        \"max\": 23229.0,\n        \"num_unique_values\": 716,\n        \"samples\": [],\n        \"semantic_type\": \"\",\n        \"description\": \"\"\n      }\n    },\n    {\n      \"column\": \"minimum_nights\",\n      \"properties\": {\n        \"dtype\": \"number\",\n        \"std\": 7,\n        \"min\": 1,\n        \"max\": 364,\n        \"num_unique_values\": 21,\n        \"samples\": [],\n        \"semantic_type\": \"\",\n        \"description\": \"\"\n      }\n    },\n    {\n      \"column\": \"number_of_reviews\",\n      \"properties\": {\n        \"dtype\": \"number\",\n        \"std\": 30,\n        \"min\": 0,\n        \"max\": 468,\n        \"num_unique_values\": 164,\n        \"samples\": [],\n        \"semantic_type\": \"\",\n        \"description\": \"\"\n      }\n    },\n    {\n      \"column\": \"last_review\",\n      \"properties\": {\n        \"dtype\": \"object\",\n        \"num_unique_values\": 486,\n        \"samples\": [],\n        \"semantic_type\": \"\",\n        \"description\": \"\"\n      }\n    },\n    {\n      \"column\": \"reviews_per_month\",\n      \"properties\": {\n        \"dtype\": \"number\",\n        \"std\": 0.7092367881787768,\n        \"min\": 0.01,\n        \"max\": 14.49,\n        \"num_unique_values\": 265,\n        \"samples\": [],\n        \"semantic_type\": \"\",\n        \"description\": \"\"\n      }\n    },\n    {\n      \"column\": \"calculated_host_listings_count\",\n      \"properties\": {\n        \"dtype\": \"number\",\n        \"std\": 53,\n        \"min\": 1,\n        \"max\": 213,\n        \"num_unique_values\": 37,\n        \"samples\": [],\n        \"semantic_type\": \"\",\n        \"description\": \"\"\n      }\n    },\n    {\n      \"column\": \"availability_365\",\n      \"properties\": {\n        \"dtype\": \"number\",\n        \"std\": 116,\n        \"min\": 0,\n        \"max\": 365,\n        \"num_unique_values\": 358,\n        \"samples\": [],\n        \"semantic_type\": \"\",\n        \"description\": \"\"\n      }\n    },\n    {\n      \"column\": \"number_of_reviews_ltm\",\n      \"properties\": {\n        \"dtype\": \"number\",\n        \"std\": 8,\n        \"min\": 0,\n        \"max\": 238,\n        \"num_unique_values\": 53,\n        \"samples\": [],\n        \"semantic_type\": \"\",\n        \"description\": \"\"\n      }\n    },\n    {\n      \"column\": \"license\",\n      \"properties\": {\n        \"dtype\": \"string\",\n        \"num_unique_values\": 2006,\n        \"samples\": [],\n        \"semantic_type\": \"\",\n        \"description\": \"\"\n      }\n    }\n  ]\n}"
            }
          },
          "metadata": {},
          "execution_count": 26
        }
      ]
    },
    {
      "cell_type": "code",
      "source": [
        "plt.figure(figsize=(8, 6))\n",
        "sns.boxplot(x=df['price'])\n",
        "plt.title('Boxplot de \"Precio por noche en Airbnbs de Menorca\"')\n",
        "plt.xlabel('Precio (€)')\n",
        "plt.tight_layout()\n",
        "plt.show()"
      ],
      "metadata": {
        "colab": {
          "base_uri": "https://localhost:8080/",
          "height": 607
        },
        "id": "WETQE3wEkaA-",
        "outputId": "33c2dab7-c9a6-4635-f8fd-452cdf7f1b8c"
      },
      "execution_count": 27,
      "outputs": [
        {
          "output_type": "display_data",
          "data": {
            "text/plain": [
              "<Figure size 800x600 with 1 Axes>"
            ],
            "image/png": "[encoded data removed]"
          },
          "metadata": {}
        }
      ]
    },
    {
      "cell_type": "markdown",
      "source": [
        "### 3.2. Calcula el precio medio y su mediana. Detecta los outliers y sustituye sus valores por el precio medio que has calculado. Consideraremos outlier aquel que se aleje de la media más de 2 veces la desviación estándar. A continuación, calcula de nuevo la media y la mediana. Comenta si han cambiado y, en caso afirmativo, cómo."
      ],
      "metadata": {
        "id": "-khc_PSKle2G"
      }
    },
    {
      "cell_type": "code",
      "source": [
        "# Calculamos el precio medio, su mediana y la desviación estándar con outliers.\n",
        "mean_price = df['price'].mean()\n",
        "median_price = df['price'].median()\n",
        "std_price = df['price'].std()\n",
        "\n",
        "# Encontramos los outliers y los reemplazamos por los valores calculados antes\n",
        "df_no_outliers = df.copy()\n",
        "outlier_condition = (df['price'] < mean_price - 2 * std_price) | (df['price'] > mean_price + 2 * std_price)\n",
        "df_no_outliers.loc[outlier_condition, 'price'] = mean_price\n",
        "\n",
        "# Volvemos a calcular la media y mediana sin outliers\n",
        "no_outliers_mean_price = df_no_outliers['price'].mean()\n",
        "no_outliers_median_price = df_no_outliers['price'].median()\n",
        "\n",
        "# Mostramos los resultados\n",
        "print(f'- Media: {mean_price:.2f}€  --->  {no_outliers_mean_price:.2f}€')\n",
        "print(f'- Mediana: {median_price:.2f}  --->  {no_outliers_median_price:.2f}€')\n",
        "print(f'- Desviación estándar: {std_price:.2f}€')"
      ],
      "metadata": {
        "colab": {
          "base_uri": "https://localhost:8080/"
        },
        "id": "4XzeWHauldEK",
        "outputId": "0f598fdd-ed10-4e47-dac0-a3eecc6d445b"
      },
      "execution_count": 31,
      "outputs": [
        {
          "output_type": "stream",
          "name": "stdout",
          "text": [
            "- Media: 436.14€  --->  305.37€\n",
            "- Mediana: 192.00  --->  192.00€\n",
            "- Desviación estándar: 1188.81€\n"
          ]
        }
      ]
    },
    {
      "cell_type": "markdown",
      "source": [
        "Después de sustituir los outliers por el precio medio:\n",
        "- La media ha bajado notablemente (de 436,14 € a 305,37 €), lo cual era esperable porque los valores extremos inflaban la media calculada al principio.\n",
        "\n",
        "- La mediana se ha mantenido igual (192,00 €), ya que no se ve afectada por los valores extremos de la misma forma que la media.\n",
        "\n",
        "Esto nos ayuda a confirmar que la media es sensible a los outliers, mientras que la mediana no se ve tan afectada."
      ],
      "metadata": {
        "id": "GN9Wva1upgM6"
      }
    },
    {
      "cell_type": "markdown",
      "source": [
        "### 3.3. Calcula el precio medio (una vez sustituidos los outliers) por noche de cada uno de los municipios de la isla y ordénalos de más caro a más barato.\n"
      ],
      "metadata": {
        "id": "3sg-qu8PqKUW"
      }
    },
    {
      "cell_type": "code",
      "source": [
        "# Calculamos el precio medio por municipio después de limpiar los outliers\n",
        "avg_price_by_area = df_no_outliers.groupby('neighbourhood')['price'].mean()\n",
        "\n",
        "# Ordenamos los municipios de más caro a más barato\n",
        "sorted_avg_price_by_area = avg_price_by_area.sort_values(ascending=False)\n",
        "\n",
        "# Mostramos el resultado\n",
        "print('Precio medio por municipio')\n",
        "print('-' * 30)\n",
        "print(sorted_avg_price_by_area)"
      ],
      "metadata": {
        "colab": {
          "base_uri": "https://localhost:8080/"
        },
        "id": "VQIKjZ9KqL08",
        "outputId": "1462c737-2e23-44de-8bb3-4ef4fec45257"
      },
      "execution_count": 73,
      "outputs": [
        {
          "output_type": "stream",
          "name": "stdout",
          "text": [
            "Precio medio por municipio\n",
            "------------------------------\n",
            "neighbourhood\n",
            "Es Migjorn Gran          489.257046\n",
            "Ferreries                403.790431\n",
            "Sant Lluís               398.284436\n",
            "Mahón                    358.397254\n",
            "Alaior                   298.709857\n",
            "Ciutadella de Menorca    271.465242\n",
            "Es Mercadal              269.029271\n",
            "Es Castell               207.100000\n",
            "Name: price, dtype: float64\n"
          ]
        }
      ]
    },
    {
      "cell_type": "markdown",
      "source": [
        "Ahora también trabajaremos con el archivo detallado de comentarios: reviews.csv.gz\n",
        "\n",
        "### 3.4. Indica cuáles son los 10 usuarios (reviewer_id) que han escrito más comentarios en alojamientos que tienen licencia (columna license), ordenados de mayor a menor número de comentarios."
      ],
      "metadata": {
        "id": "W2yKwO0osGrO"
      }
    },
    {
      "cell_type": "code",
      "source": [
        "reviews_data = pd.read_csv('https://github.com/tnavarrete-iedib/bigdata-24-25/raw/refs/heads/main/reviews.csv.gz')\n",
        "listings_data = df.copy()\n",
        "\n",
        "# Combinamos los comentarios con la información de las licencias\n",
        "merged_reviews_data = reviews_data.merge(listings_data[['id', 'license']], left_on='listing_id', right_on='id')\n",
        "licensed_reviews_data = merged_reviews_data[merged_reviews_data['license'].notna()]\n",
        "\n",
        "# Agrupamos por revisor y contar el número de comentarios\n",
        "reviewer_comment_count = licensed_reviews_data.groupby('reviewer_id').size().reset_index(name='comment_count')\n",
        "sorted_reviewers = reviewer_comment_count.sort_values(by='comment_count', ascending=False).head(10)\n",
        "\n",
        "# Mostramos los 10 primeros revisores con un formato más claro\n",
        "print(f'{\"Licencia\":<15} {\"ID del revisor\":<15} {\"Recuento de comentarios\":<15}')\n",
        "print('-' * 65)\n",
        "\n",
        "for index, row in sorted_reviewers.iterrows():\n",
        "    reviewer_id = row['reviewer_id']\n",
        "    comment_count = row['comment_count']\n",
        "\n",
        "    # Obtenemos la información de la licencia\n",
        "    license_info = licensed_reviews_data[licensed_reviews_data['reviewer_id'] == reviewer_id]['license'].iloc[0]\n",
        "\n",
        "    # Mostramos los resultados\n",
        "    print(f'{license_info:<15} {reviewer_id:<15} {comment_count:<15}')"
      ],
      "metadata": {
        "colab": {
          "base_uri": "https://localhost:8080/"
        },
        "id": "dJQtJCxYsHDF",
        "outputId": "68277ab5-2ced-4e97-9b83-a3201f2ce3c5"
      },
      "execution_count": 76,
      "outputs": [
        {
          "output_type": "stream",
          "name": "stdout",
          "text": [
            "Licencia        ID del revisor  Recuento de comentarios\n",
            "-----------------------------------------------------------------\n",
            "ET1387ME        282037351       6              \n",
            "ET1412ME        194712546       6              \n",
            "ET2253ME        48504022        6              \n",
            "ET3382ME        75137674        5              \n",
            "ET 1237 ME      82820857        5              \n",
            "116/1989        408763892       5              \n",
            "ET38ME          5952665         5              \n",
            "ET1458ME        394948661       5              \n",
            "VTV391ME        265749973       5              \n",
            "ET0191ME        252193730       4              \n"
          ]
        }
      ]
    },
    {
      "cell_type": "markdown",
      "source": [
        "### 3.5. Calcula cuántos comentarios hay de cada municipio de la isla (no puedes usar la columna number_of_reviews del archivo listings, tienes que calcularlo a partir de los datos del archivo reviews). Ordénalos en orden decreciente por número de comentarios."
      ],
      "metadata": {
        "id": "yRshBImTwhF9"
      }
    },
    {
      "cell_type": "code",
      "source": [
        "# Merge reviews with listings to include neighbourhood column\n",
        "merged_data = reviews_data.merge(listings_data[['id', 'neighbourhood']], left_on='listing_id', right_on='id')\n",
        "\n",
        "# Count and sort\n",
        "comments_by_area = merged_data.groupby('neighbourhood').size().reset_index(name='comment_count')\n",
        "sorted_comments = comments_by_area.sort_values(by='comment_count', ascending=False)\n",
        "\n",
        "print('Número de comentarios por municipio:')\n",
        "print('-' * 40)\n",
        "for index, row in sorted_comments.iterrows():\n",
        "    print(f'{row[\"neighbourhood\"]:<21} -------> {row[\"comment_count\"]:<21}')"
      ],
      "metadata": {
        "colab": {
          "base_uri": "https://localhost:8080/"
        },
        "id": "aWGgYmubwpVf",
        "outputId": "3bdabcaa-b1bc-43cf-96d4-359dc2fb268e"
      },
      "execution_count": 75,
      "outputs": [
        {
          "output_type": "stream",
          "name": "stdout",
          "text": [
            "Número de comentarios por municipio:\n",
            "----------------------------------------\n",
            "Ciutadella de Menorca -------> 32756                \n",
            "Alaior                -------> 12446                \n",
            "Es Mercadal           -------> 11876                \n",
            "Sant Lluís            -------> 9441                 \n",
            "Mahón                 -------> 2990                 \n",
            "Ferreries             -------> 2057                 \n",
            "Es Migjorn Gran       -------> 729                  \n",
            "Es Castell            -------> 717                  \n"
          ]
        }
      ]
    }
  ]
}