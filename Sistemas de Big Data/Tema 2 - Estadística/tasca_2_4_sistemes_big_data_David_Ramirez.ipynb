{
  "nbformat": 4,
  "nbformat_minor": 0,
  "metadata": {
    "colab": {
      "provenance": []
    },
    "kernelspec": {
      "name": "python3",
      "display_name": "Python 3"
    },
    "language_info": {
      "name": "python"
    }
  },
  "cells": [
    {
      "cell_type": "markdown",
      "source": [
        "# **APARTADO 4**"
      ],
      "metadata": {
        "id": "nnw-y61NTD-3"
      }
    },
    {
      "cell_type": "markdown",
      "source": [
        "1. **Sabem que en una partida ens han sortit un 20% dels productes defectuosos. Si n'agafam 3 productes a l'atzar, quina probabilitat tenim de:**  \n",
        "    a. Que no n'hi hagi cap de defectuós  \n",
        "    b. Que n'hi hagi un o dos de defectuosos  \n",
        "    c. Que tots tres siguin defectuosos"
      ],
      "metadata": {
        "id": "MvwXBu6FWy6i"
      }
    },
    {
      "cell_type": "code",
      "source": [
        "import numpy as np\n",
        "import scipy.stats as stats\n",
        "\n",
        "# Probabilidades y parámetros\n",
        "p_broken = 0.2\n",
        "n_products = 3\n",
        "\n",
        "# a) Probabilidad de ningún defectuoso\n",
        "p_0_broken_products = stats.binom.pmf(0, n_products, p_broken) * 100\n",
        "\n",
        "# b) Probabilidad de uno o dos defectuosos\n",
        "p_1_broken_product = stats.binom.pmf(1, n_products, p_broken) * 100\n",
        "p_2_broken_products = stats.binom.pmf(2, n_products, p_broken) * 100\n",
        "p_1_or_2_broken_products = p_1_broken_product + p_2_broken_products\n",
        "\n",
        "# c) Probabilidad de todos defectuosos\n",
        "p_all_broken = stats.binom.pmf(3, n_products, p_broken) * 100\n",
        "\n",
        "print(f\"Probabilidad de que no haya productos defectuosos: {round(p_0_broken_products, 2)}%\")\n",
        "print(f\"Probabilidad de que haya uno o dos productos defectuosos: {round(p_1_or_2_broken_products, 2)}%\")\n",
        "print(f\"Probabilidad de que todos los productos sean defectuosos: {round(p_all_broken, 2)}%\")"
      ],
      "metadata": {
        "colab": {
          "base_uri": "https://localhost:8080/"
        },
        "id": "Dyxeh8t7Y6Kr",
        "outputId": "98a7f38b-873f-452d-d451-d3f80e8054f6"
      },
      "execution_count": 28,
      "outputs": [
        {
          "output_type": "stream",
          "name": "stdout",
          "text": [
            "Probabilidad de que no haya productos defectuosos: 51.2%\n",
            "Probabilidad de que haya uno o dos productos defectuosos: 48.0%\n",
            "Probabilidad de que todos los productos sean defectuosos: 0.8%\n"
          ]
        }
      ]
    },
    {
      "cell_type": "markdown",
      "source": [
        "**2. S'ha calculat que un determinat tractament contra una malaltia funciona correctament en el 80% dels casos. Si aplicam aquest tractament a 5 pacients, quina probabilitat tenim de:**  \n",
        "  a. Que els 5 pacients millorin  \n",
        "  b. Que almenys 3 pacients millorin"
      ],
      "metadata": {
        "id": "SY-9Mw0305i1"
      }
    },
    {
      "cell_type": "code",
      "source": [
        "# Probabilidades y parámetros\n",
        "p_tratment_success = 0.8\n",
        "n_patients = 5\n",
        "\n",
        "# a) Probabilidad de que todos mejoren\n",
        "p_all_improve = stats.binom.pmf(5, n_patients, p_tratment_success) * 100\n",
        "\n",
        "# b) Probabilidad de que al menos 3 mejoren (suma de 3, 4 o 5 éxitos)\n",
        "p_3_improve = stats.binom.pmf(3, n_patients, p_tratment_success) * 100\n",
        "p_4_improve = stats.binom.pmf(4, n_patients, p_tratment_success) * 100\n",
        "p_5_improve = stats.binom.pmf(5, n_patients, p_tratment_success) * 100\n",
        "p_at_least_3_improve = (p_3_improve + p_4_improve + p_5_improve)\n",
        "\n",
        "\n",
        "# Resultados\n",
        "print(f\"Probabilidad de que los 5 pacientes mejoren: {round(p_all_improve, 2)}%\")\n",
        "print(f\"Probabilidad de que al menos 3 pacientes mejoren: {round(p_at_least_3_improve, 2)}%\")"
      ],
      "metadata": {
        "colab": {
          "base_uri": "https://localhost:8080/"
        },
        "id": "LGVYu_JY05ao",
        "outputId": "d4a04aa9-48d0-4fb1-b284-5038b3e549a0"
      },
      "execution_count": 29,
      "outputs": [
        {
          "output_type": "stream",
          "name": "stdout",
          "text": [
            "Probabilidad de que los 5 pacientes mejoren: 32.77%\n",
            "Probabilidad de que al menos 3 pacientes mejoren: 94.21%\n"
          ]
        }
      ]
    }
  ]
}