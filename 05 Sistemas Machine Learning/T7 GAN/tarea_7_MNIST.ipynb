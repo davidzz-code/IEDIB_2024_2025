{
  "cells": [
    {
      "cell_type": "markdown",
      "source": [
        "# Sistemas de Machine Learning - Tarea 7\n",
        "Elige uno de los ejemplos de GAN disponibles en https://keras.io/examples/generative/ y realiza algunos cambios en el código fuente.\n",
        "\n",
        "Por ejemplo, estos cambios pueden referirse a los parámetros de los modelos, las imágenes de referencia que se utilizan o la arquitectura de los modelos (número de capas, neuronas por capa…).\n",
        "\n",
        "Documenta en tu cuaderno Colab las modificaciones que has hecho y las diferencias que has obtenido respecto al sistema original."
      ],
      "metadata": {
        "id": "AiNYG2sKbLBz"
      }
    },
    {
      "cell_type": "markdown",
      "metadata": {
        "id": "xk9YhDWT3OOh"
      },
      "source": [
        "# Conditional GAN\n",
        "\n",
        "**Author:** [Sayak Paul](https://twitter.com/RisingSayak)<br>\n",
        "**Date created:** 2021/07/13<br>\n",
        "**Last modified:** 2024/01/02<br>\n",
        "**Description:** Training a GAN conditioned on class labels to generate handwritten digits."
      ]
    },
    {
      "cell_type": "markdown",
      "metadata": {
        "id": "ryCv9vzq3OOl"
      },
      "source": [
        "Generative Adversarial Networks (GANs) let us generate novel image data, video data,\n",
        "or audio data from a random input. Typically, the random input is sampled\n",
        "from a normal distribution, before going through a series of transformations that turn\n",
        "it into something plausible (image, video, audio, etc.).\n",
        "\n",
        "However, a simple [DCGAN](https://arxiv.org/abs/1511.06434) doesn't let us control\n",
        "the appearance (e.g. class) of the samples we're generating. For instance,\n",
        "with a GAN that generates MNIST handwritten digits, a simple DCGAN wouldn't let us\n",
        "choose the class of digits we're generating.\n",
        "To be able to control what we generate, we need to _condition_ the GAN output\n",
        "on a semantic input, such as the class of an image.\n",
        "\n",
        "In this example, we'll build a **Conditional GAN** that can generate MNIST handwritten\n",
        "digits conditioned on a given class. Such a model can have various useful applications:\n",
        "\n",
        "* let's say you are dealing with an\n",
        "[imbalanced image dataset](https://developers.google.com/machine-learning/data-prep/construct/sampling-splitting/imbalanced-data),\n",
        "and you'd like to gather more examples for the skewed class to balance the dataset.\n",
        "Data collection can be a costly process on its own. You could instead train a Conditional GAN and use\n",
        "it to generate novel images for the class that needs balancing.\n",
        "* Since the generator learns to associate the generated samples with the class labels,\n",
        "its representations can also be used for [other downstream tasks](https://arxiv.org/abs/1809.11096).\n",
        "\n",
        "Following are the references used for developing this example:\n",
        "\n",
        "* [Conditional Generative Adversarial Nets](https://arxiv.org/abs/1411.1784)\n",
        "* [Lecture on Conditional Generation from Coursera](https://www.coursera.org/lecture/build-basic-generative-adversarial-networks-gans/conditional-generation-inputs-2OPrG)\n",
        "\n",
        "If you need a refresher on GANs, you can refer to the \"Generative adversarial networks\"\n",
        "section of\n",
        "[this resource](https://livebook.manning.com/book/deep-learning-with-python-second-edition/chapter-12/r-3/232).\n",
        "\n",
        "This example requires TensorFlow 2.5 or higher, as well as TensorFlow Docs, which can be\n",
        "installed using the following command:"
      ]
    },
    {
      "cell_type": "code",
      "execution_count": 2,
      "metadata": {
        "id": "MYtZ8w6n3OOm",
        "colab": {
          "base_uri": "https://localhost:8080/"
        },
        "outputId": "419f1e38-81c2-4eb0-ecd3-352e8e1300e0"
      },
      "outputs": [
        {
          "output_type": "stream",
          "name": "stdout",
          "text": [
            "  Preparing metadata (setup.py) ... \u001b[?25l\u001b[?25hdone\n",
            "  Building wheel for tensorflow-docs (setup.py) ... \u001b[?25l\u001b[?25hdone\n"
          ]
        }
      ],
      "source": [
        "!pip install -q git+https://github.com/tensorflow/docs"
      ]
    },
    {
      "cell_type": "markdown",
      "metadata": {
        "id": "pFgBU_Z83OOn"
      },
      "source": [
        "## Imports"
      ]
    },
    {
      "cell_type": "code",
      "execution_count": 3,
      "metadata": {
        "id": "T72QLUmc3OOn"
      },
      "outputs": [],
      "source": [
        "import keras\n",
        "\n",
        "from keras import layers\n",
        "from keras import ops\n",
        "from tensorflow_docs.vis import embed\n",
        "import tensorflow as tf\n",
        "import numpy as np\n",
        "import imageio"
      ]
    },
    {
      "cell_type": "markdown",
      "metadata": {
        "id": "Uih3uL4y3OOn"
      },
      "source": [
        "## Constants and hyperparameters"
      ]
    },
    {
      "cell_type": "code",
      "execution_count": 4,
      "metadata": {
        "id": "fw3dCQCz3OOn"
      },
      "outputs": [],
      "source": [
        "batch_size = 100 # Usamos un batch size más grande para hacerlo un poco más estable a pesar de un entrenamiento más lento\n",
        "num_channels = 1\n",
        "num_classes = 10\n",
        "image_size = 28\n",
        "latent_dim = 128"
      ]
    },
    {
      "cell_type": "markdown",
      "metadata": {
        "id": "mOOlzg6h3OOo"
      },
      "source": [
        "## Loading the MNIST dataset and preprocessing it"
      ]
    },
    {
      "cell_type": "code",
      "execution_count": 5,
      "metadata": {
        "id": "Grhf_ePG3OOo",
        "colab": {
          "base_uri": "https://localhost:8080/"
        },
        "outputId": "5c705b72-4a76-4082-abbe-bb1f9a1b8161"
      },
      "outputs": [
        {
          "output_type": "stream",
          "name": "stdout",
          "text": [
            "Downloading data from https://storage.googleapis.com/tensorflow/tf-keras-datasets/mnist.npz\n",
            "\u001b[1m11490434/11490434\u001b[0m \u001b[32m━━━━━━━━━━━━━━━━━━━━\u001b[0m\u001b[37m\u001b[0m \u001b[1m0s\u001b[0m 0us/step\n",
            "Shape of training images: (70000, 28, 28, 1)\n",
            "Shape of training labels: (70000, 10)\n"
          ]
        }
      ],
      "source": [
        "# We'll use all the available examples from both the training and test\n",
        "# sets.\n",
        "(x_train, y_train), (x_test, y_test) = keras.datasets.mnist.load_data()\n",
        "all_digits = np.concatenate([x_train, x_test])\n",
        "all_labels = np.concatenate([y_train, y_test])\n",
        "\n",
        "# Scale the pixel values to [0, 1] range, add a channel dimension to\n",
        "# the images, and one-hot encode the labels.\n",
        "all_digits = all_digits.astype(\"float32\") / 255.0\n",
        "all_digits = np.reshape(all_digits, (-1, 28, 28, 1))\n",
        "all_labels = keras.utils.to_categorical(all_labels, 10)\n",
        "\n",
        "# Create tf.data.Dataset.\n",
        "dataset = tf.data.Dataset.from_tensor_slices((all_digits, all_labels))\n",
        "dataset = dataset.shuffle(buffer_size=1024).batch(batch_size)\n",
        "\n",
        "print(f\"Shape of training images: {all_digits.shape}\")\n",
        "print(f\"Shape of training labels: {all_labels.shape}\")"
      ]
    },
    {
      "cell_type": "markdown",
      "metadata": {
        "id": "v8ppVcyn3OOo"
      },
      "source": [
        "## Calculating the number of input channel for the generator and discriminator\n",
        "\n",
        "In a regular (unconditional) GAN, we start by sampling noise (of some fixed\n",
        "dimension) from a normal distribution. In our case, we also need to account\n",
        "for the class labels. We will have to add the number of classes to\n",
        "the input channels of the generator (noise input) as well as the discriminator\n",
        "(generated image input)."
      ]
    },
    {
      "cell_type": "code",
      "execution_count": 6,
      "metadata": {
        "id": "4-jV8Oky3OOp",
        "colab": {
          "base_uri": "https://localhost:8080/"
        },
        "outputId": "770e7c9d-6900-46d0-d4c0-233e08c952e6"
      },
      "outputs": [
        {
          "output_type": "stream",
          "name": "stdout",
          "text": [
            "138 11\n"
          ]
        }
      ],
      "source": [
        "generator_in_channels = latent_dim + num_classes\n",
        "discriminator_in_channels = num_channels + num_classes\n",
        "print(generator_in_channels, discriminator_in_channels)"
      ]
    },
    {
      "cell_type": "markdown",
      "metadata": {
        "id": "fL7tmlx83OOp"
      },
      "source": [
        "## Creating the discriminator and generator\n",
        "\n",
        "The model definitions (`discriminator`, `generator`, and `ConditionalGAN`) have been\n",
        "adapted from [this example](https://keras.io/guides/customizing_what_happens_in_fit/)."
      ]
    },
    {
      "cell_type": "code",
      "execution_count": 7,
      "metadata": {
        "id": "8OYxFGZ-3OOp"
      },
      "outputs": [],
      "source": [
        "discriminator = keras.Sequential(\n",
        "    [\n",
        "        keras.layers.InputLayer((28, 28, discriminator_in_channels)),\n",
        "\n",
        "        layers.Conv2D(64, (5, 5), strides=(2, 2), padding=\"same\"), # Aumentamos el tamaño del filtro en la primera capa\n",
        "        layers.LeakyReLU(negative_slope=0.2),\n",
        "\n",
        "        layers.Conv2D(128, (3, 3), strides=(2, 2), padding=\"same\"),\n",
        "        layers.LeakyReLU(negative_slope=0.2),\n",
        "\n",
        "        # Añadimos una capa extra para mejorar la extracción de características\n",
        "        layers.Conv2D(256, (3, 3), strides=(2, 2), padding=\"same\"),\n",
        "        layers.LeakyReLU(negative_slope=0.2),\n",
        "\n",
        "        layers.GlobalMaxPooling2D(),\n",
        "        layers.Dense(128),  # Modificamos las neuronas para aumentar la capacidad de representación\n",
        "\n",
        "        layers.LeakyReLU(negative_slope=0.2),\n",
        "        layers.Dense(1),  # Salida con una única neurona para la clasificación binaria (real o falsa)\n",
        "    ],\n",
        "    name=\"discriminator\",\n",
        ")\n",
        "\n",
        "generator = keras.Sequential(\n",
        "    [\n",
        "        keras.layers.InputLayer((generator_in_channels,)),\n",
        "        layers.Dense(7 * 7 * 256), # Aumentamos los filtros para más detalle en la generación\n",
        "        layers.LeakyReLU(negative_slope=0.2),\n",
        "        layers.Reshape((7, 7, 256)),\n",
        "\n",
        "        layers.Conv2DTranspose(128, (4, 4), strides=(2, 2), padding=\"same\"),\n",
        "        layers.LeakyReLU(negative_slope=0.2),\n",
        "\n",
        "        layers.Conv2DTranspose(128, (4, 4), strides=(2, 2), padding=\"same\"),\n",
        "        layers.LeakyReLU(negative_slope=0.2),\n",
        "\n",
        "        layers.Conv2D(1, (7, 7), padding=\"same\", activation=\"sigmoid\"),\n",
        "    ],\n",
        "    name=\"generator\",\n",
        ")"
      ]
    },
    {
      "cell_type": "markdown",
      "metadata": {
        "id": "0CX_el_T3OOp"
      },
      "source": [
        "## Creating a `ConditionalGAN` model"
      ]
    },
    {
      "cell_type": "code",
      "execution_count": 8,
      "metadata": {
        "id": "9PgVuXfa3OOp"
      },
      "outputs": [],
      "source": [
        "\n",
        "class ConditionalGAN(keras.Model):\n",
        "    def __init__(self, discriminator, generator, latent_dim):\n",
        "        super().__init__()\n",
        "        self.discriminator = discriminator\n",
        "        self.generator = generator\n",
        "        self.latent_dim = latent_dim\n",
        "        self.seed_generator = keras.random.SeedGenerator(1337)\n",
        "        self.gen_loss_tracker = keras.metrics.Mean(name=\"generator_loss\")\n",
        "        self.disc_loss_tracker = keras.metrics.Mean(name=\"discriminator_loss\")\n",
        "\n",
        "    @property\n",
        "    def metrics(self):\n",
        "        return [self.gen_loss_tracker, self.disc_loss_tracker]\n",
        "\n",
        "    def compile(self, d_optimizer, g_optimizer, loss_fn):\n",
        "        super().compile()\n",
        "        self.d_optimizer = d_optimizer\n",
        "        self.g_optimizer = g_optimizer\n",
        "        self.loss_fn = loss_fn\n",
        "\n",
        "    def train_step(self, data):\n",
        "        # Unpack the data.\n",
        "        real_images, one_hot_labels = data\n",
        "\n",
        "        # Add dummy dimensions to the labels so that they can be concatenated with\n",
        "        # the images. This is for the discriminator.\n",
        "        image_one_hot_labels = one_hot_labels[:, :, None, None]\n",
        "        image_one_hot_labels = ops.repeat(\n",
        "            image_one_hot_labels, repeats=[image_size * image_size]\n",
        "        )\n",
        "        image_one_hot_labels = ops.reshape(\n",
        "            image_one_hot_labels, (-1, image_size, image_size, num_classes)\n",
        "        )\n",
        "\n",
        "        # Sample random points in the latent space and concatenate the labels.\n",
        "        # This is for the generator.\n",
        "        batch_size = ops.shape(real_images)[0]\n",
        "        random_latent_vectors = keras.random.normal(\n",
        "            shape=(batch_size, self.latent_dim), seed=self.seed_generator\n",
        "        )\n",
        "        random_vector_labels = ops.concatenate(\n",
        "            [random_latent_vectors, one_hot_labels], axis=1\n",
        "        )\n",
        "\n",
        "        # Decode the noise (guided by labels) to fake images.\n",
        "        generated_images = self.generator(random_vector_labels)\n",
        "\n",
        "        # Combine them with real images. Note that we are concatenating the labels\n",
        "        # with these images here.\n",
        "        fake_image_and_labels = ops.concatenate(\n",
        "            [generated_images, image_one_hot_labels], -1\n",
        "        )\n",
        "        real_image_and_labels = ops.concatenate([real_images, image_one_hot_labels], -1)\n",
        "        combined_images = ops.concatenate(\n",
        "            [fake_image_and_labels, real_image_and_labels], axis=0\n",
        "        )\n",
        "\n",
        "        # Assemble labels discriminating real from fake images.\n",
        "        labels = ops.concatenate(\n",
        "            [ops.ones((batch_size, 1)), ops.zeros((batch_size, 1))], axis=0\n",
        "        )\n",
        "\n",
        "        # Train the discriminator.\n",
        "        with tf.GradientTape() as tape:\n",
        "            predictions = self.discriminator(combined_images)\n",
        "            d_loss = self.loss_fn(labels, predictions)\n",
        "        grads = tape.gradient(d_loss, self.discriminator.trainable_weights)\n",
        "        self.d_optimizer.apply_gradients(\n",
        "            zip(grads, self.discriminator.trainable_weights)\n",
        "        )\n",
        "\n",
        "        # Sample random points in the latent space.\n",
        "        random_latent_vectors = keras.random.normal(\n",
        "            shape=(batch_size, self.latent_dim), seed=self.seed_generator\n",
        "        )\n",
        "        random_vector_labels = ops.concatenate(\n",
        "            [random_latent_vectors, one_hot_labels], axis=1\n",
        "        )\n",
        "\n",
        "        # Assemble labels that say \"all real images\".\n",
        "        misleading_labels = ops.zeros((batch_size, 1))\n",
        "\n",
        "        # Train the generator (note that we should *not* update the weights\n",
        "        # of the discriminator)!\n",
        "        with tf.GradientTape() as tape:\n",
        "            fake_images = self.generator(random_vector_labels)\n",
        "            fake_image_and_labels = ops.concatenate(\n",
        "                [fake_images, image_one_hot_labels], -1\n",
        "            )\n",
        "            predictions = self.discriminator(fake_image_and_labels)\n",
        "            g_loss = self.loss_fn(misleading_labels, predictions)\n",
        "        grads = tape.gradient(g_loss, self.generator.trainable_weights)\n",
        "        self.g_optimizer.apply_gradients(zip(grads, self.generator.trainable_weights))\n",
        "\n",
        "        # Monitor loss.\n",
        "        self.gen_loss_tracker.update_state(g_loss)\n",
        "        self.disc_loss_tracker.update_state(d_loss)\n",
        "        return {\n",
        "            \"g_loss\": self.gen_loss_tracker.result(),\n",
        "            \"d_loss\": self.disc_loss_tracker.result(),\n",
        "        }\n"
      ]
    },
    {
      "cell_type": "markdown",
      "metadata": {
        "id": "SWih_90o3OOq"
      },
      "source": [
        "## Training the Conditional GAN"
      ]
    },
    {
      "cell_type": "code",
      "execution_count": 9,
      "metadata": {
        "id": "euz2lKwG3OOq",
        "colab": {
          "base_uri": "https://localhost:8080/"
        },
        "outputId": "26772768-b13a-48f9-aab2-e904d462c931"
      },
      "outputs": [
        {
          "output_type": "stream",
          "name": "stdout",
          "text": [
            "Epoch 1/20\n",
            "\u001b[1m700/700\u001b[0m \u001b[32m━━━━━━━━━━━━━━━━━━━━\u001b[0m\u001b[37m\u001b[0m \u001b[1m49s\u001b[0m 44ms/step - d_loss: 0.3209 - g_loss: 4.8222\n",
            "Epoch 2/20\n",
            "\u001b[1m700/700\u001b[0m \u001b[32m━━━━━━━━━━━━━━━━━━━━\u001b[0m\u001b[37m\u001b[0m \u001b[1m31s\u001b[0m 44ms/step - d_loss: 0.3204 - g_loss: 2.7674\n",
            "Epoch 3/20\n",
            "\u001b[1m700/700\u001b[0m \u001b[32m━━━━━━━━━━━━━━━━━━━━\u001b[0m\u001b[37m\u001b[0m \u001b[1m30s\u001b[0m 43ms/step - d_loss: 0.2923 - g_loss: 2.7277\n",
            "Epoch 4/20\n",
            "\u001b[1m700/700\u001b[0m \u001b[32m━━━━━━━━━━━━━━━━━━━━\u001b[0m\u001b[37m\u001b[0m \u001b[1m30s\u001b[0m 43ms/step - d_loss: 0.1482 - g_loss: 3.9071\n",
            "Epoch 5/20\n",
            "\u001b[1m700/700\u001b[0m \u001b[32m━━━━━━━━━━━━━━━━━━━━\u001b[0m\u001b[37m\u001b[0m \u001b[1m42s\u001b[0m 44ms/step - d_loss: 0.5345 - g_loss: 2.4411\n",
            "Epoch 6/20\n",
            "\u001b[1m700/700\u001b[0m \u001b[32m━━━━━━━━━━━━━━━━━━━━\u001b[0m\u001b[37m\u001b[0m \u001b[1m40s\u001b[0m 43ms/step - d_loss: 0.5032 - g_loss: 1.4149\n",
            "Epoch 7/20\n",
            "\u001b[1m700/700\u001b[0m \u001b[32m━━━━━━━━━━━━━━━━━━━━\u001b[0m\u001b[37m\u001b[0m \u001b[1m41s\u001b[0m 43ms/step - d_loss: 0.5300 - g_loss: 1.2925\n",
            "Epoch 8/20\n",
            "\u001b[1m700/700\u001b[0m \u001b[32m━━━━━━━━━━━━━━━━━━━━\u001b[0m\u001b[37m\u001b[0m \u001b[1m30s\u001b[0m 43ms/step - d_loss: 0.5550 - g_loss: 1.2098\n",
            "Epoch 9/20\n",
            "\u001b[1m700/700\u001b[0m \u001b[32m━━━━━━━━━━━━━━━━━━━━\u001b[0m\u001b[37m\u001b[0m \u001b[1m41s\u001b[0m 43ms/step - d_loss: 0.5913 - g_loss: 1.0529\n",
            "Epoch 10/20\n",
            "\u001b[1m700/700\u001b[0m \u001b[32m━━━━━━━━━━━━━━━━━━━━\u001b[0m\u001b[37m\u001b[0m \u001b[1m41s\u001b[0m 44ms/step - d_loss: 0.6043 - g_loss: 1.0743\n",
            "Epoch 11/20\n",
            "\u001b[1m700/700\u001b[0m \u001b[32m━━━━━━━━━━━━━━━━━━━━\u001b[0m\u001b[37m\u001b[0m \u001b[1m41s\u001b[0m 43ms/step - d_loss: 0.6240 - g_loss: 0.9942\n",
            "Epoch 12/20\n",
            "\u001b[1m700/700\u001b[0m \u001b[32m━━━━━━━━━━━━━━━━━━━━\u001b[0m\u001b[37m\u001b[0m \u001b[1m41s\u001b[0m 43ms/step - d_loss: 0.6294 - g_loss: 0.9323\n",
            "Epoch 13/20\n",
            "\u001b[1m700/700\u001b[0m \u001b[32m━━━━━━━━━━━━━━━━━━━━\u001b[0m\u001b[37m\u001b[0m \u001b[1m30s\u001b[0m 43ms/step - d_loss: 0.6464 - g_loss: 0.9024\n",
            "Epoch 14/20\n",
            "\u001b[1m700/700\u001b[0m \u001b[32m━━━━━━━━━━━━━━━━━━━━\u001b[0m\u001b[37m\u001b[0m \u001b[1m30s\u001b[0m 43ms/step - d_loss: 0.6473 - g_loss: 0.8746\n",
            "Epoch 15/20\n",
            "\u001b[1m700/700\u001b[0m \u001b[32m━━━━━━━━━━━━━━━━━━━━\u001b[0m\u001b[37m\u001b[0m \u001b[1m30s\u001b[0m 43ms/step - d_loss: 0.6346 - g_loss: 0.9305\n",
            "Epoch 16/20\n",
            "\u001b[1m700/700\u001b[0m \u001b[32m━━━━━━━━━━━━━━━━━━━━\u001b[0m\u001b[37m\u001b[0m \u001b[1m30s\u001b[0m 43ms/step - d_loss: 0.6401 - g_loss: 0.9193\n",
            "Epoch 17/20\n",
            "\u001b[1m700/700\u001b[0m \u001b[32m━━━━━━━━━━━━━━━━━━━━\u001b[0m\u001b[37m\u001b[0m \u001b[1m30s\u001b[0m 43ms/step - d_loss: 0.6375 - g_loss: 0.9205\n",
            "Epoch 18/20\n",
            "\u001b[1m700/700\u001b[0m \u001b[32m━━━━━━━━━━━━━━━━━━━━\u001b[0m\u001b[37m\u001b[0m \u001b[1m30s\u001b[0m 43ms/step - d_loss: 0.6459 - g_loss: 0.8461\n",
            "Epoch 19/20\n",
            "\u001b[1m700/700\u001b[0m \u001b[32m━━━━━━━━━━━━━━━━━━━━\u001b[0m\u001b[37m\u001b[0m \u001b[1m30s\u001b[0m 43ms/step - d_loss: 0.6283 - g_loss: 0.9259\n",
            "Epoch 20/20\n",
            "\u001b[1m700/700\u001b[0m \u001b[32m━━━━━━━━━━━━━━━━━━━━\u001b[0m\u001b[37m\u001b[0m \u001b[1m30s\u001b[0m 43ms/step - d_loss: 0.6272 - g_loss: 0.9302\n"
          ]
        },
        {
          "output_type": "execute_result",
          "data": {
            "text/plain": [
              "<keras.src.callbacks.history.History at 0x7b0a444a80d0>"
            ]
          },
          "metadata": {},
          "execution_count": 9
        }
      ],
      "source": [
        "cond_gan = ConditionalGAN(\n",
        "    discriminator=discriminator, generator=generator, latent_dim=latent_dim\n",
        ")\n",
        "cond_gan.compile(\n",
        "    d_optimizer=keras.optimizers.Adam(learning_rate=0.0003),\n",
        "    g_optimizer=keras.optimizers.Adam(learning_rate=0.0003),\n",
        "    loss_fn=keras.losses.BinaryCrossentropy(from_logits=True),\n",
        ")\n",
        "\n",
        "cond_gan.fit(dataset, epochs=20)"
      ]
    },
    {
      "cell_type": "markdown",
      "metadata": {
        "id": "sWs9t96w3OOq"
      },
      "source": [
        "## Interpolating between classes with the trained generator"
      ]
    },
    {
      "cell_type": "code",
      "execution_count": 16,
      "metadata": {
        "id": "iuJdN4073OOq",
        "colab": {
          "base_uri": "https://localhost:8080/"
        },
        "outputId": "2b395b7f-a79f-47d4-80bd-773d9c110903"
      },
      "outputs": [
        {
          "output_type": "stream",
          "name": "stdout",
          "text": [
            "\u001b[1m1/1\u001b[0m \u001b[32m━━━━━━━━━━━━━━━━━━━━\u001b[0m\u001b[37m\u001b[0m \u001b[1m0s\u001b[0m 139ms/step\n"
          ]
        }
      ],
      "source": [
        "# We first extract the trained generator from our Conditional GAN.\n",
        "trained_gen = cond_gan.generator\n",
        "\n",
        "# Choose the number of intermediate images that would be generated in\n",
        "# between the interpolation + 2 (start and last images).\n",
        "num_interpolation = 9  # @param {type:\"integer\"}\n",
        "\n",
        "# Sample noise for the interpolation.\n",
        "interpolation_noise = keras.random.normal(shape=(1, latent_dim))\n",
        "interpolation_noise = ops.repeat(interpolation_noise, repeats=num_interpolation)\n",
        "interpolation_noise = ops.reshape(interpolation_noise, (num_interpolation, latent_dim))\n",
        "\n",
        "\n",
        "def interpolate_class(first_number, second_number):\n",
        "    # Convert the start and end labels to one-hot encoded vectors.\n",
        "    first_label = keras.utils.to_categorical([first_number], num_classes)\n",
        "    second_label = keras.utils.to_categorical([second_number], num_classes)\n",
        "    first_label = ops.cast(first_label, \"float32\")\n",
        "    second_label = ops.cast(second_label, \"float32\")\n",
        "\n",
        "    # Calculate the interpolation vector between the two labels.\n",
        "    percent_second_label = ops.linspace(0, 1, num_interpolation)[:, None]\n",
        "    percent_second_label = ops.cast(percent_second_label, \"float32\")\n",
        "    interpolation_labels = (\n",
        "        first_label * (1 - percent_second_label) + second_label * percent_second_label\n",
        "    )\n",
        "\n",
        "    # Combine the noise and the labels and run inference with the generator.\n",
        "    noise_and_labels = ops.concatenate([interpolation_noise, interpolation_labels], 1)\n",
        "    fake = trained_gen.predict(noise_and_labels)\n",
        "    return fake\n",
        "\n",
        "\n",
        "start_class = 7  # @param {type:\"slider\", min:0, max:9, step:1}\n",
        "end_class = 5  # @param {type:\"slider\", min:0, max:9, step:1}\n",
        "\n",
        "fake_images = interpolate_class(start_class, end_class)"
      ]
    },
    {
      "cell_type": "markdown",
      "metadata": {
        "id": "Gz0nuAkO3OOq"
      },
      "source": [
        "Here, we first sample noise from a normal distribution and then we repeat that for\n",
        "`num_interpolation` times and reshape the result accordingly.\n",
        "We then distribute it uniformly for `num_interpolation`\n",
        "with the label identities being present in some proportion."
      ]
    },
    {
      "cell_type": "code",
      "execution_count": 17,
      "metadata": {
        "id": "XezFpRFe3OOq",
        "colab": {
          "base_uri": "https://localhost:8080/",
          "height": 117
        },
        "outputId": "dc1c65a5-b9eb-4225-dea9-c686d053059e"
      },
      "outputs": [
        {
          "output_type": "execute_result",
          "data": {
            "text/plain": [
              "<IPython.core.display.HTML object>"
            ],
            "text/html": [
              "<img src=\"data:image/gif;base64,R0lGODlhYABgAIcAAAAAAAEBAQICAgMDAwQEBAUFBQYGBgcHBwgICAkJCQoKCgsLCwwMDA0NDQ4ODg8PDxAQEBERERISEhMTExQUFBUVFRYWFhcXFxgYGBkZGRoaGhsbGxwcHB0dHR4eHh8fHyAgICEhISIiIiMjIyQkJCUlJSYmJicnJygoKCkpKSoqKisrKywsLC0tLS4uLi8vLzAwMDExMTIyMjMzMzQ0NDU1NTY2Njc3Nzg4ODk5OTo6Ojs7Ozw8PD09PT4+Pj8/P0BAQEFBQUJCQkNDQ0REREVFRUZGRkdHR0hISElJSUpKSktLS0xMTE1NTU5OTk9PT1BQUFFRUVJSUlNTU1RUVFVVVVZWVldXV1hYWFlZWVpaWltbW1xcXF1dXV5eXl9fX2BgYGFhYWJiYmNjY2RkZGVlZWZmZmdnZ2hoaGlpaWpqamtra2xsbG1tbW5ubm9vb3BwcHFxcXJycnNzc3R0dHV1dXZ2dnd3d3h4eHl5eXp6ent7e3x8fH19fX5+fn9/f4CAgIGBgYKCgoODg4SEhIWFhYaGhoeHh4iIiImJiYqKiouLi4yMjI2NjY6Ojo+Pj5CQkJGRkZKSkpOTk5SUlJWVlZaWlpiYmJmZmZqampubm5ycnJ2dnZ6enp+fn6CgoKGhoaKioqOjo6SkpKWlpaampqenp6ioqKmpqaqqqqurq6ysrK2tra6urq+vr7CwsLGxsbKysrOzs7S0tLW1tba2tre3t7i4uLm5ubq6uru7u7y8vL29vb6+vr+/v8DAwMHBwcLCwsPDw8TExMXFxcbGxsfHx8jIyMnJycrKysvLy8zMzM3Nzc7Ozs/Pz9DQ0NHR0dLS0tPT09TU1NXV1dbW1tfX19jY2NnZ2dra2tvb29zc3N3d3d7e3t/f3+Dg4OHh4eLi4uPj4+Tk5OXl5ebm5ufn5+jo6Onp6erq6uvr6+zs7O3t7e7u7u/v7/Dw8PHx8fLy8vPz8/T09PX19fb29vf39/j4+Pn5+fr6+vv7+/z8/P39/f7+/gAAAAAAACH5BABkAAAALAAAAABgAGAAAAj/AAEIHEiwoMGDCBMqXMiwocOHECNKnEixosWLGDNq3Mixo8ePIEOKHEmypMmTKFOqXMmypcuXMGPKnEmzps2bOHPq3Mmzp8+fQIMKHRmgKMKiSJEKWLrU6FAASZESLMp0gNWrBKwKkCqU6lanUAMstUqgbNkCaLN+/RlgQAEGGU7MoFHDht0aNW7g0LFjB4+/PPr21YHjRo0UHSIsODBg54ADCzbksCKHzp08evJo5vNH0KBBhAh9FhQIkJ8+e/LU2RLkRAYIB3YWWBBBBRZDr2bd2sWLF29gxJAlU7ZsmbJkyIwNC/aLl65ajsz0MJFhwU4EETTkgHNK27dx6NKJ/0/nTt49fPnS47tnbx48d+vSmQtXK1GXIC44MFCAwECBAV8FEFMDGqCQRB+whFNOOu24484778hjTz76VKhPPuvVM08877SzDjrJrNLIHFsM8cIJH1wgQQMIqAUWSxGQYAMWiuiCzjruxDMPPfTUc08++wTJT5AX4mMPPfPIw6E3zfRCCiJrSEGEDSl8YIED/RGwVksWtEDEGZYQA4889NiDnj78pNnPmmumuc+F97Bnj4bwtGMNLZPQEUYTOrAAAgULIFDAlixxsEMWfZDCjI4+ordPmvy06WaRctoT55z0jKNMLJo04gccZnQxRRNKHFGEDSdc0EACBKg0QhJvSP8iyzRkNgrko5C6iSF79fRqJobrtePNM8LkAgsqonByySSRPNLIG1DAwIEECaikwhWFnBLMNjtaeqaQbr5pJI/zdIuPhfrcI4878o0TzjfdbJPNNdVMc0oeSajAQQPWXkGIKcBoI8889Vh6Hj7r3VOPPO+1w8467LgzZj34gBspmxj3MySGxDhyxQwiQKCSCEi0Ackr0EisY7lJctgOOuFscw022WgDjjnrwENPxZBm7LO4xkCihQ0jRKDSBjhYgccnxqzTIDzwvOMOO+1qA40xwAxzjDLTdHOOO/Pc07PPGb+ZzzGTdIFDCRKoREEKP4DhiC7kmIOOOumcU8443mj/Y40yvLyCiiu06HJMNeKwE4/YF5PN5sb4GDOJFzqY0HZKDnTAghFqOOKKLLbockssq5QSSieZSILIH3440kkrv0QjTnmMQ0pkkETmU4864FRzCh5IpLABvylhp8EKRoCRxx+FLGIIH3KkUUYYXWAxhRNUuIFIKLc0I84781SM+z7AordrPe1oY4ws9sVwwQOxpSRAAQdEIMIMQywxxRZVGHHDCiggAQg+4IEOpKAJcrDEK5IhjnjsDHdFmpPBjiQPcySDFZFQgxA2YAAtsSQABogAB07gghrwgEociIADGJCABCggMkeYgydu8QxzzGNC5FvPPN6xjnOM4xvbqIYz/46hi08Ygg1NcMEDYEKABUggAx4QwQlGsAEJLCABBzCAAQ6QAA48QRC1SMY22PGrfeCDHvFYxzi0EQ1j7AIWo7BEIvSAhisUIQYeUABM5ocABjgAAhKAAAMEpRYC0K8DV5DEMrRhDnlQSB/7sEc82CGOv/FCFZcoRBy6kIQcwOAEHrBAA1oVk6gIqCCPWQAJxAAKb6QDHvd404XkoY5xWKMYtBAFI+jQhSK0oAL/EcBNomIQBVhABD6wQyvKAbZzKUwe59gGNHhBikbYgQxSCAIMPvAAAJ0SKBAogQ6yoIhdtOOGGKIHPNbBDWb0YhSEKEMSegADEmggAggg1E8uQP+DKMgwGTuj0D3SSI5o9CIVihgDDzhQAQcc4D/f9EkACNDHFDghgbawxo8QFo9xVMMYsNBEIdKQhBQ4QAEFiChQBKCACWzgB2uwRC6cQY70KCwd0dDFKHbJhSLAQAMJMMAAVPqTAUCgAyqowiFy4bV4kK894QDGJwBhBibIQAQXYICWiMoTsQwAAR2QwRHkMIpqmAlNA2VHNVxxiDAgwQUVCGpjnpJKC+BAC3zoxC/C8a14nKMbw9CEHJZwgxE8oIPCfMpbKECCKQgiFmJ0B7rY0Y1nyAIRXaCBCTCQAG8+BQD140AM3JAKc1AMTWY7xzSAAQo6IMEDFWDAXIciAAL/GOACMEiCGSgRjHdQKEj4WBg2eAGKQHDhBhV4QD4/W4AENAAFUMBDJ3RxDXpA8k30eIc6kEGKQICBCCdgYUo/e4AGUEAHcThFNcLRjluZMR7pEAcuGAGGH6zgAmrpilsScAET1KALk0CGPHxEqXiIYxrE2AQcioACDRBvKANQAAQwYAMqxGEStshGwexBwXeQAxmskEQcoPCCeyKAuRDYAAqqEAhWICMb68jQDtmBjmuw1QtH+CmLSAkUqihAAynYAR1YUY4KBekeO0zHOLpxjEqEwQUfkIABPmvMEMgACV2oAyeIwQ4IykON1CDGLASbBBCIksdCoYAKgJAFO0ii/xXE4MY8cJcPd4jjGr8ghSLcAIUYTIABB0jsUDzggy8EYhTGOEc7rOsmfKRDG8tQRSHAEIQWZECoW/lsCZgwh0vkYhuUkgc7ysGNZNhiFIUYgxBOsAEHcJUtAUhqIEgRDG/oLh52loYwOEUINlgBCCrIQAQS8OqeUMUFX3iELJQhjoGugxzSwIUR1wCFGpygAxNYDJqFIoABEIAGaNCEL6JRDnuwIxzW8IUn/PAFIZQgAfp8SgCa2wAevCEUw6iGacPBDFx04g9gMBEHX/RZASTgARYowh1QkQxsnIMe1bhFJvjQbhRwAAIEIDhdGVABDzTBD69wBjfSIQ9liIIPW//4wQjEW2yhECDFJ5DCH1aBDGp84xy6aAQYhMACCwTzswcpwARC8IIq+KEUvkjGNLKBijsUQV8O8CzQC2IAC5zgBlnggydo4YtjMMMSYFCBBBhgAI1/tigKCAEOoMAGRIyCFrjoRS8O8YQLSH3qAxELASSQgy8UAhOr6MUwenGLVuwBCRWI99Rre4ANQMEQuiiGM64hjWDAohNvCIIEzA70ARhAASRAwyrAxzBxGEMVjiCDDpaId4PMJgIrQEMpxIGNZOgCFZPowxmQoALrtL4g9dOADM6wiWfgYhN/SMMWmOCDFWQgfr8fiDFFoAMzSIIXmHDDEFQwAoZiSdDRB8CO9G1whTxkog5KAIFcw3+Q4KOAB1EoQxNiUAHEst/1DHhiCFIQgxJgQAF3d38CkUqDtG0COBC1ZQAJwAAP8AAodYAGMVEIsAB/NAFjN2UQOBUGwAARMAEVcAENBX0ZCBUGsACANAEUcIEjmHcUxQAM0AANUIArOBBucQA26B8AMoMC0RYuooNT4W0B+BMBAQAh+QQBZAD9ACwAABYAVwBKAIcAAAABAQECAgIDAwMEBAQFBQUGBgYHBwcICAgJCQkKCgoLCwsMDAwNDQ0ODg4PDw8QEBARERESEhITExMUFBQVFRUWFhYXFxcYGBgZGRkaGhobGxscHBwdHR0eHh4fHx8gICAhISEiIiIjIyMkJCQlJSUmJiYnJycoKCgpKSkqKiorKyssLCwtLS0uLi4vLy8wMDAxMTEyMjIzMzM0NDQ1NTU2NjY3Nzc4ODg5OTk6Ojo7Ozs8PDw9PT0+Pj4/Pz9AQEBBQUFCQkJDQ0NERERFRUVGRkZHR0dISEhJSUlKSkpLS0tMTExNTU1OTk5PT09QUFBRUVFTU1NUVFRVVVVWVlZXV1dYWFhaWlpbW1tcXFxdXV1eXl5fX19gYGBhYWFiYmJjY2NkZGRlZWVmZmZnZ2doaGhpaWlqampra2tsbGxtbW1ubm5vb29wcHBxcXFycnJzc3N0dHR1dXV2dnZ3d3d4eHh5eXl6enp7e3t8fHx9fX1+fn5/f3+AgICBgYGCgoKDg4OEhISFhYWGhoaHh4eIiIiJiYmKioqLi4uMjIyNjY2Ojo6Pj4+QkJCRkZGSkpKTk5OUlJSVlZWWlpaXl5eYmJiZmZmampqbm5ucnJydnZ2enp6fn5+goKChoaGioqKjo6OkpKSlpaWmpqanp6eoqKipqamqqqqrq6usrKytra2urq6vr6+wsLCxsbGysrKzs7O0tLS1tbW2tra3t7e4uLi5ubm6urq7u7u8vLy9vb2+vr6/v7/AwMDBwcHCwsLDw8PExMTFxcXGxsbHx8fIyMjJycnKysrLy8vMzMzNzc3Ozs7Pz8/Q0NDR0dHS0tLT09PU1NTV1dXW1tbX19fY2NjZ2dna2trb29vc3Nzd3d3e3t7f39/g4ODh4eHi4uLj4+Pk5OTl5eXm5ubn5+fo6Ojp6enq6urr6+vs7Ozt7e3u7u7v7+/w8PDx8fHy8vLz8/P09PT19fX29vb39/f4+Pj5+fn6+vr7+/v8/Pz9/f3+/v4AAAAAAAAAAAAI/wD7CRxIsKDBgwcDBBAgYIAAhRAFFEjAoIGDBw8cOGjQgAGDBQsUJDhA4GEAhChTqlzZb+GAiQ0gMEBQgEABAws8yCjCBIqUKVGcLEFiZAgQHjhmmMjAwEBJllCjniy4kIABBRAudLDwAMGBBAom3MjSJ9GjSpckMTokyE+eOWzIcDHiwsKCAwOi6k0JkaDCAQYQOMAQIgUICwwUMHjAAYogW8iiZeNGjRkxX7dioeo0yRCZISAgKCiwVyXEhQUQLKAAgoWNGzhy3LBBYwaNGjZy9ABSpAkVLVOYDBFCxEgUPaWeeSvX7h06cdusQVtGbJcsVIraRPkxA0WHCg6cPv8sLVAhwwEEFkjI0CLJmDx7+PjZc4eOHDp28PABRCiRo0lprWUIIolAsoox4KTjjjz0wMMOOuSE00020zhzzCygMIJHGVMEAcMHXRUgAHnmoXdTBByYYAQcm/gCzDDFBLNLLbPUgssuwBSjjDPQSENNNM8ww0wzzkTDjTnx1GMPPvncYw898sTzjjvrpHMON9IgM0smfpCxRAwXNIBAXqUd8IAFGnDQwQcs4ECEGZYYw8478czzTjrigDOOOQrOg48++wS6jz756ANooPwkquig+eDzJD31KEmPlNwAQ8ohaCixAgcSICAQACyZl8EMTGChBRdepDFHH5bYck2dStr/WeU6zcljTz6CCmporosOes+k7JgTzjd7prOOO/CQE40vqDDyBhU9oCBBPw8BACpfDa1gBSCXaNIJKKe8cksx16Rzzz1M3lPPPPLMA+k9uO7Tq6Dz7tNPPvS4kw441jSzTDTXdDOOOvGwI841ycBiCR9d9MCBeNZei1BDBPSQxy3XaNNNOOawI089fypar8gkl8xPP7reA0864VBzTC63/HIMNNuY8/E88axDTS+m+CHFCQkYMEDEKAWQ2gJGDBKMOOSco6CthR5q8tSJBqpPP+tKyc442DAjTC6vmMKJJIcoookquTDjDTz2RAoPN8jQkggWKgQ9dMREEySAYBM4/6FIMumow4478dCDbtSILko1P1b3M4876gjLTTKybIJIH3KcAYYWVHAxxyKi8FKNO+faI0840QAzyRcs2I133gMNsMAEG1QhCTTwwBMPg/Ycjvi8VDOa7znhaDNNM7A0okYURNygggkkhADDE2wssgoz7OCjfT3nZMNMJ2W8oABer1tbkOwUcEDFI8ugYw45TJuDjvvlkIPOsbq3u+SghuKj7jztIF42oHGMX+AiFqpgRBqQ0IIQVCABXjnABoJgBkawohnt0B4+6mGOaxwjE2JogevKVxABJOABFVBCIHIhDWYU4xfDMIYykCGMXuxiGMuYBja28Q1yEMx/bSsY8f+iIQxZlEITjiCEW+jwhSTAwAMWCI8BDnCADzQhD6XwxTXg0Sh8zKMbWjrEFUwAMRLq7SoPAMIcUNGLWIgtFKZYxSk8UYlIeGIVuACGMZhBjW+oox5Qgoc6wpENZ9SCE4SIwxisoIQjGIUGJ8jAA+6CnsCM4AqM8AU0xDGPRqmsGrrwhB2YAAKHBKB8EisPYBJgAzJQohSWMEQe/lAIRhhCD25Agx4WwQlTuOIWwYDGN9zBDit9YxrH0AUm7nAFIcQgBBOIwAMaML4BKMRaAziAAlIwBk9YIxzsuJWT2sEMVSSCDEDQwDVRSRUBWMUESDjDHNDghSpkoQth8IIVnrD/BCuEoQ100AMgDiGJXpZiFKHgBCUWIQg1UMEHLhhBmD4yEhGdxgEcUMES+AALcKADHtuLhzl6QYk1OCEGEzglKlNZnoZYIAU9GEIPbiADGtxANjJowQpkkAMgEOEIS3gCFbLwBS90gQtZqEIUmOCDGJBgAxQQ0wEMUBNrRiQDMUiCGiwRDHW8gx5Nkkc7vuEKP0DBBiFowErNZxCF4AQCEoDANDWSkY4soAEPiIAEJkCBClgAAxrIgGAxcIEKUAACDaioQxgCEWu5ZARGOMMiXjENeixJH/a40zU+gQYZdEACB1grS8mjEtGuNACAQQAMsCCIUgjDG0zKRz7gEY5p//ACEVQIQQQWQAB2krY0pi2fAA7AgAj0QA2a4EU0zNHFe5ijGbOwxBqEcAFK+va3egnu6wagAAloYAl9iIU0wNGORrWtG7iYxBug8IIGFMCa18Vudl9nkIgVIAIdSIEWIGGMcrBjHpi1UzRGYYcn2MADBTAjVRQiX5bQd8ECWIAIcgAFLEpjHe/oBz7ggQ5w+OIRX8CBCSrQ2wcvmMEN/i1qCRCBGVChDpjYRTfg0Y/eqaMb0FiFHpQQgjAJQMF6M0mKf+tOA2CACG/gxC2gkY4aO4kc0gBGJspAg/ERQKWjDTKKhwwVvA0AAQwAQRQCIYtjaMMd9pgHPNYhDVx8Qv8PUTABARyS5bb2hctdti8DJJCCLTxiGNQQBzzo0Q5zdIMXmsgDFnbAAVPW+cRTwfNK8HYACGRABmfoBDXCoQ52naMbzzAFH6aQgxJE4JpQubOkUYJKBVyABD+ggyo4/Y560FYawZhEGXQgAgskYC9bXjVCXqcQCIzABlMYRC3M0Y4ktUMbxpDFIbhAAw9MwFPCxjOxA1CBFyDBDJP4BTvgwSB1SGMXotgDFVyggQgcINvajph5NqADLOxBFMkoHD3oYY5lvGISbmACCqJoAHg3GJUuCcER1vAIWESDQVECxy8+4QcvBEEEEmAAaQyOXVQ2pAAomIIfSOGLbMwDZ+7/0AYtHIGGs27gAQkgAMc7LlyruMALkUgbOKD0Dp2log9UAIIKKkDJme9FtAEggGpsoIZQJOMa5qhHwdDhjE/AwQg0EAEEaDIio0cF6YKpQBDs0Io+poMedxoHMjCBBh60oAMOIEnXve7gtUa4Ah5Ywgq/wWxCm8MbwoDEF2RQAgws4L1zp/uwgzsAxqTACo0gRjraAY95rCMc2NAFIq6QAmvH3JqKTwnSF3KADsgACW/wBDNohSxwQOMXoKBDEj5wgQcIbTyhX/xp0cMAFSChDIl4RTXa0Q52sMMavjDFIcCwAwuIpiSRzn197W4VCOCgC4QYBTC6QUx1oIMZrXBE/xucwILEGiDx0p9++RRSgAVEwANJkEMnbsGMcBT6G9jIBSbsgAUfiAABQhN96TcQa2UeCUABHxADW3AIZWYN5JAO3PAMwiAKgfAFRgADGiAeAjiASNcQDuABLlAEb7AJyHAN33AO5SANvrAKi6AGSiADGDdn6DeA/SBaHzcBJ8ADVQAIrJAN5CA/4XAMrlAJdnAFOCACF8AAQkaDBHhaqHUTFtACReAFhwAL2SAOWIgNvAAKhIAGT0ADIWAXS8iENYhwCmEVCKABNNAEaOAItKANw4JjsSAJcrAFF/gBRKdqTOiEEqFNHaADVSAHlYALPLQN14AMpkAIYQAFPrACHv9AAQoQbHuINyViFQrgABKAAkmABocwCr+wDd5giMlwCoQgBlEABC4AAnm4gRwob1URGFhhARxgA1ngB6AwC8ewDd2wDd6zComABlZQBDNAAhjAAJJIg5TYEIGxAA9wAR5gAkSwBoM4DM+gi9wQga/gCG6gBUpwAyigAQ1wjNInXC9xQhXAAScgAz6gBYNwPdJwDdzgDfIoDbDwCG2gBUlwAycAjuIYeh5nFQ7QASuQA0qgBWtQCKQgDLr4DeGAhS3jCoewiD/QAngYiWRYhq8jEQhAASoABFXABoOgCbBQDNmQDuhwDuZgDuVQDtWwCoAQjDQgUV1xkRjpZQaQABr/gANUEAePwArKsA3lAA/3YCfsoA4meQ2ogAdLkAMpoAEPMBo0iUqrpAH1dgeWUAvUQA7rYCvrwC/TYQy0oAhggAMq4AESUHQXKZU3uQE8oAV7sAm7sA1edXLiAA2+MAuqAAqOoAZIQAIaMAELIB5RWT6rtAE90AV/AApLQ25Shw2/YAqWgAh7cAZM4AIQcBfQx4rjKFwFcAAXUANS8AaP8ArQcI3doIVcSAdmkAVKMAMcYFE0SRAe9xIPMAI3sARnUAij0Aq8eQqNMAdZ4ARFwAMxgHGmFJtNSGwMgQARsAEmEARaYAd/4Ad9cAdegAQvYAIi0AEXAAEJgHvIWZNsguUXA7ABazgFUhAFS0ADHXAA4Bmen7JSbSUAFYACOgAEP9ADOHACFlAA/ZiWa5UQDrABKMACKpACJeCUoAefyRlfAxEACHAmGGABFTABDXAAmhmbooUQSlcRH2FlGTqY8nkQL4EAJjpVT8GgBRGgCUExA/Ci76mi4vloMvp1JsagAQEAIfkEAWQA/QAsAAATAFAASwCHAAAAAQEBAgICAwMDBAQEBQUFBgYGBwcHCAgICQkJCgoKCwsLDAwMDQ0NDg4ODw8PEBAQEREREhISExMTFBQUFRUVFhYWFxcXGBgYGRkZGhoaGxsbHBwcHR0dHh4eHx8fICAgISEhIiIiIyMjJCQkJSUlJiYmJycnKCgoKSkpKioqKysrLCwsLS0tLi4uLy8vMDAwMTExMjIyMzMzNDQ0NTU1NjY2Nzc3ODg4OTk5Ojo6Ozs7PDw8PT09Pj4+Pz8/QEBAQUFBQkJCQ0NDRERERUVFRkZGR0dHSEhISUlJSkpKS0tLTExMTU1NTk5OT09PUFBQUVFRUlJSU1NTVFRUVVVVVlZWV1dXWFhYWVlZWlpaW1tbXFxcXV1dXl5eX19fYGBgYWFhYmJiY2NjZGRkZWVlZmZmZ2dnaWlpampqa2trbGxsbW1tbm5ub29vcHBwcXFxcnJyc3NzdHR0dXV1dnZ2d3d3eHh4eXl5enp6e3t7fHx8fX19fn5+f39/gICAgYGBgoKCg4ODhISEhYWFhoaGh4eHiIiIiYmJi4uLjIyMjY2Njo6Oj4+PkJCQkZGRkpKSk5OTlJSUlZWVlpaWl5eXmJiYmZmZmpqam5ubnJycnZ2dnp6en5+foKCgoaGhoqKio6OjpKSkpaWlpqamp6enqKioqampqqqqq6urrKysra2trq6ur6+vsLCwsbGxsrKys7OztLS0tbW1tra2t7e3uLi4ubm5urq6u7u7vLy8vb29vr6+v7+/wMDAwcHBwsLCw8PDxMTExcXFxsbGx8fHyMjIycnJysrKy8vLzMzMzc3Nzs7Oz8/P0NDQ0dHR0tLS09PT1NTU1dXV1tbW19fX2NjY2dnZ2tra29vb3Nzc3d3d3t7e39/f4ODg4eHh4uLi4+Pj5OTk5eXl5ubm5+fn6Ojo6enp6urq6+vr7Ozs7e3t7u7u7+/v8PDw8fHx8vLy8/Pz9PT09fX19vb29/f3+Pj4+fn5+vr6+/v7/Pz8/f39/v7+AAAAAAAAAAAACP8A+wkcSLCgwYMIExIMwJChAAEDBhAoYCDBAgcKDgwQEEChx48gPzp8+JCAgQMJFDCAcKHDCA0REBAY0DGkzZseA0CMKLHiRQgTMpB4gUMFBwcHCAjAyfRggAEFUC5g4KBq1QdYI0iYQKFrBQwbPIQgceIFjyRUhMT4QMEBgoc1m9rUKfHBBhMyeByBEqWvlClVrGDRwqUwly5fwowpcwZNGzt/DOFR00VJDRAYC8SVixCAQIZQD2yIYURLG0CRUkuiZCnTJk+gRI2aTYpUKVOnUKViBatWLlekNP3hgiODBAVLOXcG4FlnVAUnjJgR1CnXtGnUqF3b9k1cOXTr2In/H7+ufHnx7cx9w0ZLEJQSGRwkt8m8vv36Twk40GDiRb8cPlwRhyKj6CLNOeegg4467sRDjz347LMPP/zso08++Nxjjz311MPhO+mMA4wjXcggwgQEBMAcSPe1CMBTFX2gQxVovGGHH46EMgsx0oTzzo/vwCNPPffgo8+EEu6Tzz310CNPPPHII2U754QTzCRn+MBCBgZw5JlHLrYYQAEJOACDFoOEogotviAjDTfkqBPPhnQWmc+RFEqoDz71yAPPO+20486P6pDzjTCYwLFEDR4gsNFmy4VZnwALUNCBEXecskw13wgkzz136jOQqP3kgyGH8rizzjnjfKPNNt18/xNOOemsU8432fyCyRxR5BBCAo+uaJCkLhJwwQo+lOGILtmAc45A9RhJ6oUYakiPO1VakwwvsqxCSienzOJLMtN0Y44310BTiyNpICFDBwdwpKKwBBHbogEkCAGGIKc0c8468DwIqj5HWniqk+6Mg40zupDiiB90qCEGHYl4Eksw0YBzzTPGrGJIGD9saQBD9g1rr30JxJAFIKAAA46H0hJMsITV0hMPiNkoo4sngIiRRA8xkBAEGH9k8oox2kBjDC+h8HGFDSZUoNm89Ap08n0K3DCGI60kQ449dpp6sDzncBPNMb7QooonkhwiBxdFzKBCCBjk4EUgntCyzDfTIP/Diyd2OLGCBxGkeF9BV9u3AA9scJJLNOgUiQ+GGdYTTzvoTONLKpcccgcaYmghhRE3pPCBBhVAUIMXhpCySzTlYKMML5vAUQQIFjAwQIuIJ/4iA0LYoUox2LCDz/HHazgPO+Z08wsogqARhQ4mjAACBxhMgFECCBwQgxeJrBJM8dz000smauxQgVsC8F6v7wEwAAQdpwhjTTr29LPhPPC4E/vsnPDDF4rgAgvMRF74EQABZEAGStxib/DYxjFm4YgwyKABCdCM+wbiO+YoIAdnoAQskAEOeMCjH/FYBzm84YxabGIQbLDCD1rggQc8imoAgEgBcgCHUygDG+aIhzX/dPGJPUxBBQkwAE02aLUOpkwLgfjELq5RK3a0YxzZcIYtItGGJfDABbhDSkPsoxOT/IAPuYBTO+bRj1YsAg1FCEEBNuKi3vnuAClYAhsWsQplyGoc5LhGMnbRiTcEoQIPSED7JNWPARgAAUZAhDLaETB6KAMUd7DCDTJAMiY20XcF8MANnnAGP1DCNrjhBCQK8YYnuOABCugSsQawgAlwwAqSgAY84jGPeAhjEmYwQgsogMP6ROpqA5iACGIQBCiAIQ1pUIPEsvCEILhAA0lcoqQKMIEQvKAMnbDGPOaRKl0cggo1EMED6pgQ+B2gARPQgAhS4AIXtKAFJvgABiTA/4B4eYmRonnBEOiACm7Yw0nskIUehFACDCiAncoRSGgU4AAJdGUC2gMWpDwCnSF8IRG1EIc94sEOcqTiDTaAyQEgGlGIEEAqDWgAAxiQxPmExAE02AIgREGMc9CjpNn4xBmG2QADsFQ5DpEIRQxQgAIoZaMKCYAEhBCHUOxiGuwgGzecQYkukKABMjlqRMf6mQBY4AmG8AU0ShgPcVBDGIqoArwKsMiqfZKsEZWIBqzwCGVowxzyeEc3lFELQTxhAwZQSsns+CW8MkWBB/BAFzJxjXGwgx7tuAYwUIGHJGAgsXVtLAeN6VimODIBIyDDKMjRjk+xIxq32MQbhmCBOf/i0GR2LS1ICsCACbSADapIh4PuoY5mvCISaPiB1LQp2tHmVrceQcAEPKCDOsCCHfMgUjqSkYpEjIEHFLAtaRkL3ZswQAMpOMIfbgEPmJ2jGKIIRBdwMAHxNte55b1JBEywgy0wAhjzuEeRzDGMT/RhCzeo70YU8tz8HoQ5GtCBFvpACmZE63jvHYUgvKCDCiTFpg7mjGdG4IQ8eIIX2ZAcPs5xDFMYQgw9uAAC6BriiDaHBWO4RDCmYQ5TZQgdyEiFIswAhAzEcgA15gyMEGADN5gCGt1Yx6nqMY5ggKIfXdCBjGmc5KYEwAALgMAP8kALc8FjSX3yhi4qIYcpzGD/Ah/uclMEkACWJKEQwVDHO+qhD3vM4x3ZkMUizqCEFkDAtnI2rQS8+YVKNGNI99DHtc7xDFP4wQo+MEEDnpromwTgACHgwRX+sApswCwf8DAHN4JhiTUMAQb9UMCjOh0ShiggBljwAyiCIY6wscMb0JCFIbTwAhFQIF4qorVIIOKAIMiBFMCwBjuolY9zVEMYoqgDEjpQAQakKNnKVkgBFiABEVTBELh4Rgn3dFBt9AIU8sUBIjXa4HD3IwAJqEAIbICGTDDjG+mgRz78DA9mlOIPXxjCCTBI13qHmyEN+EAMlMCHVoDDHfOYXD3gwQ5fNMILPFDBBebIEXsnBCoI/9AADZ7AhkoAQx1EWlI7yKGNVeghCUaRD8lMjhADMEACLIgCHSxBC2m8Q3LzEEc0glEJNOzgAxVYQCd5bpAAKMBSPmBDJoIhjXFcGB/vuMYvTgGIK7RgfSt1uLJ1EoEPuIAKh9BFOdYhj+TVIx3KYEUj1GCEEDAgrGpPdBlBrQMq3OETyGBQgK+VjmzYghJyqAIONHDk8VJdAAVAQANiYIU8ZOIW1ngHL+3xDnP0Ixmi4IMMU3DshgdezgI4ALmFAIcTQ4Mc9Mg9PdThjWjo4hFl0IEKNtAAkr9ezgrYQAuAgIZH3OIZUa4H/9oBjmf8wtJWaAHUZf1PqhOEAjbAAv8eRNiMbpwDHvaAhzrKQY1frIKLSBgBBiDgz3l5fyAdgEIgYMF1y7bXHv7DDcfwCpjQB12wAxkQAQswNZZnbz4nATGgBqOQDeGQDvIANvhgD7wnDboACoawBk4AA/ykEZ10X8oWASRwA1iACLcQJ+11PANXDtVQDKwQCXfQBUOAAgz3TyaobB3AA1zgB6SwDPAwDxAiNvUADsxwC50wCGjwBDcAAhnEXPfXDylQBYBACsLwDRKSJwRDD9swDKrwCHSQBUDAAhhAV7d1fzAwBpSQC9BwDhRCIfgQD7z3PIGgBlZgTSAgAcHSgCZnA2+ACuXXDnPID/RwDtpwDE1jBUTOYAMo0AEUsAAIBIj2xgN8wAvhoA7zcIj9wA3JAAuEgAVGYQEQsABJUUw9qGyCmArJAA3WwA3bsA3a0Ay5UAqMUAY7EAEHQHIlWIUEQQJK8AaG0AiVwAmagAmWsAh94AZeIAQnsIA3tFjA2A8oaANE0ARW4AVacAVTwARCgAMtAAIT0CU8eHz2VgAPkAEi0AHZ4wAJQACeVI0HQQDkhgEUEAEYoUTzSI8FIQAGQFEMoAAIAFqH449R5VIRARcHiZAswkgO+ZBiFZHH1JClFRAAIfkEAWQA/gAsFQATADsASACHAAAAAQEBAgICAwMDBAQEBQUFBgYGBwcHCAgICQkJCgoKCwsLDAwMDQ0NDg4ODw8PEBAQEREREhISExMTFBQUFRUVFhYWFxcXGBgYGRkZGhoaGxsbHBwcHR0dHh4eHx8fICAgISEhIiIiIyMjJCQkJSUlJiYmJycnKCgoKSkpKioqKysrLCwsLS0tLi4uLy8vMDAwMTExMjIyMzMzNDQ0NTU1NjY2Nzc3ODg4OTk5Ojo6Ozs7PDw8PT09Pj4+Pz8/QEBAQUFBQkJCQ0NDRERERUVFRkZGR0dHSEhISUlJSkpKS0tLTExMTU1NTk5OT09PUFBQUVFRUlJSU1NTVFRUVVVVVlZWV1dXWFhYWVlZWlpaW1tbXFxcXV1dXl5eX19fYGBgYWFhYmJiY2NjZGRkZWVlZmZmZ2dnaGhoaWlpampqa2trbGxsbW1tbm5ub29vcHBwcXFxcnJyc3NzdHR0dnZ2d3d3eHh4eXl5enp6e3t7fHx8fX19fn5+f39/gICAgYGBgoKCg4ODhISEhYWFhoaGh4eHiIiIiYmJioqKi4uLjIyMjY2Njo6Oj4+PkJCQkZGRkpKSk5OTlJSUlZWVlpaWl5eXmJiYmZmZmpqam5ubnJycnZ2dnp6en5+foKCgoaGhoqKio6OjpKSkpaWlpqamp6enqKioqampqqqqq6urrKysra2trq6ur6+vsLCwsbGxsrKys7OztLS0tbW1tra2t7e3uLi4ubm5urq6u7u7vLy8vb29vr6+v7+/wMDAwcHBwsLCw8PDxMTExcXFxsbGx8fHyMjIycnJysrKy8vLzMzMzc3Nzs7Oz8/P0NDQ0dHR0tLS09PT1NTU1dXV1tbW19fX2NjY2dnZ2tra29vb3Nzc3d3d3t7e39/f4ODg4eHh4uLi4+Pj5OTk5eXl5ubm5+fn6Ojo6enp6urq6+vr7Ozs7e3t7u7u7+/v8PDw8fHx8vLy8/Pz9PT09fX19vb29/f3+Pj4+fn5+vr6+/v7/Pz8/f39/v7+AAAAAAAACP8A/QkUGEDAAAIGEixYwKABAwUIDBQgQGDAAAEYLVIkUOAAAgUJEBzwVzGASQAoB6pcqVJAAQQLIljY0OEDiA8aKEBwsCDkAYkGECRQoGBBgwgVMligEIHngYoCUKZkSZUkggYSNoxY4SIGjRgpQiiV8KBBz48MHECIIKHChhAoSIDgcCHCAgMEBASQWrUlRwYUOJR4oYMIkiVPlgTB4UKFiRAeOGjIsMFDCBEkSqSAgePHjhowVIzgUAHCgqcD9k5lKWABhQ4uglAZs2aOnj6ABAHSQ6dNGjNivnjhwsULGDFkyphB00aOnTlu1JT5kkWKEBkiLjwwIBUAVQIUSNT/gOJmEShTrGLNqnXL1qxXq1CRCvXJk6dOKkuZOpVqVStVpojiSSaUOEIHFj2ksAED3VFVQAc1MCGHJsN8I0456KSzDjscrqPOOeSEAw44/oAjzjjllGPOOeeYUw454nzDTTbVRLMMKX5gwcMJETTIUgEbxHBEG5YE8w056sAzTz334ONkPvbQI088VMYzDz311GPPllLG48466ZgzTjjc6JLJHVnw4AFeUXm3EgEWnJBDF4a84gw24qzzzjz2PJkPPvdkKag9TToJaJTyvMNOOueUMw44yMSSCR5TtOCAAgWoplIABETgwQpN1OFJL8tkcw478NSDTz76tJrPq/n4/8Nqq7TmE6g/8LSjDjotlnNNMrtgsgYPFjyAgGpu+hPAAAxY8MEPZCByii7MfGMOO/L0OatK/HTb7T7g2iqloumgw+s532ATjSt8KBHCBQ20maw/AiQQAQYxPOFGIqHoIg035bSz5D2w+tMquOC6Kq6XYDaaIjne+CONLIVgAYMIExCg6UABGLAABCTsIMUaiZxSjDTdoPOOPPQUKuvBCgNaTzy6omMOOePkLE432ExzSyNlANFCX8smZIEJNjQRByW4HFPNOOu4I4+W9/izasz32FPPPO6oc7M4Io4IDjfYULOLJXJAccMHBwjAEgADdFTBCThAMUcluBgzDTgZbv/oDjzyBC64PPPE8047YN6cc87kkFNOjNwkw8ojc1RhAwYOIDCASgAYVEAFKfBQRR2X5C2NN43nbI6G7HiYjjrrII6Oo+OIcyI5K2a4q4vXDPPKJXM8ocIGERgwEEoFDUDBCkFokUcmuRgTDTfheMONNt6Ek2Lt4aAIIjjdbNONNyZiqA477rzzjjvtlKONM7xEckYPKGSgwPEAmCTABCkA4bwmuzgGysLRDW1cA3vhCMc3usGN7I2JbAfsBjjGcQ51tOMdVppH4NxxjnBMQxWByIIPUBABvQTAH8gLQARKkIMp2GETv1iGNSYIPm00UETW04YEHwVBBGKIHRi8Ej3/hhgPdqCjG77wxB++0IMNFOAiKETeA0AgAybQgRPEgEY2xiEmGXnjG+BYoDaywQ0LjQ0b19iGN8RhDnW4w0r02BKXvHSOaPDCFH6YggkisrnuMIADKyACHDRRjGhogxwgqp43vhg+NOoQHN7YxjWssY0joQNVVyJUobJGD3iMwxrJ2IQZYMAABBAgiihJAAU+MAMs7OETsPhFM6ghDWg4wxnPeIYzlpEMZDADGtSYRi2jcQ3UoUNP/piHP7Z0j6xtzR3cUEYuHNGFFSjgAH2USgEYMAERAKELenjEKG4RDGD8whe/SKcveJGLXPhiGMhIhjyZQQ1ukOOYf5OHP7JE/yhEraMav0gFIKiwxyeisnMdiQAKfFAFNxwCFK1whSteQVFYuIIVqlDFK2qxC18AQxjHgMYhK3jBeBAOS1qbBzzS4YxZZIIO7mKTQKSSvARoYAUiSwMgGMGIRviUp4tIBCIQ4YhKcIIUrbBFMJqRDXMcsx3pg4dJN9hBa9wiE3vgwg40AJWZ0lQABohAB1CQAyVoYQxoHYMYwOCFLnSBC10gwxrkIIhKoEIXycAGOmAHVXekj33sIMc1pImJO1zhByiQwEVOeND8DSABD6jAB1RAgxxYFgc2mAEMXsDZGOAACEgIQx80MQtjYON87PBHO9rBod1lwxiz4EQerCCDEP9UIAEmIZoAEKIACFTgAhewQAUkwBOiGKUCHTBBEdYACVgQAxvsWC1rwYSOEHWDGbPQxB+4gAMKJMAAbuuLQAxCgAMsQC0QeMADHnKA9h4gARC4gAeCsIZK2CIZ2/Ar4tJRDgJawxnGiEUl8uCFIaTAATIVr7IKghChhEQkE9lIAWJygR6wIRO9cMY34PEOf3gNHNqYxjF24QpLoIkHK9CAKfWi4E3pz4QmiXFBPAaBHLDBE8SYhjjkAY9FjWMb0kgGLlBxiT1oAQcbmMACUtPiJq8kAAVQgAN08AZSlMochTMiOKRRjFuMAhJ8GEMRUGAaAzDWyWjumAIewAM6rGL/Gt5QRz3k0Q50RM7LjbADGJIwgw5cU2NoDnTHPuaDO8TikO64xzzacQ5sAAMVkLBDF4YAgxBIYCLhDbSTA3CABkxgCH3ARTjSEY98LNoc1cDFJvxAhiS4wAMUUIAJNY3m1kyAA0woBDDOITBTBzYasYiEHLLwAxNgAALHOjOtWywAB2igBFVoxDHaEY965EMe6hBHM1RxiDI0wQYesEumlo3mAUQABC7wQiWcsSR8+EMe6QhHMkbBBywIgQUVOA25A12ADLQgCG4ABTWY5O54nIMbw9jEHJiQgxJI4Lv7RrMBQrCDKvhhFdloUqzeQQ5s9GISaQDCCz6A4IhvGgEo/0hCGh5xC2+silXuCAc1bqGIL9DA2Ao4pckVXJAFxAALfQCFMMgBK32wwxvPiAUhrsACEFBAczsX77IIwGY0TEIWzUCHPmKVD3VoYxms8IMUTMABCYwk6n3Z7QEoYIQ7pIIY2WiHPmSFD3RcwximyAMTQoCB7SwW7SwZwAEUkIEoHMIXT9Pnn+5RjmkAAxR0OAIH/NEA8LIY8AQJAAIkwIEXjOESy/iGOuhhtSh54xiveIQZeCCQnF8e88lrQAdaQIQ6nAIb6YDHPfaBjzlfYxee6AMWZHApA6RG2WifugQWmoVD2KIc2dLHPhT9Dmi8whFtUAIKDmBQzHOsAAloAP8IepAFO3iiGO2omqwWfQ5ieCIPafpAV72vLAEoQAIamIEV8KCJW1AjHgKhD/fgDuSwDbTACGRQBC6AAX/nffrjbCZgBG+ACb3wDOJQDwNRD+iwDc9QCnngBDAAAiWUWw64WxVQAjWQBYZAC4jmbn8iD+EADb9ACWigA7CmACTofbwFAjbABG9wCcAgDrnXJFqzDtTAC6XgB1cAA8d2LPQnEAbQWyxwBGMwCKjQDOqwJ8tED/FQDsaACoqQBkdQAhHAAMbzhI/lABZwA1nwPLmQDSzjD/fAhe3gDblACXAwBTewAaexOd6HEgXwABlQAkngBpHgCsgQDllCD1zTQc7/cAp/gAVBoAIUwH2ZhnbeoXkXgDRdMAipMAzWkA7+MC4HJw28MAlqEAQv4AEO8ESXGHX5EwAL8AEycARwkAnCgA3kAA/4QA/vsA7fEA3DsAp/UAUp0AESgAAYgXw7pz8QoAJEAAaG4ArWoDLWNg/sYA7WQAyycAltMAR9l3NPWH8DYAE7EAaEMArCEA57sirxkA7gwAy0wAl/sAU2IAF9OI5T1wFNwAeqAAzWwA6qYjDvUA7bEAyjYAhokAQqcBp5MY6eMwJegAnQ0A3qUDX80A/6EHPVcAuTEAdRgAMeMF7MmHwHAQJWsAi+AA3jUA/8AC71oA2/QAqJ4AZSoAMouWAB47gpBrEBS5AHpwAMcLgPW/cOxKAJcZAFRjADI4ABDbCTx2MSFgAEaRAJsAAN8KAPgJIOr1AHPIACsFZKBQCVXqVCMiAFcxAJdnIN1TANxdAIVdABDZAAgDYv4ygVCxACPSgGdsAIkvAIjTAIXpADE/BdfUSWXgUABQABzyYDPrAETrAESKCKHECXfoiYK9Ed4OcADfBnTIaZVdEdggcS3NeAoPk2UrFbEuEPx1eSp9kdMqYsUBkQACH5BAFkAP8ALBMAEwBIAEgAhwAAAAEBAQICAgMDAwQEBAUFBQYGBgcHBwgICAkJCQoKCgsLCwwMDA0NDQ4ODg8PDxAQEBERERISEhMTExQUFBUVFRYWFhcXFxgYGBkZGRoaGhsbGxwcHB0dHR4eHh8fHyAgICEhISIiIiMjIyQkJCUlJSYmJicnJygoKCkpKSoqKisrKywsLC0tLS4uLi8vLzAwMDExMTIyMjMzMzQ0NDU1NTY2Njc3Nzg4ODk5OTo6Ojs7Ozw8PD09PT4+Pj8/P0BAQEFBQUJCQkNDQ0REREVFRUZGRkdHR0hISElJSUpKSktLS0xMTE1NTU5OTk9PT1BQUFFRUVJSUlNTU1RUVFVVVVZWVldXV1hYWFlZWVpaWltbW1xcXF1dXV5eXl9fX2BgYGFhYWJiYmNjY2RkZGVlZWZmZmdnZ2hoaGlpaWpqamtra2xsbG1tbW5ubm9vb3BwcHFxcXJycnNzc3R0dHV1dXZ2dnd3d3h4eHl5eXp6ent7e3x8fH19fX5+fn9/f4CAgIGBgYKCgoODg4SEhIWFhYaGhoeHh4iIiImJiYqKiouLi4yMjI2NjY6Ojo+Pj5CQkJGRkZKSkpOTk5SUlJWVlZaWlpeXl5iYmJmZmZqampubm5ycnJ2dnZ6enp+fn6CgoKGhoaKioqOjo6SkpKWlpaampqenp6ioqKmpqaqqqqurq6ysrK2tra6urq+vr7CwsLGxsbKysrOzs7S0tLW1tba2tre3t7i4uLm5ubq6uru7u7y8vL29vb6+vr+/v8DAwMHBwcLCwsPDw8TExMXFxcbGxsfHx8jIyMnJycrKysvLy8zMzM3Nzc7Ozs/Pz9DQ0NHR0dLS0tPT09TU1NXV1dbW1tfX19jY2NnZ2dra2tvb29zc3N3d3d7e3t/f3+Dg4OHh4eLi4uPj4+Tk5OXl5ebm5ufn5+jo6Onp6erq6uvr6+zs7O3t7e7u7u/v7/Dw8PHx8fLy8vPz8/T09PX19fb29vf39/j4+Pn5+fr6+vv7+/z8/P39/f7+/gAAAAj/AP8JHPgPgMGDCBMqXMgQIcGHECNKFNiwosWKEzNqpHixo0cAG0MO7BhAwAACBQyoNFCgpcuVLQkYOIBAwYIFDBo0cOCgAYObChQgOFCAwAABAgIE0EiSwAIJGTiAGCHiAwcNGzh4+PABxIcOGzKAQAHDBo8gRpIwedIkCREgPXLYcFGCQ4UIDRIYILB04kWlCCqEcEFDB5AfOWa8iEHDBo4cOnLUiNFiR5IrY9rYAVRI0SNGhPjUeZNmTBUiNE58wABhwQEBGS0qFbDAAwwhS6h02TJFCREkS55EmUJlihMkQqqo8QPJE6tcwZJBYwaslqpQmB7tGbMERwsRFyAo/xgQu6KCCiBgFNnyxk6fQoP20Hkjx44ePn3++Mkz/w+kUK/scow02HxTTjjYOFOML7fA8skieKDxhRVMAJFaBxQwYFRfHDVkgQtGeFEHI6KYssorraAyyiejmKLKKqy40ooqp4zSCi7CLDONNv+Uo44765TzjTbVRNPMMLaoAoomlDjCBxpVBOGCBggYMEBfF4mARBuMlOJLNdZgkw021EQDzTTWaLMNN2xuM+Y235BzzjruxDNPPfbUMw887rSzjjrmhNNNNtZMA80tnQhiBhIp5FUAlg0p1QIXi7xyDDj25EnPPPLAA8889uSjjz777DNqPqiiOmqp/LTKD6v89P8jq6yv6uMNMKIEskUNEjTw2kgLlTTADGZo4os05uBzj6ab3omPPv/s02qpp6q6qrTTYjtrP6+aGo4xqygyRg8YRDAesAmVhFIOcaTSDDfr5KNsnnja86y23JparbXYdtvqrNPqk884y8xCCRtEeFABA+R1iFAAAxSAABB85MLNOfHsk88/md6Dz8b7zOqPP/nuq2q/sNIacD7mRMNLJ3QsUYIGDxBAkEIBSMxAEYL4Es4/82h8Tz304OmxqKMKfA898jQ9zzz02HN0tfPWA4865XhjjTPGzAIKI3NUccMGEyzQsMMGCXDAAhAkYQgx5rRDjz741OM01EZnSjQ87KD/k44667QDjzxFe1y1PO+wM841zPzyyieP9KEGFkXMEEJrv6J7kAAIOECBE4skow489eiztKfwxBOPPE9zGo876ZDjDTjiyEmnnfXqGU876JBTDTGzfHIIHFgYUQMJGEiwQFFJ3ZyQAAlAcAEUjjDTTjz26GOPPECqg84555hjDjnihPNNN9tgs83stvfJzjrojOMNNtAkE0wsoDiixxhM0FDCBQjgkESeF70LROERzXCHPO6hj3q8A2vg0EahoNEMZRyDGMRQBjTS1A1wjKMcfpNdgoJRC1RwAhKEwMMavhCFIMhABBh4QAFCghDoSS8KkHDGpxhIj3ac4xvVYAYx/36hC1rAghWoUAUujEGNbHCDdh8shzaeAbyv5QENWECCD27wghOAoFwMOMDZmJK2BDzAAjh8Bjzo8ax5rIMc2WjcLFZBik5cQhKNkMQpeiGNa8AJHID0hjN84QpM+IEMS7jBCB6glysFACQiQZcADMA2JSQCGaMrnRvJcY1j2AIVn7CEIxahiEREwhS8kEaYtHENBe0CFZQIhBu0cIQanCADC9hLUgwSSXQFgAAHUAARBhEMcrBjHvmQxxurIQxXdGISifjDHwRhiEegUhrUAFMzdpGKSwRCDVQgwg1U4AELOMBKu+RlLwtyEGH1gA+68AbGkvnGafTCFJI4xB7gMP8HPQjCEaXYhTSmIY1oECMVjqCDFoBwAg1MoAFVIkBSHnmQdbKznQGogRtOsYxsoMOB6iAHNX6hikssAhB0yIMgFoGJVfgiGs5IBjFkMYk6XAEIKZiAXgSAEYumqwVdaAQsjMENvsXvGsWgBSky4YhBIEISnEBFLYYBjWPwIhac4AMXetCCDjRAlz31KUJIwIQ5VEIW0ICfOcaRjWX4Iham4IQkMGGjW/ziGM8Axis8UQgyDIEEGoCAAZBC0YVY1HkG4YAOspAHTvziG98ApDaicQxf0GIVokDFLHxhDGQswxm5EMUi3uAEFzxAAYMN62HRVYEVBIELfOCELobBDDD/SeMZyyjGL3LRC2IwAxrOaMYyYFHTLPyABAtAwKNUu9qLNmADKfgBF/JQCVPgIhnRoEaYqnFbVWpDG9RwBjJOMYgvDOEFGyDKlZjbXIEUYAERCMEOrAAHRZDCF7X1BjnKUQ5zgA8dUoRGMTxBhyS04AMRMApPGdJeiQzAAAqwAAuCcAU6QIIVv2iGNsyBDjq548Pq+MY0kNGJOBDhBBtwAGEZ3OCICACYEABBDITwBT5kAhbCoAY50NEO1j3tHYtjBijiMIQSZKABE2Vxix+irvOAoAVLSIMhQHELZ4gjHe+Q2j3uMY9zbOMZopBDEEaAAQYopbAOWXJESlKABlCg/wM5sMIcHqGKYnDDHO941qjskY5uQEMUcQgCeMyM5jSrmcm/NGMFQPSFPWTiFtHohjpCJap6oEMbzPgEHIAwggssoNAVPfSaJ5kAB4jgBks4wyFQUYxqlKMeH2ugOa6BDE64gdOeVrKoIaKuA1zgBDeYgh0ykQtmgGMeH9uYSImRCTb8oNMLMOyuJSKsAlBABDBoghwugQtmfGOB+MDHPMQhjWBUwgw44IAEEiDtaY+aABHwwAqS8AZL5GIZ3sDeluUBjmf0AhJggAEFvtpudzPZJA/QgAmIwIZK3NsbpMsUPLzBDF0sIgsnYAACCFBwgwtEWPCWdxLggIldMMMb7//AmzuyQYxXBCIKIVDughPicSZHDAEYSIEOrrCHT/zCGd64HuvUEY1bEBgJHQCrQmpOkF+u7QM0QEIZDGEKqnpjHe9I3TmSoQpGmOEHGNhQxz0+SQVAAAVAwAIdIuGKY0zDG+pohzuAHAxP7CELNqDAUUANSY/PBgET+MAKiNAFOwCUF9HQxjjY8WF3hIMXlohDFGQggRXTnOnqckAIaHCEMOiBEqi4tzbCcY659+kbt3jEGQwcgSRfvuYvtrYLkjCGPlwiFsJwRjbGcQ52wOMd7mAHN2RxiC4IAQUPcL06mf6PAzzgAikwghj8QAlVZNga4DhHOtbxD0CFwxmjuMP/EmoQAkIbmvkPkPERxvAHTaDiFsaARjbCgQ6/pUMc2YCGLhwhBhv8L4BoxnwDgQExoARlAAibUAu84FvTsA3jkA7oYA5S1DimoAdNEAIW0AAFsHSYZxIiQARlIAgJyAzO8AzRYA3dsGPkAA7csE2p8AhkoAOMVAAzt3xkdwAMEAE1wAWD8AmxMAzUQA3TgCbcEA7icA3L8AutkAmFwAZMsAK5xBfn53ED0AAW8AFJUAehwAsDwg3agA3WcA3a4A3ckAy2MAqNcAdgoAQzkHR7F2rMVwAS8GRc0Ai+kA3dEA4ryA3YICbbYA28EAqH4AZVwAMokGLpBIcGJywNUAI9/1AFfEAKy+BB5XAO4sAN11ANQrgMrNAIbmAFQKACGRABCQBqTCcABXAAFrADYFAIoKAL1FA72neJRdIMyfALnJAHVhAEL+ABrWEAY7drA7A2IBAFg0ALVMUN48Bh6jAO2zANzWAMwDALjFAGPrACHhAByjUAwbhkwsIAFhACOvAGo3AN3qCH2hc45cAN1LAMwYALp+AHVcAC6oYAyqeIopYzCdAAIsADVTAHmeALO6YOjPcOqpMO4ZANzfALsMAJdMAEJFAB56QUHOhuAYAAZ4QDYaAIrTAM2vAp9FA0mWIP7mAO3wANvJAKkaAGQ8ABpyWFr+duAgCOH+AEhvAL5v/gDvWwLQEzD+xADtKgC6JwCGCgAxSwU93YYiVxABwQA0YAB6CgRvSQDyTDLQ0UD8LHDLyACpGwB2RwBCtwThJVkbv2jS3gBHBACbjQDbC2DyTzKiRZDtsgDC+oB2YgBT/QAhuQABJlihYZMRHgA2zwaNGgDtLSD2+pD/NgDtqwDKlgCPyjAymgAcrjSDE5bRBTABDQA2lQCa3gC9CwDdvwXdiQic4gDLVwCoUwBkJwYBKgdFNokSaxANFHBnQQCI5gCZQwCZHwCI7QCIgACHfgBlgQBNi4MAp2mX6HihQwAjPAA0TQBFHgBEuABEdQBEQQBHFRAyoAAhKJWvcogA81YRI68wAQoHEKJkANIZ7URp4IcBON1DyIRZbsORCzETEzUQB7J0AXRZ/12XQlMVEDpJzsGRAAIfkEAWQA/AAsEwAWAEsARQCHAAAAAQEBAgICAwMDBAQEBQUFBgYGBwcHCAgICQkJCgoKCwsLDAwMDQ0NDg4ODw8PEBAQEREREhISExMTFBQUFRUVFhYWFxcXGBgYGRkZGhoaGxsbHBwcHR0dHh4eHx8fICAgISEhIiIiIyMjJCQkJSUlJiYmJycnKCgoKSkpKioqKysrLCwsLS0tLi4uLy8vMDAwMTExMjIyMzMzNDQ0NTU1NjY2Nzc3ODg4OTk5Ojo6Ozs7PDw8PT09Pj4+Pz8/QEBAQUFBQkJCQ0NDRERERUVFRkZGR0dHSEhISUlJSkpKS0tLTExMTU1NTk5OT09PUFBQUVFRUlJSU1NTVFRUVVVVVlZWV1dXWFhYWVlZWlpaW1tbXFxcXV1dXl5eX19fYGBgYWFhYmJiY2NjZGRkZWVlZmZmZ2dnaGhoaWlpampqa2trbGxsbW1tb29vcHBwcXFxcnJyc3NzdHR0dXV1dnZ2d3d3eHh4eXl5enp6e3t7fHx8fX19fn5+f39/gICAgYGBgoKCg4ODhISEhYWFhoaGh4eHiIiIioqKi4uLjIyMjY2Njo6Oj4+PkJCQkZGRkpKSk5OTlJSUlZWVlpaWl5eXmJiYmZmZmpqam5ubnJycnZ2dnp6en5+foKCgoaGhoqKio6OjpKSkpaWlpqamp6enqKioqampqqqqq6urrKysra2trq6ur6+vsLCwsbGxsrKys7OztLS0tbW1tra2t7e3uLi4ubm5urq6u7u7vLy8vb29v7+/wMDAwcHBwsLCw8PDxMTExcXFxsbGx8fHyMjIycnJysrKy8vLzMzMzc3Nzs7Oz8/P0NDQ0dHR0tLS09PT1NTU1dXV1tbW19fX2NjY2dnZ2tra29vb3Nzc3d3d3t7e39/f4ODg4eHh4uLi4+Pj5OTk5eXl5ubm5+fn6Ojo6enp6urq6+vr7Ozs7e3t7u7u7+/v8PDw8fHx8vLy8/Pz9PT09fX19vb29/f3+Pj4+fn5+vr6+/v7/Pz8/f39/v7+AAAAAAAAAAAAAAAACP8A+QkcSLCgQAAIEypcyLChw4cIDUqcaBCixYsYE1LcWDGjR4QBAnzkSJLfx48hRXosyTGhgAIIFkCwwIEDhgoUOJBoAUNGDRtAbwi9gQNHDh1IdyhFyrSpUx0zSlxQcIBAAJYDExJYEAFDCRk/ftx40QLIlDJt5NzRs6ftHj58+vwJJGjQIEJ47erdu1eQIDlUaFyAkEAA1oMAAhiAsMGEDidixFhRYoQMIE6pYuXyxdnXL2DAhBU7pkzZsmXMTqtezVpZMlmCpJDI4IAAVpACBjDo4OJHlTV/ANFJc8aQqWLUupljx7xdO3fv4tHjl0+fvn3Ys2vfri8fvm6o5gD/aaHhAMuEAw4o0GAjCps8hiZVkvQoUqpf18Cdaxevfzx58sxDjz34WLfdgdx5V84vm9hBRQwOCHDVRgoVwBUKTtBxCSeinMJKLLf0skw26LQDz4D2pGgPP/fcg091CMaIXXf4tIPNMK3skYQFA0hIYUIIQIBBDWdcQgwwvewiDDTeqPMOPfkQJOOUMdJoTzzsjBMKGB0QMMCEEyWWGwUm4GDFH6cwo8wxxTCTTTnwzHPPddlZ5x0+LarY4ov59HmPPdORs800yxDDyy642EJLLK+kgscRFfQIpkQBCECAASH4sAUeltgiTTTQPFMNOOrMQyCd2Hn3Jz3zyNMfPAPZ/9PiPfTA0443y+iCSiaJ6GGHHG+0wYYaZiSxQgMSTmpQAJcm4EIVfGTyCjHYVJuNN+e842I+2nV3Tz3zxONOO+zws46J8tBTz7rwrGPOM7Rc4scZT+AQAwsnkEDCCCJgUJuylBaQQAM3lBHJK748440333xDjjrwrEsPPfG0gw454HCDDTXQNMMMM8048ww00UgzzTTSMHNMMKs4MocWQqgwAQMHCADAYQQdwEAEPbShSS7HVCPOOESXk04777CTjjncQDNMLrGg8okmlTzyiCSWaIKJJZNIIkkkjyhiCCBxfNHEDixwwAACBRiG80AIPFDBEHSQIswz3JyjtznnoP+jjjrkeIPNMbR84kggdKARhhZTTKFFGGeEwcUVVEgBhRNJECGWCyVwUEEDBhDg49v8DKBAV0jo0coy1oTDzjrqpHOOOeSEgw00yMRiyR5lUDGEDCmEgEEGIrBAAwskbHABBRI8oIABKmlEukE6RwBEHKEEo/A66JgzTjbL9AKLKZtA8gcbWBzBQwwlfKABBRRoAIIJIGQwAQQOMECVVQpNv9ENaLDELZChDXWYQxzdWEYsLgGIOZghC0wAAg1UQAIP3EQCEICABCpwgQk8YAEJQMABQmcz6flvIi/wwiJaEQxrAM4b1+DFJeIABSDAoH4VgEADGLCAHi6AhwoI4QH/CtAjARgxJCY8oURQIAU+dOIWzzgHOLQxjVogwgs3QEEGnuclSxXgAAhIQBCHeMT+KZElIjCCGhSRimOMoxvWgAYsBEEFFoBgAlUp4qUQwMcQGkBS0bvZGUvCAR1c4Q6a8MU3sjGNZqxiD0oAwQUc0DYJWeoACRAiCQMZkUGSxAIuKEIZGFELbVQDGstQxaM88DkiDmAAewQhAgxAxBJ20pMlicAIakCFP6QCVM9wxiwQ8QUdsOADEXBAA5bZAAc8gAEJCN2XzIhLkjDAK0KAgyeQsYxnSIMXmbCDFYYAAw9kAAMWqABOPPg8SVGzmhs5gAMqEAMxSOIXx3BGNYqR/wpGxAFmKuAXCDzAAQ1cIAILaBsSbwnPjRBgYCV4Ah5AIQthUMMZuzjFJALhhi1YoXJL6IELJPkAA0jonQ2dyABgogEdbEEPl6hFNKzBjGDgghWhqATYGiGIMhxBBR2QwAEWytCUUmQADygBD6jQB1MorBvd0Bg1ntGMZSADF4sAAw1IYAEEEFWQRqUIQg5gARLUwAyVMAY3ytGOidXDHvWQBzy2QQo33MAEF/Bq9MLaEgAU4AEaOEEVBhGLEaFDXbLiBz3kwQ1RqOEFIKDAUFXCV5IAYAAJeAAGiAAHTujCGeR46z3y8a15cAMUZUCBBiAAPZFUliUD4EcCaOCFQ/+gYhjgkFV1SFuPbngCDJFtQAGQ+FqsGAAFSlhDI2RhjXnUo0Ck5Uc3PiEGEViAkpQtLks6UAMnzOETzIiTPVTVW1CQwQQYeEABkqjdiVxFAiGAARYaIQz+1MM7gOpGKMyQgg1AYL1FbS9BxMSPBzTmCYfwBTtORF5vkOKxH5iAAdgrYIlUQAQw4McifrGOJ+EDT/YIByrggAO8IoDCFebHSxDAgA2oIAdfgEQw1OGOeXwYT+NoxR2CwIINJADFAg7AABDggAmYtQhpsAQx0uEOebjow+WIRR+UMIMPKADIxR2AARIgARHIIAhRCMMbFOEKaPCHHnzKxzlsUQgq7GD/BAzA8msNwIAu88AKbujDIjLhimJ0Q7x96hM6dsGILwwBBQ2Qc2UREAENxMAKecCMLYYBjW6oY0Avso4+1OGLSaRBCS0wSYArK+QvYkAFd74DJnARDGVQgxvkYMc8Zr3YpGkDFoXQAhBMkGiwtlcAB2iABF7QhDUYohO0UIYzpGENbowjHe8g1zrKAcdgVEINPVBBBkSdYt1UoANGeEMmarGkbmxDG9jYRjjOoQ50lIMf2GAGMFLBByeAoAL8sI2AL9mADJhgBmGQMTfWzY5ywPAa2/jGFC8aDFqUghFhqEECRAewsIZkAf6uARK00IYVOiMcRlvHN6ZhDGEMgxjB/5jFKCiBCD/MQQxEKMEf3VbckAigAi0oQhfqwIhS4CIZ2yiH39ahDWTc4hWtUIUoFCGHLUAhCUG4KwXcqd1KDcADQSBDIUQBDG+MwxxDfx01enGKTVSNEGMIwgcq0LwFIIB/Qc6NB4AgBkF8ghfaoIYyguGLYBCjGK/AhCDuEAc2iMEIKnDAEL+U3V/DspBXoMMjVmGMWoSCEYZYRCQoEYg2YKEJmesBCzQwcUD6WrtezMAMmGCGP2CCH5a4w+et4IUySOEHLBgBCDqAAYRSfK9B1jICONBdM+whEqcwBBh0oAIZ6MCGH3jA4r+K0uIaQAEPQMERyuAHR3ziFY5YQ98RZEB+GJDgAgl1Z0NSTBAaZIEPlxBFK3BxCTpEYQfAE15J1c8Q9vNjARTQAUCgBpMAC7WwC78ACn7QBb8TAhFAM7a0fhWGEAKQAF1BA1ZgB4vACI3QCHbgBUQQAySAAW43XBAxgSARbBNwAj5gBWQABlyABUmQAynQAdc1fScoYAkRAAWgAA6QASdAAzoQAykAAu/jAFRRSZy0ECm2gwSgHhBwAR4gSQ1AcRnhf6JGgZeCfRRQAQ+QAPxnEViYhVb3RQqwP9SXg2OYhWq4hpYlhm54HnAYh7fBhHTIEQEBACH5BAFkAP4ALBYADwBIAEoAhwAAAAEBAQICAgMDAwQEBAUFBQYGBgcHBwgICAkJCQoKCgsLCwwMDA0NDQ4ODg8PDxAQEBERERISEhMTExQUFBUVFRYWFhcXFxgYGBkZGRoaGhsbGxwcHB0dHR4eHh8fHyAgICEhISIiIiMjIyQkJCUlJSYmJicnJygoKCkpKSoqKisrKywsLC0tLS4uLi8vLzAwMDExMTIyMjMzMzQ0NDU1NTY2Njc3Nzg4ODk5OTo6Ojs7Ozw8PD09PT4+Pj8/P0BAQEFBQUJCQkNDQ0REREVFRUZGRkdHR0hISElJSUpKSktLS0xMTE1NTU5OTk9PT1BQUFFRUVJSUlNTU1RUVFVVVVZWVldXV1hYWFlZWVpaWltbW1xcXF1dXV5eXl9fX2BgYGFhYWJiYmNjY2RkZGVlZWZmZmdnZ2hoaGlpaWpqamtra2xsbG1tbW5ubm9vb3BwcHFxcXJycnNzc3R0dHV1dXd3d3h4eHl5eXp6ent7e3x8fH19fX5+fn9/f4CAgIGBgYKCgoODg4SEhIWFhYaGhoeHh4iIiImJiYqKiouLi4yMjI2NjY6Ojo+Pj5CQkJGRkZKSkpOTk5SUlJWVlZaWlpeXl5iYmJmZmZqampubm5ycnJ2dnZ6enp+fn6CgoKGhoaKioqOjo6SkpKWlpaampqenp6ioqKmpqaqqqqurq6ysrK2tra6urq+vr7CwsLGxsbKysrOzs7S0tLW1tba2tre3t7i4uLm5ubq6uru7u7y8vL29vb6+vr+/v8DAwMHBwcLCwsPDw8TExMXFxcbGxsfHx8jIyMnJycrKysvLy8zMzM3Nzc7Ozs/Pz9DQ0NHR0dLS0tPT09TU1NXV1dbW1tfX19jY2NnZ2dra2tvb29zc3N3d3d7e3t/f3+Dg4OHh4eLi4uPj4+Tk5OXl5ebm5ufn5+jo6Onp6erq6uvr6+zs7O3t7e7u7u/v7/Dw8PHx8fLy8vPz8/T09PX19fb29vf39/j4+Pn5+fr6+vv7+/z8/P39/f7+/gAAAAAAAAj/AP0JHEiwoMGDCA0GCCCg4cIACSNKnEhRoYABDCp06IBhwoMFBwQsrEiypESGBAxcQJEjxwsTHSo0KCASosmbOAMMKJBAxA4qVIzgUPFhwoEBInEqVYhSAQQLHEakcBFjBg4nZfbseSOmSpIeMVKM4GABggICSG0uJXmRwAINKXAgyZJmjp08fhhtUpUqFKZHhfbIIVNFaAoNIAmoXTtRZ4EDEVII0UKnEapbvIAVWyYNGzZqz5QJyxWrk6E4WYKkiABSAGOEDAcQOLDAQQQKGEoIAcOHEy9u7+jh60e8H799+/DJW1euWaxKeLTs4DBhAYHXBBcKKLAAwsocSaJc/+FyZs8jUrqgmZtnT19x4/v04ZvnLt21YKsk0aliw8QFBNgNFJsCE3SwQhJnEAIJJqCkUgswzGBDDjz45LPPe8flcw898bgTTjTBsNLIG1DkMAIDizF2UQEOcKCCD2lQ8ks025TDjjvxsIfPPvzw855x+mhoDz3zrBPONcacgsgaTLgAwUiMHeAPBR6gUAMRU5ixCCzVkMNOPfogF18++dgzzzvrqIOOOeSE440210wDzTG8yCJKInBc4YMJDQQAwJ+A3qSAQCwAQUUZdAhCiSvHhLNOPPfoI6l89dBnTjfVROOMMsUAs4str6AiiiWJ9PEGF0nYcMJ/gLaKkwb+EP8hxh+UjDKLMNB4w4489VgYZD71yONOOdgs80sus7RyCiiZSIJIH3SYgUUSO7ggggUPJDBAq4HiBIQYgpCSyzHWiIOOO/PUY889G3Z4zjfXLMNLK55gEskihPRhxxtkZOEEEDFc+wACfnLrKkkLbIBDFXEoMgovy1TzzTnruCOPPPHE00453EwzjCyhSFIIHm2gQcYXWlQBxRJD8EDDCiFc8IACBRhs80QGMCBBClLoIYosw1DTjbk3vhOPP+yoM041x+DySSFsZPEEETrgUIMML7SgwgkjfLCBBREwgEAB29ps8EQRZIBDG6FMs8047LwDT8b+wPMOO+iMk00xpe3/kYUNIGAw8AEGFFAAAWghVdNCZpuNEKAQhBCDFIHI8g056bhztzrmbBONMb7U0oookggyRxY/kECBAwgovnjBjcf+50GtYhDDEm1YEgw667QDTzvniJMNMa9owgggdaTRRRRG9GcBAwnQ9NBDslcPAO2AgiBEGYesAk3GGa8jPDMinrpEtSeAkMEEDSCAlkjWx3/944Ca8MQdm+iSjT2VxnMONsmwxSTi0IQcqEADMzNATeQXO5O0SgVXGMQphuENfATrHd9IhiwygYcrqIoDEVDAARQDOwberCStcsEXHkGLZYwDWBrDRi40sYcu+OADq4teWkzYQBQCKgZm0IQv/6ZxDn3UAx7+gEYqBvEFIZggAQvk4ewClEIwRMIWzSBHPuShNGJggg1FgMEGQlJCHgbIH61igRYQ0YpG4eMd5dgGLgxRhRV4IAIklOIUzwioFFQBEKQIhjfusY5vTIMVdfCBBBhwgDKa8YwC+VMIjKAGRrxCGvEABzSAgYkywOAAZDMhJCMCANspgQ26O0c0dlGKQFQBBe8T5SgT0qIVMKEPsOhGMEyxCDUU4QNRtN4sJZIzCcQgDaCQxiwqcQcs5CADshxmQgiQgAaoAAyUIEZ+8sCFHWggmtI8yAAMkAASWAERthCFI/TwhR5swJE9DOdBdEKADjSBD6jIxCL4IP+GH3CAcfGTJ2x28oEpGKIWqxAFJviABRmsrpHVEyhCBJASEnShEpz6hS48YQcn2BECZYunRAmyHQSg4Ayl+IY3usENYFBCDUNwQQYIENGRFmScCWCBG17RDqPNQxuxQAQZliCDDGSLpo6zKUHGqYAWwCEW8JAHPexRDmW4ghJ8MMMTTOSAxil1qQdQgAviQAte3SMf8RgHNYiXCUKMoQcY8OpXBTKbBbxgDraoR6R6FJ96hKMZuVjEFUQg17nuBAEl2EIkijGNcLzDHjvSxzq68YxVCCILODABBQRwsLn6Y0UaEIIaIrEKY4QDXRbiYjisOgk6PCEFIfWsgBjygBT/DKELhFjFNMzhjnvwIx/+oAc6ttEMWNzBBwUomGwLggAMsCQMh3AFMaDBjXO4ox78mE87pCEJKUhAAQpcLkEKAAENmAAIWZjDITCRil1AQ4v+sIc8tgEKM6gAhAYQ70AGgIAGSOADK7iBEsJwB0jIghr24Ic/8EEOf+AhphzQbyRtFgEWHMEM2ZxHcdjBC0Z0IQgnaIB4Y8eAD8iACYLAxTv80aN4OGMVQv2BBgxAANfMNXYHkEAHZACHVqgjH/rgRz3AoYxaGOIKJxDbdW7cuJJmoAuhMMdZ46PaVLxhBovM70hN+AAqYAI49AhymeSBCz3wIAMQANCW47eQB0Dh/xHPIEdvf7uhXfxhCB+owKDWbD3aLsEQwvDHOejBD/nY4xeEUIIJMsAAgbJ5ITsxAAVQrItpjGMehcbHPYBhiCakYAMilub1ANqq6S0kJf2dQAZS0AVIEEMbg95HmejBC0AY4VoLELU/TM1rhjSENg/AgAhY8IM3eMIZjqrHPtpVZh9sQAJqHqave+3riwzAKRYQQQyA8EdWZAMdj9WHfN0xizrYgH1anmVbCGC4xyRAARLQgAhOkAIWvKAGOwjCErJghjtoghfeUAc87GEPdogDG6JAgwtmVgBp7uQACEhAAhbwAAlYwAQ4UIIVthAGM6wBDnXgwyEi4YlaMANu8P8IFjie4YtGaMEEIhyAtGcz8QbYBioh2MEV5kAIRlCCE6AgBSpcYYteGCMa3UBHO+JBj3ZUgxejuMMSPEBjG8+SJw2AwASgcoIY8CALeLjEKmhh9GQw4xnTwEY3wkGOc6ijp/47BioSQYYeXCAt4ezOBTxgAhkcgQtxOMQnbFEMZnRGG9voBjjEUY5znAMd6Yh8OriBi0mQKAYSqIk0D+AAKqmgBkg4gyFMYQtjWOMb4zCHOtSxDnawox2wX0c6zlEOcohDGqjwQxV4QII+pQiSCfBOCWpQBC8cIhY1akevwnScMd2jUu5QRznE4Y1tIAMTatABCjAQbWkfQGceYMH/DqbQh1RQAxzqCDPz42NBeKzjUtVohjF+gYtS8IEKK+iABNItTQIgYAHZ9gJGIAecgAzXQA7xUCFhoiFHhA7gEC+/MAuo0AmTAAhg4AMdMAEMsGSitiIOgAEjkANlAAm84Aze4A7rQibPtxzgUA3IkAupkAmKwAenMgQpkC3hFU4AoB0IAAEZsAJRYAebwAq7oAzSMA3UUA3SAA3OYAy7EAulYAmHcAdq0AVP8AMskAFV93ujtIMBwB0Q0AE14ARnIAd7UAiKsAiLwAiKkAiIIAh7UAduQAZaAAVG0AM0oAIdgEdJ4Wg7eFgOYF4ycAM8EAREcIiHOARCAAQ8kAM1HBADLHACIuABGbA6CKB5+kVtmihhCaGJvSZbAQEAIfkEAWQA/gAsFgAMAEAATQCHAAAAAQEBAgICAwMDBAQEBQUFBgYGBwcHCAgICQkJCgoKCwsLDAwMDQ0NDg4ODw8PEBAQEREREhISExMTFBQUFRUVFhYWFxcXGBgYGRkZGhoaGxsbHBwcHR0dHh4eHx8fICAgISEhIiIiIyMjJCQkJSUlJiYmJycnKCgoKSkpKioqKysrLCwsLS0tLi4uLy8vMDAwMTExMjIyMzMzNDQ0NTU1NjY2Nzc3ODg4OTk5Ojo6Ozs7PDw8PT09Pj4+Pz8/QEBAQUFBQkJCQ0NDRERERUVFRkZGR0dHSEhISUlJSkpKS0tLTExMTU1NTk5OT09PUFBQUVFRUlJSU1NTVFRUVVVVVlZWV1dXWFhYWVlZWlpaW1tbXFxcXV1dXl5eX19fYGBgYWFhYmJiY2NjZGRkZWVlZmZmZ2dnaGhoaWlpampqa2trbGxsbW1tbm5ub29vcHBwcXFxcnJyc3NzdHR0dXV1dnZ2d3d3eHh4eXl5enp6e3t7fHx8fX19fn5+f39/gICAgYGBgoKCg4ODhISEhYWFhoaGh4eHiIiIiYmJioqKi4uLjIyMjY2Njo6Oj4+PkJCQkZGRkpKSk5OTlJSUlZWVlpaWl5eXmJiYmZmZmpqam5ubnJycnZ2dnp6en5+foKCgoaGhoqKio6OjpKSkpaWlpqamp6enqKioqampqqqqq6urrKysra2tr6+vsLCwsbGxsrKys7OztLS0tbW1tra2t7e3uLi4ubm5urq6u7u7vLy8vb29vr6+v7+/wMDAwcHBwsLCw8PDxMTExcXFxsbGx8fHyMjIycnJysrKy8vLzMzMzc3Nzs7Oz8/P0NDQ0dHR0tLS09PT1NTU1dXV1tbW19fX2NjY2dnZ2tra29vb3Nzc3d3d3t7e39/f4ODg4eHh4uLi4+Pj5OTk5eXl5ubm5+fn6Ojo6enp6urq6+vr7Ozs7e3t7u7u7+/v8PDw8fHx8vLy8/Pz9PT09fX19vb29/f3+Pj4+fn5+vr6+/v7/Pz8/f39/v7+AAAAAAAACP8A/QkcSLCgwYMIBQYIIKBhgIQQI0qEuLAiQwIFDhQY8HCix4gLKTYcOcBAggUICgjo+LGlv4UNB8gkQBNjgZsFDBxAcKBnggYRKDxQsFEgAAAuIwow2YCChhAnWszI4UPIkSRLmDBZogQJViZNoEiZUgSHCg8TEhxdizRpQQILJGgwIcPHkitj3NwBpMgRpEmTIDVKtMhRJEmSJknaU+aJjhIQ2K51S7AAhA0mcCjh4gaQpFGwei2LVi1bNmrPkjGDRs0atWnPYE2iU+UGBslHKQ9EgAFFDihn/nyeJezZtnPq1rFDp60ZsGHImDljtuyYqkVtoMywgLt7W48LQuD/eLIGEalawZhd82bOHbtz4qz5OvUokiVNnPJrAnTGCQ4SkXknWUsOrHAEGYagkkw235Szjjvx1NOOONgQIwogXXgxxhlqqLHGGlcI4QIIFKglIFstRSDDFHVsAsw59uCjzz754HMPOtcUw8ogW8gwww08/CAEEUXUUEIFDSBAwIkofgRBDFHIkcmL98iozzztmONMLJXgwcUPI5SQggtTVSWDCBMocMAATE7m5AtPvIHJL+jgk48++bgTHy2MkEEEDSRQcAEHIJwAAw4/wAACBCkJ0KabEz3gAhNsWPJLOnfugw+OxmxyxgwQMKBkAg5IsMEJM/DQQgcNGECAo4/m/zYRAyPsUEUhtJBjz67xWLNLKHgwAQIBA6xUgAIOVOABCi+MYIECxAYQ63cSIXBBZnCg4o088cSDTjCb0EFFDRaMJEABCTAQgQUbfHDBAwYUK+2jHwEwgAIRbLCFJti4t443rehxxAsdMADTuQgs0IADDzywwJoLTTvRWgwNgAATj0iTzjnlXNPJGCggWQAAMBFgUgIIuFqsxPVSLMABSSiyTDjg+BPNJVyEAAG0Ry00QEYHqLxSrC6xtZABRRQyjDamMROJFRooEK/LA9BU7Erztlm0ZAQI8Qcv0kgzzTGLPDHBRlmTzBDWLG/NFgE81NEKMcpEk8wjVGSQgAGwUv9ckYC6FYQbATekwYktxTEzSRYfOJAAm5JF7F3ggks2QAxeMIKKLs08c4kXJUzAwMgnUg4RbgOk4AQdlLiiTDWl0CHECyRkEIEDaqJt+sSSCeCBDlXkAcox3uySiR1iRBHEDCl8YMEDj+8uEW4BTFDCDV5EMsw50/iiSiV/pFHFnyRoAIEBLEl/EPUJRKBBEYMA8w464WhDjCqQ3BHGEjacgEECK1EfQqiHAAhgYAiB+MU7lkOOagjjFZ54BCDgQAUcbOBhAxCgQQj4AAsEARC+eMc73OGOcmjjGcXgxSxWIQgstIACrdJg5SRzAAdQ4Ad/6MU75FEPfNhjHvBohzr/zkGOV9zhBx1IiwwJ0h0DMEACPNhDLh4UD3rEaEb6wFMyLjGGH6SAAkscSHeO9YAc3IEW5TgHOtLhjnngYx/7yGI2aiEJNyBhBGE0yuB+YoM5vOIbgGxQO+wBRziigxrB6MQZZJBHf4zxJzV4gyquQY1oOMMa4mhHPe6Rj33Qwx3nEAYgfNBI9kUgAzxwwyeGoYtYpCIWvmBGNsjxDn3YIx7sOAYhflDKyDUgAyUgAhsoAYtQSEIQjOAEK3oRjXLYiB7wYMYhgtBLo0UgBDFYghoS0QlEyIELZsgDI0ThC21U6R71iIYihlBNilUgBTyAghjqAAgQCUEJWlCDIFLx/4wY4QMf1YgEExiQgAKkT3q4EUAGYHCEKWThC19wQg9YEIMeJEEMkxgGPeyUj2xkAgscmMACMqjBhHbgBlK4whOQ8IMYjKACGCiUEPqAi3lkqhuhIMMKPBCBAsgwoRywARSgIIQZmGADETAAAhogARa8ARbyuBM/wHGKNtTABBYwwE8jZ70b3KAFI9CABBZgMnU5FRY23cdUUeGGG5wgq1s1mgIo4IEOYEACDZDauRYAgRW4Aa2dXOsbcoCCC2i1pAmtGrHYBgACKOABfgWsWsORCjjsIAUYOKwAu3MwyR3FAE2BQRxkQY8Z8eMbpljDDEhQAZ8ilnp/Y8sBHoCBGv/UoRb1MK03RKFTnrp2s9MCAAIk0AEd5OEWhFQrNzzhBRFgwAEEyGOsGLABFSBhEL24h1r5wQ1ObMEDFWAASZcYKwmkAAhgmEQx8MGP9m5jE1roAAXEK91HYeAGwSOFM/LRXn68VwscoMBIG7lB3HiACGuAxCyuoY9+uHcTWQjwgJcIE5kEMHIBGMET9BAKX3RjHw7mrie+MIIMQJfCF8kI2ozWkBRkIRGxSIY4QNxenPa2pxQWwM8QoCYCpK1iLhhDJoJRDXT0dx/eIIUaZDACCvxWfQXgKwUsgIEMjNXHMDkAAyDAgzmkAhrfaAc/4piPbYCiDC34gASeLD0GaOD/BC54AQxg8FIEWJgAD9AACaBQCFx4Ax3yiCM+6lENTGgBBBdowHjVR4EU+AAJkD7CDEAwOpoc4AIowAEZLpEMdsSDkIOWBzQgAQUKOAABApChBm4wBTG4OgxJkIEGIhABCLzTB1LggyqwUaU70SNLwyAEEfbm48BBSiAgGEIZ9AAIQyiiDmBYAhGMcIQmfEEOhRCFMMZho3vYgxzQ4IUmzlADlR20JZMzwRPuIAlPqGIWoXDEHu6wBz8UwhKmsAUytuGOfAhEHtOYxSTgsAQTyEs3k/MHC7aQiFToghncYMYuWKGKV9CCF8vIBjreQQ9/D2QYlkCDEVxwgXO7DcMx/9h0LpSxDXV4QxrGKEYynEGNb6ijh53ERzvG4Y9W+OEJL/jAA0x3ohq0oRTHsAY54qEOcWxDG90ABznUEQ87ZZEe4vBHLyZhBh14gAIKoByTcFCHWFQjHO3wIRDfAQ95zKOHWNQHPKzhj1Ho4QklaEAComvsE+1gD7qwOT36QfjCE76/+bgHPcxRDFIM4gs6qECqiX6iHvjBF+NgRz0Mb/gx64Me7CBHNFTBoyCgwAFGEfuJfACIYLTHHpwvPJn1VA1ePCIMM3AWAhB6oh8IohjqgMc9Yk94Gt0jHTlCBR2AwIB4mdwtTHLBFyDBCovj4vrYv/4takELVXQCEnmYQlkL4hXA3TFpAzm4Aofa8Ib2u7/9bmhDG8zgBSvEegOvkpb6TpSACXRABCNAAiUwgARIgCRAAiLwAXYVAQkgOfsXXBB4bJQXgW3zgBRILwQmRsGVgdNTgUsUEAAh+QQBZAD9ACwTAAwASwBPAIcAAAABAQECAgIDAwMEBAQFBQUGBgYHBwcICAgJCQkKCgoLCwsMDAwNDQ0ODg4PDw8QEBARERESEhITExMUFBQVFRUWFhYXFxcYGBgZGRkaGhobGxscHBwdHR0eHh4fHx8gICAhISEiIiIjIyMkJCQlJSUmJiYnJycoKCgpKSkqKiorKyssLCwtLS0uLi4vLy8wMDAxMTEyMjIzMzM0NDQ1NTU2NjY3Nzc4ODg5OTk6Ojo7Ozs8PDw9PT0+Pj4/Pz9AQEBBQUFCQkJDQ0NERERFRUVGRkZHR0dISEhJSUlKSkpLS0tMTExNTU1OTk5PT09QUFBRUVFSUlJTU1NUVFRVVVVWVlZXV1dYWFhZWVlaWlpcXFxdXV1eXl5fX19gYGBhYWFiYmJjY2NkZGRlZWVmZmZnZ2doaGhpaWlqampra2tsbGxtbW1ubm5vb29wcHBxcXFycnJzc3N0dHR1dXV2dnZ3d3d4eHh5eXl6enp7e3t8fHx9fX1+fn5/f3+AgICBgYGCgoKDg4OEhISFhYWGhoaHh4eIiIiJiYmKioqLi4uMjIyNjY2Ojo6Pj4+QkJCRkZGSkpKTk5OUlJSVlZWWlpaXl5eYmJiZmZmampqbm5ucnJydnZ2enp6fn5+hoaGioqKjo6OkpKSlpaWmpqanp6eoqKipqamqqqqrq6usrKytra2urq6vr6+wsLCxsbGysrKzs7O0tLS1tbW2tra3t7e4uLi5ubm6urq7u7u8vLy9vb2+vr6/v7/AwMDBwcHCwsLDw8PExMTFxcXGxsbHx8fIyMjJycnKysrLy8vMzMzNzc3Ozs7Pz8/Q0NDR0dHS0tLT09PU1NTV1dXW1tbX19fY2NjZ2dna2trb29vc3Nzd3d3e3t7f39/g4ODh4eHi4uLj4+Pk5OTl5eXm5ubn5+fo6Ojp6enq6urr6+vs7Ozt7e3u7u7v7+/w8PDx8fHy8vLz8/P09PT19fX29vb39/f4+Pj5+fn6+vr7+/v8/Pz9/f3+/v4AAAAAAAAAAAAI/wD7CRxIsKDBgwgLAljIMKHDhxAjImRIsSIAiRgzKryY0KJHjhpDTvxIsiRFkSgFmlxpMiVKljA9uhQZs2bDmRpt2sSZU2dMnhl9/gQqEUCAo0h1IhUwoKkApEQhBiBgAMGBAgQGPF2INICAr0/BCiBQ4MCCBxIiMECQVSvUrgGiCjD7gIGCq26XNm3btGlZBQ0obBDx4YKDAwaw5vXqNuoABRAsSHBwt8CAo18HkC2AtR8BsgcUOJjQ4USMFiEqLEhwNWtYzY1nMsBA4kWOIUyQEAHSYwcOGzhy7ODRw4ePHj14KCcepEiSKFrCeKmyZEgQIMeVD0euXQeOGzVMXP9IEPthAA02pJihE8iRokOEAvnZk4fPn0GECBUqRGiQoECBACJIIYgwEsklnGhCSSOIIHKIIfvlp1+EhAjyBx94XFHDBAYQIIBUAaRQBSCeuPLLM80ogwwxwfTCSzDFKLMMMzQukwwyxxhTjDHJMONMNNNYU8000DjjTDNIJqlkM8woY4wwuhgyhQcJGDCAQ15RhQMboBBjTTr64GMPPfK4s04679CTjz77tJnPPfbUQ88889iDD5v78KNnm3nq6eefeupTDzznnHIGCg4kQIBDAiDgAAVF4MGKM92wEyacZMLzzjz34NmmPvngA6c9dubTJqB9AqqqPvfMw04rbsD/UEEDBjhEQAMXhCBFIbdcM447+YR6z6j23GNqn5+CGuyap6rqrKr7vBmPLHXgwIEECDhUwAQhvOBFJMOAk048ywbL5rPopqsuP/sIigsfQIhggQIOHXABCjmQIckv2pDTTrH44MOsn3wWzKezyQYbcD3yvLMOOd5c40wxvNxyiy2zHLLFCxlAcABCRyHAAQxDpCFJLtN4k8489ZTqqcHJwlwwqHDKOY876IiTzTK9vOLJInm84YYba0hxAwcPKLDoQUcpAMINTbghCS3LYEMOPPLUY6w+nnLtNddrvswnzfXMEw887pjTDTXGxOJJIm1EEZ4JJZCwgQQJWBaXQYw1/3BCEFvkkcktzGDzKzws2xxPO+mYQ8444oQDDjjfeNPNNtpokw0211hjDTXSFMmMjcHg8koojeRBRhIsQHAURmMZIEEMULShiCnCVNNNOe28E88876QzDjfSHNMLLrXIAosrraxiiiieaIJJJZJE8ogjjSySiIMQApLHHGt0AYUQMHSgwOsSCWBAAhfs0AUgm9DijDfjoNOOO+/Ak4430xxjSymVaEQiCAGIPugBD3BAAxi0YIUoMEEJSDBCEYgwBCEE4To+8A0NWnACEBimABoZgFk4UDJIpCIY2TAHOtTBjnWsQx3giEYwYKEJQrRhDFxooBOUcAQexMAEHbhABP8WgADLPCUqBBmAARSQgR6EwRCg4MU1ymGOc6CjG9JAxi1IEQk/uKELTTBCEHqQAxvQQAYqEEE/KAABBiDGQ+hDYj8EUAAEWAAHWthDJmxRDXKQoxzkeIYuSvEIPIChCUK4QQtQYIIRhOADHugABihQF9a4Jo5yjN0EZBAFOEQiFtMYB+TAEYxQDMIMTICBBiqglgUoIAEJQIAsE+Oap2BSjnOkygRmQAU6UIIW1BhHOL6xjVtUIg5UwEEH8AITXB4kdhTIARdIpItrkAMc3LBGLBqBBibMYANXEUAznVmQ2FnAB2VghCmAsY1yfCMb0FCFIcBQBBdgoEPiZAk5C0L/AAQ04ANJiMMmZIGMb5jjG9h4hioOIQYl2GAEFJAABBywgAMQ4Cgf2edAAsCADaggCGdwBC2KYQ1zrMMc4NAGMEzhCD704wtUiMITmMADFFDAovmsiEb7cZQKuOAIYzBEKpqRjXG0Ax6MK4c1jpGLVpCCE5SAhADZkIQSrIUAMtknZjoQhDEUohTGMAc74EGPsskDHuxAxzW5gQ1qPGMZxugEGmogAQYYIKvOnAoCGMCCKvDhE7mghjvkQY9hxWlO8ojHO9qhDrViUxeQKMMQyleli+KVKAJIAAQwwAM0VOIWyvBGPOhhp4AZ9rBmQ+o60DENXHgCEFzIwawQMIDL/wJFAA7IAAma0AdWQIMb6CCtscpVLtMelh3hsEYvElEFEFSAAVi1iBwHAAEPrIAKgwAlN8rhDnjEQx7zKGvL7iGwc6HqHK2gAw9SkIEEYPQkSKRuB1SghDdUIha/aIY2uNENb4BDHOMoRzrY8Y6s4aNZfmoHMTpBhyrUoAJGhC9RAkBdDqAAcHd4RChocYxkJEMZzHiGNKyxDXCUQx3wsAee/jQPbhCDFX+IQgiKWNubTHgAD9jACW6QBC20oRCcmEUtbGGLXPQiGMZoBjW2MY51zGNgftKHq8qhCja04KoSBgqFGWCBD6zABkKAAhjkgJ/9GCIRjIBEJTTxiVKsIv8WttCFL4ThDG6oo2HsSIcuEoEFG5AgAgGwsZYfEwEMeIAEKogBD44QBSlEodFTqMIVtMCFL4zhDGt4gx36QIhO5OIa6khHOtCBDFMQQgxCAMF7kegVs0AgAhGQwAQusAEPRJIDuO5ABzzwARCIYAQlQIEMeGAENWCCGOEghwqtMQxYPOILL7AlSLRMRwSspjWfueTeCnIUAjggV0eYAyiC0QzDcYMazWjFHYJAGQNsW8sULktitMIUer+bIJhJwAMsAIMntGERpPhFNjSHDV8sAgsm2AAEljZhxnxmMVDBEgFC048U6IAKfSjFM7DhDXI4wxNt+AELMvCxhsPl3iH/XCIIsPAIY1hDHO/wBiwIgQUfkIBe1NbMw7+Cctv2YyFjOUAHrPCIY1gTHuYoBikG0YUcTCArKA/JVAxwAMQo5t4kIQhDKEwADVTBEcjARjnKlI1iuMIPTeBAET80k2q7kjVWwnpGB0IRr1xgCmBPIWnTpg1PhMGqtMUJHROwgMIrgMboswlmMmCFSUDjG+qoRz4GVahDJYrhKaFjaBbAgAYQsQC2/HlNuM6BLWxCG+d4h7FuRo5SmOEEDVCU4KlCeAdEoN2NsUnsPhAGUXC3H8GSB3JFQQbYswUn8abLBG5fmcu8lyUEUMADVLAGVrijHne6hzvKgY1OgAHwV5oJ/2MKIBoJUIACFaDkAjrk/JUE4AEiqAEVEMGLFBsrHuB4xi4OMaUqhV/8TOFPEmABGwACIJABEvB57UcSR6EBOqAFfDAKy1Anw7IO0pALnyAHRXBPHoJZB8AAEZABIqACLTACHUNEcBRoHoEZJTAFf1AK7FQspFIOxDAKTHcDEVAeyEd+DmABHnACaaQBERB7RqSCXNFt3xYCRhAHnfAL0UAOcdIw20ALjoAGSsACDRB6WjZxClBoIDACkjQZCsB+J8cUCeABM4AEaxAJt0AN4LAO9yAP7YAOzzAKePAEOBACCnBEckEVDCABGcABGWABE/AAFVWES0EWDuACT/AGkP8ASurgDpwCD+gADsMwCWIQHhZwALckeANAfoXGARugAYO4fA/wAA7gAA3AAAzwABWgASfABG9ACbDADOcgKnCiDt0ADbEACFAQAoZxUdNVFhCQASOQAidANyaAAimwAi3wAjHgAiygAjMwBFNABn+gCbSADNvQDm8iJ9+QDLIwCWkABBgQAQrwfxPGhRUQAi5QAzQwAzJwAzwgBEewBFBABVCQG1cAB4oQCrJADNUADuqgJmMSD9RAC5ZAB1LwAkljAGwXFQFQAAnQABqQAjhgQT/gA4ymBWKQBnBgB3CwBmWgB54QDN9wDu4AfGFjD2WCDKCQITvwAfgUdW23ABX/4AEt0ANOkAU+iQVkIAeAoAhqtgmWIAmO4Am4MA3pIInDQibrwA3N4AuesAdZ4AMqYAFQh0sEIAHdEgRTMAZvEAdyMAeEYAmnIAtx5gu8kAu3EAzRAHOEZQ83kw7cEAylsAhwUAU6YAIa4AA8J0cTmQEtEARVcAZ6cAho5giigAvPsA3+BTmRUw7rEA9xUg/18A7n8A3MUAp/gAVD4AJ/mTedyBODyQI/EAVhMAd/EAiEYAibAAvGEA3SMA3UMA24aZvUcJuhowzCsAuoIAhbUAMlMB6l6RgQMF82MARPcAVZoAVbsAZ80AiVQAmTUD2P0Aja2QiMsAiLoAiFAAh7gvAGVtADJvgA7maTmOUoFcABI6ACL/ACMKBoSVAFWWAFUxAFTrAEESRBEzQE1uEDPGADKtABanEA6qhRR/GJBwBLsAQBF9BrG3ABYsh+WrhTEpElBWAAHGoACwABFUCIENAAd6FtGKoRDpdt69N512ahx3miWAIXmeEUPKeeMDoQAQEAOw==\"/>"
            ]
          },
          "metadata": {},
          "execution_count": 17
        }
      ],
      "source": [
        "fake_images *= 255.0\n",
        "converted_images = fake_images.astype(np.uint8)\n",
        "converted_images = ops.image.resize(converted_images, (96, 96)).numpy().astype(np.uint8)\n",
        "imageio.mimsave(\"animation.gif\", converted_images[:, :, :, 0], fps=1)\n",
        "embed.embed_file(\"animation.gif\")"
      ]
    },
    {
      "cell_type": "markdown",
      "source": [
        "# Modificaciones\n",
        "\n",
        "Estas son las modificaciones que he realizado en el código:\n",
        "\n",
        "- Aumentar `batch_size` a 100 para mejorar la estabilidad del entrenamiento.\n",
        "- Añadir una capa extra al discriminador para mejorar la clasificación.\n",
        "- Aumentar el tamaño del filtro en la primera capa del discriminador para capturar más características.\n",
        "- Aumentar el número de filtros en algunas capas del discriminador para mejorar la capacidad del modelo.\n",
        "- Aumentar los filtros en la capa inicial del generador para mejorar el detalle en la generación.\n",
        "- Modificar la cantidad de neuronas en la capa Dense del discriminador para mejorar su capacidad de representación."
      ],
      "metadata": {
        "id": "9QkFsaTQZCWy"
      }
    },
    {
      "cell_type": "markdown",
      "source": [
        "# Diferencias de resultados\n",
        "\n",
        "Después de realizar varias pruebas y comparar los resultados entre el código original y las modificaciones que he implementado, he notado una mejora en la calidad de las imágenes generadas. En concreto, el ejemplo base que se nos proporcionaba, al pasar de 2 a 6, resultaba en números bastante irreconocibles, pero con los ajustes que hice, la calidad ha mejorado significativamente, al menos en mi opinión.\n",
        "\n",
        "Sin embargo, es importante destacar que, aunque haya percibido una mejora, no es una diferencia radical. Si bien las imágenes generadas ahora son más claras y con menos artefactos, no siento que sea una mejora drástica ni infalible. A pesar de esto, las modificaciones han ayudado a acercar más las imágenes a lo que se espera, aunque sigue habiendo espacio para optimizar aún más."
      ],
      "metadata": {
        "id": "uH_osMuaehzw"
      }
    }
  ],
  "metadata": {
    "accelerator": "GPU",
    "colab": {
      "provenance": []
    },
    "kernelspec": {
      "display_name": "Python 3",
      "language": "python",
      "name": "python3"
    },
    "language_info": {
      "codemirror_mode": {
        "name": "ipython",
        "version": 3
      },
      "file_extension": ".py",
      "mimetype": "text/x-python",
      "name": "python",
      "nbconvert_exporter": "python",
      "pygments_lexer": "ipython3",
      "version": "3.7.0"
    }
  },
  "nbformat": 4,
  "nbformat_minor": 0
}