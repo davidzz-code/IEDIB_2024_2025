{
 "cells": [
  {
   "cell_type": "markdown",
   "metadata": {},
   "source": [
    "## Comentario sobre los datos de las peticiones\n",
    "\n",
    "Doy una breve explicación sobre los datos enviados a los distintos modelos:\n",
    "\n",
    "- **Datos A**: He creado unos datos ficticios basados en los valores en general que he podido encontrar en la tabla original. Aunque son inventados, he intentado que se mantengan dentro de los rangos más comunes, con la idea de comprobar como se comportan los modelos para casos genéricos.\n",
    "\n",
    "- **Datos B**: Para este caso, he decidido experimentar un poco más utilizando los datos de un pingüino identificado en la tabla original:  \n",
    "\t\t- Island: Biscoe  \n",
    "\t\t- Bill length (mm): 50.4  \n",
    "\t\t- Bill depth (mm): 15.7  \n",
    "\t\t- Flipper length (mm): 222.0  \n",
    "\t\t- Body mass (g): 5750.0  \n",
    "\t\t- Sex: Male  \n",
    "\n",
    "Pero en el caso de las peticiones he modificado únicamente el campo \"island\" para observar cómo afecta este cambio al resultado."
   ]
  },
  {
   "cell_type": "markdown",
   "metadata": {},
   "source": [
    "## Logistic regression"
   ]
  },
  {
   "cell_type": "markdown",
   "metadata": {},
   "source": [
    "#### - Datos A"
   ]
  },
  {
   "cell_type": "code",
   "execution_count": 124,
   "metadata": {},
   "outputs": [
    {
     "name": "stdout",
     "output_type": "stream",
     "text": [
      "{\n",
      "  \"penguin\": \"Adelie\",\n",
      "  \"probability\": 0.9999999999999885\n",
      "}\n"
     ]
    }
   ],
   "source": [
    "!curl --request POST \"http://127.0.0.1:8000/predict_lr\" \\\n",
    "--header \"Content-Type: application/json\" \\\n",
    "--data-raw \"{\\\n",
    "    \\\"island\\\": \\\"Biscoe\\\",\\\n",
    "    \\\"bill_length_mm\\\": 33.0,\\\n",
    "    \\\"bill_depth_mm\\\": 18.0,\\\n",
    "    \\\"flipper_length_mm\\\": 140.0,\\\n",
    "    \\\"body_mass_g\\\": 3800.0,\\\n",
    "    \\\"sex\\\": \\\"Female\\\"\\\n",
    "}\""
   ]
  },
  {
   "cell_type": "markdown",
   "metadata": {},
   "source": [
    "Observamos que para los datos propuestos el modelo tiene una alta confianza ya que la probabilidad es extremadamente cercana a 1. A partir de la predicción en los otros modelos podremos asegurar si esta respuesta es tan sólida como aparenta."
   ]
  },
  {
   "cell_type": "markdown",
   "metadata": {},
   "source": [
    "#### - Datos B "
   ]
  },
  {
   "cell_type": "code",
   "execution_count": 125,
   "metadata": {},
   "outputs": [
    {
     "name": "stdout",
     "output_type": "stream",
     "text": [
      "{\n",
      "  \"penguin\": \"Gentoo\",\n",
      "  \"probability\": 0.5002252704381351\n",
      "}\n"
     ]
    }
   ],
   "source": [
    "!curl --request POST \"http://127.0.0.1:8000/predict_lr\" \\\n",
    "--header \"Content-Type: application/json\" \\\n",
    "--data-raw \"{\\\n",
    "    \\\"island\\\": \\\"Torgersen\\\",\\\n",
    "    \\\"bill_length_mm\\\": 50.4,\\\n",
    "    \\\"bill_depth_mm\\\": 15.7,\\\n",
    "    \\\"flipper_length_mm\\\": 222.0,\\\n",
    "    \\\"body_mass_g\\\": 5750.0,\\\n",
    "    \\\"sex\\\": \\\"Male\\\"\\\n",
    "}\""
   ]
  },
  {
   "cell_type": "markdown",
   "metadata": {},
   "source": [
    "El modelo devuelve una probabilidad del 50%, parece que le ha costado clasificarlo en una especie de pingüino, posiblemente debido a su manera de clasificar. A través de la comparación con los otros modelos comprobaremos la fiabilidad que ofrecen."
   ]
  },
  {
   "cell_type": "markdown",
   "metadata": {},
   "source": [
    "## SVM"
   ]
  },
  {
   "cell_type": "markdown",
   "metadata": {},
   "source": [
    "#### - Datos A"
   ]
  },
  {
   "cell_type": "code",
   "execution_count": 126,
   "metadata": {},
   "outputs": [
    {
     "name": "stdout",
     "output_type": "stream",
     "text": [
      "{\n",
      "  \"penguin\": \"Adelie\",\n",
      "  \"probability\": 0.999997212470352\n",
      "}\n"
     ]
    }
   ],
   "source": [
    "!curl --request POST \"http://127.0.0.1:8000/predict_svm\" \\\n",
    "--header \"Content-Type: application/json\" \\\n",
    "--data-raw \"{\\\n",
    "    \\\"island\\\": \\\"Biscoe\\\",\\\n",
    "    \\\"bill_length_mm\\\": 33.0,\\\n",
    "    \\\"bill_depth_mm\\\": 18.0,\\\n",
    "    \\\"flipper_length_mm\\\": 140.0,\\\n",
    "    \\\"body_mass_g\\\": 3800.0,\\\n",
    "    \\\"sex\\\": \\\"Female\\\"\\\n",
    "}\""
   ]
  },
  {
   "cell_type": "markdown",
   "metadata": {},
   "source": [
    "Siguiendo el ejemplo de la regresión logística aquí también conseguimos un resultado bastante claro con una probabilidad cercana a 1. Podemos prácticamente asegurar que el modelo está realizando una buena clasificación de este pingüino como Adelie."
   ]
  },
  {
   "cell_type": "markdown",
   "metadata": {},
   "source": [
    "#### - Datos B"
   ]
  },
  {
   "cell_type": "code",
   "execution_count": 127,
   "metadata": {},
   "outputs": [
    {
     "name": "stdout",
     "output_type": "stream",
     "text": [
      "{\n",
      "  \"penguin\": \"Gentoo\",\n",
      "  \"probability\": 0.9900303720058639\n",
      "}\n"
     ]
    }
   ],
   "source": [
    "!curl --request POST \"http://127.0.0.1:8000/predict_svm\" \\\n",
    "--header \"Content-Type: application/json\" \\\n",
    "--data-raw \"{\\\n",
    "    \\\"island\\\": \\\"Torgersen\\\",\\\n",
    "    \\\"bill_length_mm\\\": 50.4,\\\n",
    "    \\\"bill_depth_mm\\\": 15.7,\\\n",
    "    \\\"flipper_length_mm\\\": 222.0,\\\n",
    "    \\\"body_mass_g\\\": 5750.0,\\\n",
    "    \\\"sex\\\": \\\"Male\\\"\\\n",
    "}\""
   ]
  },
  {
   "cell_type": "markdown",
   "metadata": {},
   "source": [
    "El modelo SVM clasifica el pingüino en la misma especie que el modelo anterior y además con una probabilidad del 99%. Esto podría indicar que el modelo SVM está mejor adaptado a las características de los datos en este caso. Sin embargo sería importante analizar cómo se comportan los otros modelos con estos datos."
   ]
  },
  {
   "cell_type": "markdown",
   "metadata": {},
   "source": [
    "## Decision tree"
   ]
  },
  {
   "cell_type": "markdown",
   "metadata": {},
   "source": [
    "#### - Datos A"
   ]
  },
  {
   "cell_type": "code",
   "execution_count": 128,
   "metadata": {},
   "outputs": [
    {
     "name": "stdout",
     "output_type": "stream",
     "text": [
      "{\n",
      "  \"penguin\": \"Adelie\",\n",
      "  \"probability\": 1.0\n",
      "}\n"
     ]
    }
   ],
   "source": [
    "!curl --request POST \"http://127.0.0.1:8000/predict_dt\" \\\n",
    "--header \"Content-Type: application/json\" \\\n",
    "--data-raw \"{\\\n",
    "    \\\"island\\\": \\\"Biscoe\\\",\\\n",
    "    \\\"bill_length_mm\\\": 33.0,\\\n",
    "    \\\"bill_depth_mm\\\": 18.0,\\\n",
    "    \\\"flipper_length_mm\\\": 140.0,\\\n",
    "    \\\"body_mass_g\\\": 3800.0,\\\n",
    "    \\\"sex\\\": \\\"Female\\\"\\\n",
    "}\""
   ]
  },
  {
   "cell_type": "markdown",
   "metadata": {},
   "source": [
    "Una vez más, el pingüino de los datos A se clasifica como 'Adelie'. Además, obtenemos una probabilidad del 100% , lo que nos muestra la precisión de los modelos decision tree. Estos modelos dividen los datos en nodos basados en las características, y esto puede dar resultados muy precisos, incluso demasiado. Esta alta precisión puede causar un caso de overfitting si el modelo se ajusta demasiado a los datos de entrenamiento. Es difícil asegurarlo simplemente con dos ejemplos pero me parece una reflexión a tener en cuenta."
   ]
  },
  {
   "cell_type": "markdown",
   "metadata": {},
   "source": [
    "#### - Datos B"
   ]
  },
  {
   "cell_type": "code",
   "execution_count": 129,
   "metadata": {},
   "outputs": [
    {
     "name": "stdout",
     "output_type": "stream",
     "text": [
      "{\n",
      "  \"penguin\": \"Chinstrap\",\n",
      "  \"probability\": 1.0\n",
      "}\n"
     ]
    }
   ],
   "source": [
    "!curl --request POST \"http://127.0.0.1:8000/predict_dt\" \\\n",
    "--header \"Content-Type: application/json\" \\\n",
    "--data-raw \"{\\\n",
    "    \\\"island\\\": \\\"Torgersen\\\",\\\n",
    "    \\\"bill_length_mm\\\": 50.4,\\\n",
    "    \\\"bill_depth_mm\\\": 15.7,\\\n",
    "    \\\"flipper_length_mm\\\": 222.0,\\\n",
    "    \\\"body_mass_g\\\": 5750.0,\\\n",
    "    \\\"sex\\\": \\\"Male\\\"\\\n",
    "}\""
   ]
  },
  {
   "cell_type": "markdown",
   "metadata": {},
   "source": [
    "En el caso de los datos B el modelo decision tree nos retorna un resultado distinto a los dos anteriores. Su probabilidad es del 100%, pero como he comentado en el ejemplo de los datos A, los árboles de decisión pueden estar sobre ajustados en algunos casos por la manera de su funcionamiento. Por lo que no es recomendable confiar en este único resultado sin tener en cuenta los demás."
   ]
  },
  {
   "cell_type": "markdown",
   "metadata": {},
   "source": [
    "## K-Nearest Neighbours (KNN)"
   ]
  },
  {
   "cell_type": "markdown",
   "metadata": {},
   "source": [
    "#### - Datos A"
   ]
  },
  {
   "cell_type": "code",
   "execution_count": 130,
   "metadata": {},
   "outputs": [
    {
     "name": "stdout",
     "output_type": "stream",
     "text": [
      "{\n",
      "  \"penguin\": \"Adelie\",\n",
      "  \"probability\": 1.0\n",
      "}\n"
     ]
    }
   ],
   "source": [
    "!curl --request POST \"http://127.0.0.1:8000/predict_knn\" \\\n",
    "--header \"Content-Type: application/json\" \\\n",
    "--data-raw \"{\\\n",
    "    \\\"island\\\": \\\"Biscoe\\\",\\\n",
    "    \\\"bill_length_mm\\\": 33.0,\\\n",
    "    \\\"bill_depth_mm\\\": 18.0,\\\n",
    "    \\\"flipper_length_mm\\\": 140.0,\\\n",
    "    \\\"body_mass_g\\\": 3800.0,\\\n",
    "    \\\"sex\\\": \\\"Female\\\"\\\n",
    "}\""
   ]
  },
  {
   "cell_type": "markdown",
   "metadata": {},
   "source": [
    "Confirmamos con el cuarto modelo que la clasifiación de este pingüino altamente correcta."
   ]
  },
  {
   "cell_type": "code",
   "execution_count": 131,
   "metadata": {},
   "outputs": [
    {
     "name": "stdout",
     "output_type": "stream",
     "text": [
      "{\n",
      "  \"penguin\": \"Gentoo\",\n",
      "  \"probability\": 1.0\n",
      "}\n"
     ]
    }
   ],
   "source": [
    "!curl --request POST \"http://127.0.0.1:8000/predict_knn\" \\\n",
    "--header \"Content-Type: application/json\" \\\n",
    "--data-raw \"{\\\n",
    "    \\\"island\\\": \\\"Torgersen\\\",\\\n",
    "    \\\"bill_length_mm\\\": 50.4,\\\n",
    "    \\\"bill_depth_mm\\\": 15.7,\\\n",
    "    \\\"flipper_length_mm\\\": 222.0,\\\n",
    "    \\\"body_mass_g\\\": 5750.0,\\\n",
    "    \\\"sex\\\": \\\"Male\\\"\\\n",
    "}\""
   ]
  },
  {
   "cell_type": "markdown",
   "metadata": {},
   "source": [
    "Por último conseguimos de nuevo el mismo resultado que los modelos regresión logística y SVM. Este resultado es interesante porque, a diferencia de los modelos anteriores, KNN clasifica al pingüino en función de los vecinos más cercanos. Este modelo se basa en la mayoría de las etiquetas de esos vecinos. Sin embargo, puede verse afectado por cómo están distribuidos los datos y por el número de vecinos (K), que puede influir en su precisión."
   ]
  }
 ],
 "metadata": {
  "kernelspec": {
   "display_name": "penguins-TmlucXdo-py3.9",
   "language": "python",
   "name": "python3"
  },
  "language_info": {
   "codemirror_mode": {
    "name": "ipython",
    "version": 3
   },
   "file_extension": ".py",
   "mimetype": "text/x-python",
   "name": "python",
   "nbconvert_exporter": "python",
   "pygments_lexer": "ipython3",
   "version": "3.9.6"
  }
 },
 "nbformat": 4,
 "nbformat_minor": 2
}
