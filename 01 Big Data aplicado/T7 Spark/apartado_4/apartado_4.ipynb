{
  "nbformat": 4,
  "nbformat_minor": 0,
  "metadata": {
    "colab": {
      "provenance": []
    },
    "kernelspec": {
      "name": "python3",
      "display_name": "Python 3"
    },
    "language_info": {
      "name": "python"
    }
  },
  "cells": [
    {
      "cell_type": "code",
      "execution_count": 1,
      "metadata": {
        "colab": {
          "base_uri": "https://localhost:8080/",
          "height": 197
        },
        "id": "7a7PFyf3l14Y",
        "outputId": "ba2a3645-9e4b-48b9-ed57-d165d25ddea9"
      },
      "outputs": [
        {
          "output_type": "execute_result",
          "data": {
            "text/plain": [
              "<SparkContext master=local appName=PreciosAirbnbGoogleColab>"
            ],
            "text/html": [
              "\n",
              "        <div>\n",
              "            <p><b>SparkContext</b></p>\n",
              "\n",
              "            <p><a href=\"http://7a8409d86097:4040\">Spark UI</a></p>\n",
              "\n",
              "            <dl>\n",
              "              <dt>Version</dt>\n",
              "                <dd><code>v3.5.5</code></dd>\n",
              "              <dt>Master</dt>\n",
              "                <dd><code>local</code></dd>\n",
              "              <dt>AppName</dt>\n",
              "                <dd><code>PreciosAirbnbGoogleColab</code></dd>\n",
              "            </dl>\n",
              "        </div>\n",
              "        "
            ]
          },
          "metadata": {},
          "execution_count": 1
        }
      ],
      "source": [
        "from pyspark import SparkContext\n",
        "\n",
        "# Inicializar SparkContext\n",
        "sc = SparkContext(\"local\", \"PreciosAirbnbGoogleColab\")\n",
        "sc"
      ]
    },
    {
      "cell_type": "code",
      "source": [
        "from google.colab import drive\n",
        "\n",
        "# Montar Google Drive\n",
        "DRIVE = '/content/drive'\n",
        "drive.mount(DRIVE)"
      ],
      "metadata": {
        "colab": {
          "base_uri": "https://localhost:8080/"
        },
        "id": "O2OOg-gRl5u4",
        "outputId": "4d8254d6-ed0d-4a08-abc3-b45f2dde55cf"
      },
      "execution_count": 2,
      "outputs": [
        {
          "output_type": "stream",
          "name": "stdout",
          "text": [
            "Mounted at /content/drive\n"
          ]
        }
      ]
    },
    {
      "cell_type": "code",
      "source": [
        "# Cargar datos desde el archivo montado en Drive\n",
        "rdd = sc.textFile(f'{DRIVE}/MyDrive/Curso IA & Big Data/Big data aplicado/preus.txt')\n",
        "\n",
        "# Convertir los datos a tipo float y eliminar encabezados y valores no numéricos\n",
        "prices_rdd = rdd.filter(lambda x: x.strip().isdigit()).map(lambda x: float(x.strip()))"
      ],
      "metadata": {
        "id": "hQTH_BYRl7R5"
      },
      "execution_count": 3,
      "outputs": []
    },
    {
      "cell_type": "code",
      "source": [
        "# Número de alojamientos\n",
        "num_accommodations = prices_rdd.count()\n",
        "print(f'Número de alojamientos: {num_accommodations}')"
      ],
      "metadata": {
        "colab": {
          "base_uri": "https://localhost:8080/"
        },
        "id": "I2Q9hcHwl-5z",
        "outputId": "2a4ab43e-8cff-4f11-b387-a2c2230136c8"
      },
      "execution_count": 4,
      "outputs": [
        {
          "output_type": "stream",
          "name": "stdout",
          "text": [
            "Número de alojamientos: 1048253\n"
          ]
        }
      ]
    },
    {
      "cell_type": "code",
      "source": [
        "# Valor mínimo y máximo de precios\n",
        "min_price = prices_rdd.min()\n",
        "max_price = prices_rdd.max()\n",
        "print(f'Mínimo: {min_price} - Máximo: {max_price}')"
      ],
      "metadata": {
        "colab": {
          "base_uri": "https://localhost:8080/"
        },
        "id": "04pvFD2dmA5h",
        "outputId": "6bd35e3d-4af0-45b4-ce71-678a657b1945"
      },
      "execution_count": 5,
      "outputs": [
        {
          "output_type": "stream",
          "name": "stdout",
          "text": [
            "Mínimo: 10.0 - Máximo: 23229.0\n"
          ]
        }
      ]
    },
    {
      "cell_type": "code",
      "source": [
        "# Media y desviación estándar\n",
        "mean_price = prices_rdd.mean()\n",
        "stdev_price = prices_rdd.stdev()\n",
        "print(f'Media: {mean_price} - Desviación estándar: {stdev_price}')"
      ],
      "metadata": {
        "colab": {
          "base_uri": "https://localhost:8080/"
        },
        "id": "8TxgnMUZmDSz",
        "outputId": "3918266c-f508-40ad-846f-e359385a6077"
      },
      "execution_count": 6,
      "outputs": [
        {
          "output_type": "stream",
          "name": "stdout",
          "text": [
            "Media: 436.0350125399073 - Desviación estándar: 1188.3904253821997\n"
          ]
        }
      ]
    },
    {
      "cell_type": "code",
      "source": [
        "# Actualizar los valores de precio\n",
        "new_price_rdd = prices_rdd.map(lambda x: x * 1.02 if x < 1000 else x * 1.03)"
      ],
      "metadata": {
        "id": "yjGpAOHfmF94"
      },
      "execution_count": 7,
      "outputs": []
    },
    {
      "cell_type": "code",
      "source": [
        "# Nueva media y desviación estándar\n",
        "new_mean_price = new_price_rdd.mean()\n",
        "new_stdev_price = new_price_rdd.stdev()\n",
        "print(f'NUEVA Media: {new_mean_price} - NUEVA Desviación estándar: {new_stdev_price}')"
      ],
      "metadata": {
        "colab": {
          "base_uri": "https://localhost:8080/"
        },
        "id": "uaXBC5SXmILX",
        "outputId": "4d530894-f8df-40e2-fbf0-7c6deba12e48"
      },
      "execution_count": 8,
      "outputs": [
        {
          "output_type": "stream",
          "name": "stdout",
          "text": [
            "NUEVA Media: 446.8178788517739 - NUEVA Desviación estándar: 1224.0973352938518\n"
          ]
        }
      ]
    },
    {
      "cell_type": "code",
      "source": [
        "# Contar alojamientos por grupos\n",
        "price_groups = {\n",
        "\t'Grupo 1': new_price_rdd.filter(lambda x: x <= 150).count(),\n",
        "\t'Grupo 2': new_price_rdd.filter(lambda x: 151 <= x <= 300).count(),\n",
        "\t'Grupo 3': new_price_rdd.filter(lambda x: 301 <= x <= 500).count(),\n",
        "\t'Grupo 4': new_price_rdd.filter(lambda x: x > 500).count()\n",
        "}\n",
        "\n",
        "for group, count in price_groups.items():\n",
        "\tprint(f'{group}: {count}')"
      ],
      "metadata": {
        "colab": {
          "base_uri": "https://localhost:8080/"
        },
        "id": "m_-mzejXmJj_",
        "outputId": "1051fc34-def5-4ac7-c80c-fc0ae18fb40d"
      },
      "execution_count": 9,
      "outputs": [
        {
          "output_type": "stream",
          "name": "stdout",
          "text": [
            "Grupo 1: 396986\n",
            "Grupo 2: 300880\n",
            "Grupo 3: 145719\n",
            "Grupo 4: 199829\n"
          ]
        }
      ]
    }
  ]
}