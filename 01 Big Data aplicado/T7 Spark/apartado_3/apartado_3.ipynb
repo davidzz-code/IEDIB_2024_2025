{
 "cells": [
  {
   "cell_type": "code",
   "execution_count": 11,
   "id": "c1514748-7637-44c6-b475-445459e9fd4d",
   "metadata": {},
   "outputs": [
    {
     "data": {
      "text/html": [
       "\n",
       "        <div>\n",
       "            <p><b>SparkContext</b></p>\n",
       "\n",
       "            <p><a href=\"http://f6316c194ea6:4040\">Spark UI</a></p>\n",
       "\n",
       "            <dl>\n",
       "              <dt>Version</dt>\n",
       "                <dd><code>v3.5.5</code></dd>\n",
       "              <dt>Master</dt>\n",
       "                <dd><code>spark://spark-master:7077</code></dd>\n",
       "              <dt>AppName</dt>\n",
       "                <dd><code>PreciosAirbnb</code></dd>\n",
       "            </dl>\n",
       "        </div>\n",
       "        "
      ],
      "text/plain": [
       "<SparkContext master=spark://spark-master:7077 appName=PreciosAirbnb>"
      ]
     },
     "execution_count": 11,
     "metadata": {},
     "output_type": "execute_result"
    }
   ],
   "source": [
    "from pyspark import SparkContext\n",
    "\n",
    "# Inicializar SparkContext\n",
    "sc = SparkContext(\"spark://spark-master:7077\", \"PreciosAirbnb\")\n",
    "sc"
   ]
  },
  {
   "cell_type": "code",
   "execution_count": 12,
   "id": "7cadc617-c909-4280-a62a-75f443b576aa",
   "metadata": {},
   "outputs": [],
   "source": [
    "# Cargar datos desde el archivo\n",
    "rdd = sc.textFile('preus.txt')\n",
    "# Parsear los datos a flotante y eliminar encabezados y valores no numéricos\n",
    "prices_rdd = rdd.filter(lambda x: x.strip().isdigit()).map(lambda x: float(x.strip()))"
   ]
  },
  {
   "cell_type": "code",
   "execution_count": 13,
   "id": "2a11a062-7ab4-418f-a9f3-64921cef6d86",
   "metadata": {},
   "outputs": [
    {
     "name": "stderr",
     "output_type": "stream",
     "text": [
      "[Stage 0:>                                                          (0 + 2) / 2]"
     ]
    },
    {
     "name": "stdout",
     "output_type": "stream",
     "text": [
      "Número de alojamientos: 1048253\n"
     ]
    },
    {
     "name": "stderr",
     "output_type": "stream",
     "text": [
      "                                                                                "
     ]
    }
   ],
   "source": [
    "# Número de alojamientos\n",
    "num_accommodations = prices_rdd.count()\n",
    "print(f'Número de alojamientos: {num_accommodations}')"
   ]
  },
  {
   "cell_type": "code",
   "execution_count": 14,
   "id": "9a744b63-4cb4-451c-b8ff-11d2b3a15f7b",
   "metadata": {},
   "outputs": [
    {
     "name": "stderr",
     "output_type": "stream",
     "text": [
      "                                                                                "
     ]
    },
    {
     "name": "stdout",
     "output_type": "stream",
     "text": [
      "Mínimo: 10.0 - Máximo: 23229.0\n"
     ]
    }
   ],
   "source": [
    "# Valor mínimo y máximo de los precios\n",
    "min_price = prices_rdd.min()\n",
    "max_price = prices_rdd.max()\n",
    "print(f'Mínimo: {min_price} - Máximo: {max_price}')"
   ]
  },
  {
   "cell_type": "code",
   "execution_count": 15,
   "id": "e29816e3-94d3-4868-8655-98113f4550d1",
   "metadata": {},
   "outputs": [
    {
     "name": "stderr",
     "output_type": "stream",
     "text": [
      "[Stage 4:>                                                          (0 + 2) / 2]"
     ]
    },
    {
     "name": "stdout",
     "output_type": "stream",
     "text": [
      "Media: 436.0350125399137 - Desviación estándar: 1188.3904253821981\n"
     ]
    },
    {
     "name": "stderr",
     "output_type": "stream",
     "text": [
      "                                                                                "
     ]
    }
   ],
   "source": [
    "# Media y desviación estándar\n",
    "mean_price = prices_rdd.mean()\n",
    "stdev_price = prices_rdd.stdev()\n",
    "print(f'Media: {mean_price} - Desviación estándar: {stdev_price}')"
   ]
  },
  {
   "cell_type": "code",
   "execution_count": 16,
   "id": "22f8b2db-8213-475d-ac63-0f9a729a83e5",
   "metadata": {},
   "outputs": [],
   "source": [
    "# Actualizar valores de los precios\n",
    "new_price_rdd = prices_rdd.map(lambda x: x * 1.02 if x < 1000 else x * 1.03)"
   ]
  },
  {
   "cell_type": "code",
   "execution_count": 17,
   "id": "501a46c0-1ac7-42b4-8cc7-b5afa765edef",
   "metadata": {},
   "outputs": [
    {
     "name": "stderr",
     "output_type": "stream",
     "text": [
      "[Stage 6:>                                                          (0 + 2) / 2]"
     ]
    },
    {
     "name": "stdout",
     "output_type": "stream",
     "text": [
      "Nueva media: 446.8178788517616 - Nueva desviación estándar: 1224.097335293833\n"
     ]
    },
    {
     "name": "stderr",
     "output_type": "stream",
     "text": [
      "                                                                                "
     ]
    }
   ],
   "source": [
    "# Nueva media y desviación estándar\n",
    "new_mean_price = new_price_rdd.mean()\n",
    "new_stdev_price = new_price_rdd.stdev()\n",
    "print(f'Nueva media: {new_mean_price} - Nueva desviación estándar: {new_stdev_price}')"
   ]
  },
  {
   "cell_type": "code",
   "execution_count": 18,
   "id": "f4af6873-6680-4e8e-89e7-b9ffe091c1d1",
   "metadata": {},
   "outputs": [
    {
     "name": "stdout",
     "output_type": "stream",
     "text": [
      "Grupo 1: 396986\n",
      "Grupo 2: 300880\n",
      "Grupo 3: 145719\n",
      "Grupo 4: 199829\n"
     ]
    }
   ],
   "source": [
    "# Contar alojamientos por grupos\n",
    "# ¡Supongo que esta parte hace referencia a los valores actualizados!\n",
    "price_groups = {\n",
    "\t'Grupo 1': new_price_rdd.filter(lambda x: x <= 150).count(),\n",
    "\t'Grupo 2': new_price_rdd.filter(lambda x: 151 <= x <= 300).count(),\n",
    "\t'Grupo 3': new_price_rdd.filter(lambda x: 301 <= x <= 500).count(),\n",
    "\t'Grupo 4': new_price_rdd.filter(lambda x: x > 500).count()\n",
    "}\n",
    "for group, count in price_groups.items():\n",
    "\tprint(f'{group}: {count}')"
   ]
  },
  {
   "cell_type": "code",
   "execution_count": 19,
   "id": "d17032a5-6791-49be-8a7b-9bbe487fce19",
   "metadata": {},
   "outputs": [],
   "source": [
    "# Detener SparkContext\n",
    "sc.stop()"
   ]
  }
 ],
 "metadata": {
  "kernelspec": {
   "display_name": "Python 3 (ipykernel)",
   "language": "python",
   "name": "python3"
  },
  "language_info": {
   "codemirror_mode": {
    "name": "ipython",
    "version": 3
   },
   "file_extension": ".py",
   "mimetype": "text/x-python",
   "name": "python",
   "nbconvert_exporter": "python",
   "pygments_lexer": "ipython3",
   "version": "3.9.2"
  }
 },
 "nbformat": 4,
 "nbformat_minor": 5
}
