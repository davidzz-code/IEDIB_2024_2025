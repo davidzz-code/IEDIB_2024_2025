{
 "cells": [
  {
   "cell_type": "code",
   "execution_count": 0,
   "metadata": {
    "application/vnd.databricks.v1+cell": {
     "cellMetadata": {
      "byteLimit": 2048000,
      "rowLimit": 10000
     },
     "inputWidgets": {},
     "nuid": "be5ac0a3-db37-452b-b02e-550723363495",
     "showTitle": false,
     "tableResultSettingsMap": {},
     "title": ""
    }
   },
   "outputs": [],
   "source": [
    "df_results = spark.read.table('hive_metastore.default.results')\n",
    "df_goalscorers = spark.read.table('hive_metastore.default.goalscorers')"
   ]
  },
  {
   "cell_type": "code",
   "execution_count": 0,
   "metadata": {
    "application/vnd.databricks.v1+cell": {
     "cellMetadata": {
      "byteLimit": 2048000,
      "rowLimit": 10000
     },
     "inputWidgets": {},
     "nuid": "94543049-3b20-4c32-8928-1a1e599772be",
     "showTitle": false,
     "tableResultSettingsMap": {},
     "title": ""
    }
   },
   "outputs": [
    {
     "output_type": "execute_result",
     "data": {
      "text/plain": [
       "Row(date=datetime.date(1872, 11, 30), home_team='Scotland', away_team='England', home_score=0, away_score=0, tournament='Friendly', city='Glasgow', country='Scotland', neutral=False)"
      ]
     },
     "execution_count": 4,
     "metadata": {},
     "output_type": "execute_result"
    }
   ],
   "source": [
    "df_results.head()"
   ]
  },
  {
   "cell_type": "code",
   "execution_count": 0,
   "metadata": {
    "application/vnd.databricks.v1+cell": {
     "cellMetadata": {
      "byteLimit": 2048000,
      "rowLimit": 10000
     },
     "inputWidgets": {},
     "nuid": "a899ab8b-b134-4d25-b2c2-5b51751371cc",
     "showTitle": false,
     "tableResultSettingsMap": {},
     "title": ""
    }
   },
   "outputs": [
    {
     "output_type": "execute_result",
     "data": {
      "text/plain": [
       "Row(date=datetime.date(1916, 7, 2), home_team='Chile', away_team='Uruguay', team='Uruguay', scorer='José Piendibene', minute='44', own_goal=False, penalty=False)"
      ]
     },
     "execution_count": 5,
     "metadata": {},
     "output_type": "execute_result"
    }
   ],
   "source": [
    "df_goalscorers.head()"
   ]
  },
  {
   "cell_type": "markdown",
   "metadata": {
    "application/vnd.databricks.v1+cell": {
     "cellMetadata": {},
     "inputWidgets": {},
     "nuid": "db557385-b46b-438b-a9fc-0351503d6637",
     "showTitle": false,
     "tableResultSettingsMap": {},
     "title": ""
    }
   },
   "source": [
    "### 1. Número de goles que ha marcado Lionel Messi (sin contar goles en propia puerta)."
   ]
  },
  {
   "cell_type": "code",
   "execution_count": 0,
   "metadata": {
    "application/vnd.databricks.v1+cell": {
     "cellMetadata": {
      "byteLimit": 2048000,
      "rowLimit": 10000
     },
     "inputWidgets": {},
     "nuid": "a17f1561-44b6-433e-8244-fec7ae831750",
     "showTitle": false,
     "tableResultSettingsMap": {},
     "title": ""
    }
   },
   "outputs": [
    {
     "output_type": "stream",
     "name": "stdout",
     "output_type": "stream",
     "text": [
      "+----------------+\n|goals_from_messi|\n+----------------+\n|              55|\n+----------------+\n\n"
     ]
    }
   ],
   "source": [
    "df_goalscorers.createOrReplaceTempView('goalscorers')\n",
    "spark.sql('SELECT COUNT(*) AS goals_from_messi FROM goalscorers WHERE scorer = \"Lionel Messi\" AND own_goal = \"FALSE\"').show()\n"
   ]
  },
  {
   "cell_type": "markdown",
   "metadata": {
    "application/vnd.databricks.v1+cell": {
     "cellMetadata": {},
     "inputWidgets": {},
     "nuid": "edea6965-4335-4339-95e8-d5554044bf5e",
     "showTitle": false,
     "tableResultSettingsMap": {},
     "title": ""
    }
   },
   "source": [
    "### 2. Listado de los 5 partidos más recientes que ha jugado la selección española."
   ]
  },
  {
   "cell_type": "code",
   "execution_count": 0,
   "metadata": {
    "application/vnd.databricks.v1+cell": {
     "cellMetadata": {
      "byteLimit": 2048000,
      "rowLimit": 10000
     },
     "inputWidgets": {},
     "nuid": "06428a67-6395-47b5-bf57-9ea4e75c48c6",
     "showTitle": false,
     "tableResultSettingsMap": {},
     "title": ""
    }
   },
   "outputs": [
    {
     "output_type": "stream",
     "name": "stdout",
     "output_type": "stream",
     "text": [
      "+----------+-----------+-----------+----------+----------+-------------------+--------------------+-----------+-------+\n|      date|  home_team|  away_team|home_score|away_score|         tournament|                city|    country|neutral|\n+----------+-----------+-----------+----------+----------+-------------------+--------------------+-----------+-------+\n|2025-03-23|      Spain|Netherlands|         3|         3|UEFA Nations League|            Valencia|      Spain|  false|\n|2025-03-20|Netherlands|      Spain|         2|         2|UEFA Nations League|           Rotterdam|Netherlands|  false|\n|2024-11-18|      Spain|Switzerland|         3|         2|UEFA Nations League|Santa Cruz de Ten...|      Spain|  false|\n|2024-11-15|    Denmark|      Spain|         1|         2|UEFA Nations League|          Copenhagen|    Denmark|  false|\n|2024-10-15|      Spain|     Serbia|         3|         0|UEFA Nations League|             Cordoba|      Spain|  false|\n+----------+-----------+-----------+----------+----------+-------------------+--------------------+-----------+-------+\n\n"
     ]
    }
   ],
   "source": [
    "df_results.createOrReplaceTempView(\"goalscorers\")\n",
    "spark.sql(\"SELECT * FROM goalscorers WHERE home_team = 'Spain' OR away_team = 'Spain' ORDER BY date DESC LIMIT 5\").show()\n",
    "  "
   ]
  },
  {
   "cell_type": "markdown",
   "metadata": {
    "application/vnd.databricks.v1+cell": {
     "cellMetadata": {},
     "inputWidgets": {},
     "nuid": "457cf634-135e-4ef7-83ae-975177356a52",
     "showTitle": false,
     "tableResultSettingsMap": {},
     "title": ""
    }
   },
   "source": [
    "### 3. Número de goles que ha marcado España en toda su historia. Esta información debe extraerse del archivo results.csv, ya que goalscorers.csv no contiene todos los goles."
   ]
  },
  {
   "cell_type": "code",
   "execution_count": 0,
   "metadata": {
    "application/vnd.databricks.v1+cell": {
     "cellMetadata": {
      "byteLimit": 2048000,
      "rowLimit": 10000
     },
     "inputWidgets": {},
     "nuid": "bb5b3163-c6f4-440d-acc8-08e08470adb3",
     "showTitle": false,
     "tableResultSettingsMap": {},
     "title": ""
    }
   },
   "outputs": [
    {
     "output_type": "stream",
     "name": "stdout",
     "output_type": "stream",
     "text": [
      "+----------------------+\n|total_goals_from_spain|\n+----------------------+\n|                  1567|\n+----------------------+\n\n"
     ]
    }
   ],
   "source": [
    "df_results.createOrReplaceTempView('results')\n",
    "spark.sql('''\n",
    "      SELECT \n",
    "        SUM(CASE WHEN home_team = 'Spain' THEN home_score ELSE 0 END) +\n",
    "        SUM(CASE WHEN away_team = 'Spain' THEN away_score ELSE 0 END) AS total_goals_from_spain\n",
    "      FROM results\n",
    "''').show()"
   ]
  },
  {
   "cell_type": "markdown",
   "metadata": {
    "application/vnd.databricks.v1+cell": {
     "cellMetadata": {},
     "inputWidgets": {},
     "nuid": "78a1a268-3501-4f4e-8d82-c2dd290f99ae",
     "showTitle": false,
     "tableResultSettingsMap": {},
     "title": ""
    }
   },
   "source": [
    "### 4. Listado de los 5 máximos goleadores con la selección española (sin contar goles en propia puerta)."
   ]
  },
  {
   "cell_type": "code",
   "execution_count": 0,
   "metadata": {
    "application/vnd.databricks.v1+cell": {
     "cellMetadata": {
      "byteLimit": 2048000,
      "rowLimit": 10000
     },
     "inputWidgets": {},
     "nuid": "7ce4dfa6-4dba-451b-826a-ea2f0d7112e9",
     "showTitle": false,
     "tableResultSettingsMap": {},
     "title": ""
    }
   },
   "outputs": [
    {
     "output_type": "stream",
     "name": "stdout",
     "output_type": "stream",
     "text": [
      "+---------------+-----+\n|         scorer|goals|\n+---------------+-----+\n|    David Villa|   41|\n|           Raúl|   32|\n|  Álvaro Morata|   29|\n|Fernando Torres|   28|\n|Fernando Hierro|   25|\n+---------------+-----+\n\n"
     ]
    }
   ],
   "source": [
    "df_goalscorers.createOrReplaceTempView('goalscorers')\n",
    "spark.sql('''\n",
    "    SELECT scorer, COUNT(*) AS goals\n",
    "    FROM goalscorers\n",
    "    WHERE team = 'Spain' AND own_goal = 'FALSE'\n",
    "    GROUP BY scorer\n",
    "    ORDER BY goals DESC\n",
    "    LIMIT 5\n",
    "''').show()"
   ]
  },
  {
   "cell_type": "markdown",
   "metadata": {
    "application/vnd.databricks.v1+cell": {
     "cellMetadata": {},
     "inputWidgets": {},
     "nuid": "3a11784e-800c-4910-8012-2b2cde0a9535",
     "showTitle": false,
     "tableResultSettingsMap": {},
     "title": ""
    }
   },
   "source": [
    "### 5. Listado de los jugadores españoles que han marcado algún gol de penalti en una Eurocopa (UEFA Euro), ordenados alfabéticamente."
   ]
  },
  {
   "cell_type": "code",
   "execution_count": 0,
   "metadata": {
    "application/vnd.databricks.v1+cell": {
     "cellMetadata": {
      "byteLimit": 2048000,
      "rowLimit": 10000
     },
     "inputWidgets": {},
     "nuid": "e7d230ec-1d4a-464c-a45d-3bc18a29832e",
     "showTitle": false,
     "tableResultSettingsMap": {},
     "title": ""
    }
   },
   "outputs": [
    {
     "output_type": "stream",
     "name": "stdout",
     "output_type": "stream",
     "text": [
      "+--------------------+\n|              scorer|\n+--------------------+\n|      Andrés Iniesta|\n|         Daniel Ruiz|\n|         David Villa|\n|     Fernando Hierro|\n|Francisco José Ca...|\n|     Gaizka Mendieta|\n|      José Claramunt|\n|  Juan Antonio Señor|\n|              Míchel|\n|               Pirri|\n|        Sergio Ramos|\n|         Xabi Alonso|\n|       Álvaro Morata|\n+--------------------+\n\n"
     ]
    }
   ],
   "source": [
    "df_goalscorers.createOrReplaceTempView('goalscorers')\n",
    "df_results.createOrReplaceTempView('reults')\n",
    "spark.sql('''\n",
    "    SELECT DISTINCT scorer\n",
    "    FROM results r\n",
    "    JOIN goalscorers g\n",
    "    ON r.date = g.date AND r.home_team = g.home_team AND r.away_team = g.away_team\n",
    "    WHERE g.team = 'Spain' AND g.penalty = 'TRUE' AND r.tournament LIKE '%Euro%'\n",
    "    ORDER BY scorer\n",
    "''').show()"
   ]
  },
  {
   "cell_type": "markdown",
   "metadata": {
    "application/vnd.databricks.v1+cell": {
     "cellMetadata": {},
     "inputWidgets": {},
     "nuid": "8d5322c1-33e5-4d5b-b57d-23c8f5cadd23",
     "showTitle": false,
     "tableResultSettingsMap": {},
     "title": ""
    }
   },
   "source": [
    "### 6. Listado de los 5 máximos goleadores de las fases finales de los mundiales (FIFA World Cup) (sin contar goles en propia puerta)."
   ]
  },
  {
   "cell_type": "code",
   "execution_count": 0,
   "metadata": {
    "application/vnd.databricks.v1+cell": {
     "cellMetadata": {
      "byteLimit": 2048000,
      "rowLimit": 10000
     },
     "inputWidgets": {},
     "nuid": "d464d3a0-d96b-486b-9c25-8c35d5f76560",
     "showTitle": false,
     "tableResultSettingsMap": {},
     "title": ""
    }
   },
   "outputs": [
    {
     "output_type": "stream",
     "name": "stdout",
     "output_type": "stream",
     "text": [
      "+--------------+-----+\n|        scorer|goals|\n+--------------+-----+\n|Miroslav Klose|   16|\n|       Ronaldo|   15|\n|   Gerd Müller|   14|\n|  Lionel Messi|   13|\n| Just Fontaine|   13|\n+--------------+-----+\n\n"
     ]
    }
   ],
   "source": [
    "df_goalscorers.createOrReplaceTempView('goalscorers')\n",
    "df_results.createOrReplaceTempView('reults')\n",
    "spark.sql('''\n",
    "    SELECT scorer, COUNT(*) AS goals\n",
    "    FROM results r\n",
    "    JOIN goalscorers g\n",
    "    ON r.date = g.date AND r.home_team = g.home_team AND r.away_team = g.away_team\n",
    "    WHERE r.tournament = 'FIFA World Cup' AND g.own_goal = 'FALSE'\n",
    "    GROUP BY scorer\n",
    "    ORDER BY goals DESC\n",
    "    LIMIT 5\n",
    "''').show()"
   ]
  }
 ],
 "metadata": {
  "application/vnd.databricks.v1+notebook": {
   "computePreferences": null,
   "dashboards": [],
   "environmentMetadata": {
    "base_environment": "",
    "environment_version": "2"
   },
   "inputWidgetPreferences": null,
   "language": "python",
   "notebookMetadata": {
    "pythonIndentUnit": 4
   },
   "notebookName": "Cuaderno sin nombre 2025-05-19 20:28:41",
   "widgets": {}
  },
  "language_info": {
   "name": "python"
  }
 },
 "nbformat": 4,
 "nbformat_minor": 0
}